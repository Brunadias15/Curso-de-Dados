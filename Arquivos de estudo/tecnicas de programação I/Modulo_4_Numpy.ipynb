{
  "nbformat": 4,
  "nbformat_minor": 0,
  "metadata": {
    "colab": {
      "provenance": []
    },
    "kernelspec": {
      "name": "python3",
      "display_name": "Python 3"
    },
    "language_info": {
      "name": "python"
    }
  },
  "cells": [
    {
      "cell_type": "markdown",
      "source": [
        "Estudando numpy"
      ],
      "metadata": {
        "id": "KeV48aJteWSi"
      }
    },
    {
      "cell_type": "markdown",
      "source": [
        "importando a biblioteca para usar array"
      ],
      "metadata": {
        "id": "oWAbkoVKefgA"
      }
    },
    {
      "cell_type": "code",
      "execution_count": null,
      "metadata": {
        "id": "zMyxNWySbMOl"
      },
      "outputs": [],
      "source": [
        "import numpy as np"
      ]
    },
    {
      "cell_type": "markdown",
      "source": [
        "Lista, vetores e arrays"
      ],
      "metadata": {
        "id": "g7v86J3yeqbs"
      }
    },
    {
      "cell_type": "code",
      "source": [
        "lista = [1, 2]\n",
        "type(lista)"
      ],
      "metadata": {
        "colab": {
          "base_uri": "https://localhost:8080/"
        },
        "id": "dNR08ub2hCRE",
        "outputId": "865ec6ca-9e6c-4f80-d260-bc26ca3d4bde"
      },
      "execution_count": null,
      "outputs": [
        {
          "output_type": "execute_result",
          "data": {
            "text/plain": [
              "list"
            ]
          },
          "metadata": {},
          "execution_count": 2
        }
      ]
    },
    {
      "cell_type": "code",
      "source": [
        "lista * 3"
      ],
      "metadata": {
        "colab": {
          "base_uri": "https://localhost:8080/"
        },
        "id": "ErRWOOPxhIzj",
        "outputId": "58684350-7b31-4ea7-a854-54912026c420"
      },
      "execution_count": null,
      "outputs": [
        {
          "output_type": "execute_result",
          "data": {
            "text/plain": [
              "[1, 2, 1, 2, 1, 2]"
            ]
          },
          "metadata": {},
          "execution_count": 3
        }
      ]
    },
    {
      "cell_type": "code",
      "source": [
        "vetor = np.array(lista)\n",
        "type(vetor)"
      ],
      "metadata": {
        "colab": {
          "base_uri": "https://localhost:8080/"
        },
        "id": "Ae2OhyJ0evzm",
        "outputId": "d3dbf2eb-eb5d-487d-c378-7a996ed38a67"
      },
      "execution_count": null,
      "outputs": [
        {
          "output_type": "execute_result",
          "data": {
            "text/plain": [
              "numpy.ndarray"
            ]
          },
          "metadata": {},
          "execution_count": 4
        }
      ]
    },
    {
      "cell_type": "code",
      "source": [
        "vetor"
      ],
      "metadata": {
        "colab": {
          "base_uri": "https://localhost:8080/"
        },
        "id": "cVl3lqAbhmni",
        "outputId": "0cc3c335-3241-420a-e3c8-a57da6161c69"
      },
      "execution_count": null,
      "outputs": [
        {
          "output_type": "execute_result",
          "data": {
            "text/plain": [
              "array([1, 2])"
            ]
          },
          "metadata": {},
          "execution_count": 5
        }
      ]
    },
    {
      "cell_type": "markdown",
      "source": [
        "no vetor faz a multiplicação dos números, operações aritméticas. Percorre cada número e faz a operação."
      ],
      "metadata": {
        "id": "Ic-EvNh8h2sF"
      }
    },
    {
      "cell_type": "code",
      "source": [
        "vetor * 3"
      ],
      "metadata": {
        "colab": {
          "base_uri": "https://localhost:8080/"
        },
        "id": "csZN7EM0hxVE",
        "outputId": "2393c109-c0c2-4258-efb0-ed978a214894"
      },
      "execution_count": null,
      "outputs": [
        {
          "output_type": "execute_result",
          "data": {
            "text/plain": [
              "array([3, 6])"
            ]
          },
          "metadata": {},
          "execution_count": 6
        }
      ]
    },
    {
      "cell_type": "markdown",
      "source": [
        "**Tipo de dados**\n",
        "\n",
        "np.int64 #Signed 64-bit integer types\n",
        "\n",
        "np.float32 #Standard double-precision floating point\n",
        "\n",
        "np.complex #Complex numbers represented by 128 floats\n",
        "\n",
        "np.bool #Boolean type storing TRUE and FALSE values\n",
        "\n",
        "np.object #Python object type\n",
        "\n",
        "np.string_ #Fixed-length string type\n",
        "\n",
        "np.unicode_ #Fixed-length unicode type"
      ],
      "metadata": {
        "id": "aCx5fmNmigwr"
      }
    },
    {
      "cell_type": "code",
      "source": [
        "vetor_int = np.array([2, 3])\n",
        "vetor_float = np.array([2, 3], dtype=float)\n",
        "print(vetor_int, vetor_float)"
      ],
      "metadata": {
        "colab": {
          "base_uri": "https://localhost:8080/"
        },
        "id": "ktHEo9_ai4qM",
        "outputId": "c111d729-490b-4cc1-be94-02c5d622f686"
      },
      "execution_count": null,
      "outputs": [
        {
          "output_type": "stream",
          "name": "stdout",
          "text": [
            "[2 3] [2. 3.]\n"
          ]
        }
      ]
    },
    {
      "cell_type": "markdown",
      "source": [
        "matriz de 2D"
      ],
      "metadata": {
        "id": "a9ky13yVje7X"
      }
    },
    {
      "cell_type": "code",
      "source": [
        "matriz = np.array([(4,5), (6, 7)])\n",
        "matriz"
      ],
      "metadata": {
        "colab": {
          "base_uri": "https://localhost:8080/"
        },
        "id": "aUdxrCLgjjcu",
        "outputId": "cae56702-be91-4a88-857b-e46910707fdd"
      },
      "execution_count": null,
      "outputs": [
        {
          "output_type": "execute_result",
          "data": {
            "text/plain": [
              "array([[4, 5],\n",
              "       [6, 7]])"
            ]
          },
          "metadata": {},
          "execution_count": 9
        }
      ]
    },
    {
      "cell_type": "markdown",
      "source": [
        "matriz  de 3D"
      ],
      "metadata": {
        "id": "TUrZNDsdlMfO"
      }
    },
    {
      "cell_type": "code",
      "source": [
        "matriz = np.array([[(4,5), (6, 7)], [(8, 9), (10, 11)] ])\n",
        "matriz"
      ],
      "metadata": {
        "colab": {
          "base_uri": "https://localhost:8080/"
        },
        "id": "DZ77K3jrk8G3",
        "outputId": "fe2414a1-e255-4022-939d-c889e692f593"
      },
      "execution_count": null,
      "outputs": [
        {
          "output_type": "execute_result",
          "data": {
            "text/plain": [
              "array([[[ 4,  5],\n",
              "        [ 6,  7]],\n",
              "\n",
              "       [[ 8,  9],\n",
              "        [10, 11]]])"
            ]
          },
          "metadata": {},
          "execution_count": 12
        }
      ]
    },
    {
      "cell_type": "markdown",
      "source": [
        "**Métodos**\n",
        "\n",
        "a.shape # Array dimensions\n",
        "\n",
        "len(a) #Length of array\n",
        "\n",
        "b.ndim # Number of array dimensions\n",
        "\n",
        "e.size # Number of array elements\n",
        "\n",
        "b.dtype #Data type of array elements\n",
        "\n",
        "b.dtype.name #Name of data type\n",
        "\n",
        "b.astype(int) #Convert an array to a different type"
      ],
      "metadata": {
        "id": "8GIEuNwqipW2"
      }
    },
    {
      "cell_type": "markdown",
      "source": [
        "shape é o contador, em pandas te dará o número de linhas e colunas"
      ],
      "metadata": {
        "id": "P-uJk9wfmf5Y"
      }
    },
    {
      "cell_type": "code",
      "source": [
        "matriz = np.array([[(4,5), (6, 7)], [(8, 9), (10, 11)] ])\n",
        "matriz.shape"
      ],
      "metadata": {
        "colab": {
          "base_uri": "https://localhost:8080/"
        },
        "id": "XZYeYeVLljrh",
        "outputId": "5ba842a1-41b7-47ce-fe10-525ebe6788c3"
      },
      "execution_count": null,
      "outputs": [
        {
          "output_type": "execute_result",
          "data": {
            "text/plain": [
              "(2, 2, 2)"
            ]
          },
          "metadata": {},
          "execution_count": 13
        }
      ]
    },
    {
      "cell_type": "markdown",
      "source": [
        "**Operações**\n",
        "\n",
        "np.zeros((3,4)) # Cria um array de zeros\n",
        "\n",
        "np.ones((2,3,4),dtype=np.int16) # Cria um array de uns\n",
        "\n",
        "d = np.arange(10,25,5) # Crie uma matriz de valores espaçados uniformemente (valor do passo)\n",
        "\n",
        "np.linspace(0,2,9) # Cria uma matriz de valores espaçados uniformemente (número de amostras)\n",
        "\n",
        "e = np.full((2,2),7) # Cria um array constante\n",
        "\n",
        "f = np.eye(2) # Cria uma matriz identidade 2X2\n",
        "\n",
        "np.identity(2) # Crie o array de identidade\n",
        "\n",
        "np.random.random((2,2)) # Cria um array com valores aleatórios\n",
        "\n",
        "np.random.randint #\n",
        "\n",
        "np.empty((3,2)) # Cria um array vazio\n",
        "\n",
        "argmax() #\n",
        "\n",
        "sample() #"
      ],
      "metadata": {
        "id": "vnzPv_FrizTE"
      }
    },
    {
      "cell_type": "code",
      "source": [
        "matriz_zeros = np.zeros((2,3))\n",
        "matriz_zeros"
      ],
      "metadata": {
        "colab": {
          "base_uri": "https://localhost:8080/"
        },
        "id": "NCj4iGZMn2iP",
        "outputId": "a72cc44a-0cc4-4656-8814-9065ed6f7dfa"
      },
      "execution_count": null,
      "outputs": [
        {
          "output_type": "execute_result",
          "data": {
            "text/plain": [
              "array([[0., 0., 0.],\n",
              "       [0., 0., 0.]])"
            ]
          },
          "metadata": {},
          "execution_count": 14
        }
      ]
    },
    {
      "cell_type": "code",
      "source": [
        "matriz_ones = np.ones((2,3))\n",
        "matriz_ones"
      ],
      "metadata": {
        "colab": {
          "base_uri": "https://localhost:8080/"
        },
        "id": "eq2xTfaqn_pF",
        "outputId": "b748eaa4-3fac-47fb-b186-9fd830220950"
      },
      "execution_count": null,
      "outputs": [
        {
          "output_type": "execute_result",
          "data": {
            "text/plain": [
              "array([[1., 1., 1.],\n",
              "       [1., 1., 1.]])"
            ]
          },
          "metadata": {},
          "execution_count": 15
        }
      ]
    },
    {
      "cell_type": "code",
      "source": [
        "np.arange(3, 21, 2)"
      ],
      "metadata": {
        "colab": {
          "base_uri": "https://localhost:8080/"
        },
        "id": "1YSK33GBoGuP",
        "outputId": "d9b213e7-9772-43ac-9be3-69ca53f3eee5"
      },
      "execution_count": null,
      "outputs": [
        {
          "output_type": "execute_result",
          "data": {
            "text/plain": [
              "array([ 3,  5,  7,  9, 11, 13, 15, 17, 19])"
            ]
          },
          "metadata": {},
          "execution_count": 16
        }
      ]
    },
    {
      "cell_type": "code",
      "source": [
        "np.full((2, 3), 5)"
      ],
      "metadata": {
        "colab": {
          "base_uri": "https://localhost:8080/"
        },
        "id": "CAIKFJ6OohfX",
        "outputId": "2aaa17d0-9567-4d6c-f0e5-6d3a99df90f9"
      },
      "execution_count": null,
      "outputs": [
        {
          "output_type": "execute_result",
          "data": {
            "text/plain": [
              "array([[5, 5, 5],\n",
              "       [5, 5, 5]])"
            ]
          },
          "metadata": {},
          "execution_count": 17
        }
      ]
    },
    {
      "cell_type": "code",
      "source": [
        "np.eye(3)"
      ],
      "metadata": {
        "colab": {
          "base_uri": "https://localhost:8080/"
        },
        "id": "siDoI-mhpIGW",
        "outputId": "e53f8b7c-06cf-4b6e-f1ab-bee31c4f7bfb"
      },
      "execution_count": null,
      "outputs": [
        {
          "output_type": "execute_result",
          "data": {
            "text/plain": [
              "array([[1., 0., 0.],\n",
              "       [0., 1., 0.],\n",
              "       [0., 0., 1.]])"
            ]
          },
          "metadata": {},
          "execution_count": 18
        }
      ]
    },
    {
      "cell_type": "code",
      "source": [
        "np.random.random((2, 3))"
      ],
      "metadata": {
        "colab": {
          "base_uri": "https://localhost:8080/"
        },
        "id": "Yu3QDZLVpRP7",
        "outputId": "746953b4-a7fe-40ce-e589-134180ef87eb"
      },
      "execution_count": null,
      "outputs": [
        {
          "output_type": "execute_result",
          "data": {
            "text/plain": [
              "array([[0.68140254, 0.94433989, 0.53928513],\n",
              "       [0.78891156, 0.35393243, 0.27250095]])"
            ]
          },
          "metadata": {},
          "execution_count": 20
        }
      ]
    },
    {
      "cell_type": "code",
      "source": [
        "np.random.randint(2, high=10)"
      ],
      "metadata": {
        "colab": {
          "base_uri": "https://localhost:8080/"
        },
        "id": "o-o4nve6pssc",
        "outputId": "c4b15bd9-8bf7-4e18-d179-fd7f18219526"
      },
      "execution_count": null,
      "outputs": [
        {
          "output_type": "execute_result",
          "data": {
            "text/plain": [
              "3"
            ]
          },
          "metadata": {},
          "execution_count": 23
        }
      ]
    },
    {
      "cell_type": "code",
      "source": [
        "np.random.randint(2, high=10, size=(2, 3))"
      ],
      "metadata": {
        "colab": {
          "base_uri": "https://localhost:8080/"
        },
        "id": "s8b9INI_p8mM",
        "outputId": "8e33eb61-1972-4f14-a925-2eae8cd38565"
      },
      "execution_count": null,
      "outputs": [
        {
          "output_type": "execute_result",
          "data": {
            "text/plain": [
              "array([[6, 8, 3],\n",
              "       [3, 7, 4]])"
            ]
          },
          "metadata": {},
          "execution_count": 24
        }
      ]
    },
    {
      "cell_type": "code",
      "source": [
        "np.empty((2,3))"
      ],
      "metadata": {
        "colab": {
          "base_uri": "https://localhost:8080/"
        },
        "id": "l2KKdMYxqmke",
        "outputId": "e619a593-76d7-4a30-98f5-57bd5f4e7ea7"
      },
      "execution_count": null,
      "outputs": [
        {
          "output_type": "execute_result",
          "data": {
            "text/plain": [
              "array([[0.68140254, 0.94433989, 0.53928513],\n",
              "       [0.78891156, 0.35393243, 0.27250095]])"
            ]
          },
          "metadata": {},
          "execution_count": 31
        }
      ]
    },
    {
      "cell_type": "code",
      "source": [
        "numeros_mega = np.random.randint(1, 61, 6)\n",
        "numeros_mega"
      ],
      "metadata": {
        "colab": {
          "base_uri": "https://localhost:8080/"
        },
        "id": "Gsb6dO3qrVrg",
        "outputId": "c9dbb0c3-dc30-455d-f69f-5b4a83346d70"
      },
      "execution_count": null,
      "outputs": [
        {
          "output_type": "execute_result",
          "data": {
            "text/plain": [
              "array([ 4, 48, 13, 60, 36, 28])"
            ]
          },
          "metadata": {},
          "execution_count": 33
        }
      ]
    },
    {
      "cell_type": "markdown",
      "source": [
        "# **Indexação**"
      ],
      "metadata": {
        "id": "-7aZzTDPrGwS"
      }
    },
    {
      "cell_type": "code",
      "source": [
        "numeros_mega[0]"
      ],
      "metadata": {
        "colab": {
          "base_uri": "https://localhost:8080/"
        },
        "id": "5pkW4qayrjvl",
        "outputId": "c50fbb6c-eea6-45b0-e6e2-0d59af778774"
      },
      "execution_count": null,
      "outputs": [
        {
          "output_type": "execute_result",
          "data": {
            "text/plain": [
              "4"
            ]
          },
          "metadata": {},
          "execution_count": 34
        }
      ]
    },
    {
      "cell_type": "code",
      "source": [
        "numeros_mega[-1]"
      ],
      "metadata": {
        "colab": {
          "base_uri": "https://localhost:8080/"
        },
        "id": "b29ETtCfrslM",
        "outputId": "be86707f-5276-42d5-fd08-e01e9500aedc"
      },
      "execution_count": null,
      "outputs": [
        {
          "output_type": "execute_result",
          "data": {
            "text/plain": [
              "28"
            ]
          },
          "metadata": {},
          "execution_count": 35
        }
      ]
    },
    {
      "cell_type": "code",
      "source": [
        "numeros_mega[1:4]"
      ],
      "metadata": {
        "colab": {
          "base_uri": "https://localhost:8080/"
        },
        "id": "F6iIcpgmrxK9",
        "outputId": "22e4574d-2270-444f-dced-6576def77076"
      },
      "execution_count": null,
      "outputs": [
        {
          "output_type": "execute_result",
          "data": {
            "text/plain": [
              "array([48, 13, 60])"
            ]
          },
          "metadata": {},
          "execution_count": 36
        }
      ]
    },
    {
      "cell_type": "code",
      "source": [
        "numeros_mega[:4]"
      ],
      "metadata": {
        "colab": {
          "base_uri": "https://localhost:8080/"
        },
        "id": "PvdhT2LOsLgO",
        "outputId": "a924931a-eb06-48d2-808a-258b4a5adb4c"
      },
      "execution_count": null,
      "outputs": [
        {
          "output_type": "execute_result",
          "data": {
            "text/plain": [
              "array([ 4, 48, 13, 60])"
            ]
          },
          "metadata": {},
          "execution_count": 37
        }
      ]
    },
    {
      "cell_type": "code",
      "source": [
        "numeros_mega[4:]"
      ],
      "metadata": {
        "colab": {
          "base_uri": "https://localhost:8080/"
        },
        "id": "z-k6WlIvsODO",
        "outputId": "c45fd46d-8d44-41db-807a-1ac0c7804083"
      },
      "execution_count": null,
      "outputs": [
        {
          "output_type": "execute_result",
          "data": {
            "text/plain": [
              "array([36, 28])"
            ]
          },
          "metadata": {},
          "execution_count": 38
        }
      ]
    },
    {
      "cell_type": "markdown",
      "source": [
        "# Operações aritméticas\n",
        "sum #\n",
        "\n",
        "mean #"
      ],
      "metadata": {
        "id": "2qRMLjOPsKGs"
      }
    },
    {
      "cell_type": "code",
      "source": [
        "matriz_inicial = np.arange(1, 5)\n",
        "matriz_inicial"
      ],
      "metadata": {
        "colab": {
          "base_uri": "https://localhost:8080/"
        },
        "id": "1LLj5q81sT5-",
        "outputId": "7ac06ce2-e394-4892-cae0-c5c3467003cd"
      },
      "execution_count": null,
      "outputs": [
        {
          "output_type": "execute_result",
          "data": {
            "text/plain": [
              "array([1, 2, 3, 4])"
            ]
          },
          "metadata": {},
          "execution_count": 7
        }
      ]
    },
    {
      "cell_type": "code",
      "source": [
        "np.sum(matriz_inicial)"
      ],
      "metadata": {
        "colab": {
          "base_uri": "https://localhost:8080/"
        },
        "id": "DBRcs2aGsfah",
        "outputId": "7ff7cb5f-d98a-42de-8898-cde75bcd155f"
      },
      "execution_count": null,
      "outputs": [
        {
          "output_type": "execute_result",
          "data": {
            "text/plain": [
              "10"
            ]
          },
          "metadata": {},
          "execution_count": 8
        }
      ]
    },
    {
      "cell_type": "code",
      "source": [
        "matriz_final = np.arange(5, 9)\n",
        "matriz_final"
      ],
      "metadata": {
        "colab": {
          "base_uri": "https://localhost:8080/"
        },
        "id": "HObsSZuYsyVu",
        "outputId": "a2cf3f45-3917-46e4-d057-ec9d8fac68a4"
      },
      "execution_count": null,
      "outputs": [
        {
          "output_type": "execute_result",
          "data": {
            "text/plain": [
              "array([5, 6, 7, 8])"
            ]
          },
          "metadata": {},
          "execution_count": 9
        }
      ]
    },
    {
      "cell_type": "code",
      "source": [
        "np.subtract(matriz_final, matriz_inicial)"
      ],
      "metadata": {
        "colab": {
          "base_uri": "https://localhost:8080/"
        },
        "id": "QYu3FmG6s5na",
        "outputId": "88b0641a-11ff-4541-947a-17ba15f06c08"
      },
      "execution_count": null,
      "outputs": [
        {
          "output_type": "execute_result",
          "data": {
            "text/plain": [
              "array([4, 4, 4, 4])"
            ]
          },
          "metadata": {},
          "execution_count": 10
        }
      ]
    },
    {
      "cell_type": "code",
      "source": [
        "matriz_final - matriz_inicial"
      ],
      "metadata": {
        "colab": {
          "base_uri": "https://localhost:8080/"
        },
        "id": "zSsr62Y3tNMb",
        "outputId": "d4df79c4-c84e-4c1a-be5a-fd7b3d23aaf2"
      },
      "execution_count": null,
      "outputs": [
        {
          "output_type": "execute_result",
          "data": {
            "text/plain": [
              "array([4, 4, 4, 4])"
            ]
          },
          "metadata": {},
          "execution_count": 11
        }
      ]
    },
    {
      "cell_type": "code",
      "source": [
        "np.add(matriz_final, matriz_inicial)"
      ],
      "metadata": {
        "colab": {
          "base_uri": "https://localhost:8080/"
        },
        "id": "-TlMTnICtVJ8",
        "outputId": "31faaac8-9f56-493e-b626-8ae39b290baa"
      },
      "execution_count": null,
      "outputs": [
        {
          "output_type": "execute_result",
          "data": {
            "text/plain": [
              "array([ 6,  8, 10, 12])"
            ]
          },
          "metadata": {},
          "execution_count": 12
        }
      ]
    },
    {
      "cell_type": "code",
      "source": [
        "matriz_inicial += 1\n",
        "matriz_inicial"
      ],
      "metadata": {
        "colab": {
          "base_uri": "https://localhost:8080/"
        },
        "id": "N5qkLA13tdw0",
        "outputId": "b1303933-0b0c-43e3-9bd9-b0db72bd2cd2"
      },
      "execution_count": null,
      "outputs": [
        {
          "output_type": "execute_result",
          "data": {
            "text/plain": [
              "array([3, 4, 5, 6])"
            ]
          },
          "metadata": {},
          "execution_count": 14
        }
      ]
    },
    {
      "cell_type": "code",
      "source": [
        "matriz_inicial ** 2"
      ],
      "metadata": {
        "colab": {
          "base_uri": "https://localhost:8080/"
        },
        "id": "alxgj-7Btld3",
        "outputId": "e1f5549d-701d-440c-f361-208afc92ebc4"
      },
      "execution_count": null,
      "outputs": [
        {
          "output_type": "execute_result",
          "data": {
            "text/plain": [
              "array([ 9, 16, 25, 36])"
            ]
          },
          "metadata": {},
          "execution_count": 16
        }
      ]
    },
    {
      "cell_type": "code",
      "source": [
        "np.sqrt(matriz_inicial)"
      ],
      "metadata": {
        "colab": {
          "base_uri": "https://localhost:8080/"
        },
        "id": "olLqikuFug0x",
        "outputId": "52757973-a7d9-4bfd-ba2b-6e145a2976a0"
      },
      "execution_count": null,
      "outputs": [
        {
          "output_type": "execute_result",
          "data": {
            "text/plain": [
              "array([1.73205081, 2.        , 2.23606798, 2.44948974])"
            ]
          },
          "metadata": {},
          "execution_count": 19
        }
      ]
    },
    {
      "cell_type": "code",
      "source": [
        "matriz_final / matriz_inicial"
      ],
      "metadata": {
        "colab": {
          "base_uri": "https://localhost:8080/"
        },
        "id": "_s1NuIc3uB_K",
        "outputId": "b438eaf8-9e08-456f-fc57-eff70733682e"
      },
      "execution_count": null,
      "outputs": [
        {
          "output_type": "execute_result",
          "data": {
            "text/plain": [
              "array([1.66666667, 1.5       , 1.4       , 1.33333333])"
            ]
          },
          "metadata": {},
          "execution_count": 17
        }
      ]
    },
    {
      "cell_type": "code",
      "source": [
        "np.exp(matriz_inicial)"
      ],
      "metadata": {
        "colab": {
          "base_uri": "https://localhost:8080/"
        },
        "id": "Qi5UOPu5uQRC",
        "outputId": "bbcdbc4f-1cf9-48db-b311-656e43759de1"
      },
      "execution_count": null,
      "outputs": [
        {
          "output_type": "execute_result",
          "data": {
            "text/plain": [
              "array([ 20.08553692,  54.59815003, 148.4131591 , 403.42879349])"
            ]
          },
          "metadata": {},
          "execution_count": 18
        }
      ]
    },
    {
      "cell_type": "code",
      "source": [
        "np.sin(matriz_inicial)"
      ],
      "metadata": {
        "colab": {
          "base_uri": "https://localhost:8080/"
        },
        "id": "_XjT6QW5ur-8",
        "outputId": "6148042f-8760-4caf-8e54-f410d2a60fab"
      },
      "execution_count": null,
      "outputs": [
        {
          "output_type": "execute_result",
          "data": {
            "text/plain": [
              "array([ 0.14112001, -0.7568025 , -0.95892427, -0.2794155 ])"
            ]
          },
          "metadata": {},
          "execution_count": 20
        }
      ]
    },
    {
      "cell_type": "code",
      "source": [
        "np.log(matriz_inicial)"
      ],
      "metadata": {
        "colab": {
          "base_uri": "https://localhost:8080/"
        },
        "id": "ilBjGfTjutco",
        "outputId": "050f317c-d504-4b57-a7c1-e125a8969e72"
      },
      "execution_count": null,
      "outputs": [
        {
          "output_type": "execute_result",
          "data": {
            "text/plain": [
              "array([1.09861229, 1.38629436, 1.60943791, 1.79175947])"
            ]
          },
          "metadata": {},
          "execution_count": 21
        }
      ]
    },
    {
      "cell_type": "code",
      "source": [
        "e = np.full((2,2), 5)\n",
        "e"
      ],
      "metadata": {
        "colab": {
          "base_uri": "https://localhost:8080/"
        },
        "id": "3ZKoCgDKu1Kd",
        "outputId": "1037a9fa-4725-4bd9-fe3f-f48409e30af8"
      },
      "execution_count": null,
      "outputs": [
        {
          "output_type": "execute_result",
          "data": {
            "text/plain": [
              "array([[5, 5],\n",
              "       [5, 5]])"
            ]
          },
          "metadata": {},
          "execution_count": 22
        }
      ]
    },
    {
      "cell_type": "code",
      "source": [
        "f = np.eye(2, dtype=int)\n",
        "f"
      ],
      "metadata": {
        "colab": {
          "base_uri": "https://localhost:8080/"
        },
        "id": "J6EqyWP4u7My",
        "outputId": "c6b866fd-c45f-4d3c-d310-82067488b5dc"
      },
      "execution_count": null,
      "outputs": [
        {
          "output_type": "execute_result",
          "data": {
            "text/plain": [
              "array([[1, 0],\n",
              "       [0, 1]])"
            ]
          },
          "metadata": {},
          "execution_count": 24
        }
      ]
    },
    {
      "cell_type": "code",
      "source": [
        "e.dot(f)"
      ],
      "metadata": {
        "colab": {
          "base_uri": "https://localhost:8080/"
        },
        "id": "2IAEt8j5u9uQ",
        "outputId": "90b574f0-0877-49d0-c4ff-9b736b1f95c0"
      },
      "execution_count": null,
      "outputs": [
        {
          "output_type": "execute_result",
          "data": {
            "text/plain": [
              "array([[5, 5],\n",
              "       [5, 5]])"
            ]
          },
          "metadata": {},
          "execution_count": 25
        }
      ]
    },
    {
      "cell_type": "code",
      "source": [
        "e * f"
      ],
      "metadata": {
        "colab": {
          "base_uri": "https://localhost:8080/"
        },
        "id": "59qx9IY6vFuM",
        "outputId": "f59700cf-988d-4714-9116-48297cdcf28f"
      },
      "execution_count": null,
      "outputs": [
        {
          "output_type": "execute_result",
          "data": {
            "text/plain": [
              "array([[5, 0],\n",
              "       [0, 5]])"
            ]
          },
          "metadata": {},
          "execution_count": 26
        }
      ]
    },
    {
      "cell_type": "markdown",
      "source": [
        "Multiplicação de matrizes na álgebra linear\n",
        "\n",
        "*  número de colunas da matriz A tem que ser igual ao número de linhas da matriz B\n",
        "*   Multiplica linha por coluna (NÃO MULTIPLICA ELEMENTO A ELEMENTO) NA ÁLGEBRA LINEAR\n"
      ],
      "metadata": {
        "id": "14Et34eXvWTE"
      }
    },
    {
      "cell_type": "markdown",
      "source": [
        "<img src=\"data:image/png;base64,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\" />"
      ],
      "metadata": {
        "id": "NIJ9b3bDvrpp"
      }
    },
    {
      "cell_type": "markdown",
      "source": [
        "# Operações Elementos\n",
        "np.resize(g, (2,2)) # Return a new array with shape(2,2)\n",
        "\n",
        "np.append(h,g) #Append items to an array\n",
        "\n",
        "np.insert(a,1,5) #Insert items in an array\n",
        "\n",
        "np.delete(a,[1]) #Delete items from an array"
      ],
      "metadata": {
        "id": "BUOon_RNvuKi"
      }
    },
    {
      "cell_type": "code",
      "source": [
        "matriz_inicial = np.arange(1, 5)\n",
        "matriz_inicial"
      ],
      "metadata": {
        "colab": {
          "base_uri": "https://localhost:8080/"
        },
        "id": "ZB_T9MEev_QL",
        "outputId": "709bcaa7-23ce-4251-aba6-77991a92e2df"
      },
      "execution_count": null,
      "outputs": [
        {
          "output_type": "execute_result",
          "data": {
            "text/plain": [
              "array([1, 2, 3, 4])"
            ]
          },
          "metadata": {},
          "execution_count": 27
        }
      ]
    },
    {
      "cell_type": "code",
      "source": [
        "np.resize(matriz_inicial, (2, 2))"
      ],
      "metadata": {
        "colab": {
          "base_uri": "https://localhost:8080/"
        },
        "id": "iJY8xabawGGq",
        "outputId": "bd668805-975c-4dfc-9bdb-384a098e1d99"
      },
      "execution_count": null,
      "outputs": [
        {
          "output_type": "execute_result",
          "data": {
            "text/plain": [
              "array([[1, 2],\n",
              "       [3, 4]])"
            ]
          },
          "metadata": {},
          "execution_count": 28
        }
      ]
    },
    {
      "cell_type": "code",
      "source": [
        "matriz_inicial = np.arange(1, 5)\n",
        "matriz_final = np.arange(5, 9)\n",
        "\n",
        "np.append(matriz_inicial, matriz_final)"
      ],
      "metadata": {
        "colab": {
          "base_uri": "https://localhost:8080/"
        },
        "id": "URWoUAkrwVH0",
        "outputId": "60f50c02-8860-40cc-9751-42bf01352a19"
      },
      "execution_count": null,
      "outputs": [
        {
          "output_type": "execute_result",
          "data": {
            "text/plain": [
              "array([1, 2, 3, 4, 5, 6, 7, 8])"
            ]
          },
          "metadata": {},
          "execution_count": 29
        }
      ]
    },
    {
      "cell_type": "code",
      "source": [
        "np.insert(matriz_inicial, 1, matriz_final)"
      ],
      "metadata": {
        "colab": {
          "base_uri": "https://localhost:8080/"
        },
        "id": "Indb-IDHwkSz",
        "outputId": "a07e83b1-bf30-4fba-8170-6d037431515f"
      },
      "execution_count": null,
      "outputs": [
        {
          "output_type": "execute_result",
          "data": {
            "text/plain": [
              "array([1, 5, 6, 7, 8, 2, 3, 4])"
            ]
          },
          "metadata": {},
          "execution_count": 30
        }
      ]
    },
    {
      "cell_type": "code",
      "source": [
        "np.delete(matriz_inicial, [-1])"
      ],
      "metadata": {
        "colab": {
          "base_uri": "https://localhost:8080/"
        },
        "id": "m8sLq_2fw-F-",
        "outputId": "ab713622-f3da-4a1a-c1d9-57fcead75c08"
      },
      "execution_count": null,
      "outputs": [
        {
          "output_type": "execute_result",
          "data": {
            "text/plain": [
              "array([1, 2, 3])"
            ]
          },
          "metadata": {},
          "execution_count": 31
        }
      ]
    },
    {
      "cell_type": "markdown",
      "metadata": {
        "id": "1599d3d3-b6a3-4768-9f5a-2a347c57bd27"
      },
      "source": [
        "#### Exercícios:  \n",
        "https://www.geeksforgeeks.org/python-numpy-practice-exercises-questions-and-solutions/  \n",
        "Fazer pelo menos dois de cada item:  \n",
        "- Questions on NumPy Array\n",
        "- Questions on NumPy Matrix\n",
        "- Questions on NumPy Indexing\n",
        "- Questions on NumPy Linear Algebra\n",
        "- Questions on NumPy Random"
      ]
    },
    {
      "cell_type": "markdown",
      "metadata": {
        "id": "9038666c-9c38-475c-ad36-3c56f1a59eb7"
      },
      "source": [
        "### Combinando\n",
        "  \n",
        "`np.concatenate((a, d), axis=0)`  # Concatenate arrays  \n",
        "`np.vstack((a, b))`  #Stack arrays vertically(rowwise)  \n",
        "`np.hstack((e, f))`  #Stack arrays horizontally(columnwise)  "
      ]
    },
    {
      "cell_type": "code",
      "source": [
        "matriz_inicial = np.arange(1, 5)\n",
        "matriz_final = np.arange(5, 9)\n",
        "\n",
        "np.concatenate((matriz_inicial, matriz_final))"
      ],
      "metadata": {
        "colab": {
          "base_uri": "https://localhost:8080/"
        },
        "id": "bzB8YKsIxgK5",
        "outputId": "19ad9775-c717-4378-d000-90e2561f2601"
      },
      "execution_count": null,
      "outputs": [
        {
          "output_type": "execute_result",
          "data": {
            "text/plain": [
              "array([1, 2, 3, 4, 5, 6, 7, 8])"
            ]
          },
          "metadata": {},
          "execution_count": 32
        }
      ]
    },
    {
      "cell_type": "code",
      "source": [
        "np.vstack([matriz_inicial, matriz_final])"
      ],
      "metadata": {
        "colab": {
          "base_uri": "https://localhost:8080/"
        },
        "id": "qXcL6JWQ3P8a",
        "outputId": "6896dfc4-48aa-454b-ae99-14bd0528367a"
      },
      "execution_count": null,
      "outputs": [
        {
          "output_type": "execute_result",
          "data": {
            "text/plain": [
              "array([[1, 2, 3, 4],\n",
              "       [5, 6, 7, 8]])"
            ]
          },
          "metadata": {},
          "execution_count": 33
        }
      ]
    },
    {
      "cell_type": "code",
      "source": [
        "np.hstack([matriz_inicial, matriz_final])"
      ],
      "metadata": {
        "colab": {
          "base_uri": "https://localhost:8080/"
        },
        "id": "WczpqyXX3gSA",
        "outputId": "18c9a33a-d5f8-402e-822d-ba8dd594d95d"
      },
      "execution_count": null,
      "outputs": [
        {
          "output_type": "execute_result",
          "data": {
            "text/plain": [
              "array([1, 2, 3, 4, 5, 6, 7, 8])"
            ]
          },
          "metadata": {},
          "execution_count": 34
        }
      ]
    },
    {
      "cell_type": "markdown",
      "metadata": {
        "id": "a37e82f2-5728-48c8-9c5c-9a19d5721bf8"
      },
      "source": [
        "#### Sistemas Lineares  \n",
        "Conjunto de equacões lineares, exemplo com $m$ equacões e n incógnitas"
      ]
    },
    {
      "cell_type": "markdown",
      "metadata": {
        "id": "a63cc06c-f379-4d06-b480-bd3947dc9806"
      },
      "source": [
        "<img width=250 src=\"data:image/png;base64,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\" />"
      ]
    },
    {
      "cell_type": "markdown",
      "metadata": {
        "id": "f4775ffc-fc6a-4fb8-bd85-7652aebb1453"
      },
      "source": [
        "Lembra que estudamos sobre **SPD, SPI e SI**:\n",
        "\n",
        "**Sistema Possível e Determinado (SPD)**: Apenas uma solucão, quando o determinante é diferente de zero.  \n",
        "**Sistema Possível e Indeterminado (SPI)**: Solucões possíveis infinítas, quando o determinante é zero.  \n",
        "**Sistema Impossível (SI)**: Não é possível encontrar solucão, determinante principal é zero e o secundário é diferente de zero.  \n",
        "  \n",
        "Regra de Cramer:  \n",
        "https://pt.wikipedia.org/wiki/Regra_de_Cramer"
      ]
    },
    {
      "cell_type": "markdown",
      "metadata": {
        "id": "4d0035aa-8a47-4cad-bd2a-cfed65e0eec3"
      },
      "source": [
        "<img width=250 src=\"data:image/png;base64,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\" />"
      ]
    },
    {
      "cell_type": "markdown",
      "metadata": {
        "id": "0e3085ca-9a24-4db4-a4b1-565db911a98b"
      },
      "source": [
        "Regra de Sarrus:  \n",
        "https://pt.wikipedia.org/wiki/Regra_de_Sarrus"
      ]
    },
    {
      "cell_type": "markdown",
      "metadata": {
        "id": "bc4fd130-049f-4d1f-9918-8f074f8d5818"
      },
      "source": [
        "Vamos resolver utilizando um funcão do numpy, lembrando que é para sistemas lineares com solucão única:"
      ]
    },
    {
      "cell_type": "markdown",
      "metadata": {
        "id": "116e01cb-c7b2-435a-bb4f-e5253532a66a"
      },
      "source": [
        "<img  src=\"data:image/png;base64,iVBORw0KGgoAAAANSUhEUgAAAHgAAAAsBAMAAABcVWEAAAAAMFBMVEX///8AAAAAAAAAAAAAAAAAAAAAAAAAAAAAAAAAAAAAAAAAAAAAAAAAAAAAAAAAAAAv3aB7AAAAD3RSTlMAVO8iq83dZpkQdkSJuzLyUrLrAAAACXBIWXMAAA7EAAAOxAGVKw4bAAACtElEQVRIDaWWQWjTUBjH/11ssyTdo+JliEhBQREPRY8brId6E6yHggeRHhUvAWUbeDCgiCJitpu3Fgp6GLKBzIMbdCIqKFoPMrxVQZDB8DDE1Unn995L0qR7tSX9IMn3vu/75XsvefkTAEgcoVNcO5OLSwLJcnwWN4dojFLvxgsPMuqkdcmLH1fkXRFL54zfiiSgPW3/B74hcqkm7ihhoD88YuPjYPDSref3gkrZmYafYY1PzMpVBFlyop1ZZtO+yqoVWeHDWhtf2Xpqca7B47cLZGdFRRQ28dO1xzAThZM2KqylY39RxoNzFAZqwDNsUnq0UCgVCnVe+IYOM0+Ptx98HniCbxwBvGnrNvnJTF/Y0lqovMUpwfrwEnQsTrmm17nnmqf1K3quqzO7/2JcL0+71/ZOe0c2wba4Th5YOUxrXg13Htnd3dbWJtaa3bDx6tcHWShh4Se7n7asoDWXfS96DW9fVq3L5KNoDVaO5boicqi3lOHBgvOVwepUVcYFVXTA2DLfB3FtmfZPbDMux0YJnK8PQQ/1quQmmalV1BNgPSZmPX7Hgb90pG384X7HXM9NOZ1Y2PuOJN90XHrTDRwNp4IvGtedaNwffYLJMxwGwlucjz05YD8cPtprbVhZikrYLEZ10teSUSca927DtsD4RyFg/S6kTm4clGkPtgkO6SfJG1kdsAje8mHoX6RONoRu+dNmTYJV+kkk8f60Sd65Tlp51gjppw6CVfpJgp7wp72viYcu10nTYVm6od959v3ri02lfu4gkaUyvuapDM4JnUw7Go/5MDDmhPUzWDPWxXwEnHaNE0InuzpzWK2fq51NgoVaRuiklbdozZ3O7OXJ0yr9RKIqtqd4VQLgp2LkaQdhaOWOH/LoMYds45AcDKifQ/3QDPUrZZT4txXX9Li/j/8AQQu/IBDP/AMAAAAASUVORK5CYII=\" />"
      ]
    },
    {
      "cell_type": "markdown",
      "metadata": {
        "id": "c1e9e13d-b2e8-498c-ad92-184577ee63ee"
      },
      "source": [
        "$Ax = b$"
      ]
    },
    {
      "cell_type": "code",
      "source": [
        "A = np.array([[1,2],\n",
        "             [3,4]])\n",
        "A"
      ],
      "metadata": {
        "colab": {
          "base_uri": "https://localhost:8080/"
        },
        "id": "mQOAbpe79arM",
        "outputId": "74eb27de-7b9f-4e07-9db5-2eaadd18ff9f"
      },
      "execution_count": null,
      "outputs": [
        {
          "output_type": "execute_result",
          "data": {
            "text/plain": [
              "array([[1, 2],\n",
              "       [3, 4]])"
            ]
          },
          "metadata": {},
          "execution_count": 38
        }
      ]
    },
    {
      "cell_type": "code",
      "source": [
        "b = np.array([1,0])\n",
        "b"
      ],
      "metadata": {
        "colab": {
          "base_uri": "https://localhost:8080/"
        },
        "id": "kEdaC4lw9utO",
        "outputId": "4fc1c21f-06e6-488d-c402-1f7aeee68cee"
      },
      "execution_count": null,
      "outputs": [
        {
          "output_type": "execute_result",
          "data": {
            "text/plain": [
              "array([1, 0])"
            ]
          },
          "metadata": {},
          "execution_count": 40
        }
      ]
    },
    {
      "cell_type": "code",
      "source": [
        "np.linalg.det(A)"
      ],
      "metadata": {
        "colab": {
          "base_uri": "https://localhost:8080/"
        },
        "id": "L2psx3Gx9-R0",
        "outputId": "ea71fcd7-1870-43b8-ce6c-2b6933433148"
      },
      "execution_count": null,
      "outputs": [
        {
          "output_type": "execute_result",
          "data": {
            "text/plain": [
              "-2.0000000000000004"
            ]
          },
          "metadata": {},
          "execution_count": 41
        }
      ]
    },
    {
      "cell_type": "code",
      "source": [
        "x = np.linalg.solve(A, b)\n",
        "x"
      ],
      "metadata": {
        "colab": {
          "base_uri": "https://localhost:8080/"
        },
        "id": "gNSaRZ8I-W_N",
        "outputId": "af47fa7f-2522-469b-8457-eb7e21ceee8e"
      },
      "execution_count": null,
      "outputs": [
        {
          "output_type": "execute_result",
          "data": {
            "text/plain": [
              "array([-2. ,  1.5])"
            ]
          },
          "metadata": {},
          "execution_count": 42
        }
      ]
    },
    {
      "cell_type": "markdown",
      "metadata": {
        "id": "869561a8-94ef-47ae-a289-7d5059d489c3"
      },
      "source": [
        "#### Mascaras"
      ]
    },
    {
      "cell_type": "code",
      "source": [
        "matriz1 = np.random.randint(1, 100, size=10)\n",
        "matriz1"
      ],
      "metadata": {
        "colab": {
          "base_uri": "https://localhost:8080/"
        },
        "id": "W-oZ4NzF_Lpy",
        "outputId": "0b03ceee-6d3f-4d68-9245-ffd2c1a4237e"
      },
      "execution_count": null,
      "outputs": [
        {
          "output_type": "execute_result",
          "data": {
            "text/plain": [
              "array([22, 56, 17, 81, 34, 59, 18, 22, 23, 63])"
            ]
          },
          "metadata": {},
          "execution_count": 45
        }
      ]
    },
    {
      "cell_type": "code",
      "source": [
        "maior_idade = matriz1 > 18\n",
        "maior_idade"
      ],
      "metadata": {
        "colab": {
          "base_uri": "https://localhost:8080/"
        },
        "id": "ZSVd1TDm_euG",
        "outputId": "eeafd39e-9566-4d49-b8c3-c69a5df3e9b0"
      },
      "execution_count": null,
      "outputs": [
        {
          "output_type": "execute_result",
          "data": {
            "text/plain": [
              "array([ True,  True, False,  True,  True,  True, False,  True,  True,\n",
              "        True])"
            ]
          },
          "metadata": {},
          "execution_count": 46
        }
      ]
    },
    {
      "cell_type": "code",
      "source": [
        "pessoas_maiores_idade = matriz1[maior_idade]\n",
        "pessoas_maiores_idade"
      ],
      "metadata": {
        "colab": {
          "base_uri": "https://localhost:8080/"
        },
        "id": "-7SWSVPf_t5S",
        "outputId": "d014b734-9579-4288-c7fb-2e228ba63820"
      },
      "execution_count": null,
      "outputs": [
        {
          "output_type": "execute_result",
          "data": {
            "text/plain": [
              "array([22, 56, 81, 34, 59, 22, 23, 63])"
            ]
          },
          "metadata": {},
          "execution_count": 47
        }
      ]
    },
    {
      "cell_type": "code",
      "source": [
        "aposentados_idade = matriz1 >= 65\n",
        "aposentados_idade"
      ],
      "metadata": {
        "colab": {
          "base_uri": "https://localhost:8080/"
        },
        "id": "nUd8oBbO_6iM",
        "outputId": "cb944b64-9f47-44e8-8543-3025c244d4b2"
      },
      "execution_count": null,
      "outputs": [
        {
          "output_type": "execute_result",
          "data": {
            "text/plain": [
              "array([False, False, False,  True, False, False, False, False, False,\n",
              "       False])"
            ]
          },
          "metadata": {},
          "execution_count": 48
        }
      ]
    },
    {
      "cell_type": "code",
      "source": [
        "aposentados = matriz1[aposentados_idade]\n",
        "aposentados"
      ],
      "metadata": {
        "colab": {
          "base_uri": "https://localhost:8080/"
        },
        "id": "lARU6HeZADra",
        "outputId": "2c3886cb-8755-4a3e-ae50-bebfef21274e"
      },
      "execution_count": null,
      "outputs": [
        {
          "output_type": "execute_result",
          "data": {
            "text/plain": [
              "array([81])"
            ]
          },
          "metadata": {},
          "execution_count": 49
        }
      ]
    },
    {
      "cell_type": "code",
      "source": [
        "pessoas_economicamente_ativas = matriz1[maior_idade & ~aposentados_idade] #~ ou np.logical_not(mascara)\n",
        "pessoas_economicamente_ativas"
      ],
      "metadata": {
        "colab": {
          "base_uri": "https://localhost:8080/"
        },
        "id": "D4FkNjPNAMlf",
        "outputId": "c7ea0451-f5f8-42e0-f969-eb34b91fee34"
      },
      "execution_count": null,
      "outputs": [
        {
          "output_type": "execute_result",
          "data": {
            "text/plain": [
              "array([22, 56, 34, 59, 22, 23, 63])"
            ]
          },
          "metadata": {},
          "execution_count": 50
        }
      ]
    },
    {
      "cell_type": "code",
      "source": [
        "print(f'Populacao {matriz1}')\n",
        "print(f'Eco. Ativ. {pessoas_economicamente_ativas}')"
      ],
      "metadata": {
        "colab": {
          "base_uri": "https://localhost:8080/"
        },
        "id": "VM621rKfAlqd",
        "outputId": "7abb243b-4b09-4c60-81f3-d4452ad260dd"
      },
      "execution_count": null,
      "outputs": [
        {
          "output_type": "stream",
          "name": "stdout",
          "text": [
            "Populacao [22 56 17 81 34 59 18 22 23 63]\n",
            "Eco. Ativ. [22 56 34 59 22 23 63]\n"
          ]
        }
      ]
    },
    {
      "cell_type": "code",
      "execution_count": null,
      "metadata": {
        "id": "cd9698ef-71ce-4794-ba2a-dd2ab8f0bb9b",
        "outputId": "a4a66c45-4ae0-4082-f3c6-4bb5fc1be33a",
        "colab": {
          "base_uri": "https://localhost:8080/"
        }
      },
      "outputs": [
        {
          "output_type": "execute_result",
          "data": {
            "text/plain": [
              "array(['n_aposentado', 'n_aposentado', 'n_aposentado', 'aposentado',\n",
              "       'n_aposentado', 'n_aposentado', 'n_aposentado', 'n_aposentado',\n",
              "       'n_aposentado', 'n_aposentado'], dtype='<U12')"
            ]
          },
          "metadata": {},
          "execution_count": 54
        }
      ],
      "source": [
        "np.where(~aposentados_idade,'n_aposentado', 'aposentado')"
      ]
    },
    {
      "cell_type": "markdown",
      "metadata": {
        "id": "c68ccfc0-fa83-40c6-ab40-f6bbd48d810f"
      },
      "source": [
        "#### Carregando e Salvando o array"
      ]
    },
    {
      "cell_type": "code",
      "source": [
        "np.save('dados_populacao', matriz1)"
      ],
      "metadata": {
        "id": "w_3NIPsYCKAy"
      },
      "execution_count": null,
      "outputs": []
    },
    {
      "cell_type": "code",
      "source": [
        "!ls *.npy"
      ],
      "metadata": {
        "colab": {
          "base_uri": "https://localhost:8080/"
        },
        "id": "WP3kNtSvCsT2",
        "outputId": "410213cf-8368-486e-8022-35ca9c1bc267"
      },
      "execution_count": null,
      "outputs": [
        {
          "output_type": "stream",
          "name": "stdout",
          "text": [
            "dados_populacao.npy\n"
          ]
        }
      ]
    },
    {
      "cell_type": "code",
      "source": [
        "!cat dados_populacao.npy"
      ],
      "metadata": {
        "colab": {
          "base_uri": "https://localhost:8080/"
        },
        "id": "_rkXW_L4Cxie",
        "outputId": "6a0dbd16-9e25-4a1e-d1fe-5e13b1d060bc"
      },
      "execution_count": null,
      "outputs": [
        {
          "output_type": "stream",
          "name": "stdout",
          "text": [
            "�NUMPY\u0001\u0000v\u0000{'descr': '<i8', 'fortran_order': False, 'shape': (10,), }                                                           \n",
            "\u0016\u0000\u0000\u0000\u0000\u0000\u0000\u00008\u0000\u0000\u0000\u0000\u0000\u0000\u0000\u0011\u0000\u0000\u0000\u0000\u0000\u0000\u0000Q\u0000\u0000\u0000\u0000\u0000\u0000\u0000\"\u0000\u0000\u0000\u0000\u0000\u0000\u0000;\u0000\u0000\u0000\u0000\u0000\u0000\u0000\u0012\u0000\u0000\u0000\u0000\u0000\u0000\u0000\u0016\u0000\u0000\u0000\u0000\u0000\u0000\u0000\u0017\u0000\u0000\u0000\u0000\u0000\u0000\u0000?\u0000\u0000\u0000\u0000\u0000\u0000\u0000"
          ]
        }
      ]
    },
    {
      "cell_type": "code",
      "source": [
        "dados_populacao_carregada = np.load('dados_populacao.npy')\n",
        "dados_populacao_carregada"
      ],
      "metadata": {
        "colab": {
          "base_uri": "https://localhost:8080/"
        },
        "id": "0TOb3xVLC9Br",
        "outputId": "2d0843c6-e98e-4c0b-f6bb-32531ee6738c"
      },
      "execution_count": null,
      "outputs": [
        {
          "output_type": "execute_result",
          "data": {
            "text/plain": [
              "array([22, 56, 17, 81, 34, 59, 18, 22, 23, 63])"
            ]
          },
          "metadata": {},
          "execution_count": 58
        }
      ]
    },
    {
      "cell_type": "code",
      "source": [
        "np.savetxt('dados_populacao.txt', matriz1)"
      ],
      "metadata": {
        "id": "rjvXemUEDYPa"
      },
      "execution_count": null,
      "outputs": []
    },
    {
      "cell_type": "code",
      "source": [
        "np.loadtxt('dados_populacao.txt')"
      ],
      "metadata": {
        "colab": {
          "base_uri": "https://localhost:8080/"
        },
        "id": "3wnBALCRDa0S",
        "outputId": "330863e9-db14-4d2b-e62d-7dfbac658bf1"
      },
      "execution_count": null,
      "outputs": [
        {
          "output_type": "execute_result",
          "data": {
            "text/plain": [
              "array([22., 56., 17., 81., 34., 59., 18., 22., 23., 63.])"
            ]
          },
          "metadata": {},
          "execution_count": 62
        }
      ]
    },
    {
      "cell_type": "markdown",
      "metadata": {
        "id": "2c060631-4cac-4fa8-9766-37af235c3803"
      },
      "source": [
        "#### Numpy fora da caixa"
      ]
    },
    {
      "cell_type": "markdown",
      "metadata": {
        "id": "9d976e57-41e1-4b1f-99af-c52183b65a46"
      },
      "source": [
        "##### Caso Figura"
      ]
    },
    {
      "cell_type": "code",
      "source": [
        "import matplotlib.pyplot as plt\n",
        "import matplotlib.image as mpimg"
      ],
      "metadata": {
        "id": "Aq_TP23tERjo"
      },
      "execution_count": null,
      "outputs": []
    },
    {
      "cell_type": "code",
      "source": [
        "imagem = mpimg.imread('imagem_teste.png')\n",
        "imagem"
      ],
      "metadata": {
        "colab": {
          "base_uri": "https://localhost:8080/"
        },
        "id": "IHkjpo-cEWQn",
        "outputId": "a1bf9021-4c88-4131-f516-6599e8fb0a27"
      },
      "execution_count": null,
      "outputs": [
        {
          "output_type": "execute_result",
          "data": {
            "text/plain": [
              "array([[[1., 1., 1., 1.],\n",
              "        [1., 1., 1., 1.],\n",
              "        [1., 1., 1., 1.],\n",
              "        ...,\n",
              "        [1., 1., 1., 1.],\n",
              "        [1., 1., 1., 1.],\n",
              "        [1., 1., 1., 1.]],\n",
              "\n",
              "       [[1., 1., 1., 1.],\n",
              "        [1., 1., 1., 1.],\n",
              "        [1., 1., 1., 1.],\n",
              "        ...,\n",
              "        [1., 1., 1., 1.],\n",
              "        [1., 1., 1., 1.],\n",
              "        [1., 1., 1., 1.]],\n",
              "\n",
              "       [[1., 1., 1., 1.],\n",
              "        [1., 1., 1., 1.],\n",
              "        [1., 1., 1., 1.],\n",
              "        ...,\n",
              "        [1., 1., 1., 1.],\n",
              "        [1., 1., 1., 1.],\n",
              "        [1., 1., 1., 1.]],\n",
              "\n",
              "       ...,\n",
              "\n",
              "       [[1., 1., 1., 1.],\n",
              "        [1., 1., 1., 1.],\n",
              "        [1., 1., 1., 1.],\n",
              "        ...,\n",
              "        [1., 1., 1., 1.],\n",
              "        [1., 1., 1., 1.],\n",
              "        [1., 1., 1., 1.]],\n",
              "\n",
              "       [[1., 1., 1., 1.],\n",
              "        [1., 1., 1., 1.],\n",
              "        [1., 1., 1., 1.],\n",
              "        ...,\n",
              "        [1., 1., 1., 1.],\n",
              "        [1., 1., 1., 1.],\n",
              "        [1., 1., 1., 1.]],\n",
              "\n",
              "       [[1., 1., 1., 1.],\n",
              "        [1., 1., 1., 1.],\n",
              "        [1., 1., 1., 1.],\n",
              "        ...,\n",
              "        [1., 1., 1., 1.],\n",
              "        [1., 1., 1., 1.],\n",
              "        [1., 1., 1., 1.]]], dtype=float32)"
            ]
          },
          "metadata": {},
          "execution_count": 64
        }
      ]
    },
    {
      "cell_type": "code",
      "source": [
        "plt.imshow(imagem)"
      ],
      "metadata": {
        "colab": {
          "base_uri": "https://localhost:8080/",
          "height": 452
        },
        "id": "5ZsKlbMqE5HI",
        "outputId": "64a824e6-a66b-4fa4-a865-f2feb0d834e7"
      },
      "execution_count": null,
      "outputs": [
        {
          "output_type": "execute_result",
          "data": {
            "text/plain": [
              "<matplotlib.image.AxesImage at 0x7f8952dbf190>"
            ]
          },
          "metadata": {},
          "execution_count": 65
        },
        {
          "output_type": "display_data",
          "data": {
            "text/plain": [
              "<Figure size 640x480 with 1 Axes>"
            ],
            "image/png": "[encoded data removed]"
          },
          "metadata": {}
        }
      ]
    },
    {
      "cell_type": "code",
      "source": [
        "imagem_processada = np.copy(imagem)\n",
        "imagem_processada[np.all(imagem == [1., 1., 1., 1.], axis=-1)] = [0., 0., 0., 1.]\n",
        "\n",
        "plt.imshow(imagem_processada)\n",
        "plt.savefig('imagem_processada.png')\n",
        "plt.show()\n"
      ],
      "metadata": {
        "colab": {
          "base_uri": "https://localhost:8080/",
          "height": 435
        },
        "id": "aF8SHw0JF34i",
        "outputId": "0a1f529a-61d9-4b3d-eae4-95d0cb652166"
      },
      "execution_count": null,
      "outputs": [
        {
          "output_type": "display_data",
          "data": {
            "text/plain": [
              "<Figure size 640x480 with 1 Axes>"
            ],
            "image/png": "[encoded data removed]"
          },
          "metadata": {}
        }
      ]
    },
    {
      "cell_type": "markdown",
      "metadata": {
        "id": "d842fa11-016b-41e0-a406-465d6dc47cba"
      },
      "source": [
        "Exercício  \n",
        "Utilizar np.where para trocar as cores Branca para Preta.  "
      ]
    },
    {
      "cell_type": "markdown",
      "metadata": {
        "id": "f4accb4b-a3b8-438e-90e7-5cd36150a832"
      },
      "source": [
        "##### Caso Gráfico"
      ]
    },
    {
      "cell_type": "code",
      "source": [
        "vendas = np.random.randint(50, 100, size=12)\n",
        "vendas"
      ],
      "metadata": {
        "colab": {
          "base_uri": "https://localhost:8080/"
        },
        "id": "FO8cDSCTH_rD",
        "outputId": "8131f9eb-d8f5-40ce-f83d-3f472b80a27d"
      },
      "execution_count": null,
      "outputs": [
        {
          "output_type": "execute_result",
          "data": {
            "text/plain": [
              "array([89, 78, 61, 91, 52, 76, 79, 85, 93, 90, 82, 97])"
            ]
          },
          "metadata": {},
          "execution_count": 69
        }
      ]
    },
    {
      "cell_type": "code",
      "source": [
        "media_vendas = np.mean(vendas)\n",
        "media_vendas"
      ],
      "metadata": {
        "colab": {
          "base_uri": "https://localhost:8080/"
        },
        "id": "Z5M_scj9IMJy",
        "outputId": "1639cfcc-e6e9-4320-e64e-0811215e3ff6"
      },
      "execution_count": null,
      "outputs": [
        {
          "output_type": "execute_result",
          "data": {
            "text/plain": [
              "81.08333333333333"
            ]
          },
          "metadata": {},
          "execution_count": 70
        }
      ]
    },
    {
      "cell_type": "code",
      "source": [
        "meses = np.arange(1, 13)\n",
        "meses"
      ],
      "metadata": {
        "colab": {
          "base_uri": "https://localhost:8080/"
        },
        "id": "4fNjP8OcIS0t",
        "outputId": "d05f41fa-b8f7-4667-d953-505f8bb1f930"
      },
      "execution_count": null,
      "outputs": [
        {
          "output_type": "execute_result",
          "data": {
            "text/plain": [
              "array([ 1,  2,  3,  4,  5,  6,  7,  8,  9, 10, 11, 12])"
            ]
          },
          "metadata": {},
          "execution_count": 80
        }
      ]
    },
    {
      "cell_type": "code",
      "source": [
        "print(vendas)\n",
        "tendencia_vendas = np.diff(vendas)\n",
        "tendencia_vendas"
      ],
      "metadata": {
        "colab": {
          "base_uri": "https://localhost:8080/"
        },
        "id": "7mFaoxe8Jx15",
        "outputId": "4ed7e838-7f5d-4987-9117-26b654774053"
      },
      "execution_count": null,
      "outputs": [
        {
          "output_type": "stream",
          "name": "stdout",
          "text": [
            "[89 78 61 91 52 76 79 85 93 90 82 97]\n"
          ]
        },
        {
          "output_type": "execute_result",
          "data": {
            "text/plain": [
              "array([-11, -17,  30, -39,  24,   3,   6,   8,  -3,  -8,  15])"
            ]
          },
          "metadata": {},
          "execution_count": 81
        }
      ]
    },
    {
      "cell_type": "code",
      "source": [
        "tendencia_vendas = np.insert(tendencia_vendas, 0, 0)\n",
        "tendencia_vendas"
      ],
      "metadata": {
        "colab": {
          "base_uri": "https://localhost:8080/"
        },
        "id": "pK7LTYLgKGSq",
        "outputId": "042633da-f253-4f1d-b09c-697c1e331814"
      },
      "execution_count": null,
      "outputs": [
        {
          "output_type": "execute_result",
          "data": {
            "text/plain": [
              "array([  0, -11, -17,  30, -39,  24,   3,   6,   8,  -3,  -8,  15])"
            ]
          },
          "metadata": {},
          "execution_count": 82
        }
      ]
    },
    {
      "cell_type": "code",
      "source": [
        "passo_y = 10\n",
        "menor_y = np.min(np.concatenate([vendas, tendencia_vendas])) - passo_y\n",
        "maior_y = np.max(np.concatenate([vendas, tendencia_vendas])) + passo_y\n",
        "menor_y, maior_y"
      ],
      "metadata": {
        "colab": {
          "base_uri": "https://localhost:8080/"
        },
        "id": "wBa18qxnK1Y7",
        "outputId": "9615587f-be31-4250-8c28-4c5fad5b0829"
      },
      "execution_count": null,
      "outputs": [
        {
          "output_type": "execute_result",
          "data": {
            "text/plain": [
              "(-49, 107)"
            ]
          },
          "metadata": {},
          "execution_count": 85
        }
      ]
    },
    {
      "cell_type": "code",
      "source": [
        "grade_y = np.arange(start=menor_y, stop=maior_y, step=passo_y)\n",
        "grade_y"
      ],
      "metadata": {
        "colab": {
          "base_uri": "https://localhost:8080/"
        },
        "id": "K3D-Q8ZXK5kQ",
        "outputId": "2e31d027-e7e3-46da-81df-c7432ba22dc9"
      },
      "execution_count": null,
      "outputs": [
        {
          "output_type": "execute_result",
          "data": {
            "text/plain": [
              "array([-49, -39, -29, -19,  -9,   1,  11,  21,  31,  41,  51,  61,  71,\n",
              "        81,  91, 101])"
            ]
          },
          "metadata": {},
          "execution_count": 87
        }
      ]
    },
    {
      "cell_type": "code",
      "source": [
        "plt.plot(meses, vendas, marker=\"o\", label='Vendas Mensais')\n",
        "plt.plot(meses, tendencia_vendas, marker='.', color='g', label='Vendas Tendência')\n",
        "plt.axhline(y=media_vendas, color='r', linestyle='--', label=f'Vendas Média: {media_vendas:.1f}')\n",
        "\n",
        "plt.xticks(meses)\n",
        "plt.yticks(grade_y)\n",
        "plt.grid(True)\n",
        "plt.legend()\n",
        "plt.show()"
      ],
      "metadata": {
        "colab": {
          "base_uri": "https://localhost:8080/",
          "height": 430
        },
        "id": "wpFujbv9IY5F",
        "outputId": "34f58ca7-8865-4b6d-c48d-4f573b18e378"
      },
      "execution_count": null,
      "outputs": [
        {
          "output_type": "display_data",
          "data": {
            "text/plain": [
              "<Figure size 640x480 with 1 Axes>"
            ],
            "image/png": "[encoded data removed]"
          },
          "metadata": {}
        }
      ]
    }
  ]
}