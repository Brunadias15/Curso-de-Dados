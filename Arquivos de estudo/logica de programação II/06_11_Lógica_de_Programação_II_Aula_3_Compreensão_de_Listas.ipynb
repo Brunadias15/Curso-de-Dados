{
  "nbformat": 4,
  "nbformat_minor": 0,
  "metadata": {
    "colab": {
      "provenance": [],
      "collapsed_sections": [
        "QAnItBgO_LUz"
      ]
    },
    "kernelspec": {
      "name": "python3",
      "display_name": "Python 3"
    },
    "language_info": {
      "name": "python"
    }
  },
  "cells": [
    {
      "cell_type": "markdown",
      "source": [
        "## 📍 Agenda 📍\n",
        "<br>\n",
        "\n",
        "- [Compreensão de Listas](#um)\n",
        "- [Exercícios](#dois)"
      ],
      "metadata": {
        "id": "QAnItBgO_LUz"
      }
    },
    {
      "cell_type": "markdown",
      "source": [
        "## Introdução <a class=\"anchor\" id=\"um\"></a>\n",
        "<br>\n",
        "\n",
        "Como já vimos até aqui neste módulo, a linguagem python é extremamente versátil em termos de implementação, assim como qualquer outra linguagem de programação.\n",
        "<br>\n",
        "\n",
        "Porém, o python nos fornece uma maneira simplificada de manipular algumas estruturas de dados de forma que, o código fique mais limpo e menos suceptível a erros.\n",
        "<br>\n",
        "\n",
        "Boa parte desta característica do python, é inspirada no paradigma de programação funcional, que será explicada com um pouco mais de detalhes nas próximas aulas deste módulo.\n",
        "<br>\n",
        "\n",
        "Seguindo esta ideia de simplificação de códigos, vamos entender um pouco mais sobre **compreensão de listas** (do inglês list comprehension).\n",
        "\n",
        "<div align=\"justify\">\n",
        "&emsp;\n",
        "</div>\n",
        "<br>"
      ],
      "metadata": {
        "id": "5OCDQOvZKQy2"
      }
    },
    {
      "cell_type": "markdown",
      "source": [
        "## Compreensão de Lista (List Comprehension)\n",
        "\n",
        "Antes de entrar no contexto de compreensão de listas, vamos pensar na seguinte problemática: crie um programa para montar uma lista com os quadrados dos número 1 até 10.\n",
        "<br>\n",
        "<br>\n",
        "Qual seria a maneira mais lógica para a solução deste problema?"
      ],
      "metadata": {
        "id": "rrlUauMJAV49"
      }
    },
    {
      "cell_type": "code",
      "source": [
        "# uma solução possível\n",
        "quadrados = []\n",
        "lista = [1, 2, 3, 4, 5, 6, 7, 8, 9, 10]\n",
        "for x in lista:\n",
        "  quadrados.append(x**2)\n",
        "quadrados"
      ],
      "metadata": {
        "colab": {
          "base_uri": "https://localhost:8080/"
        },
        "id": "djyjoJfTDJ5L",
        "outputId": "964ed324-c4d2-4770-8271-cf0e15c1e5df"
      },
      "execution_count": null,
      "outputs": [
        {
          "output_type": "execute_result",
          "data": {
            "text/plain": [
              "[1, 4, 9, 16, 25, 36, 49, 64, 81, 100]"
            ]
          },
          "metadata": {},
          "execution_count": 15
        }
      ]
    },
    {
      "cell_type": "code",
      "source": [
        "del x"
      ],
      "metadata": {
        "colab": {
          "base_uri": "https://localhost:8080/",
          "height": 178
        },
        "id": "KrLD745M3_RX",
        "outputId": "7e9a3c6c-85ef-4230-beec-a1693ad1e0b6"
      },
      "execution_count": null,
      "outputs": [
        {
          "output_type": "error",
          "ename": "NameError",
          "evalue": "ignored",
          "traceback": [
            "\u001b[0;31m---------------------------------------------------------------------------\u001b[0m",
            "\u001b[0;31mNameError\u001b[0m                                 Traceback (most recent call last)",
            "\u001b[0;32m<ipython-input-24-52e2ca59f643>\u001b[0m in \u001b[0;36m<cell line: 1>\u001b[0;34m()\u001b[0m\n\u001b[0;32m----> 1\u001b[0;31m \u001b[0;32mdel\u001b[0m \u001b[0mx\u001b[0m\u001b[0;34m\u001b[0m\u001b[0;34m\u001b[0m\u001b[0m\n\u001b[0m",
            "\u001b[0;31mNameError\u001b[0m: name 'x' is not defined"
          ]
        }
      ]
    },
    {
      "cell_type": "code",
      "source": [
        "x"
      ],
      "metadata": {
        "colab": {
          "base_uri": "https://localhost:8080/",
          "height": 178
        },
        "id": "uDjPZUtX4M8T",
        "outputId": "43084b42-697a-490c-d578-5d3c6112ac64"
      },
      "execution_count": null,
      "outputs": [
        {
          "output_type": "error",
          "ename": "NameError",
          "evalue": "ignored",
          "traceback": [
            "\u001b[0;31m---------------------------------------------------------------------------\u001b[0m",
            "\u001b[0;31mNameError\u001b[0m                                 Traceback (most recent call last)",
            "\u001b[0;32m<ipython-input-19-6fcf9dfbd479>\u001b[0m in \u001b[0;36m<cell line: 1>\u001b[0;34m()\u001b[0m\n\u001b[0;32m----> 1\u001b[0;31m \u001b[0mx\u001b[0m\u001b[0;34m\u001b[0m\u001b[0;34m\u001b[0m\u001b[0m\n\u001b[0m",
            "\u001b[0;31mNameError\u001b[0m: name 'x' is not defined"
          ]
        }
      ]
    },
    {
      "cell_type": "code",
      "source": [
        "import random\n",
        "random.randint(1, 10)"
      ],
      "metadata": {
        "colab": {
          "base_uri": "https://localhost:8080/"
        },
        "id": "uDwrZC3F3T4f",
        "outputId": "4c7399aa-7656-4a08-91b5-c3f06ec97656"
      },
      "execution_count": null,
      "outputs": [
        {
          "output_type": "execute_result",
          "data": {
            "text/plain": [
              "1"
            ]
          },
          "metadata": {},
          "execution_count": 11
        }
      ]
    },
    {
      "cell_type": "code",
      "source": [
        "lista = [1, 2, 3, 4, 5, 6, 7, 8, 9, 10]\n",
        "for i in range(len(lista)):\n",
        "  lista[i] = lista[i] ** 2\n",
        "lista"
      ],
      "metadata": {
        "colab": {
          "base_uri": "https://localhost:8080/"
        },
        "id": "MrLtW-q4NaMi",
        "outputId": "4275309b-aee4-4960-f8e8-b0d24f516614"
      },
      "execution_count": null,
      "outputs": [
        {
          "output_type": "execute_result",
          "data": {
            "text/plain": [
              "[1, 4, 9, 16, 25, 36, 49, 64, 81, 100]"
            ]
          },
          "metadata": {},
          "execution_count": 2
        }
      ]
    },
    {
      "cell_type": "code",
      "source": [
        "lista = [1, 2, 3, 4, 5, 6, 7, 8, 9, 10]"
      ],
      "metadata": {
        "id": "WCEgC19b2-fH"
      },
      "execution_count": null,
      "outputs": []
    },
    {
      "cell_type": "code",
      "source": [
        "[x**2 for x in lista]"
      ],
      "metadata": {
        "colab": {
          "base_uri": "https://localhost:8080/"
        },
        "id": "vKe5LWj5NXm2",
        "outputId": "1ead054a-bdf4-4253-cd74-d9a188bc731f"
      },
      "execution_count": null,
      "outputs": [
        {
          "output_type": "execute_result",
          "data": {
            "text/plain": [
              "[1, 4, 9, 16, 25, 36, 49, 64, 81, 100]"
            ]
          },
          "metadata": {},
          "execution_count": 20
        }
      ]
    },
    {
      "cell_type": "code",
      "source": [
        "type([x**2 for x in lista])"
      ],
      "metadata": {
        "colab": {
          "base_uri": "https://localhost:8080/"
        },
        "id": "VJ9XYabe3of9",
        "outputId": "903ed822-d3e4-430e-da27-d1b53176ff1d"
      },
      "execution_count": null,
      "outputs": [
        {
          "output_type": "execute_result",
          "data": {
            "text/plain": [
              "list"
            ]
          },
          "metadata": {},
          "execution_count": 12
        }
      ]
    },
    {
      "cell_type": "code",
      "source": [
        "q = [x**2 for x in lista]\n",
        "q[0]"
      ],
      "metadata": {
        "colab": {
          "base_uri": "https://localhost:8080/"
        },
        "id": "Yef5EBKc3rAo",
        "outputId": "2283655a-c8fd-42d4-8a0c-14150e319d6f"
      },
      "execution_count": null,
      "outputs": [
        {
          "output_type": "execute_result",
          "data": {
            "text/plain": [
              "1"
            ]
          },
          "metadata": {},
          "execution_count": 13
        }
      ]
    },
    {
      "cell_type": "markdown",
      "source": [
        "Note que, iteramos sobre um range de valores para armazenar na lista, cada quadrado do número corrente.\n",
        "\n",
        "É interessante notar que a variável **x** declarada no loop, ainda existe e armazena o último valor recebido na iteração. Tal característica, pode afetar outros pontos subsequentes do código, caso a variável **x** seja utilizada sem a devida reiniciação de seu valor.\n",
        "\n",
        "Para resolver este problema, com compreensão de lista, podemos obter o mesmo resultado apenas com a linha de código abaixo:"
      ],
      "metadata": {
        "id": "5ioqSa3lDcEh"
      }
    },
    {
      "cell_type": "code",
      "source": [
        "lista = [1, 2, 3, 4, 5, 6, 7, 8, 9, 10]\n",
        "quadrados = [x**2 for x in lista]\n",
        "print(quadrados)\n",
        "\n",
        "# f(x) = x^2 -> mapeando cada elemento x da lista"
      ],
      "metadata": {
        "colab": {
          "base_uri": "https://localhost:8080/"
        },
        "id": "nLfHL85EDbX-",
        "outputId": "100561bd-88a9-4fef-db73-71023b1c3b5b"
      },
      "execution_count": null,
      "outputs": [
        {
          "output_type": "stream",
          "name": "stdout",
          "text": [
            "[1, 4, 9, 16, 25, 36, 49, 64, 81, 100]\n"
          ]
        }
      ]
    },
    {
      "cell_type": "markdown",
      "source": [
        "Perceba que a variável **x** não existirá fora do escopo definido acima.\n",
        "<br>\n",
        "<br>\n",
        "Vamos testar?"
      ],
      "metadata": {
        "id": "RBgSaY2vE_cj"
      }
    },
    {
      "cell_type": "code",
      "source": [
        "x"
      ],
      "metadata": {
        "colab": {
          "base_uri": "https://localhost:8080/",
          "height": 178
        },
        "id": "vP8RdUyYEGqN",
        "outputId": "7acf0085-f930-4b6d-c9b6-45678c2880d5"
      },
      "execution_count": null,
      "outputs": [
        {
          "output_type": "error",
          "ename": "NameError",
          "evalue": "ignored",
          "traceback": [
            "\u001b[0;31m---------------------------------------------------------------------------\u001b[0m",
            "\u001b[0;31mNameError\u001b[0m                                 Traceback (most recent call last)",
            "\u001b[0;32m<ipython-input-23-6fcf9dfbd479>\u001b[0m in \u001b[0;36m<cell line: 1>\u001b[0;34m()\u001b[0m\n\u001b[0;32m----> 1\u001b[0;31m \u001b[0mx\u001b[0m\u001b[0;34m\u001b[0m\u001b[0;34m\u001b[0m\u001b[0m\n\u001b[0m",
            "\u001b[0;31mNameError\u001b[0m: name 'x' is not defined"
          ]
        }
      ]
    },
    {
      "cell_type": "markdown",
      "source": [
        "A sintaxe básica de uma compreensão de lista é:\n",
        "<br>\n",
        "<br>\n",
        "`[expressão for item in lista]`\n",
        "<br>\n",
        "<br>\n",
        "Em que a `expressão` indica alguma transformação em cada `item` da `lista`.\n",
        "\n",
        "<br>\n",
        "<br>\n",
        "Vamos de mais exemplos!!!"
      ],
      "metadata": {
        "id": "WV-u8_q7G88-"
      }
    },
    {
      "cell_type": "code",
      "source": [
        "def calcula_quadrado(x):\n",
        "  return x**2"
      ],
      "metadata": {
        "id": "xzeaW7ws48rf"
      },
      "execution_count": null,
      "outputs": []
    },
    {
      "cell_type": "code",
      "source": [
        "# dividir cada número de uma lista por 2\n",
        "lista = [1, 2, 3, 4, 5, 6, 7, 8, 9, 10]\n",
        "quadrados = [calcula_quadrado(x) for x in lista]\n",
        "quadrados"
      ],
      "metadata": {
        "colab": {
          "base_uri": "https://localhost:8080/"
        },
        "id": "HachyNy8HZtb",
        "outputId": "fd95bfc1-4d88-4812-e385-126a76764b4c"
      },
      "execution_count": null,
      "outputs": [
        {
          "output_type": "execute_result",
          "data": {
            "text/plain": [
              "[1, 4, 9, 16, 25, 36, 49, 64, 81, 100]"
            ]
          },
          "metadata": {},
          "execution_count": 26
        }
      ]
    },
    {
      "cell_type": "markdown",
      "source": [
        "Um ponto interessante é que as `expressões` de uma lista de compreensão podem ser uma chamada de função, por exemplo."
      ],
      "metadata": {
        "id": "oSHDHwuYGHo3"
      }
    },
    {
      "cell_type": "code",
      "source": [],
      "metadata": {
        "id": "q_79Y0KbxSpH"
      },
      "execution_count": null,
      "outputs": []
    },
    {
      "cell_type": "code",
      "source": [],
      "metadata": {
        "id": "fVnpxBz7GrqF"
      },
      "execution_count": null,
      "outputs": []
    },
    {
      "cell_type": "markdown",
      "source": [
        "### Condições em compreensões\n",
        "\n",
        "Condições são muito interessantes em compreensão de listas, pois else podem funcionar como mecanismos de filtragem, além de mapeamento.\n",
        "<br>\n",
        "<br>\n",
        "\n",
        "Podemos usar `if` para retornar apenas elementos de uma lista que satisfaçam uma determinada condição.\n",
        "<br>\n",
        "<br>\n",
        "Imagine que você tenha uma lista de números inteiros, e precise criar uma lista com apenas os números pares extraídos desta lista original:\n",
        "<br>\n",
        "<br>\n",
        "Com condições de compreensão, podemos implementar desta da seguinte maneira:\n",
        "\n",
        "\n",
        "\n",
        "\n"
      ],
      "metadata": {
        "id": "Z4FbubWHG7z9"
      }
    },
    {
      "cell_type": "code",
      "source": [
        "lista = [1, 2, 3, 4, 5, 6, 7, 8, 9, 10]\n",
        "pares = [x * 2 for x in lista if x % 2 == 0]\n",
        "pares"
      ],
      "metadata": {
        "colab": {
          "base_uri": "https://localhost:8080/"
        },
        "id": "0LYo86Hvxz7p",
        "outputId": "07f38198-0443-4dec-818a-82d8c3c4e955"
      },
      "execution_count": null,
      "outputs": [
        {
          "output_type": "execute_result",
          "data": {
            "text/plain": [
              "[4, 8, 12, 16, 20]"
            ]
          },
          "metadata": {},
          "execution_count": 27
        }
      ]
    },
    {
      "cell_type": "code",
      "source": [
        "pares = []\n",
        "for x in lista:\n",
        "  if x % 2 == 0:\n",
        "    pares.append(x)\n",
        "pares"
      ],
      "metadata": {
        "colab": {
          "base_uri": "https://localhost:8080/"
        },
        "id": "2xCzb4GY6j7I",
        "outputId": "93adff5b-67ec-49f1-fb1d-c1b732dfd2bb"
      },
      "execution_count": null,
      "outputs": [
        {
          "output_type": "execute_result",
          "data": {
            "text/plain": [
              "[2, 4, 6, 8, 10]"
            ]
          },
          "metadata": {},
          "execution_count": 29
        }
      ]
    },
    {
      "cell_type": "code",
      "source": [
        "pares = [x for x in lista if x % 2 == 0]\n",
        "pares"
      ],
      "metadata": {
        "colab": {
          "base_uri": "https://localhost:8080/"
        },
        "id": "_rETkf9C6aMz",
        "outputId": "9d135aa7-112a-4cf1-d010-4645589ebabd"
      },
      "execution_count": null,
      "outputs": [
        {
          "output_type": "execute_result",
          "data": {
            "text/plain": [
              "[2, 4, 6, 8, 10]"
            ]
          },
          "metadata": {},
          "execution_count": 30
        }
      ]
    },
    {
      "cell_type": "code",
      "source": [],
      "metadata": {
        "id": "fY354kMLzH4z"
      },
      "execution_count": null,
      "outputs": []
    },
    {
      "cell_type": "code",
      "source": [],
      "metadata": {
        "id": "vhpc9-rHI4yc"
      },
      "execution_count": null,
      "outputs": []
    },
    {
      "cell_type": "markdown",
      "source": [
        "Podemos usar o `else` também :)\n",
        "<br>\n",
        "<br>\n",
        "Imagine que agora queremos dividir por 2 cada elemento par da lista, e multiplicar cada elemento ímpar por 2.\n",
        "<br>\n",
        "<br>\n",
        "Como poderíamos fazer isso com compreensão de lista?"
      ],
      "metadata": {
        "id": "71QLftQGJYeo"
      }
    },
    {
      "cell_type": "code",
      "source": [
        "def divide(x):\n",
        "  return x / 2\n",
        "def multiplica(x):\n",
        "  return x * 2"
      ],
      "metadata": {
        "id": "dO2vrwhP2w4q"
      },
      "execution_count": null,
      "outputs": []
    },
    {
      "cell_type": "code",
      "source": [
        "lista = [1, 2, 3, 4, 5, 6, 7, 8, 9, 10]\n",
        "div_mult = []\n",
        "for x in lista:\n",
        "  if x % 2 == 0:\n",
        "    div_mult.append(divide(x))\n",
        "  else:\n",
        "    div_mult.append(multiplica(x))\n",
        "div_mult"
      ],
      "metadata": {
        "colab": {
          "base_uri": "https://localhost:8080/"
        },
        "id": "-delQ7HCKYJx",
        "outputId": "6278f341-2726-4b7e-b147-325a7b798e6b"
      },
      "execution_count": null,
      "outputs": [
        {
          "output_type": "execute_result",
          "data": {
            "text/plain": [
              "[2, 1.0, 6, 2.0, 10, 3.0, 14, 4.0, 18, 5.0]"
            ]
          },
          "metadata": {},
          "execution_count": 33
        }
      ]
    },
    {
      "cell_type": "code",
      "source": [
        "div_mult = [divide(x) if x % 2 == 0 else multiplica(x) for x in lista]\n",
        "div_mult"
      ],
      "metadata": {
        "colab": {
          "base_uri": "https://localhost:8080/"
        },
        "id": "1tJFCmVd74fq",
        "outputId": "be0c45b3-f916-4208-c5ec-7839014c1713"
      },
      "execution_count": null,
      "outputs": [
        {
          "output_type": "execute_result",
          "data": {
            "text/plain": [
              "[2, 1.0, 6, 2.0, 10, 3.0, 14, 4.0, 18, 5.0]"
            ]
          },
          "metadata": {},
          "execution_count": 35
        }
      ]
    },
    {
      "cell_type": "code",
      "source": [
        "div_mult = [x/2 if x % 2 == 0 else x*2 for x in lista]\n",
        "div_mult"
      ],
      "metadata": {
        "colab": {
          "base_uri": "https://localhost:8080/"
        },
        "id": "WD5A79o08x6R",
        "outputId": "32d25993-6671-4b0d-e2a8-d91efc2ace2e"
      },
      "execution_count": null,
      "outputs": [
        {
          "output_type": "execute_result",
          "data": {
            "text/plain": [
              "[2, 1.0, 6, 2.0, 10, 3.0, 14, 4.0, 18, 5.0]"
            ]
          },
          "metadata": {},
          "execution_count": 36
        }
      ]
    },
    {
      "cell_type": "code",
      "source": [
        "res = [indice ** valor for valor, indice in enumerate(lista)]\n",
        "res"
      ],
      "metadata": {
        "colab": {
          "base_uri": "https://localhost:8080/"
        },
        "id": "OVWNLTnX9Db6",
        "outputId": "74bccd96-c157-49cf-8b7a-54d220babd8c"
      },
      "execution_count": null,
      "outputs": [
        {
          "output_type": "execute_result",
          "data": {
            "text/plain": [
              "[1, 2, 9, 64, 625, 7776, 117649, 2097152, 43046721, 1000000000]"
            ]
          },
          "metadata": {},
          "execution_count": 37
        }
      ]
    },
    {
      "cell_type": "code",
      "source": [
        "[lista[valor] for valor in range(11)]"
      ],
      "metadata": {
        "colab": {
          "base_uri": "https://localhost:8080/",
          "height": 230
        },
        "id": "Gpf2GQyX98Kq",
        "outputId": "b723590b-000a-4ef5-d99c-a423e62f009f"
      },
      "execution_count": null,
      "outputs": [
        {
          "output_type": "error",
          "ename": "IndexError",
          "evalue": "ignored",
          "traceback": [
            "\u001b[0;31m---------------------------------------------------------------------------\u001b[0m",
            "\u001b[0;31mIndexError\u001b[0m                                Traceback (most recent call last)",
            "\u001b[0;32m<ipython-input-42-d76e5770b7a4>\u001b[0m in \u001b[0;36m<cell line: 1>\u001b[0;34m()\u001b[0m\n\u001b[0;32m----> 1\u001b[0;31m \u001b[0;34m[\u001b[0m\u001b[0mlista\u001b[0m\u001b[0;34m[\u001b[0m\u001b[0mvalor\u001b[0m\u001b[0;34m]\u001b[0m \u001b[0;32mfor\u001b[0m \u001b[0mvalor\u001b[0m \u001b[0;32min\u001b[0m \u001b[0mrange\u001b[0m\u001b[0;34m(\u001b[0m\u001b[0;36m11\u001b[0m\u001b[0;34m)\u001b[0m\u001b[0;34m]\u001b[0m\u001b[0;34m\u001b[0m\u001b[0;34m\u001b[0m\u001b[0m\n\u001b[0m",
            "\u001b[0;32m<ipython-input-42-d76e5770b7a4>\u001b[0m in \u001b[0;36m<listcomp>\u001b[0;34m(.0)\u001b[0m\n\u001b[0;32m----> 1\u001b[0;31m \u001b[0;34m[\u001b[0m\u001b[0mlista\u001b[0m\u001b[0;34m[\u001b[0m\u001b[0mvalor\u001b[0m\u001b[0;34m]\u001b[0m \u001b[0;32mfor\u001b[0m \u001b[0mvalor\u001b[0m \u001b[0;32min\u001b[0m \u001b[0mrange\u001b[0m\u001b[0;34m(\u001b[0m\u001b[0;36m11\u001b[0m\u001b[0;34m)\u001b[0m\u001b[0;34m]\u001b[0m\u001b[0;34m\u001b[0m\u001b[0;34m\u001b[0m\u001b[0m\n\u001b[0m",
            "\u001b[0;31mIndexError\u001b[0m: list index out of range"
          ]
        }
      ]
    },
    {
      "cell_type": "code",
      "source": [
        "[valor for valor in lista]"
      ],
      "metadata": {
        "colab": {
          "base_uri": "https://localhost:8080/"
        },
        "id": "oclBVVpn-UtD",
        "outputId": "c5a0e3cf-e0ea-4634-ce6c-2262575920de"
      },
      "execution_count": null,
      "outputs": [
        {
          "output_type": "execute_result",
          "data": {
            "text/plain": [
              "[1, 2, 3, 4, 5, 6, 7, 8, 9, 10]"
            ]
          },
          "metadata": {},
          "execution_count": 41
        }
      ]
    },
    {
      "cell_type": "code",
      "source": [
        "def operacao(x):\n",
        "  if x % 2 == 0:\n",
        "    return x / 2\n",
        "  return x * 2\n",
        "\n",
        "div_mult = [operacao(x) for x in lista]\n",
        "div_mult"
      ],
      "metadata": {
        "colab": {
          "base_uri": "https://localhost:8080/"
        },
        "id": "RDBEzayd8_hL",
        "outputId": "ca9cad54-ad37-4de3-e6e3-fadbeadc1d21"
      },
      "execution_count": null,
      "outputs": [
        {
          "output_type": "execute_result",
          "data": {
            "text/plain": [
              "[2, 1.0, 6, 2.0, 10, 3.0, 14, 4.0, 18, 5.0]"
            ]
          },
          "metadata": {},
          "execution_count": 38
        }
      ]
    },
    {
      "cell_type": "markdown",
      "source": [
        "Fazendo um paralelo com a sintaxe comum e compreensão de listas, temos:"
      ],
      "metadata": {
        "id": "u5Nqb0lFORPL"
      }
    },
    {
      "cell_type": "code",
      "source": [
        "# [expessao(item) for item in lista if condicao(item)]\n",
        "\n",
        "\n",
        "\n",
        "# for item in lista:\n",
        "#  if condicao(item):\n",
        "#     expressao(item)"
      ],
      "metadata": {
        "id": "pJTILnAkOffz"
      },
      "execution_count": null,
      "outputs": []
    },
    {
      "cell_type": "code",
      "source": [
        "# [expressao1(item) if condicao1(item) else condicao2(item) for item in lista]"
      ],
      "metadata": {
        "id": "IMq9IVbROfqo"
      },
      "execution_count": null,
      "outputs": []
    },
    {
      "cell_type": "code",
      "source": [],
      "metadata": {
        "id": "-hRXArv7Ofzp"
      },
      "execution_count": null,
      "outputs": []
    },
    {
      "cell_type": "markdown",
      "source": [
        "Podemos novamente usar funções para modularizar as expressões `x/2` e `x*2`."
      ],
      "metadata": {
        "id": "rAp2Ks3nLj8q"
      }
    },
    {
      "cell_type": "code",
      "source": [],
      "metadata": {
        "id": "v7uuSN6tNu50"
      },
      "execution_count": null,
      "outputs": []
    },
    {
      "cell_type": "markdown",
      "source": [
        "### Aninhamento de expressões\n",
        "<br>\n",
        "<br>\n",
        "Podemos criar expressões aninhadas, assim como fazemos na sintaxe comum do python.\n",
        "<br>\n",
        "<br>\n",
        "Exemplo: Imagine que você tenha duas listas: uma com nomes e outra com sobrenomes e você tenha a missão de combinar **todos** os possíveis sobrenomes para cada nome.\n",
        "<br>\n",
        "<br>\n",
        "Como você resolveria este problema usando uma sintaxe comum?\n",
        "<br>\n",
        "<br>\n",
        "E com compreensão de listas?\n",
        "\n",
        "\n",
        "\n",
        "\n"
      ],
      "metadata": {
        "id": "0c3ZzrvjOOwB"
      }
    },
    {
      "cell_type": "code",
      "source": [
        "nomes = [\"Ana\", \"João\", \"Maria\"]\n",
        "sobrenomes = [\"Silva\", \"Oliveira\"]"
      ],
      "metadata": {
        "id": "kpPBcyAYPf3k"
      },
      "execution_count": null,
      "outputs": []
    },
    {
      "cell_type": "code",
      "source": [
        "nome_sobrenome = []\n",
        "for nome in nomes:\n",
        "  for sobrenome in sobrenomes:\n",
        "    nome_sobrenome.append(nome + \" \" + sobrenome)\n",
        "print(nome_sobrenome)"
      ],
      "metadata": {
        "colab": {
          "base_uri": "https://localhost:8080/"
        },
        "id": "6s4u4ky6OJlh",
        "outputId": "5e8b8bcc-cd22-4a8e-c41c-bf4b6257998c"
      },
      "execution_count": null,
      "outputs": [
        {
          "output_type": "stream",
          "name": "stdout",
          "text": [
            "['Ana Silva', 'Ana Oliveira', 'João Silva', 'João Oliveira', 'Maria Silva', 'Maria Oliveira']\n"
          ]
        }
      ]
    },
    {
      "cell_type": "code",
      "source": [
        "[nome + \" \" + sobrenome for nome in nomes for sobrenome in sobrenomes]"
      ],
      "metadata": {
        "colab": {
          "base_uri": "https://localhost:8080/"
        },
        "id": "0bVknmp_PtKd",
        "outputId": "11958fe3-3173-4850-a667-6e1f79419c57"
      },
      "execution_count": null,
      "outputs": [
        {
          "output_type": "execute_result",
          "data": {
            "text/plain": [
              "['Ana Silva',\n",
              " 'Ana Oliveira',\n",
              " 'João Silva',\n",
              " 'João Oliveira',\n",
              " 'Maria Silva',\n",
              " 'Maria Oliveira']"
            ]
          },
          "metadata": {},
          "execution_count": 46
        }
      ]
    },
    {
      "cell_type": "code",
      "source": [
        "[nome + \" \" + sobrenome for sobrenome in sobrenomes for nome in nomes]"
      ],
      "metadata": {
        "colab": {
          "base_uri": "https://localhost:8080/"
        },
        "id": "LaSk-9e4_JxN",
        "outputId": "6b9b10cc-4b36-4949-ded1-7bab75d2cf9f"
      },
      "execution_count": null,
      "outputs": [
        {
          "output_type": "execute_result",
          "data": {
            "text/plain": [
              "['Ana Silva',\n",
              " 'João Silva',\n",
              " 'Maria Silva',\n",
              " 'Ana Oliveira',\n",
              " 'João Oliveira',\n",
              " 'Maria Oliveira']"
            ]
          },
          "metadata": {},
          "execution_count": 47
        }
      ]
    },
    {
      "cell_type": "code",
      "source": [
        "roupas = [\"calça\", \"blusa\", \"vestido\"]\n",
        "cores = [\"vermelho\", \"amarelo\", \"azul\"]\n",
        "\n",
        "[roupa + \" \" + cor for roupa in roupas for cor in cores]"
      ],
      "metadata": {
        "colab": {
          "base_uri": "https://localhost:8080/"
        },
        "id": "PBVK4GaE66cU",
        "outputId": "3ac78025-edc5-472f-ff3e-11d9333e49ed"
      },
      "execution_count": null,
      "outputs": [
        {
          "output_type": "execute_result",
          "data": {
            "text/plain": [
              "['calça vermelho',\n",
              " 'calça amarelo',\n",
              " 'calça azul',\n",
              " 'blusa vermelho',\n",
              " 'blusa amarelo',\n",
              " 'blusa azul',\n",
              " 'vestido vermelho',\n",
              " 'vestido amarelo',\n",
              " 'vestido azul']"
            ]
          },
          "metadata": {},
          "execution_count": 48
        }
      ]
    },
    {
      "cell_type": "code",
      "source": [
        "for roupa in roupas:\n",
        "  for cor in cores:\n",
        "    print(roupa + \" \" + cor)"
      ],
      "metadata": {
        "colab": {
          "base_uri": "https://localhost:8080/"
        },
        "id": "a85wc7KNAO4X",
        "outputId": "7005baf6-898c-4c60-c1e0-fa8755bd3400"
      },
      "execution_count": null,
      "outputs": [
        {
          "output_type": "stream",
          "name": "stdout",
          "text": [
            "calça vermelho\n",
            "calça amarelo\n",
            "calça azul\n",
            "blusa vermelho\n",
            "blusa amarelo\n",
            "blusa azul\n",
            "vestido vermelho\n",
            "vestido amarelo\n",
            "vestido azul\n"
          ]
        }
      ]
    },
    {
      "cell_type": "code",
      "source": [
        "[roupa + \" \" + cor for roupa, cor in zip(roupas, cores)]"
      ],
      "metadata": {
        "colab": {
          "base_uri": "https://localhost:8080/"
        },
        "id": "8ZJNFkJMAslU",
        "outputId": "4edd42b0-6e83-4792-f2cb-570a6d6dd3fa"
      },
      "execution_count": null,
      "outputs": [
        {
          "output_type": "execute_result",
          "data": {
            "text/plain": [
              "['calça vermelho', 'blusa amarelo', 'vestido azul']"
            ]
          },
          "metadata": {},
          "execution_count": 50
        }
      ]
    },
    {
      "cell_type": "code",
      "source": [],
      "metadata": {
        "id": "UGK9aFqBRGRC"
      },
      "execution_count": null,
      "outputs": []
    },
    {
      "cell_type": "code",
      "source": [
        "# exercicio\n",
        "nomes = [\"Ana\", \"João\", \"Maria\"]\n",
        "nome_meios = [\"da\", \"de\"]\n",
        "final_nomes = [\"Silva\", \"Oliveira\"]"
      ],
      "metadata": {
        "id": "LbkMYvhH8QQ6"
      },
      "execution_count": null,
      "outputs": []
    },
    {
      "cell_type": "code",
      "source": [
        "[nome + \" \" + nome_meio + \" \" + final_nome for nome in nomes for nome_meio in nome_meios for final_nome in final_nomes ]"
      ],
      "metadata": {
        "id": "FJwc800S8cTG",
        "colab": {
          "base_uri": "https://localhost:8080/"
        },
        "outputId": "d815e9de-4273-4d15-be90-47964cccf2a3"
      },
      "execution_count": null,
      "outputs": [
        {
          "output_type": "execute_result",
          "data": {
            "text/plain": [
              "['Ana da Silva',\n",
              " 'Ana da Oliveira',\n",
              " 'Ana de Silva',\n",
              " 'Ana de Oliveira',\n",
              " 'João da Silva',\n",
              " 'João da Oliveira',\n",
              " 'João de Silva',\n",
              " 'João de Oliveira',\n",
              " 'Maria da Silva',\n",
              " 'Maria da Oliveira',\n",
              " 'Maria de Silva',\n",
              " 'Maria de Oliveira']"
            ]
          },
          "metadata": {},
          "execution_count": 2
        }
      ]
    },
    {
      "cell_type": "markdown",
      "source": [
        "### Compreensão de dicionários\n",
        "\n",
        "\n",
        "Da mesma forma que podemos criar compreensão de listas, podemos criar para dicionários. O que muda é que com dicionários, precisamos obrigatoriamente, informar **chave-valor**\n",
        "<br>\n",
        "<br>\n",
        "\n",
        "Imagine que você tenha uma lista de nomes e outra de médias de notas, e que precise criar uma dicionário com estas informações usando compreensão de dicionário...\n",
        "\n",
        "O exemplo abaixo resolveria o problema :)"
      ],
      "metadata": {
        "id": "AYvEpm5rRGus"
      }
    },
    {
      "cell_type": "code",
      "source": [
        "nomes = [\"João\", \"Silvia\", \"Ana\"]\n",
        "medias = [5.7, 8.0, 9.0]"
      ],
      "metadata": {
        "id": "m1vwADFQTErM"
      },
      "execution_count": null,
      "outputs": []
    },
    {
      "cell_type": "code",
      "source": [],
      "metadata": {
        "id": "pWR1NEa19V7j"
      },
      "execution_count": null,
      "outputs": []
    },
    {
      "cell_type": "code",
      "source": [
        "{nomes[i]:medias[i] for i in range(len(nomes))}"
      ],
      "metadata": {
        "colab": {
          "base_uri": "https://localhost:8080/"
        },
        "id": "OkXjBH7oTZE8",
        "outputId": "ad34b112-9efe-47f8-ba9b-8f51dafd3a12"
      },
      "execution_count": null,
      "outputs": [
        {
          "output_type": "execute_result",
          "data": {
            "text/plain": [
              "{'João': 5.7, 'Silvia': 8.0, 'Ana': 9.0}"
            ]
          },
          "metadata": {},
          "execution_count": 5
        }
      ]
    },
    {
      "cell_type": "code",
      "source": [
        "# podemos fazer de outra forma?\n",
        "{nome:media for nome, media in zip(nomes, medias)}"
      ],
      "metadata": {
        "id": "ej0csgAET6fa",
        "colab": {
          "base_uri": "https://localhost:8080/"
        },
        "outputId": "5002b169-6427-4184-e6f6-6b202d676148"
      },
      "execution_count": null,
      "outputs": [
        {
          "output_type": "execute_result",
          "data": {
            "text/plain": [
              "{'João': 5.7, 'Silvia': 8.0, 'Ana': 9.0}"
            ]
          },
          "metadata": {},
          "execution_count": 6
        }
      ]
    },
    {
      "cell_type": "code",
      "source": [
        "{nome:media for nome, media in zip(nomes, medias) if media >= 6}"
      ],
      "metadata": {
        "id": "DiaxAutE-XJ2",
        "colab": {
          "base_uri": "https://localhost:8080/"
        },
        "outputId": "6464a336-2fbf-458b-af83-36321ea893b0"
      },
      "execution_count": null,
      "outputs": [
        {
          "output_type": "execute_result",
          "data": {
            "text/plain": [
              "{'Silvia': 8.0, 'Ana': 9.0}"
            ]
          },
          "metadata": {},
          "execution_count": 10
        }
      ]
    },
    {
      "cell_type": "code",
      "source": [
        "{nome:media if media >= 6 else media / 2 for nome, media in zip(nomes, medias)}"
      ],
      "metadata": {
        "id": "BgmysJCo_Gzi",
        "colab": {
          "base_uri": "https://localhost:8080/"
        },
        "outputId": "a582f8e1-8b8b-4878-fd2b-f1febc02db8c"
      },
      "execution_count": null,
      "outputs": [
        {
          "output_type": "execute_result",
          "data": {
            "text/plain": [
              "{'João': 2.85, 'Silvia': 8.0, 'Ana': 9.0}"
            ]
          },
          "metadata": {},
          "execution_count": 8
        }
      ]
    },
    {
      "cell_type": "markdown",
      "source": [
        "## Exercícios\n",
        "\n",
        "1. Faça um programa em python que receba uma frase, e crie uma lista com apenas as palavras que comecem com a letra \"a\". Caso não exista palavras que se iniciam com letra \"a\", imprima uma lista vazia.  "
      ],
      "metadata": {
        "id": "PfSGPTmiWrCX"
      }
    },
    {
      "cell_type": "code",
      "source": [
        "frase = \"amor de amores amados\""
      ],
      "metadata": {
        "id": "SanG0i5vJO8N"
      },
      "execution_count": null,
      "outputs": []
    },
    {
      "cell_type": "code",
      "source": [
        "def palavras_com_a(frase):\n",
        "  palavras = frase.split()\n",
        "\n",
        "  palavras_a = []\n",
        "\n",
        "  for palavra in palavras:\n",
        "      if palavra[0] == 'a' or palavra[0] == 'A':\n",
        "        palavras_a.append(palavra)\n",
        "\n",
        "  if palavras_a:\n",
        "      return palavras_a\n",
        "  else:\n",
        "      return []"
      ],
      "metadata": {
        "id": "a4-utjDAZc6W"
      },
      "execution_count": null,
      "outputs": []
    },
    {
      "cell_type": "code",
      "source": [
        "palavras_com_a(frase)"
      ],
      "metadata": {
        "id": "i4i3BbBh-HHr",
        "colab": {
          "base_uri": "https://localhost:8080/"
        },
        "outputId": "8c022524-5ef5-457c-e2be-3a421fedbfd3"
      },
      "execution_count": null,
      "outputs": [
        {
          "output_type": "execute_result",
          "data": {
            "text/plain": [
              "['amor', 'amores', 'amados']"
            ]
          },
          "metadata": {},
          "execution_count": 6
        }
      ]
    },
    {
      "cell_type": "code",
      "source": [
        "resultado = [palavra for palavra in frase.split(\" \") if palavra[0].lower() == 'a']\n",
        "resultado"
      ],
      "metadata": {
        "id": "jyQ7tef59f1D",
        "colab": {
          "base_uri": "https://localhost:8080/"
        },
        "outputId": "69ee086e-5c2c-4410-9a83-e923aa244f70"
      },
      "execution_count": null,
      "outputs": [
        {
          "output_type": "execute_result",
          "data": {
            "text/plain": [
              "['amor', 'amores', 'amados']"
            ]
          },
          "metadata": {},
          "execution_count": 7
        }
      ]
    },
    {
      "cell_type": "markdown",
      "source": [
        "2. Faça um programa em python que receba uma **lista** de alunos e suas respectivas notas em uma disciplina qualquer, e usando **compreensão de dicionários**, filtre apenas os alunos que obtiveram nota superior ou igual a 7.0. **Observação:** tanto os elementos da lista  recebida, quanto os elementos retornados, deverão ser um dicionário.\n"
      ],
      "metadata": {
        "id": "akVkxo6sYAfJ"
      }
    },
    {
      "cell_type": "code",
      "source": [
        "alunos = ['João', 'Marcia', 'Carol', 'Bruna']\n",
        "notas = [6, 8, 9, 3]\n",
        "\n",
        "dict_entrada = dict(zip(alunos, notas))\n",
        "dict_entrada"
      ],
      "metadata": {
        "colab": {
          "base_uri": "https://localhost:8080/"
        },
        "id": "VNSWj7c3BGsp",
        "outputId": "a5fe243c-c7f2-44ec-aa8d-73d7aed16576"
      },
      "execution_count": null,
      "outputs": [
        {
          "output_type": "execute_result",
          "data": {
            "text/plain": [
              "{'João': 6, 'Marcia': 8, 'Carol': 9, 'Bruna': 3}"
            ]
          },
          "metadata": {},
          "execution_count": 8
        }
      ]
    },
    {
      "cell_type": "code",
      "source": [
        "dict_entrada = {aluno:nota for aluno, nota in zip(alunos, notas)}\n",
        "dict_entrada"
      ],
      "metadata": {
        "colab": {
          "base_uri": "https://localhost:8080/"
        },
        "id": "KX7zDQOzBp1H",
        "outputId": "701e2e80-b340-4934-af01-5c08aa71af49"
      },
      "execution_count": null,
      "outputs": [
        {
          "output_type": "execute_result",
          "data": {
            "text/plain": [
              "{'João': 6, 'Marcia': 8, 'Carol': 9, 'Bruna': 3}"
            ]
          },
          "metadata": {},
          "execution_count": 9
        }
      ]
    },
    {
      "cell_type": "code",
      "source": [
        "dict_saida = {aluno:nota for aluno, nota in dict_entrada.items() if nota >= 7}\n",
        "dict_saida"
      ],
      "metadata": {
        "colab": {
          "base_uri": "https://localhost:8080/"
        },
        "id": "d6BV2b-3CCwX",
        "outputId": "718ce986-a18d-45eb-f8d6-f6767e28c2ab"
      },
      "execution_count": null,
      "outputs": [
        {
          "output_type": "execute_result",
          "data": {
            "text/plain": [
              "{'Marcia': 8, 'Carol': 9}"
            ]
          },
          "metadata": {},
          "execution_count": 10
        }
      ]
    },
    {
      "cell_type": "code",
      "source": [
        "dict_saida = {aluno:dict_entrada[aluno] for aluno in dict_entrada.keys() if dict_entrada[aluno] >= 7}\n",
        "dict_saida"
      ],
      "metadata": {
        "colab": {
          "base_uri": "https://localhost:8080/"
        },
        "id": "iOL4JM5UDlsS",
        "outputId": "7f0dbf0c-adff-4d43-d836-14a985175a06"
      },
      "execution_count": null,
      "outputs": [
        {
          "output_type": "execute_result",
          "data": {
            "text/plain": [
              "{'Marcia': 8, 'Carol': 9}"
            ]
          },
          "metadata": {},
          "execution_count": 29
        }
      ]
    },
    {
      "cell_type": "code",
      "source": [
        "lista_alunos = [\n",
        "    {'nome': 'João', 'nota': 8.5},\n",
        "    {'nome': 'Marcia', 'nota': 6.2},\n",
        "    {'nome': 'Carol', 'nota': 7.8},\n",
        "    {'nome': 'Bruna', 'nota': 9.3},\n",
        "    {'nome': 'Pedro', 'nota': 5.5}\n",
        "]"
      ],
      "metadata": {
        "id": "rI8AV2B6ZbZt"
      },
      "execution_count": null,
      "outputs": []
    },
    {
      "cell_type": "code",
      "source": [
        "def filtrar_alunos_aprovados(lista_alunos):\n",
        "    alunos_aprovados = [aluno for aluno in lista_alunos if aluno['nota'] >= 7.0]\n",
        "    return alunos_aprovados"
      ],
      "metadata": {
        "id": "WAOFIEsKBIGt"
      },
      "execution_count": null,
      "outputs": []
    },
    {
      "cell_type": "code",
      "source": [
        "filtrar_alunos_aprovados(lista_alunos)"
      ],
      "metadata": {
        "colab": {
          "base_uri": "https://localhost:8080/"
        },
        "id": "DMR_H6-qOYKe",
        "outputId": "2b953540-4d34-4c6e-9912-b1ae621715f2"
      },
      "execution_count": null,
      "outputs": [
        {
          "output_type": "execute_result",
          "data": {
            "text/plain": [
              "[{'nome': 'João', 'nota': 8.5},\n",
              " {'nome': 'Carol', 'nota': 7.8},\n",
              " {'nome': 'Bruna', 'nota': 9.3}]"
            ]
          },
          "metadata": {},
          "execution_count": 28
        }
      ]
    },
    {
      "cell_type": "markdown",
      "source": [
        "3. Ampliando um pouco a resolução do exercício anterior, faça um programa em python que receba uma lista de alunos e suas respectivas notas em uma disciplina qualquer, e usando compreensão de listas, e classifique os alunos de acordo com suas respectivas notas. Se o aluno obtiver nota superior ou igual a 7.0, classifique-o como **aprovado**. Caso contrário, classifique-o como **reprovado**. Observação: tanto os elementos da lista recebida, quanto os elementos retornados, deverão ser um dicionário."
      ],
      "metadata": {
        "id": "3tNcyfYiZk5R"
      }
    },
    {
      "cell_type": "code",
      "source": [
        "nomes = [\"João\", \"Silvia\", \"Ana\"]\n",
        "medias = [5.7, 8.0, 9.0]"
      ],
      "metadata": {
        "id": "eknmGbRlaCQ-"
      },
      "execution_count": null,
      "outputs": []
    },
    {
      "cell_type": "code",
      "source": [
        "# {\"expressão_verdadeora\" if \"condição\" else \"expressão_contraria\" for --, -- in ----}\n",
        "dict_entrada = dict(zip(nomes, medias))\n",
        "dict_saida = {nome: \"aprovado\" if media >= 7 else \"reprovado\" for nome, media in zip(nomes, medias)}\n",
        "dict_saida"
      ],
      "metadata": {
        "colab": {
          "base_uri": "https://localhost:8080/"
        },
        "id": "FOPkdVLIP8DO",
        "outputId": "aa5bb86d-c2ce-4cda-f43e-09b67333bfa1"
      },
      "execution_count": null,
      "outputs": [
        {
          "output_type": "execute_result",
          "data": {
            "text/plain": [
              "{'João': 'reprovado', 'Silvia': 'aprovado', 'Ana': 'aprovado'}"
            ]
          },
          "metadata": {},
          "execution_count": 33
        }
      ]
    },
    {
      "cell_type": "code",
      "source": [
        "{nome: \"Aprovado\" if media >= 7 else \"reprovado\" for nome, media in zip(nomes, medias)}"
      ],
      "metadata": {
        "colab": {
          "base_uri": "https://localhost:8080/"
        },
        "id": "TjIjClMyFbPx",
        "outputId": "32f0d9dc-bcf0-4096-eadc-90711c5052ef"
      },
      "execution_count": null,
      "outputs": [
        {
          "output_type": "execute_result",
          "data": {
            "text/plain": [
              "{'João': 'reprovado', 'Silvia': 'Aprovado', 'Ana': 'Aprovado'}"
            ]
          },
          "metadata": {},
          "execution_count": 34
        }
      ]
    }
  ]
}