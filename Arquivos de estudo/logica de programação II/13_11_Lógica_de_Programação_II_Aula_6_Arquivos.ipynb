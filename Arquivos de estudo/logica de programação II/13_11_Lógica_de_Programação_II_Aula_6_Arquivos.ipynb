{
  "nbformat": 4,
  "nbformat_minor": 0,
  "metadata": {
    "colab": {
      "provenance": [],
      "collapsed_sections": [
        "QAnItBgO_LUz",
        "sSROnN9glKrC"
      ]
    },
    "kernelspec": {
      "name": "python3",
      "display_name": "Python 3"
    },
    "language_info": {
      "name": "python"
    }
  },
  "cells": [
    {
      "cell_type": "markdown",
      "source": [
        "## 📍 Agenda 📍\n",
        "<br>\n",
        "\n",
        "- [Arquivos](#um)\n",
        "- [Exercícios](#dois)"
      ],
      "metadata": {
        "id": "QAnItBgO_LUz"
      }
    },
    {
      "cell_type": "markdown",
      "source": [
        "## Arquivos <a class=\"anchor\" id=\"um\"></a>\n",
        "<br>\n",
        "\n",
        "Até o presente momento deste módulo, trabalhamos apenas com dados em memória de trabalho (ou princial... RAM). Exemplos disso são os famosos input's que solicitávamos ao usuário, a cada execução do código. Não é mesmo?\n",
        "<br>\n",
        "<br>\n",
        "Porém, e se precisássemos de **persistir** ou recuperar esses dados a partir de um arquivo salvo em nosso computador?\n",
        "<br>\n",
        "<br>\n",
        "Na aula de hoje, vamos aprender a manipular alguns tipos de arquivos de dados a partir do python, e entender um pouco mais do conceito de **persistência** em disco.\n",
        "<div align=\"justify\">\n",
        "&emsp;\n",
        "</div>\n",
        "<br>"
      ],
      "metadata": {
        "id": "5OCDQOvZKQy2"
      }
    },
    {
      "cell_type": "markdown",
      "source": [
        "### Abrindo e fechando arquivos.\n",
        "\n",
        "\n",
        "Para a manipular (abrir) arquivos em python, podemos utilizar a função **open**. Ela possui dois argumentos: **caminho do arquivo** e **modo de operação a ser realizada no arquivo**.\n",
        "<br>\n",
        "<br>\n",
        "Vejamos alguns modos e suas respectivas descrições.\n",
        "\n",
        "| **Modo**  | **Símbolo** | **Descrição** |\n",
        "|---|---|---|\n",
        "| read | r | Lê um arquivo existente |\n",
        "| write | w | Cria um novo arquivo |\n",
        "| append | a | Abre um arquivo existente para adicionar informações ao seu final |\n",
        "| update | + | ao ser combinado com outros modos, permite alteração de arquivos já existente (ex: r+ abre um arquivo existente e permite modificá-lo)|\n",
        "\n",
        "<br>\n",
        "<br>\n",
        "Uma vez que um arquivo é aberto com a função **open**, e manipulado, devemos fechá-lo para que as modificações sejam consolidadas, e que outros programas possam utilizar o arquivo alterado. Para isso, usamos a função **close**."
      ],
      "metadata": {
        "id": "_W3KGvTXZl2l"
      }
    },
    {
      "cell_type": "code",
      "source": [
        "# escrevendo em um arquivo\n",
        "arquivo = open(\"hello.txt\", \"w\")\n",
        "arquivo.write(\"Hello World!\")\n",
        "arquivo.close()"
      ],
      "metadata": {
        "id": "aUe-xeI9c8Ng"
      },
      "execution_count": null,
      "outputs": []
    },
    {
      "cell_type": "code",
      "source": [
        "# exemplo com loop\n",
        "lista = list(range(10))\n",
        "arquivo = open(\"hello.txt\", \"w\")\n",
        "for elemento in lista:\n",
        "  arquivo.write(f\"{elemento}\\n\")\n",
        "arquivo.close()"
      ],
      "metadata": {
        "id": "UeqCb7D8edT2"
      },
      "execution_count": null,
      "outputs": []
    },
    {
      "cell_type": "code",
      "source": [
        "lista = list(range(10))\n",
        "arquivo = open(\"hello.txt\", \"a\")\n",
        "for elemento in lista:\n",
        "  arquivo.write(f\"{elemento}\\n\")\n",
        "arquivo.close()"
      ],
      "metadata": {
        "id": "arZNmRCw_3bk"
      },
      "execution_count": null,
      "outputs": []
    },
    {
      "cell_type": "code",
      "source": [
        "lista = [str(x) for x in lista]\n",
        "print(\"\\n\".join(lista))"
      ],
      "metadata": {
        "colab": {
          "base_uri": "https://localhost:8080/"
        },
        "id": "d6MWNpDKADSD",
        "outputId": "e64c9444-39c4-4c6d-9db7-e93a9754a7d4"
      },
      "execution_count": null,
      "outputs": [
        {
          "output_type": "stream",
          "name": "stdout",
          "text": [
            "0\n",
            "1\n",
            "2\n",
            "3\n",
            "4\n",
            "5\n",
            "6\n",
            "7\n",
            "8\n",
            "9\n"
          ]
        }
      ]
    },
    {
      "cell_type": "code",
      "source": [
        "# exemplo de lista escrita com loop e writelines\n",
        "arquivo = open(\"lista2.txt\", \"w\")\n",
        "arquivo.writelines(\"\\n\".join(lista))\n",
        "arquivo.close()"
      ],
      "metadata": {
        "id": "QcL5ClEAYNX0"
      },
      "execution_count": null,
      "outputs": []
    },
    {
      "cell_type": "markdown",
      "source": [],
      "metadata": {
        "id": "vhGsBlg3BMO0"
      }
    },
    {
      "cell_type": "code",
      "source": [],
      "metadata": {
        "id": "A76bewH7Yuve"
      },
      "execution_count": null,
      "outputs": []
    },
    {
      "cell_type": "code",
      "source": [
        "arquivo = open(\"lista2.txt\", \"w\")\n",
        "arquivo.writelines(\"\\n\".join(lista))\n",
        "arquivo.close()"
      ],
      "metadata": {
        "id": "qRUA9D0LX2rM"
      },
      "execution_count": null,
      "outputs": []
    },
    {
      "cell_type": "code",
      "source": [
        "# lendo o conteúdo de um arquivo\n",
        "arquivo = open(\"lista2.txt\", \"r\")\n",
        "print(arquivo.read())\n",
        "arquivo.close()"
      ],
      "metadata": {
        "id": "e1WKcG27eXyi",
        "colab": {
          "base_uri": "https://localhost:8080/"
        },
        "outputId": "7a242c64-fcb5-4ec5-b05d-56bab8a8760f"
      },
      "execution_count": null,
      "outputs": [
        {
          "output_type": "stream",
          "name": "stdout",
          "text": [
            "0\n",
            "1\n",
            "2\n",
            "3\n",
            "4\n",
            "5\n",
            "6\n",
            "7\n",
            "8\n",
            "9\n"
          ]
        }
      ]
    },
    {
      "cell_type": "code",
      "source": [
        "# exemplo com loop - readlines()\n",
        "arquivo = open(\"lista2.txt\", \"r\")\n",
        "linhas = arquivo.readlines()\n",
        "for linha in linhas:\n",
        "  print(linha)\n",
        "arquivo.close()"
      ],
      "metadata": {
        "id": "5kAV6D1ke2is",
        "colab": {
          "base_uri": "https://localhost:8080/"
        },
        "outputId": "21cf6596-4d22-4b79-e1e3-ca8318f30364"
      },
      "execution_count": null,
      "outputs": [
        {
          "output_type": "stream",
          "name": "stdout",
          "text": [
            "0\n",
            "\n",
            "1\n",
            "\n",
            "2\n",
            "\n",
            "3\n",
            "\n",
            "4\n",
            "\n",
            "5\n",
            "\n",
            "6\n",
            "\n",
            "7\n",
            "\n",
            "8\n",
            "\n",
            "9\n"
          ]
        }
      ]
    },
    {
      "cell_type": "markdown",
      "source": [
        "### Gerenciador de contexto\n",
        "\n",
        "Note que com as instruções definidas anteriormente, sempre que abrimos um arquivo com a função **open**, devemos fechar com a função **close**. Porém, se o programador se esquecer de fechar o arquivo, todo o conteúdo (re)escrito no arquivo pode ser perdido.\n",
        "<br>\n",
        "<br>\n",
        "Neste sentido, temos uma forma mais segura de manipular arquivos que utilizando um **gerenciador de contexto** com o comando **with**.\n",
        "<br>\n",
        "<br>\n",
        "Vejamos alguns exemplos:"
      ],
      "metadata": {
        "id": "2N-DJJJWe7Gu"
      }
    },
    {
      "cell_type": "code",
      "source": [
        "# lendo em um arquivo\n",
        "with open(\"hello.txt\", \"r\") as arquivo:\n",
        "  c = arquivo.read()\n",
        "print(c)"
      ],
      "metadata": {
        "id": "Ov8al_Dce0-Z",
        "colab": {
          "base_uri": "https://localhost:8080/"
        },
        "outputId": "26a0f1c1-19dd-418a-ad05-3225af7b4e93"
      },
      "execution_count": null,
      "outputs": [
        {
          "output_type": "stream",
          "name": "stdout",
          "text": [
            "0\n",
            "1\n",
            "2\n",
            "3\n",
            "4\n",
            "5\n",
            "6\n",
            "7\n",
            "8\n",
            "9\n",
            "0\n",
            "1\n",
            "2\n",
            "3\n",
            "4\n",
            "5\n",
            "6\n",
            "7\n",
            "8\n",
            "9\n",
            "0\n",
            "1\n",
            "2\n",
            "3\n",
            "4\n",
            "5\n",
            "6\n",
            "7\n",
            "8\n",
            "9\n",
            "\n"
          ]
        }
      ]
    },
    {
      "cell_type": "code",
      "source": [
        "with open(\"hello.txt\", \"r\") as arquivo:\n",
        "  c = arquivo.read()\n",
        "  print(c.replace('\\n', ' '))\n",
        "  lista = c.replace('\\n', ' ').split()\n",
        "  print(lista)"
      ],
      "metadata": {
        "colab": {
          "base_uri": "https://localhost:8080/"
        },
        "id": "jfp6TLshCr2H",
        "outputId": "08711181-1417-4952-c255-55fec0121a0a"
      },
      "execution_count": null,
      "outputs": [
        {
          "output_type": "stream",
          "name": "stdout",
          "text": [
            "0 1 2 3 4 5 6 7 8 9 0 1 2 3 4 5 6 7 8 9 0 1 2 3 4 5 6 7 8 9 \n",
            "['0', '1', '2', '3', '4', '5', '6', '7', '8', '9', '0', '1', '2', '3', '4', '5', '6', '7', '8', '9', '0', '1', '2', '3', '4', '5', '6', '7', '8', '9']\n"
          ]
        }
      ]
    },
    {
      "cell_type": "code",
      "source": [
        "c"
      ],
      "metadata": {
        "colab": {
          "base_uri": "https://localhost:8080/",
          "height": 35
        },
        "id": "iVYab6l9DFNN",
        "outputId": "f892e8bf-98be-4642-bb78-c452f4d917bd"
      },
      "execution_count": null,
      "outputs": [
        {
          "output_type": "execute_result",
          "data": {
            "text/plain": [
              "'0\\n1\\n2\\n3\\n4\\n5\\n6\\n7\\n8\\n9\\n0\\n1\\n2\\n3\\n4\\n5\\n6\\n7\\n8\\n9\\n0\\n1\\n2\\n3\\n4\\n5\\n6\\n7\\n8\\n9\\n'"
            ],
            "application/vnd.google.colaboratory.intrinsic+json": {
              "type": "string"
            }
          },
          "metadata": {},
          "execution_count": 37
        }
      ]
    },
    {
      "cell_type": "code",
      "source": [
        "# escrevendo de um arquivo\n",
        "with open(\"arquivo.txt\", \"w\") as f:\n",
        "  f.write(\"arquivo qualquer\")"
      ],
      "metadata": {
        "id": "hVfwfUdjgEX7"
      },
      "execution_count": null,
      "outputs": []
    },
    {
      "cell_type": "markdown",
      "source": [
        "### Arquivos CSV\n",
        "\n",
        "\n",
        "Muitos dados interessantes ou importantes estão disponíveis na forma de tabela. A capacidade de manipular planilhas foi determinante no sucesso dos computadores pessoais, dada sua importância para empresas e indivíduos.\n",
        "\n",
        "#### Tabelas em python\n",
        "\n",
        "Conforme já mencionamos, temos módulos prontos para realizar muitas tarefas para nós. Um dos módulos mais populares em Python é o pandas, que mesmo não vindo instalado por padrão é provavelmente o módulo mais usado para manipular planilhas. Porém, como este é um curso introdutório, convém entendermos um pouquinho de lógica de como manipular uma tabela para futuramente sermos capazes de trabalhar corretamente com os módulos prontos.\n",
        "<br>\n",
        "<br>\n",
        "Uma das formas mais simples de se representar uma tabela em Python seria através de uma lista de listas. Nossa lista principal seria a tabela como um todo, e cada lista interna seria uma linha da tabela.\n",
        "<br>\n",
        "<br>\n",
        "Para acessar um elemento individual, utilizamos 2 índices: o primeiro indica a lista interna (linha) e o segundo o elemento individual na lista (coluna). Para percorrer a tabela inteira, utilizamos 2 for aninhados: o mais externo fixa uma linha e o mais interno percorre cada elemento daquela linha. Execute o código abaixo e verifique o resultado mostrado na tela."
      ],
      "metadata": {
        "id": "PR1DhAUuj7B2"
      }
    },
    {
      "cell_type": "code",
      "source": [
        "tabela = [['Aluno', 'Nota 1', 'Nota 2', 'Presenças'],\n",
        "          ['Luke', 7, 9, 15],\n",
        "          ['Han', 4, 7, 10],\n",
        "          ['Leia', 9, 9, 16]]"
      ],
      "metadata": {
        "id": "q15J4BdykSQZ"
      },
      "execution_count": null,
      "outputs": []
    },
    {
      "cell_type": "code",
      "source": [
        "tabela"
      ],
      "metadata": {
        "colab": {
          "base_uri": "https://localhost:8080/"
        },
        "id": "-9m_ZkzEDvcl",
        "outputId": "cb6726fd-1e5e-47a1-8a34-6f51a6de7906"
      },
      "execution_count": null,
      "outputs": [
        {
          "output_type": "execute_result",
          "data": {
            "text/plain": [
              "[['Aluno', 'Nota 1', 'Nota 2', 'Presenças'],\n",
              " ['Luke', 7, 9, 15],\n",
              " ['Han', 4, 7, 10],\n",
              " ['Leia', 9, 9, 16]]"
            ]
          },
          "metadata": {},
          "execution_count": 40
        }
      ]
    },
    {
      "cell_type": "code",
      "source": [
        "tabela[0][1]"
      ],
      "metadata": {
        "colab": {
          "base_uri": "https://localhost:8080/",
          "height": 35
        },
        "id": "QDSOdIDcDxbG",
        "outputId": "93b2b392-75cf-41b6-ba1a-9c7458fc89fd"
      },
      "execution_count": null,
      "outputs": [
        {
          "output_type": "execute_result",
          "data": {
            "text/plain": [
              "'Nota 1'"
            ],
            "application/vnd.google.colaboratory.intrinsic+json": {
              "type": "string"
            }
          },
          "metadata": {},
          "execution_count": 41
        }
      ]
    },
    {
      "cell_type": "code",
      "source": [
        "for linha in tabela:\n",
        "  print(linha)"
      ],
      "metadata": {
        "colab": {
          "base_uri": "https://localhost:8080/"
        },
        "id": "fed17pBDD7rQ",
        "outputId": "3d10f206-3ad7-4be5-9453-d116fea4a026"
      },
      "execution_count": null,
      "outputs": [
        {
          "output_type": "stream",
          "name": "stdout",
          "text": [
            "['Aluno', 'Nota 1', 'Nota 2', 'Presenças']\n",
            "['Luke', 7, 9, 15]\n",
            "['Han', 4, 7, 10]\n",
            "['Leia', 9, 9, 16]\n"
          ]
        }
      ]
    },
    {
      "cell_type": "code",
      "source": [
        "print('Imprimindo cada elemento individual da tabela:')\n",
        "for linha in tabela:\n",
        "    for elemento in linha:\n",
        "        print(elemento)"
      ],
      "metadata": {
        "id": "MMLJNRbqkYig",
        "colab": {
          "base_uri": "https://localhost:8080/"
        },
        "outputId": "3ccd2880-bbfd-4af6-fa1f-e295944cf88d"
      },
      "execution_count": null,
      "outputs": [
        {
          "output_type": "stream",
          "name": "stdout",
          "text": [
            "Imprimindo cada elemento individual da tabela:\n",
            "Aluno\n",
            "Nota 1\n",
            "Nota 2\n",
            "Presenças\n",
            "Luke\n",
            "7\n",
            "9\n",
            "15\n",
            "Han\n",
            "4\n",
            "7\n",
            "10\n",
            "Leia\n",
            "9\n",
            "9\n",
            "16\n"
          ]
        }
      ]
    },
    {
      "cell_type": "code",
      "source": [
        "print('Imprimindo cada \"linha\" da tabela:')\n",
        "for linha in tabela:\n",
        "    print(linha)"
      ],
      "metadata": {
        "id": "0zMo1d9ekXw-",
        "colab": {
          "base_uri": "https://localhost:8080/"
        },
        "outputId": "f4588f0e-b625-4f39-b944-2b41fbf2cc33"
      },
      "execution_count": null,
      "outputs": [
        {
          "output_type": "stream",
          "name": "stdout",
          "text": [
            "Imprimindo cada \"linha\" da tabela:\n",
            "['Aluno', 'Nota 1', 'Nota 2', 'Presenças']\n",
            "['Luke', 7, 9, 15]\n",
            "['Han', 4, 7, 10]\n",
            "['Leia', 9, 9, 16]\n"
          ]
        }
      ]
    },
    {
      "cell_type": "code",
      "source": [
        "print('Imprimindo o elemento na linha 2, coluna 0:')\n",
        "print(tabela[2][0])"
      ],
      "metadata": {
        "id": "CAlyfhkdkdzG",
        "colab": {
          "base_uri": "https://localhost:8080/"
        },
        "outputId": "37382e07-dffa-4c93-b7a0-4d828e35ab4b"
      },
      "execution_count": null,
      "outputs": [
        {
          "output_type": "stream",
          "name": "stdout",
          "text": [
            "Imprimindo o elemento na linha 2, coluna 0:\n",
            "Han\n"
          ]
        }
      ]
    },
    {
      "cell_type": "markdown",
      "source": [
        "#### O formato CSV\n",
        "\n",
        "A sigla significa *Comma-Separed Values*, ou *Valores separados por vírgula*.\n",
        "\n",
        "<br>\n",
        "Nem sempre usamos a separação dos valores por vírgulas. Podemos alterar essas formas. Exemplo em que os valores são separados por ';'.\n",
        "\n",
        "Aluno;Nota 1;Nota 2;Presenças<br>\n",
        "Luke;7;9;15<br>\n",
        "Han;4;7;10<br>\n",
        "Leia;9;9;16"
      ],
      "metadata": {
        "id": "sSROnN9glKrC"
      }
    },
    {
      "cell_type": "markdown",
      "source": [
        "Manipulando arquivos CSV com o o módulo csv.\n",
        "\n",
        "### Escrevendo um CSV\n",
        "\n",
        "Para escrever um CSV utilizando o módulo, precisamos ter nossos dados representados como uma lista de listas. Criaremos (ou abriremos) um arquivo usando o open, como já fizemos antes, e utilizaremos um CSV writer - uma estrutura que guardará as regrinhas para escrever nosso CSV. Execute o exemplo abaixo:"
      ],
      "metadata": {
        "id": "PQTcHvsCmhSa"
      }
    },
    {
      "cell_type": "code",
      "source": [
        "import csv # pandas\n",
        "\n",
        "tabela = [['Aluno', 'Nota 1', 'Nota 2', 'Presenças'],\n",
        "          ['Luke', 7, 9, 15],\n",
        "          ['Han', 4, 7, 10],\n",
        "          ['Leia', 9, 9, 16]]\n",
        "\n",
        "# cria o arquivo CSV\n",
        "arquivo = open('alunos.csv', 'w')\n",
        "\n",
        "escritor = csv.writer(\n",
        "    arquivo,\n",
        "    delimiter=';',\n",
        "    lineterminator='\\n'\n",
        ")\n",
        "\n",
        "# escreve uma lista de listas em formato CSV:\n",
        "escritor.writerows(tabela)\n",
        "\n",
        "# fecha e salva o arquivo\n",
        "arquivo.close()"
      ],
      "metadata": {
        "id": "mLdG_LbYmxh7"
      },
      "execution_count": null,
      "outputs": []
    },
    {
      "cell_type": "code",
      "source": [
        "print(csv.reader.__doc__)"
      ],
      "metadata": {
        "colab": {
          "base_uri": "https://localhost:8080/"
        },
        "id": "msWICpLkcuhm",
        "outputId": "5f65ffd8-8f6e-479c-c310-7335518ea439"
      },
      "execution_count": null,
      "outputs": [
        {
          "output_type": "stream",
          "name": "stdout",
          "text": [
            "    csv_reader = reader(iterable [, dialect='excel']\n",
            "                        [optional keyword args])\n",
            "    for row in csv_reader:\n",
            "        process(row)\n",
            "\n",
            "The \"iterable\" argument can be any object that returns a line\n",
            "of input for each iteration, such as a file object or a list.  The\n",
            "optional \"dialect\" parameter is discussed below.  The function\n",
            "also accepts optional keyword arguments which override settings\n",
            "provided by the dialect.\n",
            "\n",
            "The returned object is an iterator.  Each iteration returns a row\n",
            "of the CSV file (which can span multiple input lines).\n",
            "\n"
          ]
        }
      ]
    },
    {
      "cell_type": "code",
      "source": [],
      "metadata": {
        "id": "qee1z8fAc4bB"
      },
      "execution_count": null,
      "outputs": []
    },
    {
      "cell_type": "markdown",
      "source": [
        "### Lendo um arquivo CSV\n",
        "\n",
        "O processo para ler o CSV é semelhante: utilizamos um CSV reader, com os mesmos parâmetros utilizados no CSV writer. A função csv.reader retorna uma estrutura iterável (ou seja, que pode ser percorrida com for) contendo cada linha já organizada como lista."
      ],
      "metadata": {
        "id": "b8Dm07gvnUZe"
      }
    },
    {
      "cell_type": "code",
      "source": [
        "import csv\n",
        "\n",
        "arquivo = open('alunos.csv', 'r')\n",
        "\n",
        "planilha = csv.reader(\n",
        "    arquivo,\n",
        "    delimiter=';',\n",
        "    lineterminator='\\n'\n",
        "  )\n",
        "\n",
        "# generator\n",
        "# iterando na planilha e imprimindo\n",
        "tabela = []\n",
        "for linha in planilha:\n",
        "    tabela.append(linha)\n",
        "arquivo.close()"
      ],
      "metadata": {
        "id": "1blYyrjHnaRD"
      },
      "execution_count": null,
      "outputs": []
    },
    {
      "cell_type": "code",
      "source": [
        "tabela"
      ],
      "metadata": {
        "colab": {
          "base_uri": "https://localhost:8080/"
        },
        "id": "szEbSqfhFVLP",
        "outputId": "ee460ccd-b0e5-4849-e03f-46325812204c"
      },
      "execution_count": null,
      "outputs": [
        {
          "output_type": "execute_result",
          "data": {
            "text/plain": [
              "[['Aluno', 'Nota 1', 'Nota 2', 'Presenças'],\n",
              " ['Luke', '7', '9', '15'],\n",
              " ['Han', '4', '7', '10'],\n",
              " ['Leia', '9', '9', '16']]"
            ]
          },
          "metadata": {},
          "execution_count": 52
        }
      ]
    },
    {
      "cell_type": "code",
      "source": [
        "import csv # pandas\n",
        "\n",
        "arquivo = open('alunos.csv', 'r')\n",
        "\n",
        "planilha = csv.reader(\n",
        "    arquivo,\n",
        "    delimiter=';',\n",
        "    lineterminator='\\n'\n",
        "  )\n",
        "\n",
        "# cast para lista\n",
        "lista = list(planilha)\n",
        "\n",
        "arquivo.close()"
      ],
      "metadata": {
        "id": "EXhwwKpkeZ6q"
      },
      "execution_count": null,
      "outputs": []
    },
    {
      "cell_type": "code",
      "source": [
        "lista"
      ],
      "metadata": {
        "colab": {
          "base_uri": "https://localhost:8080/"
        },
        "id": "uBC2xHtUcnvF",
        "outputId": "73b8ef28-0052-4a1c-e4e6-23561b729a34"
      },
      "execution_count": null,
      "outputs": [
        {
          "output_type": "execute_result",
          "data": {
            "text/plain": [
              "[['Aluno,Nota 1,Nota 2,Presenças'],\n",
              " ['Luke,7,9,15'],\n",
              " ['Han,4,7,10'],\n",
              " ['Leia,9,9,16']]"
            ]
          },
          "metadata": {},
          "execution_count": 6
        }
      ]
    },
    {
      "cell_type": "markdown",
      "source": [
        "### Arquivos JSON\n",
        "\n",
        "JSON é uma sigla para JavaScript Object Notation. O JavaScript é uma linguagem muito utilizada em web, e assim como o Python, ela é uma linguagem orientada a objeto. Ocorre que a forma como objetos são representados nessa linguagem é bastante legível para seres humanos e fácil de decompor usando programação também.\n",
        "<br>\n",
        "Veja um exemplo de como podemos representar, por exemplo, um estudante em JavaScript:\n",
        "\n",
        "`\n",
        "  {\n",
        "    nome: 'Mario',\n",
        "    modulo: 2,\n",
        "    media: 9.5\n",
        " }\n",
        "`\n",
        "\n",
        "Note que a sintaxe de um objeto JavaScript é bem similar os dicionários em python.\n",
        "\n",
        "<br>\n",
        "<br>\n",
        "Neste sentido, temos um módulo chamado **json** que podemos manipular este tipo de dados.\n",
        "\n",
        "<br>\n",
        "<br>\n",
        "**Atenção:** No caso do JSON faremos exatamente como nos dicionários em Python: as chaves deverão vir entre aspas.\n",
        "\n",
        "\n",
        "<br>\n",
        "<br>\n",
        "Vejamos alguns exemplos:\n",
        "\n",
        "`\n",
        "{'escola':\"Let's Code\",\n",
        "  'cursos':[{'nome':'Python Pro', 'duracao':2},\n",
        "            {'nome':'Data Science', 'duracao':2},\n",
        "            {'nome':'Front-End', 'duracao':2}]\n",
        "}\n",
        "`"
      ],
      "metadata": {
        "id": "figvdmbonoke"
      }
    },
    {
      "cell_type": "code",
      "source": [
        "# JSON para dicionários\n",
        "import json\n",
        "aluno = '{\"nome\": \"Ana\", \"nota\": 10.0}'\n",
        "print(type(aluno))\n",
        "dicionario = json.loads(aluno) # método loads\n",
        "print(dicionario)"
      ],
      "metadata": {
        "id": "EFFwK4Nau28H",
        "colab": {
          "base_uri": "https://localhost:8080/"
        },
        "outputId": "d85b1573-09db-4cce-defc-1f53022d746a"
      },
      "execution_count": null,
      "outputs": [
        {
          "output_type": "stream",
          "name": "stdout",
          "text": [
            "<class 'str'>\n",
            "{'nome': 'Ana', 'nota': 10.0}\n"
          ]
        }
      ]
    },
    {
      "cell_type": "code",
      "source": [],
      "metadata": {
        "id": "7dyHLszuFtFJ"
      },
      "execution_count": null,
      "outputs": []
    },
    {
      "cell_type": "code",
      "source": [
        "dicionario[\"nome\"]"
      ],
      "metadata": {
        "colab": {
          "base_uri": "https://localhost:8080/",
          "height": 35
        },
        "id": "-2QnR9BRiDYS",
        "outputId": "ab7f8ef9-82c2-4fe6-8f60-a3a15b015d35"
      },
      "execution_count": null,
      "outputs": [
        {
          "output_type": "execute_result",
          "data": {
            "text/plain": [
              "'Ana'"
            ],
            "application/vnd.google.colaboratory.intrinsic+json": {
              "type": "string"
            }
          },
          "metadata": {},
          "execution_count": 54
        }
      ]
    },
    {
      "cell_type": "code",
      "source": [
        "# dicionario para JSON\n",
        "import json\n",
        "aluno = {\n",
        "  \"nome\": \"Ana\",\n",
        "  \"nota\": 10.0\n",
        "}\n",
        "print(type(aluno))\n",
        "string_json = json.dumps(aluno)\n",
        "print(string_json)\n",
        "print(type(string_json))"
      ],
      "metadata": {
        "id": "uyroA-8bufer",
        "colab": {
          "base_uri": "https://localhost:8080/"
        },
        "outputId": "2aa39c37-a851-4e4c-b2b9-442fca911b03"
      },
      "execution_count": null,
      "outputs": [
        {
          "output_type": "stream",
          "name": "stdout",
          "text": [
            "<class 'dict'>\n",
            "{\"nome\": \"Ana\", \"nota\": 10.0}\n",
            "<class 'str'>\n"
          ]
        }
      ]
    },
    {
      "cell_type": "code",
      "source": [
        "inteiro = 1 # loads/dumps\n",
        "float(inteiro)"
      ],
      "metadata": {
        "id": "qYsim2TmlYCx"
      },
      "execution_count": null,
      "outputs": []
    },
    {
      "cell_type": "code",
      "source": [
        "# escrevendo JSON em arquivo\n",
        "with open(\"aluno.json\", \"w\") as arquivo:\n",
        "  json.dump(aluno, arquivo) # dict, fp"
      ],
      "metadata": {
        "id": "COPFraZiv-7j"
      },
      "execution_count": null,
      "outputs": []
    },
    {
      "cell_type": "code",
      "source": [
        "# lendo JSON do arquivo\n",
        "with open(\"aluno.json\", \"r\") as arquivo:\n",
        "  # load() é similar ao read()\n",
        "  aluno = json.load(arquivo)\n",
        "aluno"
      ],
      "metadata": {
        "id": "9NJmcgI3wYIB",
        "colab": {
          "base_uri": "https://localhost:8080/"
        },
        "outputId": "442aa409-3692-4926-9475-e39aeb402774"
      },
      "execution_count": null,
      "outputs": [
        {
          "output_type": "execute_result",
          "data": {
            "text/plain": [
              "{'nome': 'Ana', 'nota': 10.0}"
            ]
          },
          "metadata": {},
          "execution_count": 57
        }
      ]
    },
    {
      "cell_type": "code",
      "source": [
        "arquivo = open(\"aluno.json\", \"r\")\n",
        "a = json.load(arquivo)\n",
        "arquivo.close()"
      ],
      "metadata": {
        "id": "BvzGKOLDkJgp"
      },
      "execution_count": null,
      "outputs": []
    },
    {
      "cell_type": "code",
      "source": [
        "a"
      ],
      "metadata": {
        "colab": {
          "base_uri": "https://localhost:8080/"
        },
        "id": "S_C4KL84ka0j",
        "outputId": "f2caf01c-4d86-4a18-9530-c0e1c74159da"
      },
      "execution_count": null,
      "outputs": [
        {
          "output_type": "execute_result",
          "data": {
            "text/plain": [
              "{'nome': 'Ana', 'nota': 10.0}"
            ]
          },
          "metadata": {},
          "execution_count": 59
        }
      ]
    },
    {
      "cell_type": "code",
      "source": [
        "type(aluno)"
      ],
      "metadata": {
        "colab": {
          "base_uri": "https://localhost:8080/"
        },
        "id": "XQf-nslWj29e",
        "outputId": "560843ec-f837-4463-cd33-37f48bec5e16"
      },
      "execution_count": null,
      "outputs": [
        {
          "output_type": "execute_result",
          "data": {
            "text/plain": [
              "dict"
            ]
          },
          "metadata": {},
          "execution_count": 72
        }
      ]
    },
    {
      "cell_type": "code",
      "source": [
        "aluno[\"nome\"]"
      ],
      "metadata": {
        "colab": {
          "base_uri": "https://localhost:8080/",
          "height": 35
        },
        "id": "pB6iwbVaj5fc",
        "outputId": "e92dfe26-0cac-41a0-b868-efb7b5b80ebf"
      },
      "execution_count": null,
      "outputs": [
        {
          "output_type": "execute_result",
          "data": {
            "text/plain": [
              "'Ana'"
            ],
            "application/vnd.google.colaboratory.intrinsic+json": {
              "type": "string"
            }
          },
          "metadata": {},
          "execution_count": 73
        }
      ]
    },
    {
      "cell_type": "code",
      "source": [
        "import csv\n",
        "\n",
        "arquivo = open('projeto.csv', 'r')\n",
        "\n",
        "planilha = csv.reader(\n",
        "    arquivo,\n",
        "    delimiter=';',\n",
        "    lineterminator='\\n'\n",
        "  )\n",
        "\n",
        "lista = list(planilha)\n",
        "arquivo.close()"
      ],
      "metadata": {
        "id": "yLuCXcegwijQ"
      },
      "execution_count": null,
      "outputs": []
    },
    {
      "cell_type": "code",
      "source": [],
      "metadata": {
        "id": "pnmMLtEk2nF4"
      },
      "execution_count": null,
      "outputs": []
    }
  ]
}