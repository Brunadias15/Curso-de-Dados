{
  "nbformat": 4,
  "nbformat_minor": 0,
  "metadata": {
    "colab": {
      "provenance": [],
      "collapsed_sections": [
        "uEyEZcQG7mTy",
        "QAnItBgO_LUz"
      ]
    },
    "kernelspec": {
      "name": "python3",
      "display_name": "Python 3"
    },
    "language_info": {
      "name": "python"
    }
  },
  "cells": [
    {
      "cell_type": "markdown",
      "source": [
        "# Bem vindos a Let's Code by Ada!"
      ],
      "metadata": {
        "id": "2O8yMBlCwa9-"
      }
    },
    {
      "cell_type": "markdown",
      "source": [
        "## 👨‍🏫 O Professor 👨‍🏫\n",
        "\n",
        "#### Joelson Antônio dos Santos\n",
        "- Professor na Ada\n",
        "- E-mail: joelsonn.santos@gmail.\n",
        "com<br />\n",
        "- Linkedin: https://www.linkedin.com/in/joelson-ant%C3%B4nio-dos-santos-69040844/\n"
      ],
      "metadata": {
        "id": "uEyEZcQG7mTy"
      }
    },
    {
      "cell_type": "markdown",
      "source": [
        "## 📍 Agenda 📍\n",
        "<br>\n",
        "\n",
        "🖖 Conversa, Apresentação e o Curso\n",
        "\n",
        "- [Breve Revisão de Listas](#um)\n",
        "\n",
        "- [Estrutura de Dados - Tuplas](#dois)\n",
        "\n",
        "- [Exercícios](#tres)"
      ],
      "metadata": {
        "id": "QAnItBgO_LUz"
      }
    },
    {
      "cell_type": "markdown",
      "source": [
        "## Breve Revisão sobre listas <a class=\"anchor\" id=\"um\"></a>\n",
        "<br>\n",
        "\n",
        "Primeiramente, Listas são estruturas de dados **mutáveis**. Isto significa que podemos inserir, remover ou atualizar elementos na lista de maneira dinâmica em tempo de execução de um programa em Python.\n",
        "\n",
        "Vejamos alguns exemplos de:\n",
        "\n",
        "\n",
        "\n",
        "*   Criação de lista;\n",
        "*   Inserção de elementos;\n",
        "*   Atualização de elementos;\n",
        "*   Slicing de lista;\n",
        "*   Concatenação de listas;\n",
        "*   Remoção de elementos;\n",
        "*   Deleção de elementos ou lista.\n",
        "\n",
        "<div align=\"justify\">\n",
        "&emsp;\n",
        "</div>\n",
        "<br>"
      ],
      "metadata": {
        "id": "5OCDQOvZKQy2"
      }
    },
    {
      "cell_type": "code",
      "source": [
        "# criação de lista vazia\n",
        "elementos = []"
      ],
      "metadata": {
        "id": "bAleQh432we5"
      },
      "execution_count": null,
      "outputs": []
    },
    {
      "cell_type": "code",
      "source": [
        "elementos"
      ],
      "metadata": {
        "colab": {
          "base_uri": "https://localhost:8080/"
        },
        "id": "3PQjgI0Q7D3C",
        "outputId": "e95ffec6-6892-40fd-812b-e6d3f44070a7"
      },
      "execution_count": null,
      "outputs": [
        {
          "output_type": "execute_result",
          "data": {
            "text/plain": [
              "[]"
            ]
          },
          "metadata": {},
          "execution_count": 25
        }
      ]
    },
    {
      "cell_type": "code",
      "source": [
        "# ou\n",
        "elementos2 = list()"
      ],
      "metadata": {
        "id": "sZ895yutpp1Z"
      },
      "execution_count": null,
      "outputs": []
    },
    {
      "cell_type": "code",
      "source": [
        "elementos2"
      ],
      "metadata": {
        "colab": {
          "base_uri": "https://localhost:8080/"
        },
        "id": "DQVQsfYNpr29",
        "outputId": "c1cbb690-3b56-4700-f1e5-57a41cc27717"
      },
      "execution_count": null,
      "outputs": [
        {
          "output_type": "execute_result",
          "data": {
            "text/plain": [
              "[]"
            ]
          },
          "metadata": {},
          "execution_count": 27
        }
      ]
    },
    {
      "cell_type": "code",
      "source": [
        "# inserção de elementos\n",
        "elementos.append(2)\n",
        "elementos.append(5)\n",
        "elementos.append(9)\n",
        "elementos"
      ],
      "metadata": {
        "id": "Ywm1ZlrR23kv",
        "colab": {
          "base_uri": "https://localhost:8080/"
        },
        "outputId": "6f974938-2998-4e15-87ab-469861b71d4f"
      },
      "execution_count": null,
      "outputs": [
        {
          "output_type": "execute_result",
          "data": {
            "text/plain": [
              "[2, 5, 9]"
            ]
          },
          "metadata": {},
          "execution_count": 28
        }
      ]
    },
    {
      "cell_type": "code",
      "source": [
        "elementos.insert(0, 4)\n",
        "elementos"
      ],
      "metadata": {
        "colab": {
          "base_uri": "https://localhost:8080/"
        },
        "id": "i01jRxGLqkDo",
        "outputId": "c37c0484-e37a-4436-9c1d-2f5a9561adbe"
      },
      "execution_count": null,
      "outputs": [
        {
          "output_type": "execute_result",
          "data": {
            "text/plain": [
              "[4, 2, 5, 9]"
            ]
          },
          "metadata": {},
          "execution_count": 29
        }
      ]
    },
    {
      "cell_type": "code",
      "source": [
        "dir(elementos)"
      ],
      "metadata": {
        "colab": {
          "base_uri": "https://localhost:8080/"
        },
        "id": "UA7g6SkBquNQ",
        "outputId": "5fbd5c0b-d08a-4cd8-de19-4a5c9ddb71bc"
      },
      "execution_count": null,
      "outputs": [
        {
          "output_type": "execute_result",
          "data": {
            "text/plain": [
              "['__add__',\n",
              " '__class__',\n",
              " '__class_getitem__',\n",
              " '__contains__',\n",
              " '__delattr__',\n",
              " '__delitem__',\n",
              " '__dir__',\n",
              " '__doc__',\n",
              " '__eq__',\n",
              " '__format__',\n",
              " '__ge__',\n",
              " '__getattribute__',\n",
              " '__getitem__',\n",
              " '__gt__',\n",
              " '__hash__',\n",
              " '__iadd__',\n",
              " '__imul__',\n",
              " '__init__',\n",
              " '__init_subclass__',\n",
              " '__iter__',\n",
              " '__le__',\n",
              " '__len__',\n",
              " '__lt__',\n",
              " '__mul__',\n",
              " '__ne__',\n",
              " '__new__',\n",
              " '__reduce__',\n",
              " '__reduce_ex__',\n",
              " '__repr__',\n",
              " '__reversed__',\n",
              " '__rmul__',\n",
              " '__setattr__',\n",
              " '__setitem__',\n",
              " '__sizeof__',\n",
              " '__str__',\n",
              " '__subclasshook__',\n",
              " 'append',\n",
              " 'clear',\n",
              " 'copy',\n",
              " 'count',\n",
              " 'extend',\n",
              " 'index',\n",
              " 'insert',\n",
              " 'pop',\n",
              " 'remove',\n",
              " 'reverse',\n",
              " 'sort']"
            ]
          },
          "metadata": {},
          "execution_count": 30
        }
      ]
    },
    {
      "cell_type": "code",
      "source": [
        "lista = list(range(10))\n",
        "lista"
      ],
      "metadata": {
        "colab": {
          "base_uri": "https://localhost:8080/"
        },
        "id": "iJKMIlK2rFBz",
        "outputId": "135b2b03-a18d-4fc4-a0b6-8c5b9b4a9002"
      },
      "execution_count": null,
      "outputs": [
        {
          "output_type": "execute_result",
          "data": {
            "text/plain": [
              "[0, 1, 2, 3, 4, 5, 6, 7, 8, 9]"
            ]
          },
          "metadata": {},
          "execution_count": 31
        }
      ]
    },
    {
      "cell_type": "code",
      "source": [
        "lista[2]"
      ],
      "metadata": {
        "colab": {
          "base_uri": "https://localhost:8080/"
        },
        "id": "IG9etml4rNH6",
        "outputId": "ff727e90-e2ce-429e-b8bc-578ef68f0581"
      },
      "execution_count": null,
      "outputs": [
        {
          "output_type": "execute_result",
          "data": {
            "text/plain": [
              "2"
            ]
          },
          "metadata": {},
          "execution_count": 32
        }
      ]
    },
    {
      "cell_type": "code",
      "source": [
        "# slicing de listas\n",
        "# lista[start:end:indexjumping]\n",
        "lista[1:5]"
      ],
      "metadata": {
        "id": "UQrj1RYz28Tu",
        "colab": {
          "base_uri": "https://localhost:8080/"
        },
        "outputId": "6fe8d240-9b87-488c-ca2e-4e102d6b9dde"
      },
      "execution_count": null,
      "outputs": [
        {
          "output_type": "execute_result",
          "data": {
            "text/plain": [
              "[1, 2, 3, 4]"
            ]
          },
          "metadata": {},
          "execution_count": 33
        }
      ]
    },
    {
      "cell_type": "code",
      "source": [
        "# ultima posição\n",
        "lista[-1]"
      ],
      "metadata": {
        "colab": {
          "base_uri": "https://localhost:8080/"
        },
        "id": "Wl30o6J0rkvo",
        "outputId": "b24f2801-9cea-43cd-efb3-9fa8eb86a4fe"
      },
      "execution_count": null,
      "outputs": [
        {
          "output_type": "execute_result",
          "data": {
            "text/plain": [
              "9"
            ]
          },
          "metadata": {},
          "execution_count": 34
        }
      ]
    },
    {
      "cell_type": "code",
      "source": [
        "lista[-2]"
      ],
      "metadata": {
        "colab": {
          "base_uri": "https://localhost:8080/"
        },
        "id": "VcBm-0wQrsC1",
        "outputId": "179647bd-f7bb-49cf-fc6f-9f445272c5ec"
      },
      "execution_count": null,
      "outputs": [
        {
          "output_type": "execute_result",
          "data": {
            "text/plain": [
              "8"
            ]
          },
          "metadata": {},
          "execution_count": 35
        }
      ]
    },
    {
      "cell_type": "code",
      "source": [
        "# concatenação de listas\n",
        "elementos + lista"
      ],
      "metadata": {
        "id": "ZikEbAbV3Fr7",
        "colab": {
          "base_uri": "https://localhost:8080/"
        },
        "outputId": "bf66da6a-8f0e-48d0-be32-a624a13200a5"
      },
      "execution_count": null,
      "outputs": [
        {
          "output_type": "execute_result",
          "data": {
            "text/plain": [
              "[4, 2, 5, 9, 0, 1, 2, 3, 4, 5, 6, 7, 8, 9]"
            ]
          },
          "metadata": {},
          "execution_count": 36
        }
      ]
    },
    {
      "cell_type": "code",
      "source": [
        "lista"
      ],
      "metadata": {
        "colab": {
          "base_uri": "https://localhost:8080/"
        },
        "id": "Wg7vTuf4sYv1",
        "outputId": "f9389f8f-df28-454c-f4bf-128457591375"
      },
      "execution_count": null,
      "outputs": [
        {
          "output_type": "execute_result",
          "data": {
            "text/plain": [
              "[0, 1, 2, 3, 4, 5, 6, 7, 8, 9]"
            ]
          },
          "metadata": {},
          "execution_count": 38
        }
      ]
    },
    {
      "cell_type": "code",
      "source": [
        "elementos.extend(lista)\n",
        "elementos"
      ],
      "metadata": {
        "colab": {
          "base_uri": "https://localhost:8080/"
        },
        "id": "e0JcaBrCsOge",
        "outputId": "b2f8821a-2819-4281-bc7c-3c2add9c0bc3"
      },
      "execution_count": null,
      "outputs": [
        {
          "output_type": "execute_result",
          "data": {
            "text/plain": [
              "[4, 2, 5, 9, 0, 1, 2, 3, 4, 5, 6, 7, 8, 9]"
            ]
          },
          "metadata": {},
          "execution_count": 37
        }
      ]
    },
    {
      "cell_type": "code",
      "source": [
        "# remoção de elementos\n",
        "elementos.pop()"
      ],
      "metadata": {
        "id": "piNWIC6g3Zc0",
        "colab": {
          "base_uri": "https://localhost:8080/"
        },
        "outputId": "8c469bb6-f621-44b6-8dfd-f7c934903a0f"
      },
      "execution_count": null,
      "outputs": [
        {
          "output_type": "execute_result",
          "data": {
            "text/plain": [
              "9"
            ]
          },
          "metadata": {},
          "execution_count": 39
        }
      ]
    },
    {
      "cell_type": "code",
      "source": [
        "elementos"
      ],
      "metadata": {
        "colab": {
          "base_uri": "https://localhost:8080/"
        },
        "id": "VkjOW9KfsgrG",
        "outputId": "65b8a023-4b21-4e3e-81b7-faddb266199b"
      },
      "execution_count": null,
      "outputs": [
        {
          "output_type": "execute_result",
          "data": {
            "text/plain": [
              "[4, 2, 5, 9, 0, 1, 2, 3, 4, 5, 6, 7, 8]"
            ]
          },
          "metadata": {},
          "execution_count": 40
        }
      ]
    },
    {
      "cell_type": "code",
      "source": [
        "ultimo = elementos.pop()\n",
        "ultimo"
      ],
      "metadata": {
        "colab": {
          "base_uri": "https://localhost:8080/"
        },
        "id": "rCqQObIoskez",
        "outputId": "1a69b3ec-b66c-496d-c227-3a43800cb717"
      },
      "execution_count": null,
      "outputs": [
        {
          "output_type": "execute_result",
          "data": {
            "text/plain": [
              "7"
            ]
          },
          "metadata": {},
          "execution_count": 42
        }
      ]
    },
    {
      "cell_type": "code",
      "source": [
        "pedidos = [[0, \"pedido1\"], [1, \"pedido2\"], [2, \"pedido3\"]]\n",
        "pedidos"
      ],
      "metadata": {
        "colab": {
          "base_uri": "https://localhost:8080/"
        },
        "id": "1OsLaueQsu14",
        "outputId": "2d5c0df3-6910-4a45-8b6c-7e9b97ea2d90"
      },
      "execution_count": null,
      "outputs": [
        {
          "output_type": "execute_result",
          "data": {
            "text/plain": [
              "[[0, 'pedido1'], [1, 'pedido2'], [2, 'pedido3']]"
            ]
          },
          "metadata": {},
          "execution_count": 47
        }
      ]
    },
    {
      "cell_type": "code",
      "source": [],
      "metadata": {
        "id": "wUff90RYtqCw"
      },
      "execution_count": null,
      "outputs": []
    },
    {
      "cell_type": "code",
      "source": [
        "pedidos[1][1]"
      ],
      "metadata": {
        "colab": {
          "base_uri": "https://localhost:8080/",
          "height": 35
        },
        "id": "0HaegxBLtAcO",
        "outputId": "844f81de-6a89-4e0f-bfc0-1685ed3ca59d"
      },
      "execution_count": null,
      "outputs": [
        {
          "output_type": "execute_result",
          "data": {
            "text/plain": [
              "'pedido2'"
            ],
            "application/vnd.google.colaboratory.intrinsic+json": {
              "type": "string"
            }
          },
          "metadata": {},
          "execution_count": 44
        }
      ]
    },
    {
      "cell_type": "code",
      "source": [
        "pedidos[1][3]"
      ],
      "metadata": {
        "colab": {
          "base_uri": "https://localhost:8080/",
          "height": 178
        },
        "id": "qiftvnuPtXoM",
        "outputId": "511bc54a-ad29-4070-d72e-1aa0208bd9d4"
      },
      "execution_count": null,
      "outputs": [
        {
          "output_type": "error",
          "ename": "IndexError",
          "evalue": "ignored",
          "traceback": [
            "\u001b[0;31m---------------------------------------------------------------------------\u001b[0m",
            "\u001b[0;31mIndexError\u001b[0m                                Traceback (most recent call last)",
            "\u001b[0;32m<ipython-input-45-51dcc673314f>\u001b[0m in \u001b[0;36m<cell line: 1>\u001b[0;34m()\u001b[0m\n\u001b[0;32m----> 1\u001b[0;31m \u001b[0mpedidos\u001b[0m\u001b[0;34m[\u001b[0m\u001b[0;36m1\u001b[0m\u001b[0;34m]\u001b[0m\u001b[0;34m[\u001b[0m\u001b[0;36m3\u001b[0m\u001b[0;34m]\u001b[0m\u001b[0;34m\u001b[0m\u001b[0;34m\u001b[0m\u001b[0m\n\u001b[0m",
            "\u001b[0;31mIndexError\u001b[0m: list index out of range"
          ]
        }
      ]
    },
    {
      "cell_type": "code",
      "source": [
        "pedidos[3]"
      ],
      "metadata": {
        "colab": {
          "base_uri": "https://localhost:8080/",
          "height": 178
        },
        "id": "M4y3_mrLthD9",
        "outputId": "b786ba12-eb37-45af-ba66-ced9232fe6fc"
      },
      "execution_count": null,
      "outputs": [
        {
          "output_type": "error",
          "ename": "IndexError",
          "evalue": "ignored",
          "traceback": [
            "\u001b[0;31m---------------------------------------------------------------------------\u001b[0m",
            "\u001b[0;31mIndexError\u001b[0m                                Traceback (most recent call last)",
            "\u001b[0;32m<ipython-input-46-4f1ebfa4720a>\u001b[0m in \u001b[0;36m<cell line: 1>\u001b[0;34m()\u001b[0m\n\u001b[0;32m----> 1\u001b[0;31m \u001b[0mpedidos\u001b[0m\u001b[0;34m[\u001b[0m\u001b[0;36m3\u001b[0m\u001b[0;34m]\u001b[0m\u001b[0;34m\u001b[0m\u001b[0;34m\u001b[0m\u001b[0m\n\u001b[0m",
            "\u001b[0;31mIndexError\u001b[0m: list index out of range"
          ]
        }
      ]
    },
    {
      "cell_type": "code",
      "source": [
        "pedidos = [\n",
        "    [0, \"pedido1\", \"Ana\"],\n",
        "     [1, \"pedido2\", \"Joao\"],\n",
        "      [2, \"pedido3\", \"Jose\"]]\n",
        "pedidos"
      ],
      "metadata": {
        "colab": {
          "base_uri": "https://localhost:8080/"
        },
        "id": "GeLtR1estqyy",
        "outputId": "18716bf4-4d23-40cc-ed84-53657023fcfd"
      },
      "execution_count": null,
      "outputs": [
        {
          "output_type": "execute_result",
          "data": {
            "text/plain": [
              "[[0, 'pedido1', 'Ana'], [1, 'pedido2', 'Joao'], [2, 'pedido3', 'Jose']]"
            ]
          },
          "metadata": {},
          "execution_count": 48
        }
      ]
    },
    {
      "cell_type": "code",
      "source": [
        "# atribuindo slicing\n",
        "lista = [1, 4, 5, 6 , 7]\n",
        "lista[1:2] = [8,10]"
      ],
      "metadata": {
        "id": "XlSQT3qA511k"
      },
      "execution_count": null,
      "outputs": []
    },
    {
      "cell_type": "code",
      "source": [
        "lista"
      ],
      "metadata": {
        "colab": {
          "base_uri": "https://localhost:8080/"
        },
        "id": "YePqJqYhuEIC",
        "outputId": "8cd6b6c0-f956-4797-836b-4e98449c8be7"
      },
      "execution_count": null,
      "outputs": [
        {
          "output_type": "execute_result",
          "data": {
            "text/plain": [
              "[1, 4, 5, 6, 7]"
            ]
          },
          "metadata": {},
          "execution_count": 53
        }
      ]
    },
    {
      "cell_type": "code",
      "source": [
        "# deleção de lista ou elementos\n",
        "del lista\n",
        "lista"
      ],
      "metadata": {
        "id": "qsUjGTdW6FaB",
        "colab": {
          "base_uri": "https://localhost:8080/",
          "height": 213
        },
        "outputId": "78109124-a93a-41e3-c4a7-331b761d4af1"
      },
      "execution_count": null,
      "outputs": [
        {
          "output_type": "error",
          "ename": "NameError",
          "evalue": "ignored",
          "traceback": [
            "\u001b[0;31m---------------------------------------------------------------------------\u001b[0m",
            "\u001b[0;31mNameError\u001b[0m                                 Traceback (most recent call last)",
            "\u001b[0;32m<ipython-input-51-62920628109c>\u001b[0m in \u001b[0;36m<cell line: 3>\u001b[0;34m()\u001b[0m\n\u001b[1;32m      1\u001b[0m \u001b[0;31m# deleção de lista ou elementos\u001b[0m\u001b[0;34m\u001b[0m\u001b[0;34m\u001b[0m\u001b[0m\n\u001b[1;32m      2\u001b[0m \u001b[0;32mdel\u001b[0m \u001b[0mlista\u001b[0m\u001b[0;34m\u001b[0m\u001b[0;34m\u001b[0m\u001b[0m\n\u001b[0;32m----> 3\u001b[0;31m \u001b[0mlista\u001b[0m\u001b[0;34m\u001b[0m\u001b[0;34m\u001b[0m\u001b[0m\n\u001b[0m",
            "\u001b[0;31mNameError\u001b[0m: name 'lista' is not defined"
          ]
        }
      ]
    },
    {
      "cell_type": "code",
      "source": [
        "lista = [1, 4, 5, 6 , 7]\n",
        "lista"
      ],
      "metadata": {
        "colab": {
          "base_uri": "https://localhost:8080/"
        },
        "id": "60-MwvFSuZYW",
        "outputId": "2f2b0ccc-07de-4543-e89b-37176f48f6f9"
      },
      "execution_count": null,
      "outputs": [
        {
          "output_type": "execute_result",
          "data": {
            "text/plain": [
              "[1, 4, 5, 6, 7]"
            ]
          },
          "metadata": {},
          "execution_count": 52
        }
      ]
    },
    {
      "cell_type": "code",
      "source": [
        "while len(lista) > 0:\n",
        "  lista.pop()\n",
        "lista"
      ],
      "metadata": {
        "colab": {
          "base_uri": "https://localhost:8080/"
        },
        "id": "h8RBHUM9u2y9",
        "outputId": "3a869710-2cc4-4500-8e61-e0f1b0edaeb4"
      },
      "execution_count": null,
      "outputs": [
        {
          "output_type": "execute_result",
          "data": {
            "text/plain": [
              "[]"
            ]
          },
          "metadata": {},
          "execution_count": 54
        }
      ]
    },
    {
      "cell_type": "code",
      "source": [],
      "metadata": {
        "id": "l0cX2XFVxB5s"
      },
      "execution_count": null,
      "outputs": []
    },
    {
      "cell_type": "code",
      "source": [
        "lista = [1, 4, 5, 6 , 7]\n",
        "lista"
      ],
      "metadata": {
        "colab": {
          "base_uri": "https://localhost:8080/"
        },
        "id": "kKLeZqLAvGKb",
        "outputId": "71aace93-16d5-4ceb-83ba-93ff81ca3691"
      },
      "execution_count": null,
      "outputs": [
        {
          "output_type": "execute_result",
          "data": {
            "text/plain": [
              "[1, 4, 5, 6, 7]"
            ]
          },
          "metadata": {},
          "execution_count": 71
        }
      ]
    },
    {
      "cell_type": "code",
      "source": [
        "lista.clear()"
      ],
      "metadata": {
        "id": "Rzvx7MtvxDIa"
      },
      "execution_count": null,
      "outputs": []
    },
    {
      "cell_type": "code",
      "source": [
        "lista = list(range(10**5))"
      ],
      "metadata": {
        "id": "SO4zbZ7uxWtk"
      },
      "execution_count": null,
      "outputs": []
    },
    {
      "cell_type": "code",
      "source": [
        "%%time\n",
        "lista.clear()"
      ],
      "metadata": {
        "colab": {
          "base_uri": "https://localhost:8080/"
        },
        "id": "7iZAAsm3yMiq",
        "outputId": "36211ec9-429a-4736-8795-38872c56b693"
      },
      "execution_count": null,
      "outputs": [
        {
          "output_type": "stream",
          "name": "stdout",
          "text": [
            "CPU times: user 1.5 ms, sys: 0 ns, total: 1.5 ms\n",
            "Wall time: 1.51 ms\n"
          ]
        }
      ]
    },
    {
      "cell_type": "code",
      "source": [
        "%%time\n",
        "del lista"
      ],
      "metadata": {
        "colab": {
          "base_uri": "https://localhost:8080/"
        },
        "id": "SjF6PuHyxjGN",
        "outputId": "e283e47c-dc17-4a5e-e26a-5dc9bcef3735"
      },
      "execution_count": null,
      "outputs": [
        {
          "output_type": "stream",
          "name": "stdout",
          "text": [
            "CPU times: user 4 µs, sys: 0 ns, total: 4 µs\n",
            "Wall time: 8.34 µs\n"
          ]
        }
      ]
    },
    {
      "cell_type": "code",
      "source": [
        "%%time\n",
        "while len(lista) > 0:\n",
        "  lista.pop()"
      ],
      "metadata": {
        "colab": {
          "base_uri": "https://localhost:8080/"
        },
        "id": "8J1cj0-5xNU2",
        "outputId": "9c6784ee-baf3-43b5-8cfb-1d5da9863905"
      },
      "execution_count": null,
      "outputs": [
        {
          "output_type": "stream",
          "name": "stdout",
          "text": [
            "CPU times: user 24.5 ms, sys: 0 ns, total: 24.5 ms\n",
            "Wall time: 27.1 ms\n"
          ]
        }
      ]
    },
    {
      "cell_type": "code",
      "source": [
        "lista"
      ],
      "metadata": {
        "colab": {
          "base_uri": "https://localhost:8080/"
        },
        "id": "mW4f_mc2xFdC",
        "outputId": "e5989e07-80e0-4f5d-a05c-4cfa2121b171"
      },
      "execution_count": null,
      "outputs": [
        {
          "output_type": "execute_result",
          "data": {
            "text/plain": [
              "[]"
            ]
          },
          "metadata": {},
          "execution_count": 73
        }
      ]
    },
    {
      "cell_type": "code",
      "source": [
        "del lista[0]\n",
        "lista"
      ],
      "metadata": {
        "colab": {
          "base_uri": "https://localhost:8080/"
        },
        "id": "MO2QwA0QvIWE",
        "outputId": "cff0a869-9267-4219-d434-5994c7f2c4ac"
      },
      "execution_count": null,
      "outputs": [
        {
          "output_type": "execute_result",
          "data": {
            "text/plain": [
              "[4, 5, 6, 7]"
            ]
          },
          "metadata": {},
          "execution_count": 56
        }
      ]
    },
    {
      "cell_type": "code",
      "source": [],
      "metadata": {
        "id": "9ym7W_sowtGL"
      },
      "execution_count": null,
      "outputs": []
    },
    {
      "cell_type": "code",
      "source": [],
      "metadata": {
        "id": "oft7R8zQw_v7"
      },
      "execution_count": null,
      "outputs": []
    },
    {
      "cell_type": "code",
      "source": [
        "lista.remove(0)"
      ],
      "metadata": {
        "colab": {
          "base_uri": "https://localhost:8080/",
          "height": 178
        },
        "id": "YaBi6qafvU3A",
        "outputId": "12a51e65-b9dc-4951-dc19-b6b19c368954"
      },
      "execution_count": null,
      "outputs": [
        {
          "output_type": "error",
          "ename": "ValueError",
          "evalue": "ignored",
          "traceback": [
            "\u001b[0;31m---------------------------------------------------------------------------\u001b[0m",
            "\u001b[0;31mValueError\u001b[0m                                Traceback (most recent call last)",
            "\u001b[0;32m<ipython-input-64-8c428300a6b2>\u001b[0m in \u001b[0;36m<cell line: 1>\u001b[0;34m()\u001b[0m\n\u001b[0;32m----> 1\u001b[0;31m \u001b[0mlista\u001b[0m\u001b[0;34m.\u001b[0m\u001b[0mremove\u001b[0m\u001b[0;34m(\u001b[0m\u001b[0;36m0\u001b[0m\u001b[0;34m)\u001b[0m\u001b[0;34m\u001b[0m\u001b[0;34m\u001b[0m\u001b[0m\n\u001b[0m",
            "\u001b[0;31mValueError\u001b[0m: list.remove(x): x not in list"
          ]
        }
      ]
    },
    {
      "cell_type": "code",
      "source": [
        "lista.remove(4)"
      ],
      "metadata": {
        "id": "9bCTPECzvtIZ"
      },
      "execution_count": null,
      "outputs": []
    },
    {
      "cell_type": "code",
      "source": [
        "lista"
      ],
      "metadata": {
        "colab": {
          "base_uri": "https://localhost:8080/"
        },
        "id": "WSuqDy8cv2Dq",
        "outputId": "81419683-e97e-48f4-fe3d-dd10f62219ec"
      },
      "execution_count": null,
      "outputs": [
        {
          "output_type": "execute_result",
          "data": {
            "text/plain": [
              "[5, 6, 7]"
            ]
          },
          "metadata": {},
          "execution_count": 66
        }
      ]
    },
    {
      "cell_type": "code",
      "source": [
        "primeiro = lista[0]\n",
        "lista.remove(primeiro)\n",
        "lista"
      ],
      "metadata": {
        "colab": {
          "base_uri": "https://localhost:8080/"
        },
        "id": "oy8ifpG5vweV",
        "outputId": "2a0df7d0-05ed-4de1-da7c-4124a95af540"
      },
      "execution_count": null,
      "outputs": [
        {
          "output_type": "execute_result",
          "data": {
            "text/plain": [
              "[6, 7]"
            ]
          },
          "metadata": {},
          "execution_count": 67
        }
      ]
    },
    {
      "cell_type": "code",
      "source": [
        "lista.pop.__doc__"
      ],
      "metadata": {
        "colab": {
          "base_uri": "https://localhost:8080/",
          "height": 35
        },
        "id": "uEre1UZ2v88l",
        "outputId": "e8eed47c-23aa-425f-8980-47ffff5b974e"
      },
      "execution_count": null,
      "outputs": [
        {
          "output_type": "execute_result",
          "data": {
            "text/plain": [
              "'Remove and return item at index (default last).\\n\\nRaises IndexError if list is empty or index is out of range.'"
            ],
            "application/vnd.google.colaboratory.intrinsic+json": {
              "type": "string"
            }
          },
          "metadata": {},
          "execution_count": 68
        }
      ]
    },
    {
      "cell_type": "code",
      "source": [
        "lista.pop(0)"
      ],
      "metadata": {
        "colab": {
          "base_uri": "https://localhost:8080/"
        },
        "id": "gAVfYjScwCC5",
        "outputId": "efac305a-61fb-4315-8af3-1c1dc3b83158"
      },
      "execution_count": null,
      "outputs": [
        {
          "output_type": "execute_result",
          "data": {
            "text/plain": [
              "6"
            ]
          },
          "metadata": {},
          "execution_count": 69
        }
      ]
    },
    {
      "cell_type": "code",
      "source": [
        "# delete slicing"
      ],
      "metadata": {
        "id": "XtiVrAYV94lz"
      },
      "execution_count": null,
      "outputs": []
    },
    {
      "cell_type": "code",
      "source": [
        "# delete lista"
      ],
      "metadata": {
        "id": "cGuLymym96r0"
      },
      "execution_count": null,
      "outputs": []
    },
    {
      "cell_type": "markdown",
      "source": [
        "## Estrutura de dados - Tuplas <a class=\"anchor\" id=\"um\"></a>\n",
        "<br>\n",
        "\n",
        "Diferentes das Listas, Tuplas são estruturas de dados **imutáveis**. Isto significa que criada em tempo de execução, não é possível alterar os seus valores, a não ser que cópias delas sejam criada com a tão modificação.\n",
        "<div align=\"justify\">\n",
        "&emsp;\n",
        "</div>"
      ],
      "metadata": {
        "id": "Af7XT9wi-Bjy"
      }
    },
    {
      "cell_type": "markdown",
      "source": [
        "### Como definir uma Tupla (tuple)? Quais são os tipos de dados que podem ser armazenados?\n",
        "\n",
        "\n"
      ],
      "metadata": {
        "id": "nZQvj2Y_-zBM"
      }
    },
    {
      "cell_type": "code",
      "source": [
        "# ou\n",
        "t = ()\n",
        "t"
      ],
      "metadata": {
        "colab": {
          "base_uri": "https://localhost:8080/"
        },
        "id": "Syven2Owzo1u",
        "outputId": "60122bc8-1e80-453f-f544-f7c7b0dbc6ab"
      },
      "execution_count": null,
      "outputs": [
        {
          "output_type": "execute_result",
          "data": {
            "text/plain": [
              "()"
            ]
          },
          "metadata": {},
          "execution_count": 83
        }
      ]
    },
    {
      "cell_type": "code",
      "source": [
        "# tupla vazia\n",
        "t2 = tuple()"
      ],
      "metadata": {
        "id": "O98Z472ch4c1"
      },
      "execution_count": null,
      "outputs": []
    },
    {
      "cell_type": "code",
      "source": [
        "t2"
      ],
      "metadata": {
        "colab": {
          "base_uri": "https://localhost:8080/"
        },
        "id": "oPE-6fTtzrm9",
        "outputId": "f5892c5e-02e2-4138-f882-9258c1ff6f36"
      },
      "execution_count": null,
      "outputs": [
        {
          "output_type": "execute_result",
          "data": {
            "text/plain": [
              "()"
            ]
          },
          "metadata": {},
          "execution_count": 85
        }
      ]
    },
    {
      "cell_type": "code",
      "source": [
        "# tupla de strings\n",
        "strings = (\"Ana\", \"Joao\", \"Jose\")\n",
        "strings"
      ],
      "metadata": {
        "id": "y-DruKAUig8E",
        "colab": {
          "base_uri": "https://localhost:8080/"
        },
        "outputId": "f9afc556-9f1a-4c8f-ac40-ad259c4f052a"
      },
      "execution_count": null,
      "outputs": [
        {
          "output_type": "execute_result",
          "data": {
            "text/plain": [
              "('Ana', 'Joao', 'Jose')"
            ]
          },
          "metadata": {},
          "execution_count": 86
        }
      ]
    },
    {
      "cell_type": "code",
      "source": [],
      "metadata": {
        "id": "ad74iqzLz3_b"
      },
      "execution_count": null,
      "outputs": []
    },
    {
      "cell_type": "code",
      "source": [
        "# tuplas com tipos de dados variados\n",
        "tipos_variados = (\"Joao\", 12, True, [\"Python\", 10])\n",
        "tipos_variados"
      ],
      "metadata": {
        "id": "T6qV0uR5ijOo",
        "colab": {
          "base_uri": "https://localhost:8080/"
        },
        "outputId": "06f23d4b-c922-4798-fb47-4aab2f89709d"
      },
      "execution_count": null,
      "outputs": [
        {
          "output_type": "execute_result",
          "data": {
            "text/plain": [
              "('Joao', 12, True, ['Python', 10])"
            ]
          },
          "metadata": {},
          "execution_count": 87
        }
      ]
    },
    {
      "cell_type": "code",
      "source": [
        "x = [\"Python\", 10]"
      ],
      "metadata": {
        "id": "Vwblt_2f0pyc"
      },
      "execution_count": null,
      "outputs": []
    },
    {
      "cell_type": "code",
      "source": [
        "# tuplas de tuplas\n",
        "tupla_tuplas = ((0, \"pedido1\", (1, \"pedido2\")))\n",
        "tupla_tuplas"
      ],
      "metadata": {
        "id": "M0eKlhpNir-g",
        "colab": {
          "base_uri": "https://localhost:8080/"
        },
        "outputId": "1d3d773d-4704-46ba-9605-896e01b8b284"
      },
      "execution_count": null,
      "outputs": [
        {
          "output_type": "execute_result",
          "data": {
            "text/plain": [
              "(0, 'pedido1', (1, 'pedido2'))"
            ]
          },
          "metadata": {},
          "execution_count": 88
        }
      ]
    },
    {
      "cell_type": "code",
      "source": [
        "tipos_variados[3]"
      ],
      "metadata": {
        "colab": {
          "base_uri": "https://localhost:8080/"
        },
        "id": "_-TeAQLH0a_E",
        "outputId": "18743739-f57e-4d5a-f0d2-4743884fd9f9"
      },
      "execution_count": null,
      "outputs": [
        {
          "output_type": "execute_result",
          "data": {
            "text/plain": [
              "['Python', 10]"
            ]
          },
          "metadata": {},
          "execution_count": 90
        }
      ]
    },
    {
      "cell_type": "code",
      "source": [
        "tipos_variados[3].append(45)\n",
        "tipos_variados[3]"
      ],
      "metadata": {
        "colab": {
          "base_uri": "https://localhost:8080/"
        },
        "id": "2RWxXdMg02vL",
        "outputId": "66b7794e-d101-425b-f41c-5822ea1ac9d9"
      },
      "execution_count": null,
      "outputs": [
        {
          "output_type": "execute_result",
          "data": {
            "text/plain": [
              "['Python', 10, 45]"
            ]
          },
          "metadata": {},
          "execution_count": 91
        }
      ]
    },
    {
      "cell_type": "code",
      "source": [
        "tipos_variados[3].clear()\n",
        "tipos_variados[3]"
      ],
      "metadata": {
        "colab": {
          "base_uri": "https://localhost:8080/"
        },
        "id": "RhOFEflI1EYP",
        "outputId": "34719df2-14a3-4400-b278-ed836b47da1e"
      },
      "execution_count": null,
      "outputs": [
        {
          "output_type": "execute_result",
          "data": {
            "text/plain": [
              "[]"
            ]
          },
          "metadata": {},
          "execution_count": 92
        }
      ]
    },
    {
      "cell_type": "code",
      "source": [
        "tipos_variados"
      ],
      "metadata": {
        "colab": {
          "base_uri": "https://localhost:8080/"
        },
        "id": "z4IpT51E1IXr",
        "outputId": "c58f8948-cbb6-411c-afbe-67f46ed842c8"
      },
      "execution_count": null,
      "outputs": [
        {
          "output_type": "execute_result",
          "data": {
            "text/plain": [
              "('Joao', 12, True, [])"
            ]
          },
          "metadata": {},
          "execution_count": 93
        }
      ]
    },
    {
      "cell_type": "code",
      "source": [
        "dir(tipos_variados)"
      ],
      "metadata": {
        "colab": {
          "base_uri": "https://localhost:8080/"
        },
        "id": "4AnkpMcz1Mzy",
        "outputId": "73619386-490b-4296-b20c-a7dad4fd5bf2"
      },
      "execution_count": null,
      "outputs": [
        {
          "output_type": "execute_result",
          "data": {
            "text/plain": [
              "['__add__',\n",
              " '__class__',\n",
              " '__class_getitem__',\n",
              " '__contains__',\n",
              " '__delattr__',\n",
              " '__dir__',\n",
              " '__doc__',\n",
              " '__eq__',\n",
              " '__format__',\n",
              " '__ge__',\n",
              " '__getattribute__',\n",
              " '__getitem__',\n",
              " '__getnewargs__',\n",
              " '__gt__',\n",
              " '__hash__',\n",
              " '__init__',\n",
              " '__init_subclass__',\n",
              " '__iter__',\n",
              " '__le__',\n",
              " '__len__',\n",
              " '__lt__',\n",
              " '__mul__',\n",
              " '__ne__',\n",
              " '__new__',\n",
              " '__reduce__',\n",
              " '__reduce_ex__',\n",
              " '__repr__',\n",
              " '__rmul__',\n",
              " '__setattr__',\n",
              " '__sizeof__',\n",
              " '__str__',\n",
              " '__subclasshook__',\n",
              " 'count',\n",
              " 'index']"
            ]
          },
          "metadata": {},
          "execution_count": 94
        }
      ]
    },
    {
      "cell_type": "code",
      "source": [
        "del tipos_variados[3]"
      ],
      "metadata": {
        "colab": {
          "base_uri": "https://localhost:8080/",
          "height": 178
        },
        "id": "w_hW9WKe1THL",
        "outputId": "23dcc89e-1b2e-4f8b-f184-e6013f38fc6f"
      },
      "execution_count": null,
      "outputs": [
        {
          "output_type": "error",
          "ename": "TypeError",
          "evalue": "ignored",
          "traceback": [
            "\u001b[0;31m---------------------------------------------------------------------------\u001b[0m",
            "\u001b[0;31mTypeError\u001b[0m                                 Traceback (most recent call last)",
            "\u001b[0;32m<ipython-input-95-5e1142646969>\u001b[0m in \u001b[0;36m<cell line: 1>\u001b[0;34m()\u001b[0m\n\u001b[0;32m----> 1\u001b[0;31m \u001b[0;32mdel\u001b[0m \u001b[0mtipos_variados\u001b[0m\u001b[0;34m[\u001b[0m\u001b[0;36m3\u001b[0m\u001b[0;34m]\u001b[0m\u001b[0;34m\u001b[0m\u001b[0;34m\u001b[0m\u001b[0m\n\u001b[0m",
            "\u001b[0;31mTypeError\u001b[0m: 'tuple' object doesn't support item deletion"
          ]
        }
      ]
    },
    {
      "cell_type": "code",
      "source": [
        "tipos_variados.pop()"
      ],
      "metadata": {
        "colab": {
          "base_uri": "https://localhost:8080/",
          "height": 178
        },
        "id": "X9waloZX1YTW",
        "outputId": "9271b6cd-4987-4c71-e4af-36cabcb1269d"
      },
      "execution_count": null,
      "outputs": [
        {
          "output_type": "error",
          "ename": "AttributeError",
          "evalue": "ignored",
          "traceback": [
            "\u001b[0;31m---------------------------------------------------------------------------\u001b[0m",
            "\u001b[0;31mAttributeError\u001b[0m                            Traceback (most recent call last)",
            "\u001b[0;32m<ipython-input-96-b526e225c9d6>\u001b[0m in \u001b[0;36m<cell line: 1>\u001b[0;34m()\u001b[0m\n\u001b[0;32m----> 1\u001b[0;31m \u001b[0mtipos_variados\u001b[0m\u001b[0;34m.\u001b[0m\u001b[0mpop\u001b[0m\u001b[0;34m(\u001b[0m\u001b[0;34m)\u001b[0m\u001b[0;34m\u001b[0m\u001b[0;34m\u001b[0m\u001b[0m\n\u001b[0m",
            "\u001b[0;31mAttributeError\u001b[0m: 'tuple' object has no attribute 'pop'"
          ]
        }
      ]
    },
    {
      "cell_type": "code",
      "source": [
        "tipos_variados[1]"
      ],
      "metadata": {
        "colab": {
          "base_uri": "https://localhost:8080/"
        },
        "id": "HI_l9Y2M1Ih_",
        "outputId": "dedfd9e0-562b-41be-e578-d44ded25a924"
      },
      "execution_count": null,
      "outputs": [
        {
          "output_type": "execute_result",
          "data": {
            "text/plain": [
              "12"
            ]
          },
          "metadata": {},
          "execution_count": 97
        }
      ]
    },
    {
      "cell_type": "code",
      "source": [
        "tipos_variados[0:2]"
      ],
      "metadata": {
        "colab": {
          "base_uri": "https://localhost:8080/"
        },
        "id": "VK99p77n1jGs",
        "outputId": "2375ebb2-9d98-4cdb-8cf2-8a348ae23bf0"
      },
      "execution_count": null,
      "outputs": [
        {
          "output_type": "execute_result",
          "data": {
            "text/plain": [
              "('Joao', 12)"
            ]
          },
          "metadata": {},
          "execution_count": 98
        }
      ]
    },
    {
      "cell_type": "code",
      "source": [
        "type(tipos_variados[0:2])"
      ],
      "metadata": {
        "colab": {
          "base_uri": "https://localhost:8080/"
        },
        "id": "QikW2Oz41qAQ",
        "outputId": "da4369c9-355d-4413-e9ff-5c926fcc1b34"
      },
      "execution_count": null,
      "outputs": [
        {
          "output_type": "execute_result",
          "data": {
            "text/plain": [
              "tuple"
            ]
          },
          "metadata": {},
          "execution_count": 99
        }
      ]
    },
    {
      "cell_type": "code",
      "source": [
        "# tupla de listas"
      ],
      "metadata": {
        "id": "2rYmqCu8xQSu"
      },
      "execution_count": null,
      "outputs": []
    },
    {
      "cell_type": "markdown",
      "source": [
        "### Propriedades de Listas e Tuplas"
      ],
      "metadata": {
        "id": "CtJ-OEmeuQoo"
      }
    },
    {
      "cell_type": "code",
      "source": [],
      "metadata": {
        "id": "R78xfwU-uWGU"
      },
      "execution_count": null,
      "outputs": []
    },
    {
      "cell_type": "markdown",
      "source": [
        "## Imutabilidade das Tuplas\n",
        "\n",
        "Algumas operações que podem falhar ao serem aplicadas em tuplas."
      ],
      "metadata": {
        "id": "SXZoiPfu-uuP"
      }
    },
    {
      "cell_type": "code",
      "source": [
        "# atribuição\n",
        "tipos_variados[0] = 19"
      ],
      "metadata": {
        "id": "Dj2jPPKujJe7",
        "colab": {
          "base_uri": "https://localhost:8080/",
          "height": 196
        },
        "outputId": "487bd69b-2971-41b7-fc94-22584400aa39"
      },
      "execution_count": null,
      "outputs": [
        {
          "output_type": "error",
          "ename": "TypeError",
          "evalue": "ignored",
          "traceback": [
            "\u001b[0;31m---------------------------------------------------------------------------\u001b[0m",
            "\u001b[0;31mTypeError\u001b[0m                                 Traceback (most recent call last)",
            "\u001b[0;32m<ipython-input-100-9c96069a6b2f>\u001b[0m in \u001b[0;36m<cell line: 2>\u001b[0;34m()\u001b[0m\n\u001b[1;32m      1\u001b[0m \u001b[0;31m# atribuição\u001b[0m\u001b[0;34m\u001b[0m\u001b[0;34m\u001b[0m\u001b[0m\n\u001b[0;32m----> 2\u001b[0;31m \u001b[0mtipos_variados\u001b[0m\u001b[0;34m[\u001b[0m\u001b[0;36m0\u001b[0m\u001b[0;34m]\u001b[0m \u001b[0;34m=\u001b[0m \u001b[0;36m19\u001b[0m\u001b[0;34m\u001b[0m\u001b[0;34m\u001b[0m\u001b[0m\n\u001b[0m",
            "\u001b[0;31mTypeError\u001b[0m: 'tuple' object does not support item assignment"
          ]
        }
      ]
    },
    {
      "cell_type": "code",
      "source": [
        "# concatenação\n",
        "tupla1 = (1, 3)\n",
        "tupla2 = (4, 5)\n",
        "tupla3 = tupla1 + tupla2\n",
        "tupla3"
      ],
      "metadata": {
        "id": "00rFZ9e5pw6d",
        "colab": {
          "base_uri": "https://localhost:8080/"
        },
        "outputId": "9395711a-581f-4ede-a498-42a94cc97081"
      },
      "execution_count": null,
      "outputs": [
        {
          "output_type": "execute_result",
          "data": {
            "text/plain": [
              "(1, 3, 4, 5)"
            ]
          },
          "metadata": {},
          "execution_count": 101
        }
      ]
    },
    {
      "cell_type": "code",
      "source": [
        "# concatenação em loops\n",
        "t = ()\n",
        "for i in range(10):\n",
        "  t += (i,) # tupla\n",
        "t"
      ],
      "metadata": {
        "id": "gs5Qw8e8tJhi",
        "colab": {
          "base_uri": "https://localhost:8080/"
        },
        "outputId": "d80b1ae5-4959-4eb1-933e-a3c2cce93669"
      },
      "execution_count": null,
      "outputs": [
        {
          "output_type": "execute_result",
          "data": {
            "text/plain": [
              "(0, 1, 2, 3, 4, 5, 6, 7, 8, 9)"
            ]
          },
          "metadata": {},
          "execution_count": 102
        }
      ]
    },
    {
      "cell_type": "code",
      "source": [
        "# conversão de tupla pra lista\n",
        "l = list(t)\n",
        "l"
      ],
      "metadata": {
        "id": "0q4KdqzwpzLR",
        "colab": {
          "base_uri": "https://localhost:8080/"
        },
        "outputId": "535ceb40-ce01-4951-cf26-e27fb5b2d3c0"
      },
      "execution_count": null,
      "outputs": [
        {
          "output_type": "execute_result",
          "data": {
            "text/plain": [
              "[0, 1, 2, 3, 4, 5, 6, 7, 8, 9]"
            ]
          },
          "metadata": {},
          "execution_count": 105
        }
      ]
    },
    {
      "cell_type": "code",
      "source": [
        "t"
      ],
      "metadata": {
        "colab": {
          "base_uri": "https://localhost:8080/"
        },
        "id": "76TrBPre3Mi8",
        "outputId": "99c7dffe-dec6-43db-8dcc-32a720c88a85"
      },
      "execution_count": null,
      "outputs": [
        {
          "output_type": "execute_result",
          "data": {
            "text/plain": [
              "(0, 1, 2, 3, 4, 5, 6, 7, 8, 9)"
            ]
          },
          "metadata": {},
          "execution_count": 108
        }
      ]
    },
    {
      "cell_type": "code",
      "source": [
        "l.pop()"
      ],
      "metadata": {
        "colab": {
          "base_uri": "https://localhost:8080/"
        },
        "id": "SI5ng0nU2_Y9",
        "outputId": "4a6abb25-93ae-43b9-d2c1-53d4626a2669"
      },
      "execution_count": null,
      "outputs": [
        {
          "output_type": "execute_result",
          "data": {
            "text/plain": [
              "9"
            ]
          },
          "metadata": {},
          "execution_count": 106
        }
      ]
    },
    {
      "cell_type": "code",
      "source": [
        "tuple(l)"
      ],
      "metadata": {
        "colab": {
          "base_uri": "https://localhost:8080/"
        },
        "id": "mxujsgpW3CGZ",
        "outputId": "b3884ba2-f8e7-45b5-f9fe-af17aefb874a"
      },
      "execution_count": null,
      "outputs": [
        {
          "output_type": "execute_result",
          "data": {
            "text/plain": [
              "(0, 1, 2, 3, 4, 5, 6, 7, 8)"
            ]
          },
          "metadata": {},
          "execution_count": 107
        }
      ]
    },
    {
      "cell_type": "code",
      "source": [
        "lista1 = [1, 2, 4]\n",
        "lista2 = lista1.copy()"
      ],
      "metadata": {
        "id": "18ta3kSJ3Rmp"
      },
      "execution_count": null,
      "outputs": []
    },
    {
      "cell_type": "code",
      "source": [
        "lista2.pop()\n",
        "lista2"
      ],
      "metadata": {
        "colab": {
          "base_uri": "https://localhost:8080/"
        },
        "id": "emIulvbC3V5H",
        "outputId": "45913330-910c-4dba-bef5-f095118cab91"
      },
      "execution_count": null,
      "outputs": [
        {
          "output_type": "execute_result",
          "data": {
            "text/plain": [
              "[1, 2]"
            ]
          },
          "metadata": {},
          "execution_count": 113
        }
      ]
    },
    {
      "cell_type": "code",
      "source": [
        "lista1"
      ],
      "metadata": {
        "colab": {
          "base_uri": "https://localhost:8080/"
        },
        "id": "yeWXybCH3Zqz",
        "outputId": "1fa28cbe-c5ac-4938-a7cb-fbb63fb53107"
      },
      "execution_count": null,
      "outputs": [
        {
          "output_type": "execute_result",
          "data": {
            "text/plain": [
              "[1, 2]"
            ]
          },
          "metadata": {},
          "execution_count": 114
        }
      ]
    },
    {
      "cell_type": "markdown",
      "source": [
        "## Desempacotamento de tuplas\n",
        "\n",
        "Uma operação bastante interessante que podemos realizar com tuplas é o **desempacotamento** de tuplas, que aparecerá em muitos locais com seu nome em inglês, *tuple unpacking*.\n",
        "<br>\n",
        "<br>\n",
        "O desempacotamento de tupla é uma operação que permite facilmente atribuir o conteúdo de uma tupla a variáveis individuais, sem a necessidade de escrever múltiplas linhas de código e manipular índices. Vejamos um exemplo básico:"
      ],
      "metadata": {
        "id": "zaa24P66j58v"
      }
    },
    {
      "cell_type": "code",
      "source": [
        "pessoa = (\"Joao\", 34, \"Data Scientist\")\n",
        "pessoa"
      ],
      "metadata": {
        "id": "RJy1tI4NGiAO",
        "colab": {
          "base_uri": "https://localhost:8080/"
        },
        "outputId": "9fcc88bd-1cf4-4650-e3bf-8fa9d590b749"
      },
      "execution_count": null,
      "outputs": [
        {
          "output_type": "execute_result",
          "data": {
            "text/plain": [
              "('Joao', 34, 'Data Scientist')"
            ]
          },
          "metadata": {},
          "execution_count": 116
        }
      ]
    },
    {
      "cell_type": "code",
      "source": [
        "nome, idade, profissao = pessoa"
      ],
      "metadata": {
        "id": "CvR9K049GiC4"
      },
      "execution_count": null,
      "outputs": []
    },
    {
      "cell_type": "code",
      "source": [
        "print(f\"Nome: {nome} idade: {idade} profissão: {profissao}\")"
      ],
      "metadata": {
        "colab": {
          "base_uri": "https://localhost:8080/"
        },
        "id": "MtH9jai_38TT",
        "outputId": "54cffdc2-d1ac-4c6a-e2e1-30ca4dcd687e"
      },
      "execution_count": null,
      "outputs": [
        {
          "output_type": "stream",
          "name": "stdout",
          "text": [
            "Nome: Joao idade: 34 profissão: Data Scientist\n"
          ]
        }
      ]
    },
    {
      "cell_type": "code",
      "source": [
        "def soma_sub(x, y):\n",
        "  sub = x - y\n",
        "  sum = x + y\n",
        "  return sum, sub"
      ],
      "metadata": {
        "id": "Yl2Da6TU4SHg"
      },
      "execution_count": null,
      "outputs": []
    },
    {
      "cell_type": "code",
      "source": [
        "type(soma_sub(x=3, y=5))"
      ],
      "metadata": {
        "colab": {
          "base_uri": "https://localhost:8080/"
        },
        "id": "Ccm7yjeO4qfV",
        "outputId": "9f72bbf4-9764-460f-87b2-4a9f34b372d2"
      },
      "execution_count": null,
      "outputs": [
        {
          "output_type": "execute_result",
          "data": {
            "text/plain": [
              "tuple"
            ]
          },
          "metadata": {},
          "execution_count": 127
        }
      ]
    },
    {
      "cell_type": "code",
      "source": [
        "operacao = soma_sub(x=3, y=5)\n",
        "operacao"
      ],
      "metadata": {
        "colab": {
          "base_uri": "https://localhost:8080/"
        },
        "id": "I-OTOEHG442f",
        "outputId": "ffe8a2b8-258d-4234-802e-d3a90447b92b"
      },
      "execution_count": null,
      "outputs": [
        {
          "output_type": "execute_result",
          "data": {
            "text/plain": [
              "(8, -2)"
            ]
          },
          "metadata": {},
          "execution_count": 128
        }
      ]
    },
    {
      "cell_type": "code",
      "source": [
        "operacao[0]"
      ],
      "metadata": {
        "colab": {
          "base_uri": "https://localhost:8080/"
        },
        "id": "k1vGLjpy4_lQ",
        "outputId": "297a4165-2184-4070-8cb2-2781160911f9"
      },
      "execution_count": null,
      "outputs": [
        {
          "output_type": "execute_result",
          "data": {
            "text/plain": [
              "8"
            ]
          },
          "metadata": {},
          "execution_count": 129
        }
      ]
    },
    {
      "cell_type": "code",
      "source": [
        "soma, sub = soma_sub(x=3, y=5)\n",
        "print(soma, sub)"
      ],
      "metadata": {
        "colab": {
          "base_uri": "https://localhost:8080/"
        },
        "id": "0E-9Z5rk5EBk",
        "outputId": "764827ce-57bb-476c-849e-28a2458f3721"
      },
      "execution_count": null,
      "outputs": [
        {
          "output_type": "stream",
          "name": "stdout",
          "text": [
            "8 -2\n"
          ]
        }
      ]
    },
    {
      "cell_type": "code",
      "source": [
        "def func(x):\n",
        "  x = x * 2\n",
        "  print(x)\n",
        "  return x"
      ],
      "metadata": {
        "id": "K70ydUBQ5X09"
      },
      "execution_count": null,
      "outputs": []
    },
    {
      "cell_type": "code",
      "source": [
        "x = 3"
      ],
      "metadata": {
        "id": "HptkgZCq6MiW"
      },
      "execution_count": null,
      "outputs": []
    },
    {
      "cell_type": "code",
      "source": [
        "def func2():\n",
        "  global x\n",
        "  x = x * 2\n",
        "  print(x)\n",
        "  return x"
      ],
      "metadata": {
        "id": "xATDTXih6J10"
      },
      "execution_count": null,
      "outputs": []
    },
    {
      "cell_type": "code",
      "source": [
        "func2()"
      ],
      "metadata": {
        "colab": {
          "base_uri": "https://localhost:8080/"
        },
        "id": "Ye6nB4o66Qmd",
        "outputId": "cbf1bcae-4d1a-4778-c98f-0975d3d2742a"
      },
      "execution_count": null,
      "outputs": [
        {
          "output_type": "stream",
          "name": "stdout",
          "text": [
            "6\n"
          ]
        },
        {
          "output_type": "execute_result",
          "data": {
            "text/plain": [
              "6"
            ]
          },
          "metadata": {},
          "execution_count": 147
        }
      ]
    },
    {
      "cell_type": "code",
      "source": [
        "x"
      ],
      "metadata": {
        "colab": {
          "base_uri": "https://localhost:8080/"
        },
        "id": "H5K0cCBc5pjR",
        "outputId": "e4fc0470-d757-4cd9-ffd0-98c8df97584d"
      },
      "execution_count": null,
      "outputs": [
        {
          "output_type": "execute_result",
          "data": {
            "text/plain": [
              "6"
            ]
          },
          "metadata": {},
          "execution_count": 148
        }
      ]
    },
    {
      "cell_type": "code",
      "source": [
        "x = 2"
      ],
      "metadata": {
        "id": "6deF2v5a5f7C"
      },
      "execution_count": null,
      "outputs": []
    },
    {
      "cell_type": "code",
      "source": [
        "func(x)"
      ],
      "metadata": {
        "colab": {
          "base_uri": "https://localhost:8080/"
        },
        "id": "JpRqR03J5qyF",
        "outputId": "898b7692-1287-4c7e-8d45-a1bf2c211144"
      },
      "execution_count": null,
      "outputs": [
        {
          "output_type": "stream",
          "name": "stdout",
          "text": [
            "4\n"
          ]
        },
        {
          "output_type": "execute_result",
          "data": {
            "text/plain": [
              "4"
            ]
          },
          "metadata": {},
          "execution_count": 135
        }
      ]
    },
    {
      "cell_type": "code",
      "source": [
        "x"
      ],
      "metadata": {
        "colab": {
          "base_uri": "https://localhost:8080/"
        },
        "id": "v6z_lsgP5wA2",
        "outputId": "51f6ac7c-8e84-4510-f5b9-8872a403dd6d"
      },
      "execution_count": null,
      "outputs": [
        {
          "output_type": "execute_result",
          "data": {
            "text/plain": [
              "2"
            ]
          },
          "metadata": {},
          "execution_count": 136
        }
      ]
    },
    {
      "cell_type": "markdown",
      "source": [
        "Uma limitação inicial que temos com essa técnica é que precisamos utilizar exatamente 1 variável para cada elemento da tupla, mesmo que não estejamos interessados em todos os seus elementos. Podemos contornar isso utilizando o operador *. Ao utilizá-lo em uma das variáveis no desempacotamento, estamos sinalizando que ele pode receber múltiplos valores, formando uma coleção com parte dos valores:"
      ],
      "metadata": {
        "id": "kSpPoiWakcGk"
      }
    },
    {
      "cell_type": "code",
      "source": [
        "linguagens = ('Python', 'JavaScript', 'HTML', 'CSS', 'R')"
      ],
      "metadata": {
        "id": "NdgQIquBkjIV"
      },
      "execution_count": null,
      "outputs": []
    },
    {
      "cell_type": "code",
      "source": [
        "linguagens"
      ],
      "metadata": {
        "colab": {
          "base_uri": "https://localhost:8080/"
        },
        "id": "Wg1D3QXDN9eL",
        "outputId": "1b968ac2-f21f-466c-b9bf-f6e92f59f038"
      },
      "execution_count": null,
      "outputs": [
        {
          "output_type": "execute_result",
          "data": {
            "text/plain": [
              "('Python', 'JavaScript', 'HTML', 'CSS', 'R')"
            ]
          },
          "metadata": {},
          "execution_count": 150
        }
      ]
    },
    {
      "cell_type": "code",
      "source": [
        "primeira, *resto = linguagens\n",
        "print(primeira, resto)"
      ],
      "metadata": {
        "colab": {
          "base_uri": "https://localhost:8080/"
        },
        "id": "AWw8K1XB68Rb",
        "outputId": "ef42ad64-920c-4d9d-892f-0a12c5a47aaa"
      },
      "execution_count": null,
      "outputs": [
        {
          "output_type": "stream",
          "name": "stdout",
          "text": [
            "Python ['JavaScript', 'HTML', 'CSS', 'R']\n"
          ]
        }
      ]
    },
    {
      "cell_type": "code",
      "source": [
        "type(resto)"
      ],
      "metadata": {
        "colab": {
          "base_uri": "https://localhost:8080/"
        },
        "id": "xS08ExvQ8JGz",
        "outputId": "da80298f-af48-454a-bc91-5929ea01f546"
      },
      "execution_count": null,
      "outputs": [
        {
          "output_type": "execute_result",
          "data": {
            "text/plain": [
              "list"
            ]
          },
          "metadata": {},
          "execution_count": 158
        }
      ]
    },
    {
      "cell_type": "code",
      "source": [
        "*resto, ultimo = linguagens\n",
        "print(ultimo, resto)"
      ],
      "metadata": {
        "colab": {
          "base_uri": "https://localhost:8080/"
        },
        "id": "420LWEP47OTp",
        "outputId": "779b9934-b01a-41b8-a3f8-218c7f33aaeb"
      },
      "execution_count": null,
      "outputs": [
        {
          "output_type": "stream",
          "name": "stdout",
          "text": [
            "R ['Python', 'JavaScript', 'HTML', 'CSS']\n"
          ]
        }
      ]
    },
    {
      "cell_type": "code",
      "source": [
        "*primeira, *ultimo = linguagens"
      ],
      "metadata": {
        "colab": {
          "base_uri": "https://localhost:8080/",
          "height": 143
        },
        "id": "Z3G9weel7xm8",
        "outputId": "dfe635c5-d309-4136-d5b0-31850512bae9"
      },
      "execution_count": null,
      "outputs": [
        {
          "output_type": "error",
          "ename": "SyntaxError",
          "evalue": "ignored",
          "traceback": [
            "\u001b[0;36m  File \u001b[0;32m\"<ipython-input-156-0ca5bd1ebdcd>\"\u001b[0;36m, line \u001b[0;32m1\u001b[0m\n\u001b[0;31m    *primeira, *ultimo = linguagens\u001b[0m\n\u001b[0m    ^\u001b[0m\n\u001b[0;31mSyntaxError\u001b[0m\u001b[0;31m:\u001b[0m multiple starred expressions in assignment\n"
          ]
        }
      ]
    },
    {
      "cell_type": "code",
      "source": [
        "primeira, *meio, ultimo = linguagens\n",
        "print(primeira, meio, ultimo)"
      ],
      "metadata": {
        "colab": {
          "base_uri": "https://localhost:8080/"
        },
        "id": "3rzXd5jc7Xic",
        "outputId": "6b602bae-0f46-40ec-e5bd-171bf945530c"
      },
      "execution_count": null,
      "outputs": [
        {
          "output_type": "stream",
          "name": "stdout",
          "text": [
            "Python ['JavaScript', 'HTML', 'CSS'] R\n"
          ]
        }
      ]
    },
    {
      "cell_type": "markdown",
      "source": [
        "###  Operações com tuplas \"implícitas\"\n",
        "\n",
        "O Python oferece alguns truques que permitem escrever códigos mais enxutos do que em outras linguagens, e parte desses truques utiliza sintaxe de tupla. Por exemplo, para criar duas variáveis e atribuir valores simultaneamente a elas, podemos utilizar vírgulas:"
      ],
      "metadata": {
        "id": "U7cHMRPilJNz"
      }
    },
    {
      "cell_type": "code",
      "source": [
        "x, y = (10, input(\"Digite um número: \"))\n",
        "\n",
        "print(x) # 10\n",
        "print(y) # 20"
      ],
      "metadata": {
        "colab": {
          "base_uri": "https://localhost:8080/"
        },
        "id": "HYEAylWCljxX",
        "outputId": "26d322a7-5e04-4c94-e0be-95d8d65ffc4f"
      },
      "execution_count": null,
      "outputs": [
        {
          "output_type": "stream",
          "name": "stdout",
          "text": [
            "Digite um número: 15\n",
            "10\n",
            "15\n"
          ]
        }
      ]
    },
    {
      "cell_type": "code",
      "source": [
        "[10, input(\"Digite um número: \")]"
      ],
      "metadata": {
        "colab": {
          "base_uri": "https://localhost:8080/"
        },
        "id": "ZsYhbIqr9F7J",
        "outputId": "1754df5e-b7a5-4fcd-8f3d-b69c1ccb7923"
      },
      "execution_count": null,
      "outputs": [
        {
          "name": "stdout",
          "output_type": "stream",
          "text": [
            "Digite um número: 45\n"
          ]
        },
        {
          "output_type": "execute_result",
          "data": {
            "text/plain": [
              "[10, '45']"
            ]
          },
          "metadata": {},
          "execution_count": 162
        }
      ]
    },
    {
      "cell_type": "code",
      "source": [
        "# swap\n",
        "x, y = y, x\n",
        "print(x)\n",
        "print(y)"
      ],
      "metadata": {
        "colab": {
          "base_uri": "https://localhost:8080/"
        },
        "id": "kRLPbKayQtph",
        "outputId": "cff9666d-d9b6-49a5-dbba-ac20a9694386"
      },
      "execution_count": null,
      "outputs": [
        {
          "output_type": "stream",
          "name": "stdout",
          "text": [
            "15\n",
            "10\n"
          ]
        }
      ]
    },
    {
      "cell_type": "code",
      "source": [],
      "metadata": {
        "id": "p0fh3tdlpSGN"
      },
      "execution_count": null,
      "outputs": []
    },
    {
      "cell_type": "code",
      "source": [],
      "metadata": {
        "id": "PAAUZCpwl5Oa"
      },
      "execution_count": null,
      "outputs": []
    },
    {
      "cell_type": "markdown",
      "source": [
        "## Facilidades para iteração\n",
        "\n",
        "Sempre que possível, é preferível iterar uma coleção - seja ela uma lista ou uma tupla - de maneira direta utilizando for sem índices. Há alguns problemas onde pode ser difícil escapar do índice, pois nossa lógica irá depender de posição de alguma maneira.\n",
        "\n",
        "Veremos duas estruturas que irão nos auxiliar a fazer iteração por índice sem precisar utilizar uma estrutura pouco legível como:\n"
      ],
      "metadata": {
        "id": "9m6p8HEPl6DR"
      }
    },
    {
      "cell_type": "code",
      "source": [
        "lista = [5, 8, 9, 0]\n",
        "for elemento in lista:\n",
        "  print(lista.index(elemento), lista[lista.index(elemento)])"
      ],
      "metadata": {
        "id": "VzzTvB33RjO1",
        "colab": {
          "base_uri": "https://localhost:8080/"
        },
        "outputId": "2c171405-5c2f-445f-ae15-cfe90b32fd23"
      },
      "execution_count": null,
      "outputs": [
        {
          "output_type": "stream",
          "name": "stdout",
          "text": [
            "0 5\n",
            "1 8\n",
            "2 9\n",
            "3 0\n"
          ]
        }
      ]
    },
    {
      "cell_type": "code",
      "source": [
        "lista = [5, 8, 5, 0]\n",
        "for elemento in lista:\n",
        "  print(lista.index(elemento), elemento)"
      ],
      "metadata": {
        "colab": {
          "base_uri": "https://localhost:8080/"
        },
        "id": "YfhRV1X7-iwf",
        "outputId": "ad042b05-bc08-42e5-f249-2a5ca63d1ec9"
      },
      "execution_count": null,
      "outputs": [
        {
          "output_type": "stream",
          "name": "stdout",
          "text": [
            "0 5\n",
            "1 8\n",
            "0 5\n",
            "3 0\n"
          ]
        }
      ]
    },
    {
      "cell_type": "code",
      "source": [
        "for elemento in lista:\n",
        "  print(lista.index(elemento), elemento)"
      ],
      "metadata": {
        "colab": {
          "base_uri": "https://localhost:8080/"
        },
        "id": "sdhwHwtG-A-4",
        "outputId": "b595b202-69cf-4a32-c1a0-9629a6c7dff6"
      },
      "execution_count": null,
      "outputs": [
        {
          "output_type": "stream",
          "name": "stdout",
          "text": [
            "0 5\n",
            "1 8\n",
            "2 9\n",
            "3 0\n"
          ]
        }
      ]
    },
    {
      "cell_type": "code",
      "source": [
        "for i in range(len(lista)):\n",
        "  print(i, lista[i])"
      ],
      "metadata": {
        "colab": {
          "base_uri": "https://localhost:8080/"
        },
        "id": "vK0cVX6E-It5",
        "outputId": "55c3399f-fe8b-4323-a266-a717ac38d90a"
      },
      "execution_count": null,
      "outputs": [
        {
          "output_type": "stream",
          "name": "stdout",
          "text": [
            "0 5\n",
            "1 8\n",
            "2 9\n",
            "3 0\n"
          ]
        }
      ]
    },
    {
      "cell_type": "code",
      "source": [
        "lista = [5, 8, 5, 0]\n",
        "for indice, valor in enumerate(lista):\n",
        "  print(indice, valor)"
      ],
      "metadata": {
        "id": "Sm14h9mdmkgo",
        "colab": {
          "base_uri": "https://localhost:8080/"
        },
        "outputId": "f4870676-8b5d-45f3-8c0a-bb3fc27a7da1"
      },
      "execution_count": null,
      "outputs": [
        {
          "output_type": "stream",
          "name": "stdout",
          "text": [
            "0 5\n",
            "1 8\n",
            "2 5\n",
            "3 0\n"
          ]
        }
      ]
    },
    {
      "cell_type": "code",
      "source": [
        "list(enumerate(lista))"
      ],
      "metadata": {
        "colab": {
          "base_uri": "https://localhost:8080/"
        },
        "id": "E8B7C6Zw_Kgs",
        "outputId": "0dd25dab-e7b1-4d1c-deea-d637dc9399c3"
      },
      "execution_count": null,
      "outputs": [
        {
          "output_type": "execute_result",
          "data": {
            "text/plain": [
              "[(0, 5), (1, 8), (2, 5), (3, 0)]"
            ]
          },
          "metadata": {},
          "execution_count": 176
        }
      ]
    },
    {
      "cell_type": "markdown",
      "source": [
        "### Enumerate\n",
        "\n",
        "Considere um problema qualquer onde o índice importa. Por exemplo, suponha que você possua uma lista de strings e gostaria de exibi-la intercalando uma em letra maiúscula e outra em letra minúscula (assim como frequentemente representamos tabelas intercalando as cores de suas linhas em editores de planilha para melhorar a legibilidade).\n",
        "<br>\n",
        "<br>\n",
        "A lógica desse problema poderia ser resolvida usando índice:"
      ],
      "metadata": {
        "id": "oa2Ot9v_mtou"
      }
    },
    {
      "cell_type": "code",
      "source": [
        "lista_frutas = ['abacate', 'banana', 'carambola', 'damasco', 'embaúba', 'framboesa', 'goiaba']"
      ],
      "metadata": {
        "id": "_WuCCKH-m3Dk"
      },
      "execution_count": null,
      "outputs": []
    },
    {
      "cell_type": "code",
      "source": [
        "for indice, valor in enumerate(lista_frutas):\n",
        "  print(indice, valor)"
      ],
      "metadata": {
        "colab": {
          "base_uri": "https://localhost:8080/"
        },
        "id": "9CKA0L_A-znp",
        "outputId": "2acff5fc-47f9-435a-a775-498306df8e17"
      },
      "execution_count": null,
      "outputs": [
        {
          "output_type": "stream",
          "name": "stdout",
          "text": [
            "0 abacate\n",
            "1 banana\n",
            "2 carambola\n",
            "3 damasco\n",
            "4 embaúba\n",
            "5 framboesa\n",
            "6 goiaba\n"
          ]
        }
      ]
    },
    {
      "cell_type": "code",
      "source": [
        "# usando range"
      ],
      "metadata": {
        "id": "POdJF-egHeme"
      },
      "execution_count": null,
      "outputs": []
    },
    {
      "cell_type": "code",
      "source": [
        "# usando o enumerate"
      ],
      "metadata": {
        "id": "BWB8x6vJm58p"
      },
      "execution_count": null,
      "outputs": []
    },
    {
      "cell_type": "code",
      "source": [],
      "metadata": {
        "id": "_ntT-MAtnYDc"
      },
      "execution_count": null,
      "outputs": []
    },
    {
      "cell_type": "markdown",
      "source": [
        "### zip\n",
        "\n",
        "Vamos pensar em um problema onde precisamos percorrer duas listas simultaneamente. Por exemplo, considere que temos uma lista com os nomes de todos os alunos de uma turma, e outra com as notas, na mesma ordem. Como faríamos para acessar, simultaneamente, o nome de um aluno e a sua nota?\n",
        "\n",
        "Esse é um problema onde, a princípio, utilizaríamos índice. Se usarmos o mesmo índice nas duas listas, estamos na prática percorrendo ambas as listas simultaneamente:"
      ],
      "metadata": {
        "id": "TLWW3vDUm6QD"
      }
    },
    {
      "cell_type": "code",
      "source": [
        "alunos = ['Paul', 'John', 'George', 'Ringo', 'Andreas']\n",
        "notas = [10, 9.5, 7, 6]"
      ],
      "metadata": {
        "id": "LgNgehyQnuGd"
      },
      "execution_count": null,
      "outputs": []
    },
    {
      "cell_type": "code",
      "source": [
        "# usando range\n",
        "for i in range(len(alunos)):\n",
        "  print(alunos[i], notas[i])"
      ],
      "metadata": {
        "id": "yfIhhTrXHoTP",
        "colab": {
          "base_uri": "https://localhost:8080/",
          "height": 282
        },
        "outputId": "d28ba538-6aeb-4ade-c90c-39cf13beec05"
      },
      "execution_count": null,
      "outputs": [
        {
          "output_type": "stream",
          "name": "stdout",
          "text": [
            "Paul 10\n",
            "John 9.5\n",
            "George 7\n",
            "Ringo 6\n"
          ]
        },
        {
          "output_type": "error",
          "ename": "IndexError",
          "evalue": "ignored",
          "traceback": [
            "\u001b[0;31m---------------------------------------------------------------------------\u001b[0m",
            "\u001b[0;31mIndexError\u001b[0m                                Traceback (most recent call last)",
            "\u001b[0;32m<ipython-input-182-454a477f4c6d>\u001b[0m in \u001b[0;36m<cell line: 2>\u001b[0;34m()\u001b[0m\n\u001b[1;32m      1\u001b[0m \u001b[0;31m# usando range\u001b[0m\u001b[0;34m\u001b[0m\u001b[0;34m\u001b[0m\u001b[0m\n\u001b[1;32m      2\u001b[0m \u001b[0;32mfor\u001b[0m \u001b[0mi\u001b[0m \u001b[0;32min\u001b[0m \u001b[0mrange\u001b[0m\u001b[0;34m(\u001b[0m\u001b[0mlen\u001b[0m\u001b[0;34m(\u001b[0m\u001b[0malunos\u001b[0m\u001b[0;34m)\u001b[0m\u001b[0;34m)\u001b[0m\u001b[0;34m:\u001b[0m\u001b[0;34m\u001b[0m\u001b[0;34m\u001b[0m\u001b[0m\n\u001b[0;32m----> 3\u001b[0;31m   \u001b[0mprint\u001b[0m\u001b[0;34m(\u001b[0m\u001b[0malunos\u001b[0m\u001b[0;34m[\u001b[0m\u001b[0mi\u001b[0m\u001b[0;34m]\u001b[0m\u001b[0;34m,\u001b[0m \u001b[0mnotas\u001b[0m\u001b[0;34m[\u001b[0m\u001b[0mi\u001b[0m\u001b[0;34m]\u001b[0m\u001b[0;34m)\u001b[0m\u001b[0;34m\u001b[0m\u001b[0;34m\u001b[0m\u001b[0m\n\u001b[0m",
            "\u001b[0;31mIndexError\u001b[0m: list index out of range"
          ]
        }
      ]
    },
    {
      "cell_type": "code",
      "source": [
        "alunos = ['Paul', 'John', 'George', 'Ringo', 'Andreas']\n",
        "notas = [10, 9.5, 7, 6]\n",
        "profissoes = [\"Cientista de dados\", \"Medico\", \"Advogado\", \"Porteiro\"]"
      ],
      "metadata": {
        "id": "3RoRFDZWAnVW"
      },
      "execution_count": null,
      "outputs": []
    },
    {
      "cell_type": "code",
      "source": [
        "# usando o zip\n",
        "for aluno, nota, profissao in zip(alunos, notas, profissoes):\n",
        "  print(aluno, nota, profissao)"
      ],
      "metadata": {
        "id": "zjlpDYSBn0ir",
        "colab": {
          "base_uri": "https://localhost:8080/"
        },
        "outputId": "9bb288ca-e60c-4df4-9512-87b51a216131"
      },
      "execution_count": null,
      "outputs": [
        {
          "output_type": "stream",
          "name": "stdout",
          "text": [
            "Paul 10 Cientista de dados\n",
            "John 9.5 Medico\n",
            "George 7 Advogado\n",
            "Ringo 6 Porteiro\n"
          ]
        }
      ]
    },
    {
      "cell_type": "code",
      "source": [
        "for aluno, nota, profissao in zip(alunos, notas, profissoes):\n",
        "  print(aluno, nota, profissao)"
      ],
      "metadata": {
        "colab": {
          "base_uri": "https://localhost:8080/"
        },
        "id": "aT3J8F9HCSMy",
        "outputId": "774b4a1e-e445-4634-e0f1-3f59a541ece0"
      },
      "execution_count": null,
      "outputs": [
        {
          "output_type": "stream",
          "name": "stdout",
          "text": [
            "Paul 10 Cientista de dados\n",
            "John 9.5 Medico\n",
            "George 7 Advogado\n",
            "Ringo 6 Porteiro\n"
          ]
        }
      ]
    },
    {
      "cell_type": "code",
      "source": [
        "count = 0\n",
        "for aluno, nota, profissao in zip(alunos, notas, profissoes):\n",
        "  count += 1\n",
        "  print(aluno, nota, profissao)"
      ],
      "metadata": {
        "colab": {
          "base_uri": "https://localhost:8080/"
        },
        "id": "2qmiaJ2bCnc9",
        "outputId": "09f702c5-bd35-4307-d058-d3ad39928ffd"
      },
      "execution_count": null,
      "outputs": [
        {
          "output_type": "stream",
          "name": "stdout",
          "text": [
            "Paul 10 Cientista de dados\n",
            "John 9.5 Medico\n",
            "George 7 Advogado\n",
            "Ringo 6 Porteiro\n"
          ]
        }
      ]
    },
    {
      "cell_type": "code",
      "source": [
        "notas.append(None)\n",
        "profissoes.append(None)"
      ],
      "metadata": {
        "id": "6WCiCzm1DIeJ"
      },
      "execution_count": null,
      "outputs": []
    },
    {
      "cell_type": "code",
      "source": [
        "for aluno, nota, profissao in zip(alunos, notas, profissoes):\n",
        "  print(aluno, nota, profissao)"
      ],
      "metadata": {
        "id": "sw0SusbxDZuS",
        "outputId": "4dc4d0f7-c896-4cb7-ef4a-5d0f7b849612",
        "colab": {
          "base_uri": "https://localhost:8080/"
        }
      },
      "execution_count": null,
      "outputs": [
        {
          "output_type": "stream",
          "name": "stdout",
          "text": [
            "Paul 10 Cientista de dados\n",
            "John 9.5 Medico\n",
            "George 7 Advogado\n",
            "Ringo 6 Porteiro\n",
            "Andreas None None\n"
          ]
        }
      ]
    },
    {
      "cell_type": "code",
      "source": [
        "print(count)"
      ],
      "metadata": {
        "colab": {
          "base_uri": "https://localhost:8080/"
        },
        "id": "QrP_oFCACsZk",
        "outputId": "11540ddf-1ff3-48bb-c3ce-e48d22d3ddee"
      },
      "execution_count": null,
      "outputs": [
        {
          "output_type": "stream",
          "name": "stdout",
          "text": [
            "4\n"
          ]
        }
      ]
    },
    {
      "cell_type": "code",
      "source": [
        "print(alunos[count], None)"
      ],
      "metadata": {
        "colab": {
          "base_uri": "https://localhost:8080/"
        },
        "id": "fwqytDAWCwXh",
        "outputId": "b27419e0-8921-4233-dfcd-3ed23b8e47a0"
      },
      "execution_count": null,
      "outputs": [
        {
          "output_type": "stream",
          "name": "stdout",
          "text": [
            "Andreas None\n"
          ]
        }
      ]
    },
    {
      "cell_type": "code",
      "source": [
        "print(zip.__doc__)"
      ],
      "metadata": {
        "colab": {
          "base_uri": "https://localhost:8080/"
        },
        "id": "FxAQkW2yCKED",
        "outputId": "de39203d-b6f7-42ed-908b-bfaada9be6d6"
      },
      "execution_count": null,
      "outputs": [
        {
          "output_type": "stream",
          "name": "stdout",
          "text": [
            "zip(*iterables, strict=False) --> Yield tuples until an input is exhausted.\n",
            "\n",
            "   >>> list(zip('abcdefg', range(3), range(4)))\n",
            "   [('a', 0, 0), ('b', 1, 1), ('c', 2, 2)]\n",
            "\n",
            "The zip object yields n-length tuples, where n is the number of iterables\n",
            "passed as positional arguments to zip().  The i-th element in every tuple\n",
            "comes from the i-th iterable argument to zip().  This continues until the\n",
            "shortest argument is exhausted.\n",
            "\n",
            "If strict is true and one of the arguments is exhausted before the others,\n",
            "raise a ValueError.\n"
          ]
        }
      ]
    },
    {
      "cell_type": "code",
      "source": [
        "list(zip(alunos, notas, profissoes))"
      ],
      "metadata": {
        "colab": {
          "base_uri": "https://localhost:8080/"
        },
        "id": "lfldwxHwBUek",
        "outputId": "d810bb9b-a4c0-4a98-9e97-10e92d70e86e"
      },
      "execution_count": null,
      "outputs": [
        {
          "output_type": "execute_result",
          "data": {
            "text/plain": [
              "[('Paul', 10, 'Cientista de dados'),\n",
              " ('John', 9.5, 'Medico'),\n",
              " ('George', 7, 'Advogado'),\n",
              " ('Ringo', 6, 'Porteiro')]"
            ]
          },
          "metadata": {},
          "execution_count": 189
        }
      ]
    },
    {
      "cell_type": "markdown",
      "source": [
        "## 🎯 Exercícios 🎯 <a class=\"anchor\" id=\"cinco\"></a>\n",
        "\n",
        "\n",
        "1.   Escreva uma função chamada intercala que recebe duas tuplas de três elementos cada\n",
        "e retorna uma tupla de seis elementos intercalando as duas tuplas.\n",
        "\n",
        "Exemplo: <br>\n",
        "  Entrada: tupla1 = (1, 2, 4) tupla2 = (3, 5, 6) <br>\n",
        "  Saída: (1, 3, 2, 5, 4, 6)"
      ],
      "metadata": {
        "id": "9EO4wkNqvRvc"
      }
    },
    {
      "cell_type": "code",
      "source": [],
      "metadata": {
        "id": "8IBAcDayL-b5"
      },
      "execution_count": null,
      "outputs": []
    },
    {
      "cell_type": "code",
      "source": [
        "def intercala(tupla1, tupla2):\n",
        "  tupla3 = ()\n",
        "  for i in range(0, len(tupla1)):\n",
        "    tupla3 += (tupla1[i],)\n",
        "    tupla3 += (tupla2[i],)\n",
        "  return tupla3\n",
        "tupla1 = (1, 2, 4)\n",
        "tupla2 = (3, 5, 6)"
      ],
      "metadata": {
        "id": "JvI6NJDevlsu"
      },
      "execution_count": null,
      "outputs": []
    },
    {
      "cell_type": "code",
      "source": [
        "intercala(tupla1, tupla2)"
      ],
      "metadata": {
        "colab": {
          "base_uri": "https://localhost:8080/"
        },
        "id": "Wt-zr1YKLOb1",
        "outputId": "f751c822-fab5-49d7-823a-adaef62f66d1"
      },
      "execution_count": null,
      "outputs": [
        {
          "output_type": "execute_result",
          "data": {
            "text/plain": [
              "(1, 3, 2, 5, 4, 6)"
            ]
          },
          "metadata": {},
          "execution_count": 33
        }
      ]
    },
    {
      "cell_type": "markdown",
      "source": [
        "\n",
        "2.   Escreva a função chamada **opera** que recebe uma tupla com uma string e dois\n",
        "números; se a string for ’SOMA’, retorna a soma dos dois números, se for\n",
        "’MULT’, retorna a multiplicação, se for ’DIV’, retorna a divisão, se for\n",
        "’SUB’, retorna a subtração, se não for nenhuma das anteriores retorna\n",
        "None."
      ],
      "metadata": {
        "id": "kRNSlz_2vm0D"
      }
    },
    {
      "cell_type": "code",
      "source": [
        "def opera(num1, operacao, num2):\n",
        "  tupla = (num1, operacao, num2)\n",
        "  if operacao == 'SOMA':\n",
        "    return num1 + num2\n",
        "  elif operacao == 'MULT':\n",
        "    return num1 * num2\n",
        "  elif operacao == 'DIV':\n",
        "    return num1 / num2\n",
        "  elif operacao == 'SUB':\n",
        "    return num1 - num2\n",
        "  else:\n",
        "    return None"
      ],
      "metadata": {
        "id": "a9KGPe9KwJK2"
      },
      "execution_count": null,
      "outputs": []
    },
    {
      "cell_type": "code",
      "source": [],
      "metadata": {
        "id": "McpIBM0rODyY"
      },
      "execution_count": null,
      "outputs": []
    },
    {
      "cell_type": "code",
      "source": [
        "print(opera( 3,'MULT', 5))"
      ],
      "metadata": {
        "colab": {
          "base_uri": "https://localhost:8080/"
        },
        "id": "_92rUzDNPvJQ",
        "outputId": "19d69532-9942-408a-cca3-e3156c243ab7"
      },
      "execution_count": null,
      "outputs": [
        {
          "output_type": "stream",
          "name": "stdout",
          "text": [
            "15\n"
          ]
        }
      ]
    }
  ]
}