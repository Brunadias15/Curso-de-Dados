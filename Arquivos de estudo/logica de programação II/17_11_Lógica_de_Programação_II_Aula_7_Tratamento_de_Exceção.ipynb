{
  "nbformat": 4,
  "nbformat_minor": 0,
  "metadata": {
    "colab": {
      "provenance": [],
      "collapsed_sections": [
        "QAnItBgO_LUz"
      ]
    },
    "kernelspec": {
      "name": "python3",
      "display_name": "Python 3"
    },
    "language_info": {
      "name": "python"
    }
  },
  "cells": [
    {
      "cell_type": "markdown",
      "source": [
        "## 📍 Agenda 📍\n",
        "<br>\n",
        "\n",
        "- [Tratamento de exceção](#um)\n",
        "- [Exercícios](#dois)"
      ],
      "metadata": {
        "id": "QAnItBgO_LUz"
      }
    },
    {
      "cell_type": "markdown",
      "source": [
        "## Tratando uma exceção <a class=\"anchor\" id=\"um\"></a>\n",
        "<br>\n",
        "\n",
        "Até o presente momento, você já deve ter se deparado com algum tipo de erro parecido com o exemplo abaixo:\n",
        "\n",
        "<div align=\"justify\">\n",
        "&emsp;\n",
        "</div>\n",
        "<br>"
      ],
      "metadata": {
        "id": "5OCDQOvZKQy2"
      }
    },
    {
      "cell_type": "code",
      "source": [
        "string = \"3.5\"\n",
        "numero = float(string)"
      ],
      "metadata": {
        "id": "ld2AYQKNdOHP"
      },
      "execution_count": null,
      "outputs": []
    },
    {
      "cell_type": "code",
      "source": [
        "int(numero)"
      ],
      "metadata": {
        "colab": {
          "base_uri": "https://localhost:8080/"
        },
        "id": "h5aWnc4SV4_f",
        "outputId": "d4ea1cdc-1697-44f3-9dda-4afe37c30891"
      },
      "execution_count": null,
      "outputs": [
        {
          "output_type": "execute_result",
          "data": {
            "text/plain": [
              "3"
            ]
          },
          "metadata": {},
          "execution_count": 17
        }
      ]
    },
    {
      "cell_type": "code",
      "source": [
        "numero = int(input(\"Digite um número: \"))\n",
        "print(numero)"
      ],
      "metadata": {
        "colab": {
          "base_uri": "https://localhost:8080/",
          "height": 212
        },
        "id": "eAtMva3moVGU",
        "outputId": "f1fd66d3-4f98-4ca7-eb03-d0d8fbf49488"
      },
      "execution_count": null,
      "outputs": [
        {
          "name": "stdout",
          "output_type": "stream",
          "text": [
            "Digite um número: joelson\n"
          ]
        },
        {
          "output_type": "error",
          "ename": "ValueError",
          "evalue": "ignored",
          "traceback": [
            "\u001b[0;31m---------------------------------------------------------------------------\u001b[0m",
            "\u001b[0;31mValueError\u001b[0m                                Traceback (most recent call last)",
            "\u001b[0;32m<ipython-input-15-2f64be898b3f>\u001b[0m in \u001b[0;36m<cell line: 1>\u001b[0;34m()\u001b[0m\n\u001b[0;32m----> 1\u001b[0;31m \u001b[0mnumero\u001b[0m \u001b[0;34m=\u001b[0m \u001b[0mint\u001b[0m\u001b[0;34m(\u001b[0m\u001b[0minput\u001b[0m\u001b[0;34m(\u001b[0m\u001b[0;34m\"Digite um número: \"\u001b[0m\u001b[0;34m)\u001b[0m\u001b[0;34m)\u001b[0m\u001b[0;34m\u001b[0m\u001b[0;34m\u001b[0m\u001b[0m\n\u001b[0m\u001b[1;32m      2\u001b[0m \u001b[0mprint\u001b[0m\u001b[0;34m(\u001b[0m\u001b[0mnumero\u001b[0m\u001b[0;34m)\u001b[0m\u001b[0;34m\u001b[0m\u001b[0;34m\u001b[0m\u001b[0m\n",
            "\u001b[0;31mValueError\u001b[0m: invalid literal for int() with base 10: 'joelson'"
          ]
        }
      ]
    },
    {
      "cell_type": "code",
      "source": [],
      "metadata": {
        "id": "QJ5sBd050ATF"
      },
      "execution_count": null,
      "outputs": []
    },
    {
      "cell_type": "markdown",
      "source": [
        "Note que aparece um erro com o nome `ValueError`, e uma mensagem explicando o que aconteceu.\n",
        "<br>\n",
        "<br>\n",
        "Vejamos outro exemplo:"
      ],
      "metadata": {
        "id": "hvrywFK-daOZ"
      }
    },
    {
      "cell_type": "code",
      "source": [
        "x = 8/0"
      ],
      "metadata": {
        "colab": {
          "base_uri": "https://localhost:8080/",
          "height": 177
        },
        "id": "_PIBYpDgdWpT",
        "outputId": "53ba8924-6f7e-42bf-8728-88c2886e4d70"
      },
      "execution_count": null,
      "outputs": [
        {
          "output_type": "error",
          "ename": "ZeroDivisionError",
          "evalue": "ignored",
          "traceback": [
            "\u001b[0;31m---------------------------------------------------------------------------\u001b[0m",
            "\u001b[0;31mZeroDivisionError\u001b[0m                         Traceback (most recent call last)",
            "\u001b[0;32m<ipython-input-18-34430b83262e>\u001b[0m in \u001b[0;36m<cell line: 1>\u001b[0;34m()\u001b[0m\n\u001b[0;32m----> 1\u001b[0;31m \u001b[0mx\u001b[0m \u001b[0;34m=\u001b[0m \u001b[0;36m8\u001b[0m\u001b[0;34m/\u001b[0m\u001b[0;36m0\u001b[0m\u001b[0;34m\u001b[0m\u001b[0;34m\u001b[0m\u001b[0m\n\u001b[0m",
            "\u001b[0;31mZeroDivisionError\u001b[0m: division by zero"
          ]
        }
      ]
    },
    {
      "cell_type": "code",
      "source": [
        "\"a\" / 5"
      ],
      "metadata": {
        "colab": {
          "base_uri": "https://localhost:8080/",
          "height": 177
        },
        "id": "e1rgrdNHMC2-",
        "outputId": "42c6c4d2-9b69-4ecc-9b2a-3f7257144c82"
      },
      "execution_count": null,
      "outputs": [
        {
          "output_type": "error",
          "ename": "TypeError",
          "evalue": "ignored",
          "traceback": [
            "\u001b[0;31m---------------------------------------------------------------------------\u001b[0m",
            "\u001b[0;31mTypeError\u001b[0m                                 Traceback (most recent call last)",
            "\u001b[0;32m<ipython-input-19-1d60cf3a9f02>\u001b[0m in \u001b[0;36m<cell line: 1>\u001b[0;34m()\u001b[0m\n\u001b[0;32m----> 1\u001b[0;31m \u001b[0;34m\"a\"\u001b[0m \u001b[0;34m/\u001b[0m \u001b[0;36m5\u001b[0m\u001b[0;34m\u001b[0m\u001b[0;34m\u001b[0m\u001b[0m\n\u001b[0m",
            "\u001b[0;31mTypeError\u001b[0m: unsupported operand type(s) for /: 'str' and 'int'"
          ]
        }
      ]
    },
    {
      "cell_type": "code",
      "source": [],
      "metadata": {
        "id": "XQEtOxhOMEg_"
      },
      "execution_count": null,
      "outputs": []
    },
    {
      "cell_type": "code",
      "source": [],
      "metadata": {
        "id": "q8-osd-GqNs8"
      },
      "execution_count": null,
      "outputs": []
    },
    {
      "cell_type": "code",
      "source": [],
      "metadata": {
        "id": "_irXhPrSqqca"
      },
      "execution_count": null,
      "outputs": []
    },
    {
      "cell_type": "code",
      "source": [],
      "metadata": {
        "id": "AisoAyUef_AI"
      },
      "execution_count": null,
      "outputs": []
    },
    {
      "cell_type": "markdown",
      "source": [
        "Agora o erro apresentado com nome `ZeroDivisionError`, e uma mensagem detalhando o problema.\n",
        "<br>\n",
        "<br>\n",
        "Esses erros, que não são erros de lógica nem de sintaxe, são o que chamamos de exceções. São pequenos problemas que o programa pode encontrar durante sua execução, como não encontrar um arquivo ou uma função receber um valor de tipo inesperado..\n",
        "<br>\n",
        "<br>\n",
        "[Aqui](https://docs.python.org/pt-br/3/library/exceptions.html), podemos explorar outros tipos de exceções já implementadas em python.\n",
        "<br>\n",
        "<br>\n",
        "Nesta aula, iremos discutir formas de `tratar` algumas dessas exceções.\n",
        "\n",
        "\n"
      ],
      "metadata": {
        "id": "wjdkq3bKd_9_"
      }
    },
    {
      "cell_type": "code",
      "source": [
        "# outros exemplos - arquivos, imports, variavel..."
      ],
      "metadata": {
        "id": "_Bhxn6--f9sS"
      },
      "execution_count": null,
      "outputs": []
    },
    {
      "cell_type": "code",
      "source": [
        "arquivo = open(\"sample_data/nome_do_arquivo.txt\" ,\"r\")\n",
        "print(arquivo.read())\n",
        "arquivo.close()"
      ],
      "metadata": {
        "colab": {
          "base_uri": "https://localhost:8080/"
        },
        "id": "RMWkXzi5gfOZ",
        "outputId": "8c4d44bf-81b5-4b26-a4b1-f7c1d86b6f6f"
      },
      "execution_count": null,
      "outputs": [
        {
          "output_type": "stream",
          "name": "stdout",
          "text": [
            "fasfasf\n"
          ]
        }
      ]
    },
    {
      "cell_type": "code",
      "source": [
        "arquivo = open(\"nome_do_arquivo.txt\" ,\"w\")\n",
        "print(arquivo.write(\"fasfasf\"))\n",
        "arquivo.close()"
      ],
      "metadata": {
        "colab": {
          "base_uri": "https://localhost:8080/"
        },
        "id": "vjc_yb7SW0qW",
        "outputId": "e67351bd-ef6b-48b8-846c-b64110dd2f57"
      },
      "execution_count": null,
      "outputs": [
        {
          "output_type": "stream",
          "name": "stdout",
          "text": [
            "7\n"
          ]
        }
      ]
    },
    {
      "cell_type": "code",
      "source": [
        "## biblioteca de\n",
        "# algoritmos de vizinhos mais proximo\n",
        "import faiss"
      ],
      "metadata": {
        "colab": {
          "base_uri": "https://localhost:8080/",
          "height": 351
        },
        "id": "p3VZxn2vpgRn",
        "outputId": "0afbdafc-a044-424b-fd2d-0b85ecb7f3b2"
      },
      "execution_count": null,
      "outputs": [
        {
          "output_type": "error",
          "ename": "ModuleNotFoundError",
          "evalue": "ignored",
          "traceback": [
            "\u001b[0;31m---------------------------------------------------------------------------\u001b[0m",
            "\u001b[0;31mModuleNotFoundError\u001b[0m                       Traceback (most recent call last)",
            "\u001b[0;32m<ipython-input-28-7fdaffcad6ef>\u001b[0m in \u001b[0;36m<cell line: 3>\u001b[0;34m()\u001b[0m\n\u001b[1;32m      1\u001b[0m \u001b[0;31m## biblioteca de\u001b[0m\u001b[0;34m\u001b[0m\u001b[0;34m\u001b[0m\u001b[0m\n\u001b[1;32m      2\u001b[0m \u001b[0;31m# algoritmos de vizinhos mais proximo\u001b[0m\u001b[0;34m\u001b[0m\u001b[0;34m\u001b[0m\u001b[0m\n\u001b[0;32m----> 3\u001b[0;31m \u001b[0;32mimport\u001b[0m \u001b[0mfaiss\u001b[0m\u001b[0;34m\u001b[0m\u001b[0;34m\u001b[0m\u001b[0m\n\u001b[0m",
            "\u001b[0;31mModuleNotFoundError\u001b[0m: No module named 'faiss'",
            "",
            "\u001b[0;31m---------------------------------------------------------------------------\u001b[0;32m\nNOTE: If your import is failing due to a missing package, you can\nmanually install dependencies using either !pip or !apt.\n\nTo view examples of installing some common dependencies, click the\n\"Open Examples\" button below.\n\u001b[0;31m---------------------------------------------------------------------------\u001b[0m\n"
          ],
          "errorDetails": {
            "actions": [
              {
                "action": "open_url",
                "actionText": "Open Examples",
                "url": "/notebooks/snippets/importing_libraries.ipynb"
              }
            ]
          }
        }
      ]
    },
    {
      "cell_type": "code",
      "source": [
        "!pip install pandas # faiss-cpu"
      ],
      "metadata": {
        "colab": {
          "base_uri": "https://localhost:8080/"
        },
        "id": "jF0ThXsCXvWV",
        "outputId": "ffa59fcd-7018-4cbf-ec91-6868569bab1e"
      },
      "execution_count": null,
      "outputs": [
        {
          "output_type": "stream",
          "name": "stdout",
          "text": [
            "Requirement already satisfied: pandas in /usr/local/lib/python3.10/dist-packages (1.5.3)\n",
            "Requirement already satisfied: python-dateutil>=2.8.1 in /usr/local/lib/python3.10/dist-packages (from pandas) (2.8.2)\n",
            "Requirement already satisfied: pytz>=2020.1 in /usr/local/lib/python3.10/dist-packages (from pandas) (2023.3.post1)\n",
            "Requirement already satisfied: numpy>=1.21.0 in /usr/local/lib/python3.10/dist-packages (from pandas) (1.23.5)\n",
            "Requirement already satisfied: six>=1.5 in /usr/local/lib/python3.10/dist-packages (from python-dateutil>=2.8.1->pandas) (1.16.0)\n"
          ]
        }
      ]
    },
    {
      "cell_type": "code",
      "source": [
        "## biblioteca de\n",
        "# algoritmos de vizinhos mais proximo\n",
        "import faiss"
      ],
      "metadata": {
        "id": "B8GbFAOapo-b"
      },
      "execution_count": null,
      "outputs": []
    },
    {
      "cell_type": "code",
      "source": [
        "import pandas"
      ],
      "metadata": {
        "id": "YMK_v_-RYPkD"
      },
      "execution_count": null,
      "outputs": []
    },
    {
      "cell_type": "code",
      "source": [],
      "metadata": {
        "id": "Fz7l21dqYYbj"
      },
      "execution_count": null,
      "outputs": []
    },
    {
      "cell_type": "markdown",
      "source": [
        "## Tratando uma exceção\n",
        "\n",
        "###try/except\n",
        "\n",
        "Tratar uma exceção significa que quando surgir um dos erros mencionados, nós iremos assumir responsabilidade sobre ele e iremos providenciar algum código alternativo. Dessa maneira, o Python não irá mais travar o nosso programa, e sim desviar seu fluxo para o código fornecido.\n",
        "<br>\n",
        "<br>\n",
        "O bloco mais básico para lidarmos com exceção é o `try/except`.\n",
        "<br>\n",
        "<br>\n",
        "Dentro do `try` vamos colocar o pedaço de código com potencial para dar erro. Estamos pedindo que o Python tente executar aquele código, cientes de que pode não dar certo.\n",
        "<br>\n",
        "<br>\n",
        "Dentro do `except`, colocamos o código que deverá ser executado somente se algo de errado ocorrer no `try`. Caso ocorra exceção em alguma linha do `try`, a execução irá imediatamente para o `except`, ignorando o restante do código dentro do `try`.\n",
        "\n",
        "<br>\n",
        "<br>\n",
        "Vejamos um exemplo:"
      ],
      "metadata": {
        "id": "rlZv6ROEf6oq"
      }
    },
    {
      "cell_type": "code",
      "source": [
        "numerador = 1\n",
        "# 3 a 0\n",
        "\n",
        "for denominador in range(0, 10):\n",
        "    divisao = numerador/denominador\n",
        "    print('Deu certo!') # roda APENAS se a linha acima não gerar exceção\n",
        "    print(f'{numerador}/{denominador} = {divisao}')"
      ],
      "metadata": {
        "colab": {
          "base_uri": "https://localhost:8080/",
          "height": 247
        },
        "id": "YsBm_jk9ZeKO",
        "outputId": "5f144b63-859b-4c0b-f16e-1a1186a7487f"
      },
      "execution_count": null,
      "outputs": [
        {
          "output_type": "error",
          "ename": "ZeroDivisionError",
          "evalue": "ignored",
          "traceback": [
            "\u001b[0;31m---------------------------------------------------------------------------\u001b[0m",
            "\u001b[0;31mZeroDivisionError\u001b[0m                         Traceback (most recent call last)",
            "\u001b[0;32m<ipython-input-34-9fc5c240d3f8>\u001b[0m in \u001b[0;36m<cell line: 4>\u001b[0;34m()\u001b[0m\n\u001b[1;32m      3\u001b[0m \u001b[0;34m\u001b[0m\u001b[0m\n\u001b[1;32m      4\u001b[0m \u001b[0;32mfor\u001b[0m \u001b[0mdenominador\u001b[0m \u001b[0;32min\u001b[0m \u001b[0mrange\u001b[0m\u001b[0;34m(\u001b[0m\u001b[0;36m0\u001b[0m\u001b[0;34m,\u001b[0m \u001b[0;36m10\u001b[0m\u001b[0;34m)\u001b[0m\u001b[0;34m:\u001b[0m\u001b[0;34m\u001b[0m\u001b[0;34m\u001b[0m\u001b[0m\n\u001b[0;32m----> 5\u001b[0;31m     \u001b[0mdivisao\u001b[0m \u001b[0;34m=\u001b[0m \u001b[0mnumerador\u001b[0m\u001b[0;34m/\u001b[0m\u001b[0mdenominador\u001b[0m\u001b[0;34m\u001b[0m\u001b[0;34m\u001b[0m\u001b[0m\n\u001b[0m\u001b[1;32m      6\u001b[0m     \u001b[0mprint\u001b[0m\u001b[0;34m(\u001b[0m\u001b[0;34m'Deu certo!'\u001b[0m\u001b[0;34m)\u001b[0m \u001b[0;31m# roda APENAS se a linha acima não gerar exceção\u001b[0m\u001b[0;34m\u001b[0m\u001b[0;34m\u001b[0m\u001b[0m\n\u001b[1;32m      7\u001b[0m     \u001b[0mprint\u001b[0m\u001b[0;34m(\u001b[0m\u001b[0;34mf'{numerador}/{denominador} = {divisao}'\u001b[0m\u001b[0;34m)\u001b[0m\u001b[0;34m\u001b[0m\u001b[0;34m\u001b[0m\u001b[0m\n",
            "\u001b[0;31mZeroDivisionError\u001b[0m: division by zero"
          ]
        }
      ]
    },
    {
      "cell_type": "code",
      "source": [
        "numerador = 1\n",
        "# 3 a 0\n",
        "\n",
        "for denominador in range(0, 10):\n",
        "    try:\n",
        "        divisao = numerador/denominador\n",
        "        print('Deu certo!') # roda APENAS se a linha acima não gerar exceção\n",
        "\n",
        "    except: # except Exception as e\n",
        "        divisao = 'infinito'\n",
        "\n",
        "    print(f'{numerador}/{denominador} = {divisao}')"
      ],
      "metadata": {
        "colab": {
          "base_uri": "https://localhost:8080/"
        },
        "id": "PQtB-AlAhf6n",
        "outputId": "fe13de7a-5ee5-44cb-8e92-caf536bc45a8"
      },
      "execution_count": null,
      "outputs": [
        {
          "output_type": "stream",
          "name": "stdout",
          "text": [
            "1/0 = infinito\n",
            "Deu certo!\n",
            "1/1 = 1.0\n",
            "Deu certo!\n",
            "1/2 = 0.5\n",
            "Deu certo!\n",
            "1/3 = 0.3333333333333333\n",
            "Deu certo!\n",
            "1/4 = 0.25\n",
            "Deu certo!\n",
            "1/5 = 0.2\n",
            "Deu certo!\n",
            "1/6 = 0.16666666666666666\n",
            "Deu certo!\n",
            "1/7 = 0.14285714285714285\n",
            "Deu certo!\n",
            "1/8 = 0.125\n",
            "Deu certo!\n",
            "1/9 = 0.1111111111111111\n"
          ]
        }
      ]
    },
    {
      "cell_type": "code",
      "source": [
        "numerador = 1\n",
        "# 3 a 0\n",
        "\n",
        "for denominador in range(0, 10):\n",
        "    try:\n",
        "        divisao = numerador/denominador\n",
        "        print('Deu certo!') # roda APENAS se a linha acima não gerar exceção\n",
        "\n",
        "    except Exception as e\n",
        "        divisao = 'infinito'\n",
        "\n",
        "    print(f'{numerador}/{denominador} = {divisao}')"
      ],
      "metadata": {
        "id": "0ibiQdj-Z2g-"
      },
      "execution_count": null,
      "outputs": []
    },
    {
      "cell_type": "code",
      "source": [
        "numerador = 1\n",
        "# 3 a 0\n",
        "numeros = [0, 2, \"a\", 4, 20]\n",
        "for denominador in numeros:\n",
        "    try:\n",
        "        divisao = numerador/denominador\n",
        "        print('Deu certo!') # roda APENAS se a linha acima não gerar exceção\n",
        "    except Exception as e:\n",
        "        divisao = 'infinito'\n",
        "\n",
        "    print(f'{numerador}/{denominador} = {divisao}')"
      ],
      "metadata": {
        "colab": {
          "base_uri": "https://localhost:8080/"
        },
        "id": "cFDdH0S4aAd_",
        "outputId": "325841b8-80f0-4608-c4b0-43644d8cfd67"
      },
      "execution_count": null,
      "outputs": [
        {
          "output_type": "stream",
          "name": "stdout",
          "text": [
            "1/0 = infinito\n",
            "Deu certo!\n",
            "1/2 = 0.5\n",
            "1/a = infinito\n",
            "Deu certo!\n",
            "1/4 = 0.25\n",
            "Deu certo!\n",
            "1/20 = 0.05\n"
          ]
        }
      ]
    },
    {
      "cell_type": "code",
      "source": [
        "numerador = 1\n",
        "# 3 a 0\n",
        "numeros = [0, 2, \"a\", 4, 20]\n",
        "for denominador in numeros:\n",
        "    try:\n",
        "        divisao = numerador/denominador\n",
        "        print('Deu certo!') # roda APENAS se a linha acima não gerar exceção\n",
        "    except Exception as e:\n",
        "        divisao = 'infinito'\n",
        "\n",
        "    print(f'{numerador}/{denominador} = {divisao}')"
      ],
      "metadata": {
        "colab": {
          "base_uri": "https://localhost:8080/"
        },
        "id": "cz4cHXhKazQu",
        "outputId": "caff53b5-eb63-4123-d600-65f5101bd0cc"
      },
      "execution_count": null,
      "outputs": [
        {
          "output_type": "stream",
          "name": "stdout",
          "text": [
            "1/0 = division by zero\n",
            "Deu certo!\n",
            "1/2 = 0.5\n",
            "1/a = unsupported operand type(s) for /: 'int' and 'str'\n",
            "Deu certo!\n",
            "1/4 = 0.25\n",
            "Deu certo!\n",
            "1/20 = 0.05\n"
          ]
        }
      ]
    },
    {
      "cell_type": "code",
      "source": [
        "numerador = 1\n",
        "# 3 a 0\n",
        "numeros = [0, 2, \"a\", 4, 20]\n",
        "divisao = ''\n",
        "for denominador in numeros:\n",
        "    try:\n",
        "        divisao = numerador/denominador\n",
        "        print('Deu certo!') # roda APENAS se a linha acima não gerar exceção\n",
        "    except Exception as e:\n",
        "        divisao = ''\n",
        "        # instrucao1 ...\n",
        "        pass\n",
        "\n",
        "    print(f'{numerador}/{denominador} = {divisao}')"
      ],
      "metadata": {
        "colab": {
          "base_uri": "https://localhost:8080/"
        },
        "id": "DLD_znQqbi8M",
        "outputId": "3dc042fc-57b9-4d3a-a0dc-75d0474836ce"
      },
      "execution_count": null,
      "outputs": [
        {
          "output_type": "stream",
          "name": "stdout",
          "text": [
            "1/0 = \n",
            "Deu certo!\n",
            "1/2 = 0.5\n",
            "1/a = \n",
            "Deu certo!\n",
            "1/4 = 0.25\n",
            "Deu certo!\n",
            "1/20 = 0.05\n"
          ]
        }
      ]
    },
    {
      "cell_type": "code",
      "source": [],
      "metadata": {
        "id": "Yz3xEp60bySG"
      },
      "execution_count": null,
      "outputs": []
    },
    {
      "cell_type": "markdown",
      "source": [
        "O bloco acima já resolve a grande maioria dos problemas. Mas vamos estudar mais algumas possibilidades para deixar nosso tratamento ainda mais sofisticado e especializado.\n",
        "<br>\n",
        "<br>\n",
        "Você deve ter notado que enfatizamos o fato de exceções poderem ter um nome. Esse nome pode nos ajudar a identificar com sucesso qual dos erros possíveis ocorreu e tratá-lo com sucesso.\n",
        "<br>\n",
        "<br>\n",
        "Vamos considerar a função abaixo:"
      ],
      "metadata": {
        "id": "ZoKqG4V-VL61"
      }
    },
    {
      "cell_type": "code",
      "source": [
        "def divide(a, b):\n",
        "    return a/b"
      ],
      "metadata": {
        "id": "eQYrBqsoU7p2"
      },
      "execution_count": null,
      "outputs": []
    },
    {
      "cell_type": "code",
      "source": [
        "def divide(a, b):\n",
        "    try:\n",
        "      return a/b\n",
        "    except ZeroDivisionError:\n",
        "      return 'infinito'\n",
        "    except TypeError:\n",
        "      return 'tipo incorreto'"
      ],
      "metadata": {
        "id": "Y4g4bceIcyld"
      },
      "execution_count": null,
      "outputs": []
    },
    {
      "cell_type": "code",
      "source": [
        "def divide(a, b):\n",
        "    try:\n",
        "      return a/b\n",
        "    except ZeroDivisionError:\n",
        "      return 'infinito'\n",
        "    except ValueError:\n",
        "      return 'valor incorreto'\n",
        "    except TypeError:\n",
        "      return 'tipo incorreto'\n",
        "    except:\n",
        "      return 'erro desconhecido'"
      ],
      "metadata": {
        "id": "nzUzLKOPeAct"
      },
      "execution_count": null,
      "outputs": []
    },
    {
      "cell_type": "code",
      "source": [
        "a = 1\n",
        "b = 3\n",
        "try:\n",
        "  resultado = a==b\n",
        "  print(resultado)\n",
        "except:\n",
        "  print(\"dafsa\")"
      ],
      "metadata": {
        "colab": {
          "base_uri": "https://localhost:8080/"
        },
        "id": "TjUh_Jdme5iT",
        "outputId": "7ada2276-2b08-4017-b179-a89c7bbf3323"
      },
      "execution_count": null,
      "outputs": [
        {
          "output_type": "stream",
          "name": "stdout",
          "text": [
            "False\n"
          ]
        }
      ]
    },
    {
      "cell_type": "code",
      "source": [
        "lista = [1, 4, 5]\n",
        "try:\n",
        "  print(lista[10])\n",
        "except Exception as e:\n",
        "  print(e)"
      ],
      "metadata": {
        "colab": {
          "base_uri": "https://localhost:8080/"
        },
        "id": "KaLc40J1fVO_",
        "outputId": "48659af0-e1d1-49c7-a499-a0bed103f773"
      },
      "execution_count": null,
      "outputs": [
        {
          "output_type": "stream",
          "name": "stdout",
          "text": [
            "list index out of range\n"
          ]
        }
      ]
    },
    {
      "cell_type": "code",
      "source": [
        "# biblioteca traceback\n",
        "import traceback\n",
        "lista = [1, 4, 5]\n",
        "try:\n",
        "  print(lista[0])\n",
        "  print(lista[10])\n",
        "except Exception as e:\n",
        "  traceback.print_exc()"
      ],
      "metadata": {
        "colab": {
          "base_uri": "https://localhost:8080/"
        },
        "id": "jVXIPjtDfi1D",
        "outputId": "48affc6b-1f3d-4e2c-d7a5-b1082a14d36b"
      },
      "execution_count": null,
      "outputs": [
        {
          "output_type": "stream",
          "name": "stdout",
          "text": [
            "1\n"
          ]
        },
        {
          "output_type": "stream",
          "name": "stderr",
          "text": [
            "Traceback (most recent call last):\n",
            "  File \"<ipython-input-59-729176f882dd>\", line 6, in <cell line: 4>\n",
            "    print(lista[10])\n",
            "IndexError: list index out of range\n"
          ]
        }
      ]
    },
    {
      "cell_type": "code",
      "source": [
        "import traceback\n",
        "\n",
        "def retorna_elemento(lista, posicao):\n",
        "  return lista[posicao]\n",
        "\n",
        "lista = [1, 4, 5]\n",
        "try:\n",
        "  print(retorna_elemento(lista=lista, posicao=0))\n",
        "  print(retorna_elemento(lista=lista, posicao=10))\n",
        "except Exception as e:\n",
        "  traceback.print_exc()"
      ],
      "metadata": {
        "colab": {
          "base_uri": "https://localhost:8080/"
        },
        "id": "YJn4VII0f6Ji",
        "outputId": "ae2771c1-6cbf-40da-c866-2cc0e4224d6a"
      },
      "execution_count": null,
      "outputs": [
        {
          "output_type": "stream",
          "name": "stdout",
          "text": [
            "1\n"
          ]
        },
        {
          "output_type": "stream",
          "name": "stderr",
          "text": [
            "Traceback (most recent call last):\n",
            "  File \"<ipython-input-60-44a6b25fb55f>\", line 9, in <cell line: 7>\n",
            "    print(retorna_elemento(lista=lista, posicao=10))\n",
            "  File \"<ipython-input-60-44a6b25fb55f>\", line 4, in retorna_elemento\n",
            "    return lista[posicao]\n",
            "IndexError: list index out of range\n"
          ]
        }
      ]
    },
    {
      "cell_type": "markdown",
      "source": [
        "Um erro óbvio que pode ocorrer nessa função seria o `ZeroDivisionError`, que é obtido quando o zero é passado como segundo parâmetro da função. Porém, ele não é o único erro possível.\n",
        "\n",
        "O que acontece se passarmos um parâmetro que não seja numérico? `TypeError`, pois utilizamos tipos inválidos para o operador de divisão /.\n",
        "\n",
        "Podemos colocar diversos except após o `try`, cada um testando um tipo diferente de erro. Um último `except` genérico englobará todos os casos que não se encaixarem nos específicos. Veja o exemplo:"
      ],
      "metadata": {
        "id": "0YH-mjfcVPUj"
      }
    },
    {
      "cell_type": "code",
      "source": [
        "# criar a função divide\n",
        "numerador = 1\n",
        "# 3 a 0\n",
        "numeros = [0, 2, \"a\", 4, 20]\n",
        "divisao = ''\n",
        "for denominador in numeros:\n",
        "    divisao = divide(numerador, denominador)\n",
        "    print(f'{numerador}/{denominador} = {divisao}')"
      ],
      "metadata": {
        "colab": {
          "base_uri": "https://localhost:8080/"
        },
        "id": "9K-Xa91tVOrA",
        "outputId": "b1456f5c-a470-4e69-e4a6-0cbb14931619"
      },
      "execution_count": null,
      "outputs": [
        {
          "output_type": "stream",
          "name": "stdout",
          "text": [
            "1/0 = infinito\n",
            "1/2 = 0.5\n",
            "1/a = erro desconhecido\n",
            "1/4 = 0.25\n",
            "1/20 = 0.05\n"
          ]
        }
      ]
    },
    {
      "cell_type": "markdown",
      "source": [
        "### else\n",
        "\n",
        "Nosso bom e velho else, tipicamente usado em expressões condicionais acompanhando um `if`, também pode aparecer em blocos `try/except`. Seu efeito é o oposto do except: enquanto o `except` é executado quando algo dá errado, o `else` só é executado se absolutamente nada der errado. Por exemplo, poderíamos atualizar nosso exemplo anterior utilizando um else:"
      ],
      "metadata": {
        "id": "ZynPtONzVO7W"
      }
    },
    {
      "cell_type": "code",
      "source": [
        "def divisao(a, b):\n",
        "    return a/b\n",
        "\n",
        "denominadores = [0, 2, 3, 'a', 5]\n",
        "\n",
        "for d in denominadores:\n",
        "    try:\n",
        "        div = divisao(1, d) # se ocorrer bem aqui\n",
        "        print(variavel)\n",
        "    except ZeroDivisionError:\n",
        "        print('infinito')\n",
        "    except TypeError:\n",
        "        print(f'1/{d}')\n",
        "    except Exception as e:\n",
        "        print(f\"Cai aqui: {e}\")\n",
        "    else:\n",
        "        soma = div + d\n",
        "        print(f'Deu certo no try: 1/{d} = {div}')\n",
        "        print(soma)"
      ],
      "metadata": {
        "colab": {
          "base_uri": "https://localhost:8080/"
        },
        "id": "Q0CYwG0RVDwh",
        "outputId": "1c3243b0-4d0b-4801-9158-71d7ff7e209e"
      },
      "execution_count": null,
      "outputs": [
        {
          "output_type": "stream",
          "name": "stdout",
          "text": [
            "infinito\n",
            "Cai aqui: name 'variavel' is not defined\n",
            "Cai aqui: name 'variavel' is not defined\n",
            "1/a\n",
            "Cai aqui: name 'variavel' is not defined\n"
          ]
        }
      ]
    },
    {
      "cell_type": "code",
      "source": [],
      "metadata": {
        "id": "HlSW_6zvyH4i"
      },
      "execution_count": null,
      "outputs": []
    },
    {
      "cell_type": "code",
      "source": [],
      "metadata": {
        "id": "O_5VMTZryh_b"
      },
      "execution_count": null,
      "outputs": []
    },
    {
      "cell_type": "markdown",
      "source": [
        "### finally\n",
        "\n",
        "Muitas vezes um erro pode ocorrer quando já realizamos diversas operações. Dentre essas operações, podemos ter solicitado recursos, como por exemplo abrir um arquivo, estabelecer uma conexão com a internet ou alocar uma grande faixa de memória.\n",
        "<br>\n",
        "<br>\n",
        "O que aconteceria, por exemplo, se um comando como return aparecesse durante o tratamento deste erro após termos solicitado tantos recursos diferentes? O arquivo ficaria aberto, a conexão ficaria aberta, memória seria desperdiçada, etc.\n",
        "<br>\n",
        "<br>\n",
        "O finally garante um local seguro para colocarmos código de limpeza - ou seja, devolver recursos que não serão mais utilizados: fechar arquivos, fechar conexões com servidor etc.\n",
        "<br>\n",
        "<br>\n",
        "Ele sempre será executado após um bloco `try/except`, mesmo que haja um return no caminho.\n",
        "<br>\n",
        "<br>\n",
        "Veja o exemplo abaixo para entender o que queremos dizer:"
      ],
      "metadata": {
        "id": "iwVLgQ24VnlM"
      }
    },
    {
      "cell_type": "code",
      "source": [
        "def teste(den):\n",
        "    try:\n",
        "        x = 1/den\n",
        "        return x\n",
        "    except:\n",
        "        return 'infinito'\n",
        "    finally:\n",
        "        print(f'passou pelo finally: {den}')\n",
        "        # ...\n",
        "        # ..."
      ],
      "metadata": {
        "id": "XsAre45uVm4o"
      },
      "execution_count": null,
      "outputs": []
    },
    {
      "cell_type": "code",
      "source": [
        "teste(0)"
      ],
      "metadata": {
        "colab": {
          "base_uri": "https://localhost:8080/",
          "height": 53
        },
        "id": "zrJdqbV1OXR3",
        "outputId": "827ec69b-4e0e-45d4-ffc4-0e730b24e6fa"
      },
      "execution_count": null,
      "outputs": [
        {
          "output_type": "stream",
          "name": "stdout",
          "text": [
            "passou pelo finally: 0\n"
          ]
        },
        {
          "output_type": "execute_result",
          "data": {
            "text/plain": [
              "'infinito'"
            ],
            "application/vnd.google.colaboratory.intrinsic+json": {
              "type": "string"
            }
          },
          "metadata": {},
          "execution_count": 11
        }
      ]
    },
    {
      "cell_type": "code",
      "source": [
        "def teste(den):\n",
        "    try:\n",
        "        x = 1/den\n",
        "    except:\n",
        "        x = \"infinito\"\n",
        "    finally:\n",
        "        print(f'passou pelo finally: {den}')\n",
        "        return x\n",
        "        # ...\n",
        "        # ..."
      ],
      "metadata": {
        "id": "NwQTLqzx1V6-"
      },
      "execution_count": null,
      "outputs": []
    },
    {
      "cell_type": "code",
      "source": [
        "print(teste(1))"
      ],
      "metadata": {
        "colab": {
          "base_uri": "https://localhost:8080/"
        },
        "id": "LgwGI1Gf1CZo",
        "outputId": "3178042f-0a81-468c-93b4-c4660d8e60b2"
      },
      "execution_count": null,
      "outputs": [
        {
          "output_type": "stream",
          "name": "stdout",
          "text": [
            "passou pelo finally: 1\n",
            "1.0\n"
          ]
        }
      ]
    },
    {
      "cell_type": "code",
      "source": [
        "print(teste(0))"
      ],
      "metadata": {
        "colab": {
          "base_uri": "https://localhost:8080/"
        },
        "id": "povB40j71mLl",
        "outputId": "21e3c438-79ff-4fa0-eeb7-7f97ce74e645"
      },
      "execution_count": null,
      "outputs": [
        {
          "output_type": "stream",
          "name": "stdout",
          "text": [
            "passou pelo finally: 0\n",
            "infinito\n"
          ]
        }
      ]
    },
    {
      "cell_type": "markdown",
      "source": [
        "Note que o conteúdo do bloco `finally` foi executado em ambas as chamadas, mesmo havendo um return dentro do `try` e outro dentro do `except`. Antes de sair da função e retornar o valor, o Python é obrigado a desviar a execução para o bloco `finally` e executar seu conteúdo.\n",
        "<br>\n",
        "<br>\n",
        "Vejamos um exemplo mais completo: um bloco `try/except` tentará criar um arquivo (não se preocupe com detalhes de como arquivos funcionam - estudaremos isso muito em breve!). Dentro do `try`, teremos um bloco `try/except/finally`. O `try` tentará escrever algumas operações matemáticas no arquivo, o `except` exibirá uma mensagem caso uma operação seja inválida, e o `finally` garantirá que o arquivo será fechado independentemente de um erro ter ou não ocorrido."
      ],
      "metadata": {
        "id": "qqi1OP5QWZI7"
      }
    },
    {
      "cell_type": "code",
      "source": [
        "# escrita em arquivos"
      ],
      "metadata": {
        "id": "MpsxNJjlWeSH"
      },
      "execution_count": null,
      "outputs": []
    },
    {
      "cell_type": "code",
      "source": [],
      "metadata": {
        "id": "jr-HvuGlQ3iW"
      },
      "execution_count": null,
      "outputs": []
    },
    {
      "cell_type": "code",
      "source": [],
      "metadata": {
        "id": "Is9APLrDQ3kq"
      },
      "execution_count": null,
      "outputs": []
    },
    {
      "cell_type": "markdown",
      "source": [
        "## Levantando exceções\n",
        "\n",
        "Quando estamos criando nossos próprios módulos, classes ou funções, muitas vezes vamos nos deparar com situações inválidas. Imprimir uma mensagem de erro não é uma boa ideia, pois o programa pode estar rodando em um servidor, pode ter uma interface gráfica, etc.\n",
        "<br>\n",
        "<br>\n",
        "Logo, o ideal seria lançarmos exceções para sinalizar essas situações. Desta forma, se elas forem ignoradas, o programa irá parar, sinalizando para o programador que existe alguma situação que deveria ser tratada. Adicionalmente, podemos criar nossa própria mensagem de erro, sinalizando para o programador que ele deveria fazer algo a respeito.\n",
        "<br>\n",
        "<br>\n",
        "Podemos utilizar a palavra raise seguida de `Exception()`, passando entre parênteses a mensagem personalizada de erro. Veja o exemplo:\n"
      ],
      "metadata": {
        "id": "Vfbpxch9WqWQ"
      }
    },
    {
      "cell_type": "code",
      "source": [
        "salarios = []\n",
        "\n",
        "def cadastrar_salario(salario):\n",
        "    if salario <= 0:\n",
        "        raise Exception('Salário inválido! Salários devem ser positivos!')\n",
        "\n",
        "    salarios.append(salario)\n",
        "\n",
        "cadastrar_salario(10)\n",
        "cadastrar_salario(0)"
      ],
      "metadata": {
        "colab": {
          "base_uri": "https://localhost:8080/",
          "height": 324
        },
        "id": "50XyOIV7Wxvq",
        "outputId": "3b4e4ca2-e37f-4056-9aef-021244400023"
      },
      "execution_count": null,
      "outputs": [
        {
          "output_type": "error",
          "ename": "Exception",
          "evalue": "ignored",
          "traceback": [
            "\u001b[0;31m---------------------------------------------------------------------------\u001b[0m",
            "\u001b[0;31mException\u001b[0m                                 Traceback (most recent call last)",
            "\u001b[0;32m<ipython-input-65-43907332427f>\u001b[0m in \u001b[0;36m<module>\u001b[0;34m\u001b[0m\n\u001b[1;32m      8\u001b[0m \u001b[0;34m\u001b[0m\u001b[0m\n\u001b[1;32m      9\u001b[0m \u001b[0mcadastrar_salario\u001b[0m\u001b[0;34m(\u001b[0m\u001b[0;36m10\u001b[0m\u001b[0;34m)\u001b[0m\u001b[0;34m\u001b[0m\u001b[0;34m\u001b[0m\u001b[0m\n\u001b[0;32m---> 10\u001b[0;31m \u001b[0mcadastrar_salario\u001b[0m\u001b[0;34m(\u001b[0m\u001b[0;36m0\u001b[0m\u001b[0;34m)\u001b[0m\u001b[0;34m\u001b[0m\u001b[0;34m\u001b[0m\u001b[0m\n\u001b[0m",
            "\u001b[0;32m<ipython-input-65-43907332427f>\u001b[0m in \u001b[0;36mcadastrar_salario\u001b[0;34m(salario)\u001b[0m\n\u001b[1;32m      3\u001b[0m \u001b[0;32mdef\u001b[0m \u001b[0mcadastrar_salario\u001b[0m\u001b[0;34m(\u001b[0m\u001b[0msalario\u001b[0m\u001b[0;34m)\u001b[0m\u001b[0;34m:\u001b[0m\u001b[0;34m\u001b[0m\u001b[0;34m\u001b[0m\u001b[0m\n\u001b[1;32m      4\u001b[0m     \u001b[0;32mif\u001b[0m \u001b[0msalario\u001b[0m \u001b[0;34m<=\u001b[0m \u001b[0;36m0\u001b[0m\u001b[0;34m:\u001b[0m\u001b[0;34m\u001b[0m\u001b[0;34m\u001b[0m\u001b[0m\n\u001b[0;32m----> 5\u001b[0;31m         \u001b[0;32mraise\u001b[0m \u001b[0mException\u001b[0m\u001b[0;34m(\u001b[0m\u001b[0;34m'Salário inválido! Salários devem ser positivos!'\u001b[0m\u001b[0;34m)\u001b[0m\u001b[0;34m\u001b[0m\u001b[0;34m\u001b[0m\u001b[0m\n\u001b[0m\u001b[1;32m      6\u001b[0m \u001b[0;34m\u001b[0m\u001b[0m\n\u001b[1;32m      7\u001b[0m     \u001b[0msalarios\u001b[0m\u001b[0;34m.\u001b[0m\u001b[0mappend\u001b[0m\u001b[0;34m(\u001b[0m\u001b[0msalario\u001b[0m\u001b[0;34m)\u001b[0m\u001b[0;34m\u001b[0m\u001b[0;34m\u001b[0m\u001b[0m\n",
            "\u001b[0;31mException\u001b[0m: Salário inválido! Salários devem ser positivos!"
          ]
        }
      ]
    },
    {
      "cell_type": "code",
      "source": [
        "# avisos\n",
        "try:\n",
        "  x = 1/0\n",
        "except:\n",
        "  raise Warning(\"warning...\")\n"
      ],
      "metadata": {
        "colab": {
          "base_uri": "https://localhost:8080/",
          "height": 376
        },
        "id": "LGiOqKiyhd6Y",
        "outputId": "4b32cfad-996f-4381-ded1-f3a54282714c"
      },
      "execution_count": null,
      "outputs": [
        {
          "output_type": "error",
          "ename": "Warning",
          "evalue": "ignored",
          "traceback": [
            "\u001b[0;31m---------------------------------------------------------------------------\u001b[0m",
            "\u001b[0;31mZeroDivisionError\u001b[0m                         Traceback (most recent call last)",
            "\u001b[0;32m<ipython-input-71-4f690778abfe>\u001b[0m in \u001b[0;36m<module>\u001b[0;34m\u001b[0m\n\u001b[1;32m      2\u001b[0m \u001b[0;32mtry\u001b[0m\u001b[0;34m:\u001b[0m\u001b[0;34m\u001b[0m\u001b[0;34m\u001b[0m\u001b[0m\n\u001b[0;32m----> 3\u001b[0;31m   \u001b[0mx\u001b[0m \u001b[0;34m=\u001b[0m \u001b[0;36m1\u001b[0m\u001b[0;34m/\u001b[0m\u001b[0;36m0\u001b[0m\u001b[0;34m\u001b[0m\u001b[0;34m\u001b[0m\u001b[0m\n\u001b[0m\u001b[1;32m      4\u001b[0m \u001b[0;32mexcept\u001b[0m\u001b[0;34m:\u001b[0m\u001b[0;34m\u001b[0m\u001b[0;34m\u001b[0m\u001b[0m\n",
            "\u001b[0;31mZeroDivisionError\u001b[0m: division by zero",
            "\nDuring handling of the above exception, another exception occurred:\n",
            "\u001b[0;31mWarning\u001b[0m                                   Traceback (most recent call last)",
            "\u001b[0;32m<ipython-input-71-4f690778abfe>\u001b[0m in \u001b[0;36m<module>\u001b[0;34m\u001b[0m\n\u001b[1;32m      3\u001b[0m   \u001b[0mx\u001b[0m \u001b[0;34m=\u001b[0m \u001b[0;36m1\u001b[0m\u001b[0;34m/\u001b[0m\u001b[0;36m0\u001b[0m\u001b[0;34m\u001b[0m\u001b[0;34m\u001b[0m\u001b[0m\n\u001b[1;32m      4\u001b[0m \u001b[0;32mexcept\u001b[0m\u001b[0;34m:\u001b[0m\u001b[0;34m\u001b[0m\u001b[0;34m\u001b[0m\u001b[0m\n\u001b[0;32m----> 5\u001b[0;31m   \u001b[0;32mraise\u001b[0m \u001b[0mWarning\u001b[0m\u001b[0;34m(\u001b[0m\u001b[0;34m\"warning...\"\u001b[0m\u001b[0;34m)\u001b[0m\u001b[0;34m\u001b[0m\u001b[0;34m\u001b[0m\u001b[0m\n\u001b[0m",
            "\u001b[0;31mWarning\u001b[0m: warning..."
          ]
        }
      ]
    },
    {
      "cell_type": "markdown",
      "source": [
        "## Exercícios\n",
        "\n",
        "1. Faça um programa que solicite ao usuário 2 números inteiros. A seguir, calcule e mostre a divisão do primeiro pelo segundo. Obrigatório a inclusão do bloco try-except nas leituras (ValueError) e no cálculo da divisão (ZeroDivisionError). O programa deve ter também a clásula \"finally\" com a mensagem \"FIM!!\". Atenção: O programa só continua se não houver erro."
      ],
      "metadata": {
        "id": "vjU_94wv0D4x"
      }
    },
    {
      "cell_type": "code",
      "source": [
        "def divide():\n",
        "    try:\n",
        "      num1 = int(input(\"Digite o primeiro número inteiro: \"))\n",
        "      num2 = int(input(\"Digite o segundo número inteiro: \"))\n",
        "      resultado = num1 / num2\n",
        "      return print(f\"Resultado da divisão: {resultado}\")\n",
        "    except ZeroDivisionError:\n",
        "      return 'infinito'\n",
        "    except ValueError:\n",
        "      return 'tipo incorreto'\n",
        "    finally:\n",
        "      print('FIM!!')"
      ],
      "metadata": {
        "id": "HVtpqOirn5ZA"
      },
      "execution_count": null,
      "outputs": []
    },
    {
      "cell_type": "code",
      "source": [
        "divide()"
      ],
      "metadata": {
        "colab": {
          "base_uri": "https://localhost:8080/"
        },
        "id": "UidUdLyQu3nC",
        "outputId": "1b6de52e-c563-4d6a-9fe2-d5f27045e87b"
      },
      "execution_count": null,
      "outputs": [
        {
          "output_type": "stream",
          "name": "stdout",
          "text": [
            "Digite o primeiro número inteiro: 7\n",
            "Digite o segundo número inteiro: 2\n",
            "Resultado da divisão: 3.5\n",
            "FIM!!\n"
          ]
        }
      ]
    }
  ]
}