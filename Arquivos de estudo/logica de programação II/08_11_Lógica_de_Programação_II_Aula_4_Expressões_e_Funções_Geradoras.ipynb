{
  "nbformat": 4,
  "nbformat_minor": 0,
  "metadata": {
    "colab": {
      "provenance": [],
      "collapsed_sections": [
        "QAnItBgO_LUz"
      ]
    },
    "kernelspec": {
      "name": "python3",
      "display_name": "Python 3"
    },
    "language_info": {
      "name": "python"
    }
  },
  "cells": [
    {
      "cell_type": "markdown",
      "source": [
        "## 📍 Agenda 📍\n",
        "<br>\n",
        "\n",
        "- [Expressões Geradoras](#um)\n",
        "- [Funções Geradoras](#dois)\n",
        "- [Exercícios](#tres)"
      ],
      "metadata": {
        "id": "QAnItBgO_LUz"
      }
    },
    {
      "cell_type": "markdown",
      "source": [
        "## Expressões Geradoras <a class=\"anchor\" id=\"um\"></a>\n",
        "<br>\n",
        "\n",
        "Voltando ao assunto da aula passada, estudamos compreensão de listas e de dicionários. Então, pode ser natural pensar que se seria possível criar compreensões de tupla, certo?\n",
        "<br>\n",
        "<br>\n",
        "Vamos tentar?\n",
        "\n",
        "<br>\n",
        "<br>\n",
        "\n",
        "Imagine que queremos gerar uma tupla com números de 0 a 9 seguindo a ideia de compreensão de listas.\n",
        "\n",
        "Observe os códigos abaixo:\n",
        "\n",
        "<div align=\"justify\">\n",
        "&emsp;\n",
        "</div>\n",
        "<br>"
      ],
      "metadata": {
        "id": "5OCDQOvZKQy2"
      }
    },
    {
      "cell_type": "code",
      "source": [
        "# list comprehension\n",
        "lista = [x**2 for x in range(10)]\n",
        "lista"
      ],
      "metadata": {
        "id": "u64A061AMIZL",
        "colab": {
          "base_uri": "https://localhost:8080/"
        },
        "outputId": "e80bfb52-427f-40b9-e791-1d492fe5245d"
      },
      "execution_count": null,
      "outputs": [
        {
          "output_type": "execute_result",
          "data": {
            "text/plain": [
              "[0, 1, 4, 9, 16, 25, 36, 49, 64, 81]"
            ]
          },
          "metadata": {},
          "execution_count": 13
        }
      ]
    },
    {
      "cell_type": "code",
      "source": [
        "lista[0]"
      ],
      "metadata": {
        "colab": {
          "base_uri": "https://localhost:8080/"
        },
        "id": "CfzEkTLWLR3C",
        "outputId": "8c25b0eb-084b-4fbf-8ee6-9674e1f839df"
      },
      "execution_count": null,
      "outputs": [
        {
          "output_type": "execute_result",
          "data": {
            "text/plain": [
              "0"
            ]
          },
          "metadata": {},
          "execution_count": 14
        }
      ]
    },
    {
      "cell_type": "code",
      "source": [
        "# E com tuplas? O que seria?\n",
        "gerador = (x**2 for x in range(10))\n",
        "gerador"
      ],
      "metadata": {
        "id": "AzfqV_h8MdbB",
        "colab": {
          "base_uri": "https://localhost:8080/"
        },
        "outputId": "533b11d2-313d-4f6e-844f-3c0affd2aa9d"
      },
      "execution_count": null,
      "outputs": [
        {
          "output_type": "execute_result",
          "data": {
            "text/plain": [
              "<generator object <genexpr> at 0x7fd79ac907b0>"
            ]
          },
          "metadata": {},
          "execution_count": 24
        }
      ]
    },
    {
      "cell_type": "code",
      "source": [
        "indicador = 0\n",
        "conta_itens = 0\n",
        "soma_valores_pedidos = 0\n",
        "for x in gerador:\n",
        "  indicador += x\n",
        "indicador"
      ],
      "metadata": {
        "id": "Jn9GtVb7c3Xe",
        "colab": {
          "base_uri": "https://localhost:8080/"
        },
        "outputId": "e2aa6a9d-cbaf-4a6b-ecba-cf3068f49ff7"
      },
      "execution_count": null,
      "outputs": [
        {
          "output_type": "execute_result",
          "data": {
            "text/plain": [
              "285"
            ]
          },
          "metadata": {},
          "execution_count": 25
        }
      ]
    },
    {
      "cell_type": "code",
      "source": [
        "x"
      ],
      "metadata": {
        "colab": {
          "base_uri": "https://localhost:8080/"
        },
        "id": "SJdKitTIMkN6",
        "outputId": "a1ec83cf-3599-453f-c954-a8b7701a727b"
      },
      "execution_count": null,
      "outputs": [
        {
          "output_type": "execute_result",
          "data": {
            "text/plain": [
              "81"
            ]
          },
          "metadata": {},
          "execution_count": 21
        }
      ]
    },
    {
      "cell_type": "code",
      "source": [
        "l = list(gerador)\n",
        "l"
      ],
      "metadata": {
        "colab": {
          "base_uri": "https://localhost:8080/"
        },
        "id": "b3iytoCUMuOo",
        "outputId": "c3b1666e-eb85-4d2e-814a-ff28a3022bb5"
      },
      "execution_count": null,
      "outputs": [
        {
          "output_type": "execute_result",
          "data": {
            "text/plain": [
              "[0, 1, 4, 9, 16, 25, 36, 49, 64, 81]"
            ]
          },
          "metadata": {},
          "execution_count": 23
        }
      ]
    },
    {
      "cell_type": "code",
      "source": [
        "for x in gerador:\n",
        "  print(x)"
      ],
      "metadata": {
        "id": "bu0hjR4aL-6K"
      },
      "execution_count": null,
      "outputs": []
    },
    {
      "cell_type": "code",
      "source": [],
      "metadata": {
        "id": "vLuyClyoc3Z2"
      },
      "execution_count": null,
      "outputs": []
    },
    {
      "cell_type": "code",
      "source": [],
      "metadata": {
        "id": "Js7zVaRzc3cg"
      },
      "execution_count": null,
      "outputs": []
    },
    {
      "cell_type": "markdown",
      "source": [
        "Note que, o tipo da lista é determinado como `list`, porém, o tipo da variável tupla é `generator`. Isso acontece porque não existe compreensão de tuplas. O que estamos criando quando usamos parênteses é o que chamamos de `expressão geradora`."
      ],
      "metadata": {
        "id": "l2RbW-QeMkGf"
      }
    },
    {
      "cell_type": "markdown",
      "source": [
        "Assim como nas listas, podemos percorrer os elementos de uma expressão geradora usando algum tipo de loop.\n",
        "<br>\n",
        "<br>\n",
        "Veja o exemplo abaixo:\n"
      ],
      "metadata": {
        "id": "eRSCFl1pPNz8"
      }
    },
    {
      "cell_type": "code",
      "source": [
        "lista = [1,2,4,5]\n",
        "gerador_quadrados = (x**2 for x in lista)"
      ],
      "metadata": {
        "id": "ERoWEeqEO_yc"
      },
      "execution_count": null,
      "outputs": []
    },
    {
      "cell_type": "code",
      "source": [],
      "metadata": {
        "id": "zFYmmMkXJXa8"
      },
      "execution_count": null,
      "outputs": []
    },
    {
      "cell_type": "code",
      "source": [
        "# como imprimir os elementos do gerador usando loop?\n",
        "for x in gerador_quadrados:\n",
        "  print(x)"
      ],
      "metadata": {
        "id": "vLEdZJv1J172",
        "colab": {
          "base_uri": "https://localhost:8080/"
        },
        "outputId": "4191a064-1c9f-4305-837f-6f25f1a93568"
      },
      "execution_count": null,
      "outputs": [
        {
          "output_type": "stream",
          "name": "stdout",
          "text": [
            "1\n",
            "4\n",
            "16\n",
            "25\n"
          ]
        }
      ]
    },
    {
      "cell_type": "code",
      "source": [],
      "metadata": {
        "id": "l3UKHWBmJdrx"
      },
      "execution_count": null,
      "outputs": []
    },
    {
      "cell_type": "markdown",
      "source": [
        "Porém, não podemos usar utilizar um gerador uma segunda vez.\n",
        "<br>\n",
        "<br>\n",
        "Observe o exemplo abaixo:\n"
      ],
      "metadata": {
        "id": "i9yXB19cQIMb"
      }
    },
    {
      "cell_type": "code",
      "source": [],
      "metadata": {
        "id": "z4tbbzjUdPUd"
      },
      "execution_count": null,
      "outputs": []
    },
    {
      "cell_type": "code",
      "source": [],
      "metadata": {
        "id": "4jFDcegAdPqf"
      },
      "execution_count": null,
      "outputs": []
    },
    {
      "cell_type": "markdown",
      "source": [
        "Para entendermos o porquê da não possibilidade de utilização de uma expressão geradora uma segunda vez, precisamos entender o que são `iteráveis` e `iteradores`.\n",
        "<br>\n",
        "<br>\n",
        "\n",
        "*   `Iteráveis`: é um objeto em Python que podemos percorrer usando algum loop. Em outras palavras, são alguns tipos de coleções que já conhecemos: `listas`, `tuplas`, `dicionários`, `strings`.\n",
        "\n",
        "*   `Iteradores`: Quando estamos iterando sobre os elementos em um iterável, estamos usando `iteradores`. Ou seja, o iterador é criado a cada iteração do loop e podemos acessá-lo pela função `iter`.\n",
        "\n",
        "<br>\n",
        "Em cada passo da iteração do loop, a função `next` é chamada e ele retornará o próximo elemento.\n",
        "<br>\n",
        "Quando os elementos são esgotados, ele irá lançar uma exceção chamada `StopIteration`.\n",
        "\n",
        "<br>\n",
        "<br>\n",
        "Exemplo:"
      ],
      "metadata": {
        "id": "YY6hAMzBQtZu"
      }
    },
    {
      "cell_type": "code",
      "source": [
        "iteravel = list(range(10))\n",
        "\n",
        "for iterador in iteravel:\n",
        "  print(iterador)"
      ],
      "metadata": {
        "colab": {
          "base_uri": "https://localhost:8080/"
        },
        "id": "C9753uKSOfYz",
        "outputId": "a99a040e-e3e6-430f-80c5-12b399c159e7"
      },
      "execution_count": null,
      "outputs": [
        {
          "output_type": "stream",
          "name": "stdout",
          "text": [
            "0\n",
            "1\n",
            "2\n",
            "3\n",
            "4\n",
            "5\n",
            "6\n",
            "7\n",
            "8\n",
            "9\n"
          ]
        }
      ]
    },
    {
      "cell_type": "code",
      "source": [],
      "metadata": {
        "id": "F0R-CXGqOtlE"
      },
      "execution_count": null,
      "outputs": []
    },
    {
      "cell_type": "code",
      "source": [
        "iteravel = [10, 20, 30]\n",
        "\n",
        "iterador = iter(iteravel)\n",
        "\n",
        "print(iterador)\n",
        "\n",
        "print(next(iterador))\n",
        "print(next(iterador))\n",
        "print(next(iterador))\n",
        "print(next(iterador))"
      ],
      "metadata": {
        "id": "NQo1EQn0XNJZ",
        "colab": {
          "base_uri": "https://localhost:8080/",
          "height": 282
        },
        "outputId": "81628e9d-8377-4b45-b8bf-5ffdf5fcabb9"
      },
      "execution_count": null,
      "outputs": [
        {
          "output_type": "stream",
          "name": "stdout",
          "text": [
            "<list_iterator object at 0x7fd79ac6f910>\n",
            "10\n",
            "20\n",
            "30\n"
          ]
        },
        {
          "output_type": "error",
          "ename": "StopIteration",
          "evalue": "ignored",
          "traceback": [
            "\u001b[0;31m---------------------------------------------------------------------------\u001b[0m",
            "\u001b[0;31mStopIteration\u001b[0m                             Traceback (most recent call last)",
            "\u001b[0;32m<ipython-input-31-35087553e2fb>\u001b[0m in \u001b[0;36m<cell line: 10>\u001b[0;34m()\u001b[0m\n\u001b[1;32m      8\u001b[0m \u001b[0mprint\u001b[0m\u001b[0;34m(\u001b[0m\u001b[0mnext\u001b[0m\u001b[0;34m(\u001b[0m\u001b[0miterador\u001b[0m\u001b[0;34m)\u001b[0m\u001b[0;34m)\u001b[0m\u001b[0;34m\u001b[0m\u001b[0;34m\u001b[0m\u001b[0m\n\u001b[1;32m      9\u001b[0m \u001b[0mprint\u001b[0m\u001b[0;34m(\u001b[0m\u001b[0mnext\u001b[0m\u001b[0;34m(\u001b[0m\u001b[0miterador\u001b[0m\u001b[0;34m)\u001b[0m\u001b[0;34m)\u001b[0m\u001b[0;34m\u001b[0m\u001b[0;34m\u001b[0m\u001b[0m\n\u001b[0;32m---> 10\u001b[0;31m \u001b[0mprint\u001b[0m\u001b[0;34m(\u001b[0m\u001b[0mnext\u001b[0m\u001b[0;34m(\u001b[0m\u001b[0miterador\u001b[0m\u001b[0;34m)\u001b[0m\u001b[0;34m)\u001b[0m\u001b[0;34m\u001b[0m\u001b[0;34m\u001b[0m\u001b[0m\n\u001b[0m",
            "\u001b[0;31mStopIteration\u001b[0m: "
          ]
        }
      ]
    },
    {
      "cell_type": "code",
      "source": [
        "iteravel = [10, 20, 30]\n",
        "\n",
        "iterador = iter(iteravel)\n",
        "\n",
        "contador = 0\n",
        "while contador < 3:\n",
        "  print(next(iterador))\n",
        "  contador += 1"
      ],
      "metadata": {
        "colab": {
          "base_uri": "https://localhost:8080/"
        },
        "id": "7FAVEGFXPcOX",
        "outputId": "0bc539ba-18b4-464b-e0b5-6e099f89033b"
      },
      "execution_count": null,
      "outputs": [
        {
          "output_type": "stream",
          "name": "stdout",
          "text": [
            "10\n",
            "20\n",
            "30\n"
          ]
        }
      ]
    },
    {
      "cell_type": "markdown",
      "source": [
        "É importante ressaltar que, conceitualmente, uma `expressão geradora` não é um iterável, ele é um iterador. Uma lista é um iterável.\n",
        "<br>\n",
        "<br>\n",
        "Ou seja, quando nós fazemos uma compreensão de lista, a expressão é avaliada na mesma hora e todos os elementos são gerados e salvos na memória.\n",
        "<br>\n",
        "<br>\n",
        "Quando utilizamos uma expressão geradora, cada elemento é gerado apenas quando solicitado, e os elementos não ficam salvos."
      ],
      "metadata": {
        "id": "nG8icqlLXv6f"
      }
    },
    {
      "cell_type": "code",
      "source": [
        "gerador = (x for x in range(5))\n",
        "print(next(gerador))\n",
        "print(next(gerador))\n",
        "print(next(gerador))\n",
        "print(next(gerador))\n",
        "print(next(gerador))\n",
        "print(next(gerador))"
      ],
      "metadata": {
        "id": "ncRGMOWBYPXb",
        "colab": {
          "base_uri": "https://localhost:8080/",
          "height": 300
        },
        "outputId": "6cfa338e-61c8-4228-87a7-10bf66eabc43"
      },
      "execution_count": null,
      "outputs": [
        {
          "output_type": "stream",
          "name": "stdout",
          "text": [
            "0\n",
            "1\n",
            "2\n",
            "3\n",
            "4\n"
          ]
        },
        {
          "output_type": "error",
          "ename": "StopIteration",
          "evalue": "ignored",
          "traceback": [
            "\u001b[0;31m---------------------------------------------------------------------------\u001b[0m",
            "\u001b[0;31mStopIteration\u001b[0m                             Traceback (most recent call last)",
            "\u001b[0;32m<ipython-input-37-a8fce47e531b>\u001b[0m in \u001b[0;36m<cell line: 7>\u001b[0;34m()\u001b[0m\n\u001b[1;32m      5\u001b[0m \u001b[0mprint\u001b[0m\u001b[0;34m(\u001b[0m\u001b[0mnext\u001b[0m\u001b[0;34m(\u001b[0m\u001b[0mgerador\u001b[0m\u001b[0;34m)\u001b[0m\u001b[0;34m)\u001b[0m\u001b[0;34m\u001b[0m\u001b[0;34m\u001b[0m\u001b[0m\n\u001b[1;32m      6\u001b[0m \u001b[0mprint\u001b[0m\u001b[0;34m(\u001b[0m\u001b[0mnext\u001b[0m\u001b[0;34m(\u001b[0m\u001b[0mgerador\u001b[0m\u001b[0;34m)\u001b[0m\u001b[0;34m)\u001b[0m\u001b[0;34m\u001b[0m\u001b[0;34m\u001b[0m\u001b[0m\n\u001b[0;32m----> 7\u001b[0;31m \u001b[0mprint\u001b[0m\u001b[0;34m(\u001b[0m\u001b[0mnext\u001b[0m\u001b[0;34m(\u001b[0m\u001b[0mgerador\u001b[0m\u001b[0;34m)\u001b[0m\u001b[0;34m)\u001b[0m\u001b[0;34m\u001b[0m\u001b[0;34m\u001b[0m\u001b[0m\n\u001b[0m",
            "\u001b[0;31mStopIteration\u001b[0m: "
          ]
        }
      ]
    },
    {
      "cell_type": "code",
      "source": [
        "lista = list(range(10))\n",
        "gerador = (x**2 for x in lista if x > 3)\n",
        "list(gerador)"
      ],
      "metadata": {
        "colab": {
          "base_uri": "https://localhost:8080/"
        },
        "id": "Z2aXEmdfQN6Y",
        "outputId": "d0d07e7a-c154-44b3-c54d-a7a5b0c278e2"
      },
      "execution_count": null,
      "outputs": [
        {
          "output_type": "execute_result",
          "data": {
            "text/plain": [
              "[16, 25, 36, 49, 64, 81]"
            ]
          },
          "metadata": {},
          "execution_count": 38
        }
      ]
    },
    {
      "cell_type": "code",
      "source": [
        "gerador = (x**2 for x in lista)"
      ],
      "metadata": {
        "id": "P5Mu5ovhQsJW"
      },
      "execution_count": null,
      "outputs": []
    },
    {
      "cell_type": "code",
      "source": [
        "for x in gerador:\n",
        "  print(f\"Antes de quebrar o sistema: {x}\")\n",
        "  if x > 25:\n",
        "    break\n",
        "print(\"=================\")\n",
        "for x in gerador:\n",
        "  print(f\"DEPOIS de quebrar o sistema: {x}\")"
      ],
      "metadata": {
        "colab": {
          "base_uri": "https://localhost:8080/"
        },
        "id": "2e6-HAjyQv80",
        "outputId": "38c374a1-cb2a-4f92-ceb0-3e1689ad6f91"
      },
      "execution_count": null,
      "outputs": [
        {
          "output_type": "stream",
          "name": "stdout",
          "text": [
            "Antes de quebrar o sistema: 0\n",
            "Antes de quebrar o sistema: 1\n",
            "Antes de quebrar o sistema: 4\n",
            "Antes de quebrar o sistema: 9\n",
            "Antes de quebrar o sistema: 16\n",
            "Antes de quebrar o sistema: 25\n",
            "Antes de quebrar o sistema: 36\n",
            "=================\n",
            "DEPOIS de quebrar o sistema: 49\n",
            "DEPOIS de quebrar o sistema: 64\n",
            "DEPOIS de quebrar o sistema: 81\n"
          ]
        }
      ]
    },
    {
      "cell_type": "code",
      "source": [
        "for x in gerador:\n",
        "  print(f\"Antes de quebrar o sistema: {x}\")\n",
        "  if x > 25:\n",
        "    break\n",
        "print(\"=================\")\n",
        "for x in gerador:\n",
        "  print(f\"DEPOIS de quebrar o sistema: {x}\")"
      ],
      "metadata": {
        "colab": {
          "base_uri": "https://localhost:8080/"
        },
        "id": "iVNmavrJRX8y",
        "outputId": "d2f5bd97-40f0-4924-a99b-d0f62a16352a"
      },
      "execution_count": null,
      "outputs": [
        {
          "output_type": "stream",
          "name": "stdout",
          "text": [
            "=================\n"
          ]
        }
      ]
    },
    {
      "cell_type": "code",
      "source": [
        "%%time\n",
        "lista = list(range(10**8))"
      ],
      "metadata": {
        "colab": {
          "base_uri": "https://localhost:8080/"
        },
        "id": "fX1mRZJBR8E6",
        "outputId": "c31f8d1b-d414-4a77-9ad2-aa95a084a2d6"
      },
      "execution_count": null,
      "outputs": [
        {
          "output_type": "stream",
          "name": "stdout",
          "text": [
            "CPU times: user 1.47 s, sys: 2.15 s, total: 3.62 s\n",
            "Wall time: 3.62 s\n"
          ]
        }
      ]
    },
    {
      "cell_type": "code",
      "source": [
        "%%time\n",
        "gerador = (x for x in range(10**8))"
      ],
      "metadata": {
        "colab": {
          "base_uri": "https://localhost:8080/"
        },
        "id": "3r-2hpV2SBAc",
        "outputId": "6e7c43ea-06d7-4462-b40a-d2afddd8f940"
      },
      "execution_count": null,
      "outputs": [
        {
          "output_type": "stream",
          "name": "stdout",
          "text": [
            "CPU times: user 8 µs, sys: 0 ns, total: 8 µs\n",
            "Wall time: 12.9 µs\n"
          ]
        }
      ]
    },
    {
      "cell_type": "markdown",
      "source": [
        "Podemos utilizar expressões geradoras quando:\n",
        "\n",
        "\n",
        "*  Iremos trabalhar com uma base de dados que não pode ser armazenada por completo na memória principal de uma única vez.\n",
        "\n",
        "*   Quando desejamos obter dados em fluxo contínuo (streaming de dados).\n",
        "\n",
        "* Quando temos certeza que iteraremos apenas uma vez em cada elemento e não precisaremos deles posteriormente."
      ],
      "metadata": {
        "id": "S4vCizTDY5Rz"
      }
    },
    {
      "cell_type": "markdown",
      "source": [
        "## Funções Geradoras\n",
        "\n",
        "Expressões geradoras são uma forma compacta para criar iteradores. Uma forma mais completa que podemos utilizar são as `funções geradoras`\n",
        "\n",
        "<br>\n",
        "<br>\n",
        "\n",
        "Funções geradoras se parecem bastante com funções convencionais, mas ao invés de `return`, elas usão o comando `yield`.\n",
        "\n",
        "<br>\n",
        "Neste caso, a função retorna um iterador, e iremos sempre chamar `next`passando esse gerador.\n",
        "\n",
        "<br>\n",
        "<br>\n",
        "Cada vez que o next for chamado, o iterador irá executar a função até encontrar o `yield`. O estado da função é salvo e o valor do `yield` é retornado. Quando chamarmos `next` novamente, a função irá executar do ponto que parou até encontrar novamente o `yield`. Quando não houver mais `yield`, a exceção `StopIteraction` será lançada.\n",
        "\n",
        "<br>\n",
        "Vamos de exemplos..."
      ],
      "metadata": {
        "id": "fSY2lUsYZwi3"
      }
    },
    {
      "cell_type": "code",
      "source": [
        "# função com return\n",
        "def quadrados(n):\n",
        "  lista_quadrados = []\n",
        "  for elemento in range(n):\n",
        "    lista_quadrados.append(elemento**2)\n",
        "  return lista_quadrados"
      ],
      "metadata": {
        "id": "9xLZ_uQcbCy7"
      },
      "execution_count": null,
      "outputs": []
    },
    {
      "cell_type": "code",
      "source": [
        "quadrados(n=5)"
      ],
      "metadata": {
        "colab": {
          "base_uri": "https://localhost:8080/"
        },
        "id": "8vcB0uR2NnEq",
        "outputId": "7f7ebb81-d0a7-4f7d-f8d9-c5204326c23c"
      },
      "execution_count": null,
      "outputs": [
        {
          "output_type": "execute_result",
          "data": {
            "text/plain": [
              "[0, 1, 4, 9, 16]"
            ]
          },
          "metadata": {},
          "execution_count": 50
        }
      ]
    },
    {
      "cell_type": "code",
      "source": [
        "type(quadrados)"
      ],
      "metadata": {
        "colab": {
          "base_uri": "https://localhost:8080/"
        },
        "id": "lqMwcSy8NrKm",
        "outputId": "558bcb97-b761-4bfd-e62e-89f55db8cde5"
      },
      "execution_count": null,
      "outputs": [
        {
          "output_type": "execute_result",
          "data": {
            "text/plain": [
              "function"
            ]
          },
          "metadata": {},
          "execution_count": 51
        }
      ]
    },
    {
      "cell_type": "code",
      "source": [
        "type(quadrados(n=5)) # tipo do retorno da função"
      ],
      "metadata": {
        "colab": {
          "base_uri": "https://localhost:8080/"
        },
        "id": "WBaIGqY4Nurp",
        "outputId": "aaedd5fa-2af3-4595-96b3-1dbf7f7098c3"
      },
      "execution_count": null,
      "outputs": [
        {
          "output_type": "execute_result",
          "data": {
            "text/plain": [
              "list"
            ]
          },
          "metadata": {},
          "execution_count": 52
        }
      ]
    },
    {
      "cell_type": "code",
      "source": [
        "# escopo da função geradora\n",
        "def gerador_quadrados(n):\n",
        "  for elemento in range(n):\n",
        "    yield elemento**2 # expression"
      ],
      "metadata": {
        "id": "q1OrAMCPcsR3"
      },
      "execution_count": null,
      "outputs": []
    },
    {
      "cell_type": "code",
      "source": [
        "# type\n",
        "type(gerador_quadrados)"
      ],
      "metadata": {
        "id": "4MC9ny_rN-HO",
        "colab": {
          "base_uri": "https://localhost:8080/"
        },
        "outputId": "ec75d7ce-1fe8-494e-945b-6044a2212589"
      },
      "execution_count": null,
      "outputs": [
        {
          "output_type": "execute_result",
          "data": {
            "text/plain": [
              "function"
            ]
          },
          "metadata": {},
          "execution_count": 54
        }
      ]
    },
    {
      "cell_type": "code",
      "source": [
        "# type retorno da função\n",
        "type(gerador_quadrados(n=5))"
      ],
      "metadata": {
        "id": "FA4NUEwbcwam",
        "colab": {
          "base_uri": "https://localhost:8080/"
        },
        "outputId": "6c3a02de-59e8-4440-c12b-86eea36dfdc5"
      },
      "execution_count": null,
      "outputs": [
        {
          "output_type": "execute_result",
          "data": {
            "text/plain": [
              "generator"
            ]
          },
          "metadata": {},
          "execution_count": 55
        }
      ]
    },
    {
      "cell_type": "code",
      "source": [
        "gerador = gerador_quadrados(n=10) # cria gerador"
      ],
      "metadata": {
        "id": "GmLViropczGX"
      },
      "execution_count": null,
      "outputs": []
    },
    {
      "cell_type": "code",
      "source": [
        "# iterar sobre o gerador com for\n",
        "for elemento in gerador:\n",
        "  print(elemento)"
      ],
      "metadata": {
        "id": "NDLm_BVFRXTx",
        "colab": {
          "base_uri": "https://localhost:8080/"
        },
        "outputId": "313e3c47-fb9d-462c-8db8-ff4975564b8f"
      },
      "execution_count": null,
      "outputs": [
        {
          "output_type": "stream",
          "name": "stdout",
          "text": [
            "0\n",
            "1\n",
            "4\n",
            "9\n",
            "16\n",
            "25\n",
            "36\n",
            "49\n",
            "64\n",
            "81\n"
          ]
        }
      ]
    },
    {
      "cell_type": "code",
      "source": [
        "for x in gerador:\n",
        "  print(f\"Antes de quebrar o sistema: {x}\")\n",
        "  if x > 25:\n",
        "    break\n",
        "print(\"=================\")\n",
        "for x in gerador:\n",
        "  print(f\"DEPOIS de quebrar o sistema: {x}\")"
      ],
      "metadata": {
        "colab": {
          "base_uri": "https://localhost:8080/"
        },
        "id": "is_nUoo4UW4n",
        "outputId": "324e9f61-2679-417b-f950-0c1032bce85a"
      },
      "execution_count": null,
      "outputs": [
        {
          "output_type": "stream",
          "name": "stdout",
          "text": [
            "=================\n"
          ]
        }
      ]
    },
    {
      "cell_type": "code",
      "source": [],
      "metadata": {
        "id": "7s98zjslfHOx"
      },
      "execution_count": null,
      "outputs": []
    },
    {
      "cell_type": "code",
      "source": [
        "# dados de banco de dados\n",
        "nomes = [\"Joao\", \"Ana\", \"Maria\"]\n",
        "notas = [7.9, 4.5, 9.0]"
      ],
      "metadata": {
        "id": "dAG1FdifbeoT"
      },
      "execution_count": null,
      "outputs": []
    },
    {
      "cell_type": "code",
      "source": [],
      "metadata": {
        "id": "vEAbubdMU_te"
      },
      "execution_count": null,
      "outputs": []
    },
    {
      "cell_type": "code",
      "source": [
        "# criar uma função geradora para retornar/gerar dicionarios no formato {nome: nota}\n",
        "def gerador_alunos(nomes, notas):\n",
        "  for nome, nota in zip(nomes, notas):\n",
        "    yield {nome: nota}"
      ],
      "metadata": {
        "id": "kzqtJX5UdACz"
      },
      "execution_count": null,
      "outputs": []
    },
    {
      "cell_type": "code",
      "source": [
        "for aluno in gerador_alunos(nomes, notas):\n",
        "  print(aluno)"
      ],
      "metadata": {
        "colab": {
          "base_uri": "https://localhost:8080/"
        },
        "id": "8BRvPxcLVOBR",
        "outputId": "277aa8a7-7590-42cb-b5a0-7bca82e02ce9"
      },
      "execution_count": null,
      "outputs": [
        {
          "output_type": "stream",
          "name": "stdout",
          "text": [
            "{'Joao': 7.9}\n",
            "{'Ana': 4.5}\n",
            "{'Maria': 9.0}\n"
          ]
        }
      ]
    },
    {
      "cell_type": "code",
      "source": [
        "dict_alunos = {}\n",
        "for aluno in gerador_alunos(nomes, notas):\n",
        "  dict_alunos.update(aluno)"
      ],
      "metadata": {
        "id": "6cKWnI2cVj6a"
      },
      "execution_count": null,
      "outputs": []
    },
    {
      "cell_type": "code",
      "source": [
        "g = gerador_alunos(nomes, notas)"
      ],
      "metadata": {
        "id": "sdirgElYWCtQ"
      },
      "execution_count": null,
      "outputs": []
    },
    {
      "cell_type": "code",
      "source": [
        "dict_alunos = {}\n",
        "for aluno in g:\n",
        "  dict_alunos.update(aluno)\n",
        "dict_alunos"
      ],
      "metadata": {
        "colab": {
          "base_uri": "https://localhost:8080/"
        },
        "id": "Bol7xZB6WAbe",
        "outputId": "f1112d16-633a-43d3-880f-811f7799ac98"
      },
      "execution_count": null,
      "outputs": [
        {
          "output_type": "execute_result",
          "data": {
            "text/plain": [
              "{'Joao': 7.9, 'Ana': 4.5, 'Maria': 9.0}"
            ]
          },
          "metadata": {},
          "execution_count": 71
        }
      ]
    },
    {
      "cell_type": "code",
      "source": [
        "dict_alunos = {}\n",
        "for aluno in g:\n",
        "  dict_alunos.update(aluno)\n",
        "dict_alunos"
      ],
      "metadata": {
        "colab": {
          "base_uri": "https://localhost:8080/"
        },
        "id": "-GYqZmCoVrX_",
        "outputId": "eb7dd57d-abd3-415a-96fc-fd4d4a083e27"
      },
      "execution_count": null,
      "outputs": [
        {
          "output_type": "execute_result",
          "data": {
            "text/plain": [
              "{}"
            ]
          },
          "metadata": {},
          "execution_count": 73
        }
      ]
    },
    {
      "cell_type": "code",
      "source": [
        "# expressão geradora equivalente"
      ],
      "metadata": {
        "id": "kndTEnpeUb_i"
      },
      "execution_count": null,
      "outputs": []
    },
    {
      "cell_type": "code",
      "source": [
        "g = ({nome:nota} for nome, nota in zip(nomes, notas))"
      ],
      "metadata": {
        "id": "ls0qGCYvWY0t"
      },
      "execution_count": null,
      "outputs": []
    },
    {
      "cell_type": "code",
      "source": [
        "list(g)"
      ],
      "metadata": {
        "id": "8yJTsQ4DezmN",
        "colab": {
          "base_uri": "https://localhost:8080/"
        },
        "outputId": "d41704f1-3450-48f0-9a56-7d78747a24ad"
      },
      "execution_count": null,
      "outputs": [
        {
          "output_type": "execute_result",
          "data": {
            "text/plain": [
              "[{'Joao': 7.9}, {'Ana': 4.5}, {'Maria': 9.0}]"
            ]
          },
          "metadata": {},
          "execution_count": 75
        }
      ]
    },
    {
      "cell_type": "markdown",
      "source": [
        "## Exercícios\n",
        "\n",
        "1. **Usando expressões geradoras**, faça um programa em python que receba uma frase, e crie uma expressão geradora que retorne apenas as palavras que comecem com a letra \"a\". Imprima o resultado iterando do gerador."
      ],
      "metadata": {
        "id": "vjU_94wv0D4x"
      }
    },
    {
      "cell_type": "code",
      "source": [
        "frase = \"amor vida amar amores\""
      ],
      "metadata": {
        "id": "P84CVMrdano8"
      },
      "execution_count": null,
      "outputs": []
    },
    {
      "cell_type": "code",
      "source": [
        "g = (palavra for palavra in frase.split(\" \") if palavra[0].lower() == 'a')"
      ],
      "metadata": {
        "id": "Ix7zVhCilS1P"
      },
      "execution_count": null,
      "outputs": []
    },
    {
      "cell_type": "code",
      "source": [
        "list(g)"
      ],
      "metadata": {
        "id": "eHBl1r6efLWw",
        "colab": {
          "base_uri": "https://localhost:8080/"
        },
        "outputId": "6a8a8164-122f-498d-b308-88bbe800a9e1"
      },
      "execution_count": null,
      "outputs": [
        {
          "output_type": "execute_result",
          "data": {
            "text/plain": [
              "['amor', 'amar', 'amores']"
            ]
          },
          "metadata": {},
          "execution_count": 29
        }
      ]
    },
    {
      "cell_type": "markdown",
      "source": [
        "2. **Usando funções geradoras**, faça um programa em python que receba uma frase, e crie uma função geradora que retorne apenas as palavras que comecem com a letra \"a\". Imprima o resultado iterando do gerador."
      ],
      "metadata": {
        "id": "K_vuDhNA0OK-"
      }
    },
    {
      "cell_type": "code",
      "source": [
        "def palavras_com_a(frase):\n",
        "  frase = frase.lower()\n",
        "  print(frase)\n",
        "  lista = frase.split(\" \")\n",
        "  print(lista)\n",
        "\n",
        "  for palavra in lista:\n",
        "      if lista[0] == 'a' or lista[0] == 'A':\n",
        "        yield lista"
      ],
      "metadata": {
        "id": "BZHx1DLv0Q_o"
      },
      "execution_count": null,
      "outputs": []
    },
    {
      "cell_type": "code",
      "source": [
        "gerador = palavras_com_a(frase)"
      ],
      "metadata": {
        "id": "8JYSaWh3f76k"
      },
      "execution_count": null,
      "outputs": []
    },
    {
      "cell_type": "code",
      "source": [
        "for elemento in gerador:\n",
        "  print(elemento)"
      ],
      "metadata": {
        "colab": {
          "base_uri": "https://localhost:8080/"
        },
        "id": "j0NsSOYAgJxD",
        "outputId": "1e106c80-d218-4367-89ea-d3e64e814273"
      },
      "execution_count": null,
      "outputs": [
        {
          "output_type": "stream",
          "name": "stdout",
          "text": [
            "amor vida amar amores\n",
            "['amor', 'vida', 'amar', 'amores']\n"
          ]
        }
      ]
    },
    {
      "cell_type": "markdown",
      "source": [
        "3. Faça uma função/expressão geradora em python que receba uma lista de alunos e uma lista de cursos, e retorne um dicionário por vez no formato:\n",
        "  - {\"nome\": aluno, \"curso\" :curso}"
      ],
      "metadata": {
        "id": "GXUhvCMp2JdO"
      }
    },
    {
      "cell_type": "code",
      "source": [
        "nomes = [\"Bruna\", \"Pedro\", \"Marcia\"]\n",
        "cursos = [\"Dados\", \"Front\", \"Back\"]"
      ],
      "metadata": {
        "id": "LvoeRhnNedym"
      },
      "execution_count": null,
      "outputs": []
    },
    {
      "cell_type": "code",
      "source": [
        "def gerador(nome, curso):\n",
        "  for nome, curso in zip(nomes, cursos):\n",
        "    yield {'nome': nome,'curso' : curso}"
      ],
      "metadata": {
        "id": "Av_5Zx3BhP0-"
      },
      "execution_count": null,
      "outputs": []
    },
    {
      "cell_type": "code",
      "source": [
        "for nome in gerador(nomes, cursos):\n",
        "  print(nome)"
      ],
      "metadata": {
        "colab": {
          "base_uri": "https://localhost:8080/"
        },
        "id": "8RR_iKbghqqP",
        "outputId": "4edaa416-489d-407e-f2db-13156edb59d5"
      },
      "execution_count": null,
      "outputs": [
        {
          "output_type": "stream",
          "name": "stdout",
          "text": [
            "{'nome': 'Bruna', 'curso': 'Dados'}\n",
            "{'nome': 'Pedro', 'curso': 'Front'}\n",
            "{'nome': 'Marcia', 'curso': 'Back'}\n"
          ]
        }
      ]
    },
    {
      "cell_type": "code",
      "source": [
        "def menu_opcoes(opcao):\n",
        "    print(\"Boas vindas ao nosso sistema: \\n\\n 1 - Buscar tweets por data 2 - Buscar tweets por termo 3 - Buscar tweets por assunto 4 - Salvar resultado da busca 5 - Sair\")\n",
        "    opcao = 0\n",
        "    if opcao == 1:\n",
        "        msg = \"Buscar tweets por data\"\n",
        "    elif opcao == 2:\n",
        "        msg = \"Buscar tweets por termo\"\n",
        "    elif opcao == 3:\n",
        "        msg = \"Buscar tweets por assunto\"\n",
        "    elif opcao == 4:\n",
        "        msg = \"Salvar resultado da busca\"\n",
        "    elif opcao == 5:\n",
        "        msg = \"Sair\"\n",
        "    print(msg)"
      ],
      "metadata": {
        "id": "oHbdhWDR5rlu"
      },
      "execution_count": null,
      "outputs": []
    },
    {
      "cell_type": "code",
      "source": [
        "menu_opcoes(opcao)"
      ],
      "metadata": {
        "colab": {
          "base_uri": "https://localhost:8080/",
          "height": 176
        },
        "id": "pV3a9UEs5y3O",
        "outputId": "109ab17a-df59-4747-c052-01deb62d6258"
      },
      "execution_count": null,
      "outputs": [
        {
          "output_type": "error",
          "ename": "NameError",
          "evalue": "ignored",
          "traceback": [
            "\u001b[0;31m---------------------------------------------------------------------------\u001b[0m",
            "\u001b[0;31mNameError\u001b[0m                                 Traceback (most recent call last)",
            "\u001b[0;32m<ipython-input-2-a8e781f76d45>\u001b[0m in \u001b[0;36m<cell line: 1>\u001b[0;34m()\u001b[0m\n\u001b[0;32m----> 1\u001b[0;31m \u001b[0mmenu_opcoes\u001b[0m\u001b[0;34m(\u001b[0m\u001b[0mopcao\u001b[0m\u001b[0;34m)\u001b[0m\u001b[0;34m\u001b[0m\u001b[0;34m\u001b[0m\u001b[0m\n\u001b[0m",
            "\u001b[0;31mNameError\u001b[0m: name 'opcao' is not defined"
          ]
        }
      ]
    }
  ]
}