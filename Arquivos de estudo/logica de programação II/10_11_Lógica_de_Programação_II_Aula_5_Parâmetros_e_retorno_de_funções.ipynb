{
  "nbformat": 4,
  "nbformat_minor": 0,
  "metadata": {
    "colab": {
      "provenance": [],
      "collapsed_sections": [
        "QAnItBgO_LUz"
      ]
    },
    "kernelspec": {
      "name": "python3",
      "display_name": "Python 3"
    },
    "language_info": {
      "name": "python"
    }
  },
  "cells": [
    {
      "cell_type": "markdown",
      "source": [
        "## 📍 Agenda 📍\n",
        "<br>\n",
        "\n",
        "- [Parâmetros e retorno de funções](#um)\n",
        "- [Exercícios](#dois)"
      ],
      "metadata": {
        "id": "QAnItBgO_LUz"
      }
    },
    {
      "cell_type": "markdown",
      "source": [
        "## Parâmetros e retorno de funções <a class=\"anchor\" id=\"um\"></a>\n",
        "<br>\n",
        "\n",
        "Como vimos na aula de funções, esse tipo de recurso costuma receber alguns **parâmetros**, e devolver uma resposta chamada de **retorno**. Porém, até o momento, estes parâmetros eram **fixos** para cada função. Da mesma forma, a função poderia retornar exatamente um resultado.\n",
        "<br>\n",
        "<br>\n",
        "Hoje vamos entender que podemos retornar **múltiplos** valores a partir de uma função.\n",
        "<br>\n",
        "<br>\n",
        "Entenderemos também, diferentes formas de passagem de parâmetros nas funções.\n",
        "\n",
        "<div align=\"justify\">\n",
        "&emsp;\n",
        "</div>\n",
        "<br>"
      ],
      "metadata": {
        "id": "5OCDQOvZKQy2"
      }
    },
    {
      "cell_type": "markdown",
      "source": [
        "## Funções com múltiplos retornos\n",
        "\n",
        "Vejamos um exemplo simples que retorna os valores **máximo** e **mínimo** de lista passada como parâmetro na função."
      ],
      "metadata": {
        "id": "u_xSjZqPs9xT"
      }
    },
    {
      "cell_type": "code",
      "source": [
        "def max_min(lista):\n",
        "  minimo = min(lista)\n",
        "  maximo = max(lista)\n",
        "  # media = sum(lista)/len(lista)\n",
        "  return minimo, maximo # qual será o tipo do retorno?"
      ],
      "metadata": {
        "id": "j-S-lDaqtgFR"
      },
      "execution_count": null,
      "outputs": []
    },
    {
      "cell_type": "code",
      "source": [
        "numeros = [1, 5, 8, 9, 0, 10, 2]"
      ],
      "metadata": {
        "id": "N7sbblx8txrT"
      },
      "execution_count": null,
      "outputs": []
    },
    {
      "cell_type": "code",
      "source": [
        "resposta = max_min(numeros)"
      ],
      "metadata": {
        "id": "kJZJna3dtyk-"
      },
      "execution_count": null,
      "outputs": []
    },
    {
      "cell_type": "code",
      "source": [
        "# tipo da resposta\n",
        "type(resposta)"
      ],
      "metadata": {
        "id": "OXSUCz2yuChl",
        "colab": {
          "base_uri": "https://localhost:8080/"
        },
        "outputId": "35637b6f-49c3-4db2-bfaa-a95ee00a3a70"
      },
      "execution_count": null,
      "outputs": [
        {
          "output_type": "execute_result",
          "data": {
            "text/plain": [
              "tuple"
            ]
          },
          "metadata": {},
          "execution_count": 12
        }
      ]
    },
    {
      "cell_type": "code",
      "source": [
        "# desempacotamento de tuplas"
      ],
      "metadata": {
        "id": "4ZEOnH_iuC4c"
      },
      "execution_count": null,
      "outputs": []
    },
    {
      "cell_type": "markdown",
      "source": [
        "## Parâmetros com valores padrão\n",
        "\n",
        "Podemos criar parâmetros opcionais ao definir uma função. Para isso, precisamos determinar valores **padrão** para esses parâmetros opcionais.\n",
        "<br>\n",
        "<br>\n",
        "Vejamos exemplos..."
      ],
      "metadata": {
        "id": "ytPkJUahuVyL"
      }
    },
    {
      "cell_type": "code",
      "source": [
        "def padroniza_string(texto, minuscula=True): # lower por default = True\n",
        "  if minuscula:\n",
        "    return texto.lower()\n",
        "  return texto.upper()"
      ],
      "metadata": {
        "id": "1dlG4WHouxbM"
      },
      "execution_count": null,
      "outputs": []
    },
    {
      "cell_type": "code",
      "source": [
        "# chamada da função"
      ],
      "metadata": {
        "id": "RGRRLLcvvBaU"
      },
      "execution_count": null,
      "outputs": []
    },
    {
      "cell_type": "code",
      "source": [],
      "metadata": {
        "id": "onXft2PXEn1b"
      },
      "execution_count": null,
      "outputs": []
    },
    {
      "cell_type": "code",
      "source": [],
      "metadata": {
        "id": "P79soW-DEn4B"
      },
      "execution_count": null,
      "outputs": []
    },
    {
      "cell_type": "code",
      "source": [],
      "metadata": {
        "id": "sY5pzhA9En6w"
      },
      "execution_count": null,
      "outputs": []
    },
    {
      "cell_type": "markdown",
      "source": [
        "## Funções com quantidade variável de parâmetros\n",
        "\n",
        "Assim como os retornos de função que podem variar, os **parâmetros** também podem ser diversos.\n",
        "<br>\n",
        "### Agrupando parâmetros\n",
        "\n",
        "Utilizamos o asterisco (*) quando necessitamos passar vários valores como parâmetro de uma função. E para chamar a função, teremos que colocar este asterísco no parâmetro passado.\n",
        "<br>\n",
        "<br>\n",
        "A sintaxe ficaria desta forma:"
      ],
      "metadata": {
        "id": "WAxyGIlk5xOU"
      }
    },
    {
      "cell_type": "code",
      "source": [
        "# *args --- **kwargs\n",
        "def nome_funcao(*argumentos):\n",
        "  print(type(argumentos))\n",
        "  print(argumentos)"
      ],
      "metadata": {
        "id": "e57f6NhG652u"
      },
      "execution_count": null,
      "outputs": []
    },
    {
      "cell_type": "code",
      "source": [
        "# chamada da função\n",
        "numeros = [1,2,4, \"Joao\", True]\n",
        "nome_funcao(*numeros) # colocar asterísco na chamada"
      ],
      "metadata": {
        "id": "P7WhYgJ07J8O",
        "colab": {
          "base_uri": "https://localhost:8080/"
        },
        "outputId": "ae11ff4c-e313-4068-de8d-edccfc6b3003"
      },
      "execution_count": null,
      "outputs": [
        {
          "output_type": "stream",
          "name": "stdout",
          "text": [
            "<class 'tuple'>\n",
            "(1, 2, 4, 'Joao', True)\n"
          ]
        }
      ]
    },
    {
      "cell_type": "code",
      "source": [],
      "metadata": {
        "id": "BH9eM4LmFj97"
      },
      "execution_count": null,
      "outputs": []
    },
    {
      "cell_type": "code",
      "source": [],
      "metadata": {
        "id": "VjMStp-MFi2Q"
      },
      "execution_count": null,
      "outputs": []
    },
    {
      "cell_type": "code",
      "source": [
        "# exemplos somatorio\n"
      ],
      "metadata": {
        "id": "-90JwuIS7GYP"
      },
      "execution_count": null,
      "outputs": []
    },
    {
      "cell_type": "code",
      "source": [
        "# exemplo script.py\n"
      ],
      "metadata": {
        "id": "_bU3R5bB_R7E"
      },
      "execution_count": null,
      "outputs": []
    },
    {
      "cell_type": "markdown",
      "source": [
        "## Parâmetros opcionais\n",
        "\n",
        "Outra possibilidade são funções com parâmetros opcionais. Note que isso é diferente de termos quantidade variável de parâmetros.\n",
        "\n",
        "No caso da quantidade variável, normalmente são diversos parâmetros com a mesma utilidade (números a serem somados, valores a serem exibidos, etc).\n",
        "\n",
        "Já os parâmetros opcionais são informações distintas que podem ou não ser passadas para a função. Você pode ou não passá-los, e sempre deve indicar o seu nome ao passá-los.\n",
        "\n",
        "Já estudamos uma forma de parâmetros opcionais utilizando valores padrão. Mas para funções com uma grande quantidade de parâmetros opcionais, existe outra forma utilizando dicionários, apelidada como ****kwargs**.\n",
        "\n",
        "### Criando **kwargs\n",
        "\n",
        "Para criar parâmetros opcionais, usaremos **, e os parâmetros passados serão agrupados em um dicionário: o nome do parâmetro será uma chave, e o valor será... o valor.\n"
      ],
      "metadata": {
        "id": "y9sph3nD_W7D"
      }
    },
    {
      "cell_type": "code",
      "source": [
        "def cadastro(**usuario):\n",
        "  print(usuario)\n",
        "  if 'nome' not in usuario and 'cpf' not in usuario:\n",
        "      print('Nenhum dado encontrado!')\n",
        "  else:\n",
        "      if 'nome' in usuario:\n",
        "          print(usuario['nome'])\n",
        "      if 'cpf' in usuario:\n",
        "          print(usuario['cpf'])\n",
        "      print('-----')"
      ],
      "metadata": {
        "id": "NjZJ45YX_2ks"
      },
      "execution_count": null,
      "outputs": []
    },
    {
      "cell_type": "code",
      "source": [
        "lista = [1, 4, 5, 5]\n",
        "cadastro(\n",
        "    nome='João',\n",
        "    cpf = 123456789,\n",
        "    rg=12345\n",
        ") # tem ambos"
      ],
      "metadata": {
        "id": "cYGd_cpM_8Mz",
        "colab": {
          "base_uri": "https://localhost:8080/"
        },
        "outputId": "9bd56539-c89f-4cb0-95dc-29a27a7c606d"
      },
      "execution_count": null,
      "outputs": [
        {
          "output_type": "stream",
          "name": "stdout",
          "text": [
            "{'nome': 'João', 'cpf': 123456789, 'rg': 12345}\n",
            "João\n",
            "123456789\n",
            "-----\n"
          ]
        }
      ]
    },
    {
      "cell_type": "code",
      "source": [
        "cadastro(nome = 'José') # tem apenas nome"
      ],
      "metadata": {
        "id": "bsFg4ULjINB1",
        "colab": {
          "base_uri": "https://localhost:8080/"
        },
        "outputId": "d713db9e-6633-4223-d5d6-fa47442c44ad"
      },
      "execution_count": null,
      "outputs": [
        {
          "output_type": "stream",
          "name": "stdout",
          "text": [
            "{'nome': 'José'}\n",
            "José\n",
            "-----\n"
          ]
        }
      ]
    },
    {
      "cell_type": "code",
      "source": [
        "cadastro(cpf = 987654321) # tem apenas cpf"
      ],
      "metadata": {
        "id": "SQdDrllCIO-y",
        "colab": {
          "base_uri": "https://localhost:8080/"
        },
        "outputId": "2c09977f-75ba-400e-86dd-7d567fa6a694"
      },
      "execution_count": null,
      "outputs": [
        {
          "output_type": "stream",
          "name": "stdout",
          "text": [
            "{'cpf': 987654321}\n",
            "987654321\n",
            "-----\n"
          ]
        }
      ]
    },
    {
      "cell_type": "code",
      "source": [
        "cadastro(rg = 192837465) # não tem nome nem cpf"
      ],
      "metadata": {
        "id": "38w2D4IuIQ0Q",
        "colab": {
          "base_uri": "https://localhost:8080/"
        },
        "outputId": "3836d1e2-53cf-41e4-fcbc-ea9d6693099b"
      },
      "execution_count": null,
      "outputs": [
        {
          "output_type": "stream",
          "name": "stdout",
          "text": [
            "{'rg': 192837465}\n",
            "Nenhum dado encontrado!\n"
          ]
        }
      ]
    },
    {
      "cell_type": "markdown",
      "source": [
        "### Expandindo um dicionário\n",
        "\n",
        "Analogamente ao caso dos parâmetros múltiplos, é possível que o usuário da função já tenha os dados organizados em um dicionário. Neste caso, basta usar ** na chamada da função para expandir o dicionário em vários parâmetros opcionais:"
      ],
      "metadata": {
        "id": "xe-CVldrAAPI"
      }
    },
    {
      "cell_type": "code",
      "source": [
        "maria = {\n",
        "    \"nome\": \"Maria\",\n",
        "    \"cpf\": 123456789,\n",
        "    \"idade\": 28,\n",
        "    \"curso\": \"Física\"\n",
        "}\n",
        "# nome=\"Maria\", cpf=\"123455\"....\n",
        "cadastro(**maria)"
      ],
      "metadata": {
        "id": "-lROBxTnAMLb"
      },
      "execution_count": null,
      "outputs": []
    },
    {
      "cell_type": "code",
      "source": [
        "# script kwargs.py\n",
        "# biblioteca para manipulação de chamadas de SO\n",
        "import sys\n",
        "\n",
        "def para_dicionario(*args):\n",
        "    \"\"\"\n",
        "        Descrição: Recebe uma lista de parâmetros\n",
        "        e retorna pares d chave-valor (dict)\n",
        "    \"\"\"\n",
        "    return dict(arg.split(\"=\") for arg in args[1:])\n",
        "\n",
        "def imprime_kwargs(*args):\n",
        "    \"\"\"\n",
        "        Descrição: Função que recebe como\n",
        "        argumentos um número finito de\n",
        "        chave-valor e imprime-os.\n",
        "    \"\"\"\n",
        "    print(args)\n",
        "    kwargs = para_dicionario(*args)\n",
        "    print(kwargs)\n",
        "\n",
        "if __name__ == \"__main__\":\n",
        "    imprime_kwargs(*sys.argv)"
      ],
      "metadata": {
        "colab": {
          "base_uri": "https://localhost:8080/",
          "height": 376
        },
        "id": "nuGR4chlFCat",
        "outputId": "4315586d-bcf3-4212-e73b-90f2cb3eef5d"
      },
      "execution_count": null,
      "outputs": [
        {
          "output_type": "stream",
          "name": "stdout",
          "text": [
            "('/usr/local/lib/python3.10/dist-packages/colab_kernel_launcher.py', '-f', '/root/.local/share/jupyter/runtime/kernel-b9db0af0-dce7-4678-81c1-3362e6aedb58.json')\n"
          ]
        },
        {
          "output_type": "error",
          "ename": "ValueError",
          "evalue": "ignored",
          "traceback": [
            "\u001b[0;31m---------------------------------------------------------------------------\u001b[0m",
            "\u001b[0;31mValueError\u001b[0m                                Traceback (most recent call last)",
            "\u001b[0;32m<ipython-input-5-6e81e05c5aa5>\u001b[0m in \u001b[0;36m<cell line: 22>\u001b[0;34m()\u001b[0m\n\u001b[1;32m     21\u001b[0m \u001b[0;34m\u001b[0m\u001b[0m\n\u001b[1;32m     22\u001b[0m \u001b[0;32mif\u001b[0m \u001b[0m__name__\u001b[0m \u001b[0;34m==\u001b[0m \u001b[0;34m\"__main__\"\u001b[0m\u001b[0;34m:\u001b[0m\u001b[0;34m\u001b[0m\u001b[0;34m\u001b[0m\u001b[0m\n\u001b[0;32m---> 23\u001b[0;31m     \u001b[0mimprime_kwargs\u001b[0m\u001b[0;34m(\u001b[0m\u001b[0;34m*\u001b[0m\u001b[0msys\u001b[0m\u001b[0;34m.\u001b[0m\u001b[0margv\u001b[0m\u001b[0;34m)\u001b[0m\u001b[0;34m\u001b[0m\u001b[0;34m\u001b[0m\u001b[0m\n\u001b[0m",
            "\u001b[0;32m<ipython-input-5-6e81e05c5aa5>\u001b[0m in \u001b[0;36mimprime_kwargs\u001b[0;34m(*args)\u001b[0m\n\u001b[1;32m     17\u001b[0m     \"\"\"\n\u001b[1;32m     18\u001b[0m     \u001b[0mprint\u001b[0m\u001b[0;34m(\u001b[0m\u001b[0margs\u001b[0m\u001b[0;34m)\u001b[0m\u001b[0;34m\u001b[0m\u001b[0;34m\u001b[0m\u001b[0m\n\u001b[0;32m---> 19\u001b[0;31m     \u001b[0mkwargs\u001b[0m \u001b[0;34m=\u001b[0m \u001b[0mpara_dicionario\u001b[0m\u001b[0;34m(\u001b[0m\u001b[0;34m*\u001b[0m\u001b[0margs\u001b[0m\u001b[0;34m)\u001b[0m\u001b[0;34m\u001b[0m\u001b[0;34m\u001b[0m\u001b[0m\n\u001b[0m\u001b[1;32m     20\u001b[0m     \u001b[0mprint\u001b[0m\u001b[0;34m(\u001b[0m\u001b[0mkwargs\u001b[0m\u001b[0;34m)\u001b[0m\u001b[0;34m\u001b[0m\u001b[0;34m\u001b[0m\u001b[0m\n\u001b[1;32m     21\u001b[0m \u001b[0;34m\u001b[0m\u001b[0m\n",
            "\u001b[0;32m<ipython-input-5-6e81e05c5aa5>\u001b[0m in \u001b[0;36mpara_dicionario\u001b[0;34m(*args)\u001b[0m\n\u001b[1;32m      8\u001b[0m         \u001b[0me\u001b[0m \u001b[0mretorna\u001b[0m \u001b[0mpares\u001b[0m \u001b[0md\u001b[0m \u001b[0mchave\u001b[0m\u001b[0;34m-\u001b[0m\u001b[0mvalor\u001b[0m \u001b[0;34m(\u001b[0m\u001b[0mdict\u001b[0m\u001b[0;34m)\u001b[0m\u001b[0;34m\u001b[0m\u001b[0;34m\u001b[0m\u001b[0m\n\u001b[1;32m      9\u001b[0m     \"\"\"\n\u001b[0;32m---> 10\u001b[0;31m     \u001b[0;32mreturn\u001b[0m \u001b[0mdict\u001b[0m\u001b[0;34m(\u001b[0m\u001b[0marg\u001b[0m\u001b[0;34m.\u001b[0m\u001b[0msplit\u001b[0m\u001b[0;34m(\u001b[0m\u001b[0;34m\"=\"\u001b[0m\u001b[0;34m)\u001b[0m \u001b[0;32mfor\u001b[0m \u001b[0marg\u001b[0m \u001b[0;32min\u001b[0m \u001b[0margs\u001b[0m\u001b[0;34m[\u001b[0m\u001b[0;36m1\u001b[0m\u001b[0;34m:\u001b[0m\u001b[0;34m]\u001b[0m\u001b[0;34m)\u001b[0m\u001b[0;34m\u001b[0m\u001b[0;34m\u001b[0m\u001b[0m\n\u001b[0m\u001b[1;32m     11\u001b[0m \u001b[0;34m\u001b[0m\u001b[0m\n\u001b[1;32m     12\u001b[0m \u001b[0;32mdef\u001b[0m \u001b[0mimprime_kwargs\u001b[0m\u001b[0;34m(\u001b[0m\u001b[0;34m*\u001b[0m\u001b[0margs\u001b[0m\u001b[0;34m)\u001b[0m\u001b[0;34m:\u001b[0m\u001b[0;34m\u001b[0m\u001b[0;34m\u001b[0m\u001b[0m\n",
            "\u001b[0;31mValueError\u001b[0m: dictionary update sequence element #0 has length 1; 2 is required"
          ]
        }
      ]
    },
    {
      "cell_type": "code",
      "source": [],
      "metadata": {
        "id": "ZjOKnqKKFCdb"
      },
      "execution_count": null,
      "outputs": []
    },
    {
      "cell_type": "markdown",
      "source": [
        "## Exercícios\n",
        "\n",
        "1. Escreva um **script python (com extensão .py)** que receba como **parâmetros** uma lista de números inteiros, e imprima a ordem inversa dos números recebidos. <br>\n",
        "<br>\n",
        "Por exemplo:\n",
        "<br>\n",
        "Entrada: 1,3,4,5<br>\n",
        "Saída: 5,4,3,1\n",
        "\n",
        "<br>\n",
        "Para executar o script criado, use uma sintaxe similar ao exemplo abaixo:\n",
        "\n",
        "<br>\n",
        "<br>\n",
        "python nome_script.py 1 3 4 5\n",
        "\n",
        "<br>\n",
        "<br>\n",
        "Em que **nome_script** poderá ser o nome de sua preferência para o arquivo com extensão .py, e os elementos são os que serão trabalhados pelo script.\n",
        "\n",
        "<br>\n",
        "**Dica:** Use o pacote **sys** para manipular os parâmetros recebidos pelo script."
      ],
      "metadata": {
        "id": "vjU_94wv0D4x"
      }
    },
    {
      "cell_type": "code",
      "source": [
        "import sys\n",
        "\n",
        "\n",
        "def inverte(*args):\n",
        "    lista = []\n",
        "    for itens in args[1:]:\n",
        "        lista.append(itens)\n",
        "    lista.reverse()\n",
        "    for itens in lista:\n",
        "        print(itens, end = ' ')\n",
        "\n",
        "\n",
        "if __name__ == \"__main__\":\n",
        "    inverte(*sys.argv)"
      ],
      "metadata": {
        "id": "QjR8J5sVyqn1"
      },
      "execution_count": null,
      "outputs": []
    },
    {
      "cell_type": "code",
      "source": [
        "# aplicação rotina_codigo argumentos\n",
        "# python script.py 1 2 3 # tupla"
      ],
      "metadata": {
        "id": "5XxvXrF00NIN"
      },
      "execution_count": null,
      "outputs": []
    },
    {
      "cell_type": "code",
      "source": [
        "import sys\n",
        "dir(sys)"
      ],
      "metadata": {
        "id": "EiJVTNPQ-cjh",
        "colab": {
          "base_uri": "https://localhost:8080/"
        },
        "outputId": "48d67e0a-634b-467b-d3bd-2791d1c1a1b2"
      },
      "execution_count": null,
      "outputs": [
        {
          "output_type": "execute_result",
          "data": {
            "text/plain": [
              "['__breakpointhook__',\n",
              " '__displayhook__',\n",
              " '__doc__',\n",
              " '__excepthook__',\n",
              " '__interactivehook__',\n",
              " '__loader__',\n",
              " '__name__',\n",
              " '__package__',\n",
              " '__spec__',\n",
              " '__stderr__',\n",
              " '__stdin__',\n",
              " '__stdout__',\n",
              " '_clear_type_cache',\n",
              " '_current_frames',\n",
              " '_debugmallocstats',\n",
              " '_framework',\n",
              " '_getframe',\n",
              " '_git',\n",
              " '_home',\n",
              " '_xoptions',\n",
              " 'abiflags',\n",
              " 'api_version',\n",
              " 'argv',\n",
              " 'base_exec_prefix',\n",
              " 'base_prefix',\n",
              " 'breakpointhook',\n",
              " 'builtin_module_names',\n",
              " 'byteorder',\n",
              " 'call_tracing',\n",
              " 'callstats',\n",
              " 'copyright',\n",
              " 'displayhook',\n",
              " 'dont_write_bytecode',\n",
              " 'exc_info',\n",
              " 'excepthook',\n",
              " 'exec_prefix',\n",
              " 'executable',\n",
              " 'exit',\n",
              " 'flags',\n",
              " 'float_info',\n",
              " 'float_repr_style',\n",
              " 'get_asyncgen_hooks',\n",
              " 'get_coroutine_origin_tracking_depth',\n",
              " 'get_coroutine_wrapper',\n",
              " 'get_int_max_str_digits',\n",
              " 'getallocatedblocks',\n",
              " 'getcheckinterval',\n",
              " 'getdefaultencoding',\n",
              " 'getdlopenflags',\n",
              " 'getfilesystemencodeerrors',\n",
              " 'getfilesystemencoding',\n",
              " 'getprofile',\n",
              " 'getrecursionlimit',\n",
              " 'getrefcount',\n",
              " 'getsizeof',\n",
              " 'getswitchinterval',\n",
              " 'gettrace',\n",
              " 'hash_info',\n",
              " 'hexversion',\n",
              " 'implementation',\n",
              " 'int_info',\n",
              " 'intern',\n",
              " 'is_finalizing',\n",
              " 'maxsize',\n",
              " 'maxunicode',\n",
              " 'meta_path',\n",
              " 'modules',\n",
              " 'path',\n",
              " 'path_hooks',\n",
              " 'path_importer_cache',\n",
              " 'platform',\n",
              " 'prefix',\n",
              " 'ps1',\n",
              " 'ps2',\n",
              " 'ps3',\n",
              " 'set_asyncgen_hooks',\n",
              " 'set_coroutine_origin_tracking_depth',\n",
              " 'set_coroutine_wrapper',\n",
              " 'set_int_max_str_digits',\n",
              " 'setcheckinterval',\n",
              " 'setdlopenflags',\n",
              " 'setprofile',\n",
              " 'setrecursionlimit',\n",
              " 'setswitchinterval',\n",
              " 'settrace',\n",
              " 'stderr',\n",
              " 'stdin',\n",
              " 'stdout',\n",
              " 'thread_info',\n",
              " 'version',\n",
              " 'version_info',\n",
              " 'warnoptions']"
            ]
          },
          "metadata": {},
          "execution_count": 1
        }
      ]
    },
    {
      "cell_type": "code",
      "source": [
        "sys.float_info.max"
      ],
      "metadata": {
        "colab": {
          "base_uri": "https://localhost:8080/"
        },
        "id": "szOCc908EYUO",
        "outputId": "62ec454d-df3a-46c4-d127-5b7c55cee5c3"
      },
      "execution_count": null,
      "outputs": [
        {
          "output_type": "execute_result",
          "data": {
            "text/plain": [
              "1.7976931348623157e+308"
            ]
          },
          "metadata": {},
          "execution_count": 2
        }
      ]
    },
    {
      "cell_type": "code",
      "source": [
        "import sys\n",
        "\n",
        "def reverso(*args):\n",
        "    rs = list(args[1:])\n",
        "    rs.reverse()\n",
        "    return rs\n",
        "\n",
        "if __name__ == \"__main__\":\n",
        "    print(reverso(*sys.argv))"
      ],
      "metadata": {
        "id": "Tg8TpEZIFk6I",
        "colab": {
          "base_uri": "https://localhost:8080/"
        },
        "outputId": "5218c49f-c053-41e3-a3a8-2ed83e3ceef2"
      },
      "execution_count": null,
      "outputs": [
        {
          "output_type": "stream",
          "name": "stdout",
          "text": [
            "['/root/.local/share/jupyter/runtime/kernel-2449d491-0f98-425e-ae26-7749454e92e1.json', '-f']\n"
          ]
        }
      ]
    },
    {
      "cell_type": "markdown",
      "source": [
        "2. Crie um script com extensão .py para realizar as funcionalidades de uma calculadora simples. As operações desta calculadora devem ser: SOMA, SUB, MULT e DIV. Ainda, esta calculadora deve realizar as operações a partir de **dois** números informações na passagem de argumentos (**usando *args**) do script.\n",
        "<br>\n",
        "<br>\n",
        "Exemplo de entrada:\n",
        "<br>\n",
        "python calculadora.py SOMA 5 6\n",
        "<br>\n",
        "Saída:\n",
        "SOMA=11"
      ],
      "metadata": {
        "id": "K_vuDhNA0OK-"
      }
    },
    {
      "cell_type": "code",
      "source": [
        "import sys\n",
        "\n",
        "\n",
        "def calculadora(*args):\n",
        "    if args[1] == 'SOMA':\n",
        "        soma = int(args[2]) + int(args[3])\n",
        "        print(soma)\n",
        "    elif args[1] == 'SUB':\n",
        "        sub = int(args[2]) - int(args[3])\n",
        "        print(sub)\n",
        "    elif args[1] == 'MULT':\n",
        "        mult = int(args[2]) * int(args[3])\n",
        "        print(mult)\n",
        "    elif args[1] == 'DIV':\n",
        "        div = int(args[2]) / int(args[3])\n",
        "        print(div)\n",
        "\n",
        "\n",
        "if __name__ == \"__main__\":\n",
        "    calculadora(*sys.argv)"
      ],
      "metadata": {
        "id": "cEfklxmOzvTy"
      },
      "execution_count": null,
      "outputs": []
    },
    {
      "cell_type": "code",
      "source": [
        "import sys\n",
        "\n",
        "def calculadora(*args):\n",
        "    # calculdora_tupla.py SOMA 5 6\n",
        "    # (\"calculdora_tupla.py\", \"SOMA\", \"5\", \"6\")\n",
        "    operacao = args[1]\n",
        "    numeros = [float(x) for x in args[2:]]\n",
        "    # [5 6]\n",
        "    if operacao == \"SOMA\":\n",
        "        # (\"SOMA\", 11)\n",
        "        return operacao, numeros[0] + numeros[1]\n",
        "    elif operacao == \"SUB\":\n",
        "        return operacao, numeros[0] - numeros[1]\n",
        "    elif operacao == \"DIV\":\n",
        "        return operacao, numeros[0] / numeros[1]\n",
        "    elif operacao == \"MULT\":\n",
        "        return operacao, numeros[0] * numeros[1]\n",
        "\n",
        "if __name__ == \"__main__\":\n",
        "    operacao, calculo = calculadora(*sys.argv)\n",
        "    print(f\"{operacao}={calculo}\")"
      ],
      "metadata": {
        "id": "BZHx1DLv0Q_o"
      },
      "execution_count": null,
      "outputs": []
    },
    {
      "cell_type": "markdown",
      "source": [
        "3.Crie um script com extensão .py para realizar as funcionalidades de uma calculadora simples. As operações desta calculadora devem ser: SOMA, SUB, MULT e DIV. Ainda, esta calculadora deve realizar as operações a partir de dois números informações na passagem de argumentos (**usando \\*\\*kwargs**) do script.\n",
        "<br>\n",
        "<br>\n",
        "Exemplo de entrada:\n",
        "<br>\n",
        "python calculadora.py operacao=SOMA numero1=5 numero2=6\n",
        "<br>\n",
        "Saída: 11"
      ],
      "metadata": {
        "id": "GXUhvCMp2JdO"
      }
    },
    {
      "cell_type": "code",
      "source": [
        "import sys\n",
        "\n",
        "def converte_args_dicionario(*args):\n",
        "    # (\"calculadora.py\", \"operacao=SOMA\",\n",
        "    # \"numero1=5\", \"numero2=6\")\n",
        "    split = [arg.split(\"=\") for arg in args[1:]]\n",
        "    dicionario = dict(\n",
        "        arg.split(\"=\")\n",
        "        for arg in args[1:]\n",
        "    )\n",
        "    dicionario['numero1'] = float(dicionario['numero1'])\n",
        "    dicionario['numero2'] = float(dicionario['numero2'])\n",
        "    return dicionario\n",
        "\n",
        "def calculadora(dicionario):\n",
        "    if dicionario[\"operacao\"] == \"SOMA\":\n",
        "        return dicionario[\"operacao\"], dicionario[\"numero1\"] + dicionario[\"numero2\"]\n",
        "    elif dicionario[\"operacao\"] == \"SUB\":\n",
        "        return dicionario[\"operacao\"], dicionario[\"numero1\"] - dicionario[\"numero2\"]\n",
        "    elif dicionario[\"operacao\"] == \"MULT\":\n",
        "        return dicionario[\"operacao\"], dicionario[\"numero1\"] * dicionario[\"numero2\"]\n",
        "    elif dicionario[\"operacao\"] == \"DIV\":\n",
        "        return dicionario[\"operacao\"], dicionario[\"numero1\"] / dicionario[\"numero2\"]\n",
        "\n",
        "if __name__ == \"__main__\":\n",
        "    # sys.argv = (\"calculadora....py\", \"operacao=SOMA\",\n",
        "    # \"numero1=5\", \"numero2=8\")\n",
        "    dicionario = converte_args_dicionario(\n",
        "        *sys.argv)\n",
        "    operacao, calculo = calculadora(dicionario)\n",
        "    print(f\"{operacao}={calculo}\")"
      ],
      "metadata": {
        "id": "pnmMLtEk2nF4"
      },
      "execution_count": null,
      "outputs": []
    },
    {
      "cell_type": "code",
      "source": [
        "import sys\n",
        "\n",
        "def calculadora (*args):\n",
        "    calc = {'operacao': '', 'numero_1': 0, 'numero_2': 0}\n",
        "\n",
        "    calc['operacao'] = args[1].upper()\n",
        "    calc['numero_1'] = float(args[2])\n",
        "    calc['numero_2'] = float(args[3])\n",
        "\n",
        "    if calc['operacao'] == \"SOMA\":\n",
        "        return calc['operacao'], calc['numero_1'] + calc['numero_2']\n",
        "    elif calc['operacao'] == \"SUB\":\n",
        "        return calc['operacao'], calc['numero_1'] - calc['numero_2']\n",
        "    elif calc['operacao'] == \"DIV\":\n",
        "            if calc['numero_2'] == 0:\n",
        "                return None, None\n",
        "            else:\n",
        "                return calc['operacao'], calc['numero_1'] / calc['numero_2']\n",
        "    elif calc['operacao'] == \"MULT\":\n",
        "        return calc['operacao'], calc['numero_1'] * calc['numero_2']\n",
        "\n",
        "\n",
        "if __name__ == \"__main__\":\n",
        "    operacao, calculo = calculadora(*sys.argv)\n",
        "    print(f\"{operacao} = {calculo}\")"
      ],
      "metadata": {
        "id": "8_pW5HIySeWL"
      },
      "execution_count": null,
      "outputs": []
    }
  ]
}