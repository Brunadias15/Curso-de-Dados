{
  "nbformat": 4,
  "nbformat_minor": 0,
  "metadata": {
    "colab": {
      "provenance": [],
      "toc_visible": true
    },
    "kernelspec": {
      "name": "python3",
      "display_name": "Python 3"
    },
    "language_info": {
      "name": "python"
    }
  },
  "cells": [
    {
      "cell_type": "markdown",
      "source": [
        "SEJAM BEM VINDOS AO MÓDULO DE LÓGICA DE PROGRAMAÇÃO I !!!🙂"
      ],
      "metadata": {
        "id": "Xo5SKhVz2mGd"
      }
    },
    {
      "cell_type": "markdown",
      "source": [
        "# Aula 1 - Conceitos Iniciais do Python"
      ],
      "metadata": {
        "id": "4vwYaEbEZ4nY"
      }
    },
    {
      "cell_type": "markdown",
      "source": [
        "## IDE - Integrated Development Environment\n",
        "\n",
        "Ambiente de desenvolvimento integrado"
      ],
      "metadata": {
        "id": "dxaUJgITnoKg"
      }
    },
    {
      "cell_type": "markdown",
      "source": [
        "Existem várias opções no mercado. Algumas das mais conhecidas:\n",
        "- Visual Studio Code\n",
        "- Jupyter Notebook\n",
        "- Google Colaboratory\n",
        "- PyCharm\n",
        "- Atom\n",
        "- (...)"
      ],
      "metadata": {
        "id": "qYwa_oHgoEJP"
      }
    },
    {
      "cell_type": "markdown",
      "source": [
        "Vamos utilizar o Google Colab.\n",
        "- Cada IDE procura endereçar um problema a ser resolvido\n",
        "\n",
        "O colab se destaca por:\n",
        "- configurações padrões entre colabs\n",
        "- fácil compartilhamento\n",
        "- acessível\n",
        "- gratuito"
      ],
      "metadata": {
        "id": "48Py7ZToodLF"
      }
    },
    {
      "cell_type": "markdown",
      "source": [
        "As principais características de um notebok"
      ],
      "metadata": {
        "id": "HA1VU1HDjt56"
      }
    },
    {
      "cell_type": "code",
      "source": [
        "#células de código"
      ],
      "metadata": {
        "id": "P7Am7VJ9j12M"
      },
      "execution_count": null,
      "outputs": []
    },
    {
      "cell_type": "markdown",
      "source": [
        "celula de texto"
      ],
      "metadata": {
        "id": "Kt4pABKgLn61"
      }
    },
    {
      "cell_type": "markdown",
      "source": [
        "## Variáveis e Sistema de tipos"
      ],
      "metadata": {
        "id": "rLkj-2pghoYv"
      }
    },
    {
      "cell_type": "markdown",
      "source": [],
      "metadata": {
        "id": "tmHkP_4QLr2f"
      }
    },
    {
      "cell_type": "markdown",
      "source": [
        "# Variáveis\n",
        "\n",
        "Variável é o nome dado ao tipo de conteúdo que pode apresentar diferentes valores enquanto o sistema está em execução. Tudo dependerá do comando do usuário e o tipo de operação que é realizado.\n",
        "\n",
        "Imagine que você conhece uma nova pessoa. A variável seria o lugar no seu cérebro no qual você guarda, por exemplo, o nome desta pessoa, ou seja, é alocado um espaço para armazenar esta informação e posteriormente é passado o valor referente aquele dado.\n",
        "\n",
        "`nome = \"Diego\"`\n",
        "\n",
        "## Tipos básicos\n",
        "\n",
        "Podemos ter informações relacionadas às outras pessoas como nome, idade e salário. Cada uma delas possui o que chamamos de tipos de variável. Os tipos de dados são os seguintes:\n",
        "\n",
        "- str (string) que armazena texto\n",
        "- int (integer) que armazena números inteiros\n",
        "- float que armazena números decimais (separado por ponto!)\n",
        "- bool (boolean) que armazena True ou False.\n",
        "\n",
        "Embora o Python faça o trabalho de saber o que é o que sozinho, você precisa entender os tipos de dados para trabalhar com eles"
      ],
      "metadata": {
        "id": "2DvRCKddJggF"
      }
    },
    {
      "cell_type": "code",
      "source": [
        "# Podemos passar variáveis de texto (str) com aspas duplas ou simples\n",
        "#nome = 'Diego'\n",
        "nome = \"Diego\"\n",
        "type(nome)"
      ],
      "metadata": {
        "id": "HaHgtzTMvGC3",
        "colab": {
          "base_uri": "https://localhost:8080/"
        },
        "outputId": "148186fe-4391-472d-e93c-aeee6934184d"
      },
      "execution_count": null,
      "outputs": [
        {
          "output_type": "execute_result",
          "data": {
            "text/plain": [
              "str"
            ]
          },
          "metadata": {},
          "execution_count": 6
        }
      ]
    },
    {
      "cell_type": "code",
      "source": [
        "#variáveis do tipo inteiro\n",
        "idade =37\n",
        "type(idade)"
      ],
      "metadata": {
        "id": "BiLpSMtNvGF3",
        "colab": {
          "base_uri": "https://localhost:8080/"
        },
        "outputId": "a4c0c59b-c24b-4647-8871-133df4702aae"
      },
      "execution_count": null,
      "outputs": [
        {
          "output_type": "execute_result",
          "data": {
            "text/plain": [
              "int"
            ]
          },
          "metadata": {},
          "execution_count": 7
        }
      ]
    },
    {
      "cell_type": "code",
      "source": [
        "#variável tipo float\n",
        "peso = 81.5\n",
        "type(peso)"
      ],
      "metadata": {
        "id": "yJy0XTVzHPws",
        "colab": {
          "base_uri": "https://localhost:8080/"
        },
        "outputId": "b6595b77-ab83-42b9-af00-6094071f7501"
      },
      "execution_count": null,
      "outputs": [
        {
          "output_type": "execute_result",
          "data": {
            "text/plain": [
              "float"
            ]
          },
          "metadata": {},
          "execution_count": 9
        }
      ]
    },
    {
      "cell_type": "code",
      "source": [
        "# e se declararmos um float usando vírgula ?\n",
        "var_float = 81,5\n",
        "type(var_float)\n",
        "var_float"
      ],
      "metadata": {
        "id": "nAi6tFwcHmEo",
        "colab": {
          "base_uri": "https://localhost:8080/"
        },
        "outputId": "42dc585e-2c06-4df9-b236-8e3e037fd002"
      },
      "execution_count": null,
      "outputs": [
        {
          "output_type": "execute_result",
          "data": {
            "text/plain": [
              "(81, 5)"
            ]
          },
          "metadata": {},
          "execution_count": 12
        }
      ]
    },
    {
      "cell_type": "code",
      "source": [
        "#variáveis do tipo boolean\n",
        "# True é diferente de true, que é diferente TRUE\n",
        "# boolean = True e False / 1 e 0\n",
        "\n",
        "var_true = False\n",
        "type(var_true)\n",
        "var_true\n",
        "\n",
        "\n"
      ],
      "metadata": {
        "id": "mX4nwJ2fIcSk",
        "colab": {
          "base_uri": "https://localhost:8080/"
        },
        "outputId": "99a16002-db2d-4a41-f630-74ee0a58b857"
      },
      "execution_count": null,
      "outputs": [
        {
          "output_type": "execute_result",
          "data": {
            "text/plain": [
              "False"
            ]
          },
          "metadata": {},
          "execution_count": 19
        }
      ]
    },
    {
      "cell_type": "code",
      "source": [
        "'A' == 'a'\n",
        "'A' != 'a'"
      ],
      "metadata": {
        "colab": {
          "base_uri": "https://localhost:8080/"
        },
        "id": "ISMmWH93QcQF",
        "outputId": "16b3885d-7f5e-44d7-b933-2278a4ff37b5"
      },
      "execution_count": null,
      "outputs": [
        {
          "output_type": "execute_result",
          "data": {
            "text/plain": [
              "True"
            ]
          },
          "metadata": {},
          "execution_count": 24
        }
      ]
    },
    {
      "cell_type": "code",
      "source": [
        "# Cuidado com o F maiúsculo ---> False é diferente de false\n",
        "var_true = False"
      ],
      "metadata": {
        "id": "7Jj-GdRQLJMi",
        "colab": {
          "base_uri": "https://localhost:8080/",
          "height": 193
        },
        "outputId": "5f9fde11-4cdd-41e7-ab4a-78d94e6a761a"
      },
      "execution_count": null,
      "outputs": [
        {
          "output_type": "error",
          "ename": "NameError",
          "evalue": "ignored",
          "traceback": [
            "\u001b[0;31m---------------------------------------------------------------------------\u001b[0m",
            "\u001b[0;31mNameError\u001b[0m                                 Traceback (most recent call last)",
            "\u001b[0;32m<ipython-input-26-8889d01710f1>\u001b[0m in \u001b[0;36m<cell line: 2>\u001b[0;34m()\u001b[0m\n\u001b[1;32m      1\u001b[0m \u001b[0;31m# Cuidado com o F maiúsculo ---> False é diferente de false\u001b[0m\u001b[0;34m\u001b[0m\u001b[0;34m\u001b[0m\u001b[0m\n\u001b[0;32m----> 2\u001b[0;31m \u001b[0mvar_true\u001b[0m \u001b[0;34m=\u001b[0m \u001b[0mfalse\u001b[0m\u001b[0;34m\u001b[0m\u001b[0;34m\u001b[0m\u001b[0m\n\u001b[0m",
            "\u001b[0;31mNameError\u001b[0m: name 'false' is not defined"
          ]
        }
      ]
    },
    {
      "cell_type": "code",
      "source": [
        "#E O TIPO DATE, COMO FICA?\n",
        "#as linhas abaixo são apenas para explicar a conversão em data, o código não vai rodar corretamente\n",
        "niver = '2023/09/18'\n",
        "datetime.strptime(niver,\"%Y/%m/%d\")\n",
        "\n",
        "type(niver)"
      ],
      "metadata": {
        "id": "UJ-_LCEFLhit",
        "colab": {
          "base_uri": "https://localhost:8080/",
          "height": 158
        },
        "outputId": "95a8b0cc-eefa-4b44-d9b0-ef7fe35f9e03"
      },
      "execution_count": null,
      "outputs": [
        {
          "output_type": "error",
          "ename": "SyntaxError",
          "evalue": "ignored",
          "traceback": [
            "\u001b[0;36m  File \u001b[0;32m\"<ipython-input-29-ba95280d78fb>\"\u001b[0;36m, line \u001b[0;32m3\u001b[0m\n\u001b[0;31m    niver = 2023/09/18\u001b[0m\n\u001b[0m                 ^\u001b[0m\n\u001b[0;31mSyntaxError\u001b[0m\u001b[0;31m:\u001b[0m leading zeros in decimal integer literals are not permitted; use an 0o prefix for octal integers\n"
          ]
        }
      ]
    },
    {
      "cell_type": "markdown",
      "source": [
        "Dica:\n",
        "- Use nome explicativos para sua variável\n",
        "- Evite usar caracteres especiais\n",
        "- Não utilize nome reservados. Ex: True, if, etc. Lista de nomes reservados: [palavras-chave reservadas](https://flexiple.com/python/python-reserved-words/)\n",
        "- Evite de modo geral nomes que já são usados nativamente para alguma coisa. exemplo: print, type, etc."
      ],
      "metadata": {
        "id": "ud0-Ztb9hsXK"
      }
    },
    {
      "cell_type": "code",
      "source": [
        "dataAniversarioEmpresa"
      ],
      "metadata": {
        "id": "yVI3Cc8aSakN"
      },
      "execution_count": null,
      "outputs": []
    },
    {
      "cell_type": "markdown",
      "source": [
        "Os tipos podem ser explicados usando **:tipo** depois do nome de variável, além disso podemos fazer o cast(mudança de tipo) usando tipoDado(dadoquequerconverter) entre variáveis de diferentes tipos, mas note que isso pode gerar problemas se feito deliberadamente\n",
        "\n"
      ],
      "metadata": {
        "id": "x72yvaVLgBsk"
      }
    },
    {
      "cell_type": "code",
      "source": [
        "idade:int = 7.0 # aqui você pode utilizar um float\n",
        "type(idade)\n",
        "print(idade)\n",
        "\n"
      ],
      "metadata": {
        "id": "0UXDEXZtvHZv",
        "colab": {
          "base_uri": "https://localhost:8080/"
        },
        "outputId": "bbeeb49c-8053-4c2e-d921-7f04dc8be0e6"
      },
      "execution_count": null,
      "outputs": [
        {
          "output_type": "stream",
          "name": "stdout",
          "text": [
            "7.0\n"
          ]
        }
      ]
    },
    {
      "cell_type": "code",
      "source": [
        "idade = 'sete'\n",
        "print(idade)"
      ],
      "metadata": {
        "colab": {
          "base_uri": "https://localhost:8080/"
        },
        "id": "H_XiDMvmUOV9",
        "outputId": "3cf7cdac-1bf5-4031-a576-400b68d79133"
      },
      "execution_count": null,
      "outputs": [
        {
          "output_type": "stream",
          "name": "stdout",
          "text": [
            "sete\n"
          ]
        }
      ]
    },
    {
      "cell_type": "markdown",
      "source": [
        "Importante destacar que **:tipo** tem caráter apenas explicativo. Ele não vai impedir de alterar a variável para guardar outro tipo\n",
        "\n",
        "Importante termos atenção nas conversões de tipo principalmente quando migrarmos de um tipo de escopo maior para um menor. O que quero dizer com isso?\n",
        "\n",
        "quantidade de possibilidades:\n",
        "- string > float > integrer > boolean\n",
        "\n"
      ],
      "metadata": {
        "id": "JIl_INK0ryXX"
      }
    },
    {
      "cell_type": "code",
      "source": [
        "int(\"a\")"
      ],
      "metadata": {
        "id": "YHqx2fo2vL2U",
        "colab": {
          "base_uri": "https://localhost:8080/",
          "height": 176
        },
        "outputId": "2a116d1f-0f79-4d67-d08e-a7fda5428956"
      },
      "execution_count": null,
      "outputs": [
        {
          "output_type": "error",
          "ename": "ValueError",
          "evalue": "ignored",
          "traceback": [
            "\u001b[0;31m---------------------------------------------------------------------------\u001b[0m",
            "\u001b[0;31mValueError\u001b[0m                                Traceback (most recent call last)",
            "\u001b[0;32m<ipython-input-35-d9136db7b558>\u001b[0m in \u001b[0;36m<cell line: 1>\u001b[0;34m()\u001b[0m\n\u001b[0;32m----> 1\u001b[0;31m \u001b[0mint\u001b[0m\u001b[0;34m(\u001b[0m\u001b[0;34m\"a\"\u001b[0m\u001b[0;34m)\u001b[0m\u001b[0;34m\u001b[0m\u001b[0;34m\u001b[0m\u001b[0m\n\u001b[0m",
            "\u001b[0;31mValueError\u001b[0m: invalid literal for int() with base 10: 'a'"
          ]
        }
      ]
    },
    {
      "cell_type": "code",
      "source": [
        "int(7.5)"
      ],
      "metadata": {
        "colab": {
          "base_uri": "https://localhost:8080/"
        },
        "id": "wlNd-fmeWLpD",
        "outputId": "772aaedb-59d3-4331-ce58-fcbe1dedd583"
      },
      "execution_count": null,
      "outputs": [
        {
          "output_type": "execute_result",
          "data": {
            "text/plain": [
              "7"
            ]
          },
          "metadata": {},
          "execution_count": 36
        }
      ]
    },
    {
      "cell_type": "code",
      "source": [
        "int(7.9)"
      ],
      "metadata": {
        "colab": {
          "base_uri": "https://localhost:8080/"
        },
        "id": "IfsMIkBNWPEa",
        "outputId": "0400fdbc-375f-4c42-b191-53662c7c61b8"
      },
      "execution_count": null,
      "outputs": [
        {
          "output_type": "execute_result",
          "data": {
            "text/plain": [
              "7"
            ]
          },
          "metadata": {},
          "execution_count": 37
        }
      ]
    },
    {
      "cell_type": "code",
      "source": [
        "str(12132.44444)"
      ],
      "metadata": {
        "colab": {
          "base_uri": "https://localhost:8080/",
          "height": 35
        },
        "id": "pvnburthWXVk",
        "outputId": "e79632a4-ba72-401f-db57-13b0f9885b3f"
      },
      "execution_count": null,
      "outputs": [
        {
          "output_type": "execute_result",
          "data": {
            "text/plain": [
              "'12132.44444'"
            ],
            "application/vnd.google.colaboratory.intrinsic+json": {
              "type": "string"
            }
          },
          "metadata": {},
          "execution_count": 38
        }
      ]
    },
    {
      "cell_type": "code",
      "source": [
        "bool()"
      ],
      "metadata": {
        "colab": {
          "base_uri": "https://localhost:8080/"
        },
        "id": "cCg47zVAWdwd",
        "outputId": "b9b9d0e2-d83e-4ccc-c10e-229cc0bac49e"
      },
      "execution_count": null,
      "outputs": [
        {
          "output_type": "execute_result",
          "data": {
            "text/plain": [
              "False"
            ]
          },
          "metadata": {},
          "execution_count": 43
        }
      ]
    },
    {
      "cell_type": "code",
      "source": [
        "bool(\"False\")"
      ],
      "metadata": {
        "colab": {
          "base_uri": "https://localhost:8080/"
        },
        "id": "u9A_x3QNXe6o",
        "outputId": "77e4c592-7e0f-429e-f4ef-c42712aa1410"
      },
      "execution_count": null,
      "outputs": [
        {
          "output_type": "execute_result",
          "data": {
            "text/plain": [
              "True"
            ]
          },
          "metadata": {},
          "execution_count": 112
        }
      ]
    },
    {
      "cell_type": "code",
      "source": [
        "str(False)"
      ],
      "metadata": {
        "colab": {
          "base_uri": "https://localhost:8080/",
          "height": 35
        },
        "id": "cmuGYDojXi06",
        "outputId": "c559c2e9-2676-47c7-c2e4-1bd7379b1515"
      },
      "execution_count": null,
      "outputs": [
        {
          "output_type": "execute_result",
          "data": {
            "text/plain": [
              "'False'"
            ],
            "application/vnd.google.colaboratory.intrinsic+json": {
              "type": "string"
            }
          },
          "metadata": {},
          "execution_count": 45
        }
      ]
    },
    {
      "cell_type": "code",
      "source": [
        "float(int(7.9))"
      ],
      "metadata": {
        "colab": {
          "base_uri": "https://localhost:8080/"
        },
        "id": "JFKn7tY9XrPi",
        "outputId": "1d4f9699-0f4e-4c3b-d8f8-9da11f4b1979"
      },
      "execution_count": null,
      "outputs": [
        {
          "output_type": "execute_result",
          "data": {
            "text/plain": [
              "7.0"
            ]
          },
          "metadata": {},
          "execution_count": 48
        }
      ]
    },
    {
      "cell_type": "markdown",
      "source": [
        "Portanto, dependendo do valor a ser alterado e a mudança de tipo três coisas \"não-desejadas\" podem acontecer:\n",
        "\n",
        "- Informação incorreta. ex: string \"False\" vira boolean True\n",
        "- Perder informação. ex: arredondamento pra baixo de float para int\n",
        "- Quebrar o código\n",
        "\n",
        "\n",
        "Pergunta: Quais dessas três consequências indesejáveis é a pior?"
      ],
      "metadata": {
        "id": "_larrthxtvvY"
      }
    },
    {
      "cell_type": "markdown",
      "source": [
        "Existem mais outras formas de atribuir valores às variáveis"
      ],
      "metadata": {
        "id": "on530KFEueN8"
      }
    },
    {
      "cell_type": "code",
      "source": [
        "x = 1 # primeira forma que aprendemos\n",
        "#print(x)\n",
        "#atribuindo valores as mais de uma variável ao mesmo tempo\n",
        "nome,idade,peso = 'Diego',37,81.5\n",
        "print(nome,idade,peso)\n",
        "\n",
        "a=b=c=9\n",
        "print(a,b,c)"
      ],
      "metadata": {
        "id": "kpS80j1tvOrr",
        "colab": {
          "base_uri": "https://localhost:8080/"
        },
        "outputId": "94b7dadd-5fb0-4e71-862a-604371e85d53"
      },
      "execution_count": null,
      "outputs": [
        {
          "output_type": "stream",
          "name": "stdout",
          "text": [
            "Diego 37 81.5\n",
            "9 9 9\n"
          ]
        }
      ]
    },
    {
      "cell_type": "code",
      "source": [
        "'''Perceba que o número de valores declarados\n",
        "deve ser igual ao número de variáveis'''\n",
        "\n",
        "a,b,c = 0,0,0\n",
        "print(a,b,c)\n",
        "\n"
      ],
      "metadata": {
        "id": "nxOyTQPwAnpo",
        "colab": {
          "base_uri": "https://localhost:8080/"
        },
        "outputId": "dd8d69f2-d19f-45f6-ab5e-f7473a79033b"
      },
      "execution_count": null,
      "outputs": [
        {
          "output_type": "stream",
          "name": "stdout",
          "text": [
            "0 0 0\n"
          ]
        }
      ]
    },
    {
      "cell_type": "markdown",
      "source": [
        "# Operadores Matemáticos e Comunicação com o Usuário"
      ],
      "metadata": {
        "id": "xFDJVbYjaDq3"
      }
    },
    {
      "cell_type": "markdown",
      "source": [
        "O Python faz operações matemáticas entre variáveis e dados puros, a seguir temos uma tabela com os operadores e seus propósitos:\n"
      ],
      "metadata": {
        "id": "WwZ2u8fyabJv"
      }
    },
    {
      "cell_type": "markdown",
      "source": [
        "**Operadores Aritméticos**\n",
        "\n",
        "|     Operador    |     Nome                 |     Função                                                                       |\n",
        "|-----------------|--------------------------|----------------------------------------------------------------------------------|\n",
        "|     +           |     Adição               |     Realiza   a soma de ambos operandos.                                         |\n",
        "|     -           |     Subtração            |     Realiza   a subtração de ambos operandos.                                    |\n",
        "|     *           |     Multiplicação        |     Realiza   a multiplicação de ambos operandos.                                |\n",
        "|     /           |     Divisão              |     Realiza   a Divisão de ambos operandos.                                      |\n",
        "|     //          |     Divisão   inteira    |     Realiza   a divisão entre operandos e a parte decimal de ambos operandos.    |\n",
        "|     %           |     Módulo               |     Retorna   o resto da divisão de ambos operandos.                             |\n",
        "|     **          |     Exponenciação        |     Retorna   o resultado da elevação da potência pelo outro.                    |"
      ],
      "metadata": {
        "id": "zbBn6YTYaoAQ"
      }
    },
    {
      "cell_type": "markdown",
      "source": [
        "Além disso, fazemos uso de parênteses para definir ordem de contas assim como na matemática"
      ],
      "metadata": {
        "id": "aWWJuSt3cd-9"
      }
    },
    {
      "cell_type": "code",
      "source": [
        "# Declarando variáveis\n",
        "a=5\n",
        "b=2"
      ],
      "metadata": {
        "id": "9C9McAPqvSdl"
      },
      "execution_count": null,
      "outputs": []
    },
    {
      "cell_type": "code",
      "source": [
        "#Adição\t- Realiza a soma de ambos operandos.\n",
        "a+b"
      ],
      "metadata": {
        "id": "xS1VSyWOvSkf",
        "colab": {
          "base_uri": "https://localhost:8080/"
        },
        "outputId": "7bf6820b-cf4e-477e-aa68-909e8166f28d"
      },
      "execution_count": null,
      "outputs": [
        {
          "output_type": "execute_result",
          "data": {
            "text/plain": [
              "7"
            ]
          },
          "metadata": {},
          "execution_count": 58
        }
      ]
    },
    {
      "cell_type": "code",
      "source": [
        "#Subtração -\tRealiza a subtração de ambos operandos.\n",
        "a-b"
      ],
      "metadata": {
        "id": "XvOqXrWcvSrC",
        "colab": {
          "base_uri": "https://localhost:8080/"
        },
        "outputId": "06cc8a71-0239-40f7-c648-52beebd30f98"
      },
      "execution_count": null,
      "outputs": [
        {
          "output_type": "execute_result",
          "data": {
            "text/plain": [
              "3"
            ]
          },
          "metadata": {},
          "execution_count": 59
        }
      ]
    },
    {
      "cell_type": "code",
      "source": [
        "#Multiplicação -\tRealiza a multiplicação de ambos operandos.\n",
        "a*b"
      ],
      "metadata": {
        "id": "8NAZImAnvSxL",
        "colab": {
          "base_uri": "https://localhost:8080/"
        },
        "outputId": "36ff79bb-e444-4288-9754-d382ddf34747"
      },
      "execution_count": null,
      "outputs": [
        {
          "output_type": "execute_result",
          "data": {
            "text/plain": [
              "10"
            ]
          },
          "metadata": {},
          "execution_count": 60
        }
      ]
    },
    {
      "cell_type": "code",
      "source": [
        "#Divisão -\tRealiza a Divisão de ambos operandos.\n",
        "a/b"
      ],
      "metadata": {
        "id": "kjOAmpbMvS2h",
        "colab": {
          "base_uri": "https://localhost:8080/"
        },
        "outputId": "87192a8f-06f7-472b-e34e-57201a40327f"
      },
      "execution_count": null,
      "outputs": [
        {
          "output_type": "execute_result",
          "data": {
            "text/plain": [
              "2.5"
            ]
          },
          "metadata": {},
          "execution_count": 61
        }
      ]
    },
    {
      "cell_type": "code",
      "source": [
        "#\tDivisão inteira -\tRealiza a divisão entre operandos e a parte decimal de ambos operandos.\n",
        "a//b"
      ],
      "metadata": {
        "id": "MPiGfk5PvTG9",
        "colab": {
          "base_uri": "https://localhost:8080/"
        },
        "outputId": "ae991cdc-e5d4-4fa4-fc0a-0fb84b9595c4"
      },
      "execution_count": null,
      "outputs": [
        {
          "output_type": "execute_result",
          "data": {
            "text/plain": [
              "2"
            ]
          },
          "metadata": {},
          "execution_count": 62
        }
      ]
    },
    {
      "cell_type": "code",
      "source": [
        "#Módulo -\tRetorna o resto da divisão de ambos operandos.\n",
        "a%b"
      ],
      "metadata": {
        "id": "_FjOKu1UvTBf",
        "colab": {
          "base_uri": "https://localhost:8080/"
        },
        "outputId": "c9645e13-5643-41c4-92a4-d63408244355"
      },
      "execution_count": null,
      "outputs": [
        {
          "output_type": "execute_result",
          "data": {
            "text/plain": [
              "1"
            ]
          },
          "metadata": {},
          "execution_count": 63
        }
      ]
    },
    {
      "cell_type": "code",
      "source": [
        "#Exponenciação -\tRetorna o resultado da elevação da potência pelo outro.\n",
        "a**b"
      ],
      "metadata": {
        "id": "gSQIGxB5vS8h",
        "colab": {
          "base_uri": "https://localhost:8080/"
        },
        "outputId": "80429655-db73-4699-8a42-b2b924737fe3"
      },
      "execution_count": null,
      "outputs": [
        {
          "output_type": "execute_result",
          "data": {
            "text/plain": [
              "25"
            ]
          },
          "metadata": {},
          "execution_count": 64
        }
      ]
    },
    {
      "cell_type": "markdown",
      "source": [
        "Observação\n",
        "- não existe um operador de raiz ($\\sqrt[.]{.}$) no python\n",
        " - mas conseguimos fazer isso usando uma regra matemática\n",
        " - o número que se estava tirando a raiz será elevado a 1/valor da raiz\n",
        " - o valor da raiz é por exemplo o \"quadrado\" (2) da raiz quadrada ou o cubo (3), etc.\n",
        " - exemplo: raiz quadrada (2) de 9 ficaria 9**(1/2)"
      ],
      "metadata": {
        "id": "Y56uAYYLkjHv"
      }
    },
    {
      "cell_type": "markdown",
      "source": [
        "<center>\n",
        "Isso:\n",
        "\n",
        "$\\sqrt[2]{9}$\n",
        "\n",
        "É igual a isso:\n",
        "\n",
        "$9^{1/2}$\n",
        "</center>"
      ],
      "metadata": {
        "id": "xUrfH2QjijkY"
      }
    },
    {
      "cell_type": "code",
      "source": [
        "numero_a_ser_tirado_raiz = 4\n",
        "raiz = 2\n",
        "numero_a_ser_tirado_raiz**(1/raiz) #4**0.5"
      ],
      "metadata": {
        "colab": {
          "base_uri": "https://localhost:8080/"
        },
        "id": "fNpuC4SqvUoy",
        "outputId": "38f5541a-df4e-4493-8aa7-f30212cf47a1"
      },
      "execution_count": null,
      "outputs": [
        {
          "output_type": "execute_result",
          "data": {
            "text/plain": [
              "2.0"
            ]
          },
          "metadata": {},
          "execution_count": 113
        }
      ]
    },
    {
      "cell_type": "markdown",
      "source": [
        "As operações seguem as ordens matemáticas habituais que já conhecemos\n",
        "\n",
        "<center>\n",
        "PEMDAS\n",
        "\n",
        "sigla | operador\n",
        "--- | ---\n",
        "P | Parênteses\n",
        "E | Exponenciais raizes\n",
        "MD | Multiplicações e divisões\n",
        "AS | Adições e subtrações\n",
        "</center>"
      ],
      "metadata": {
        "id": "XbwL3KBOmaxF"
      }
    },
    {
      "cell_type": "code",
      "source": [
        "# Ordens matemáticas\n",
        "a = 5\n",
        "b = 2\n",
        "c = 3\n",
        "\n",
        "(((a*b)-c**(1/2))+(c+b))"
      ],
      "metadata": {
        "id": "xMORlLJHvW0H",
        "colab": {
          "base_uri": "https://localhost:8080/"
        },
        "outputId": "0e15f02d-715a-4cbd-8988-e8b063e6bb42"
      },
      "execution_count": null,
      "outputs": [
        {
          "output_type": "execute_result",
          "data": {
            "text/plain": [
              "13.267949192431123"
            ]
          },
          "metadata": {},
          "execution_count": 67
        }
      ]
    },
    {
      "cell_type": "code",
      "source": [
        "#sequência real do cálculo\n",
        "f1 = a*b\n",
        "f2 = 1/2\n",
        "f3 = c**f2\n",
        "f4 = f1-f3\n",
        "f5 = c+b\n",
        "f4 + f5"
      ],
      "metadata": {
        "id": "GZD4wbzovW8n",
        "colab": {
          "base_uri": "https://localhost:8080/"
        },
        "outputId": "a8b78dd4-ae97-41a6-d201-d6119e10456a"
      },
      "execution_count": null,
      "outputs": [
        {
          "output_type": "execute_result",
          "data": {
            "text/plain": [
              "13.267949192431123"
            ]
          },
          "metadata": {},
          "execution_count": 68
        }
      ]
    },
    {
      "cell_type": "markdown",
      "source": [
        "## Características das interações entre operadores e tipos entre si"
      ],
      "metadata": {
        "id": "fTFrnZ-d0xyD"
      }
    },
    {
      "cell_type": "code",
      "source": [
        "True**2"
      ],
      "metadata": {
        "colab": {
          "base_uri": "https://localhost:8080/"
        },
        "id": "ss_f6JMvvYvd",
        "outputId": "87341e6a-1092-4e21-fb09-9903ba8018d1"
      },
      "execution_count": null,
      "outputs": [
        {
          "output_type": "execute_result",
          "data": {
            "text/plain": [
              "1"
            ]
          },
          "metadata": {},
          "execution_count": 69
        }
      ]
    },
    {
      "cell_type": "code",
      "source": [
        "True + 1"
      ],
      "metadata": {
        "colab": {
          "base_uri": "https://localhost:8080/"
        },
        "id": "W0bd5zesf40Y",
        "outputId": "3bedf70e-f432-4409-ed17-7f1e9a9b3460"
      },
      "execution_count": null,
      "outputs": [
        {
          "output_type": "execute_result",
          "data": {
            "text/plain": [
              "2"
            ]
          },
          "metadata": {},
          "execution_count": 70
        }
      ]
    },
    {
      "cell_type": "code",
      "source": [
        "True /2"
      ],
      "metadata": {
        "colab": {
          "base_uri": "https://localhost:8080/"
        },
        "id": "iOT8WviggIog",
        "outputId": "8aba36e6-97de-4071-f520-378cc45b3039"
      },
      "execution_count": null,
      "outputs": [
        {
          "output_type": "execute_result",
          "data": {
            "text/plain": [
              "0.5"
            ]
          },
          "metadata": {},
          "execution_count": 71
        }
      ]
    },
    {
      "cell_type": "code",
      "source": [
        "False + 3"
      ],
      "metadata": {
        "colab": {
          "base_uri": "https://localhost:8080/"
        },
        "id": "CygP87hngKQq",
        "outputId": "7479b9ec-104c-41da-90d5-3985354ce569"
      },
      "execution_count": null,
      "outputs": [
        {
          "output_type": "execute_result",
          "data": {
            "text/plain": [
              "3"
            ]
          },
          "metadata": {},
          "execution_count": 72
        }
      ]
    },
    {
      "cell_type": "markdown",
      "source": [
        "Por que deram esses valores para as operações acima?"
      ],
      "metadata": {
        "id": "3cigIwhg2LHE"
      }
    },
    {
      "cell_type": "markdown",
      "source": [
        "E o que vai acontecer se eu utilizar as outras operações na string? exemplo:\n"
      ],
      "metadata": {
        "id": "tERVl9OF6s99"
      }
    },
    {
      "cell_type": "code",
      "source": [
        "1 + \"1\""
      ],
      "metadata": {
        "id": "-bDeBESuve-g",
        "colab": {
          "base_uri": "https://localhost:8080/",
          "height": 176
        },
        "outputId": "94b95db0-68e2-4c57-b002-d43f9c9d03b1"
      },
      "execution_count": null,
      "outputs": [
        {
          "output_type": "error",
          "ename": "TypeError",
          "evalue": "ignored",
          "traceback": [
            "\u001b[0;31m---------------------------------------------------------------------------\u001b[0m",
            "\u001b[0;31mTypeError\u001b[0m                                 Traceback (most recent call last)",
            "\u001b[0;32m<ipython-input-73-b780703cc5f9>\u001b[0m in \u001b[0;36m<cell line: 1>\u001b[0;34m()\u001b[0m\n\u001b[0;32m----> 1\u001b[0;31m \u001b[0;36m1\u001b[0m \u001b[0;34m+\u001b[0m \u001b[0;34m\"1\"\u001b[0m\u001b[0;34m\u001b[0m\u001b[0;34m\u001b[0m\u001b[0m\n\u001b[0m",
            "\u001b[0;31mTypeError\u001b[0m: unsupported operand type(s) for +: 'int' and 'str'"
          ]
        }
      ]
    },
    {
      "cell_type": "code",
      "source": [
        "\"1\" ** 2"
      ],
      "metadata": {
        "id": "c-hM2pO-7HSR",
        "colab": {
          "base_uri": "https://localhost:8080/",
          "height": 176
        },
        "outputId": "0716c525-1107-4977-8f39-ca319273e9e3"
      },
      "execution_count": null,
      "outputs": [
        {
          "output_type": "error",
          "ename": "TypeError",
          "evalue": "ignored",
          "traceback": [
            "\u001b[0;31m---------------------------------------------------------------------------\u001b[0m",
            "\u001b[0;31mTypeError\u001b[0m                                 Traceback (most recent call last)",
            "\u001b[0;32m<ipython-input-74-f1cbd40d0f1e>\u001b[0m in \u001b[0;36m<cell line: 1>\u001b[0;34m()\u001b[0m\n\u001b[0;32m----> 1\u001b[0;31m \u001b[0;34m\"1\"\u001b[0m \u001b[0;34m**\u001b[0m \u001b[0;36m2\u001b[0m\u001b[0;34m\u001b[0m\u001b[0;34m\u001b[0m\u001b[0m\n\u001b[0m",
            "\u001b[0;31mTypeError\u001b[0m: unsupported operand type(s) for ** or pow(): 'str' and 'int'"
          ]
        }
      ]
    },
    {
      "cell_type": "code",
      "source": [
        "\"10\"/2"
      ],
      "metadata": {
        "id": "rBl0h8dX7ST-",
        "colab": {
          "base_uri": "https://localhost:8080/",
          "height": 176
        },
        "outputId": "6e6fba7b-9aea-43f8-86f3-a30490d4d7ee"
      },
      "execution_count": null,
      "outputs": [
        {
          "output_type": "error",
          "ename": "TypeError",
          "evalue": "ignored",
          "traceback": [
            "\u001b[0;31m---------------------------------------------------------------------------\u001b[0m",
            "\u001b[0;31mTypeError\u001b[0m                                 Traceback (most recent call last)",
            "\u001b[0;32m<ipython-input-75-3c51e96992ea>\u001b[0m in \u001b[0;36m<cell line: 1>\u001b[0;34m()\u001b[0m\n\u001b[0;32m----> 1\u001b[0;31m \u001b[0;34m\"10\"\u001b[0m\u001b[0;34m/\u001b[0m\u001b[0;36m2\u001b[0m\u001b[0;34m\u001b[0m\u001b[0;34m\u001b[0m\u001b[0m\n\u001b[0m",
            "\u001b[0;31mTypeError\u001b[0m: unsupported operand type(s) for /: 'str' and 'int'"
          ]
        }
      ]
    },
    {
      "cell_type": "markdown",
      "source": [
        "Mas tem um porém... O que vai resultar o código abaixo?"
      ],
      "metadata": {
        "id": "qwYBWMxO7TDq"
      }
    },
    {
      "cell_type": "code",
      "source": [
        "\"a\" * 20"
      ],
      "metadata": {
        "id": "BBuYLofv614j",
        "colab": {
          "base_uri": "https://localhost:8080/",
          "height": 35
        },
        "outputId": "ad2fc472-ed6c-416c-a287-e21873662c4b"
      },
      "execution_count": null,
      "outputs": [
        {
          "output_type": "execute_result",
          "data": {
            "text/plain": [
              "'aaaaaaaaaaaaaaaaaaaa'"
            ],
            "application/vnd.google.colaboratory.intrinsic+json": {
              "type": "string"
            }
          },
          "metadata": {},
          "execution_count": 114
        }
      ]
    },
    {
      "cell_type": "markdown",
      "source": [
        "Para os outros casos, você pode contornar convertendo seu tipo. Por exemplo:"
      ],
      "metadata": {
        "id": "SUPWsoaP7pHJ"
      }
    },
    {
      "cell_type": "code",
      "source": [
        "int(\"1\") * 2\n"
      ],
      "metadata": {
        "id": "7IqlXCZJvmnr",
        "colab": {
          "base_uri": "https://localhost:8080/"
        },
        "outputId": "727250ca-4941-405d-934b-97589904e47b"
      },
      "execution_count": null,
      "outputs": [
        {
          "output_type": "execute_result",
          "data": {
            "text/plain": [
              "2"
            ]
          },
          "metadata": {},
          "execution_count": 79
        }
      ]
    },
    {
      "cell_type": "code",
      "source": [
        "#O QUE VAI RESULTAR O CÓDIGO ? mas não leve ao pé da letra =:)\n",
        "\"Diego\" * 2.5"
      ],
      "metadata": {
        "id": "XnFca6qAvmsy",
        "colab": {
          "base_uri": "https://localhost:8080/",
          "height": 193
        },
        "outputId": "33bdb317-a811-4f03-e066-756e271e32e4"
      },
      "execution_count": null,
      "outputs": [
        {
          "output_type": "error",
          "ename": "TypeError",
          "evalue": "ignored",
          "traceback": [
            "\u001b[0;31m---------------------------------------------------------------------------\u001b[0m",
            "\u001b[0;31mTypeError\u001b[0m                                 Traceback (most recent call last)",
            "\u001b[0;32m<ipython-input-80-fce9fc7fb140>\u001b[0m in \u001b[0;36m<cell line: 2>\u001b[0;34m()\u001b[0m\n\u001b[1;32m      1\u001b[0m \u001b[0;31m#O QUE VAI RESULTAR O CÓDIGO ? mas não leve ao pé da letra =:)\u001b[0m\u001b[0;34m\u001b[0m\u001b[0;34m\u001b[0m\u001b[0m\n\u001b[0;32m----> 2\u001b[0;31m \u001b[0;34m\"Diego\"\u001b[0m \u001b[0;34m*\u001b[0m \u001b[0;36m2.5\u001b[0m\u001b[0;34m\u001b[0m\u001b[0;34m\u001b[0m\u001b[0m\n\u001b[0m",
            "\u001b[0;31mTypeError\u001b[0m: can't multiply sequence by non-int of type 'float'"
          ]
        }
      ]
    },
    {
      "cell_type": "code",
      "source": [
        "# O SINAL DE + TEM OUTRO PROPÓSITO ALÉM DA MATEMÁTICA. QUAL É?\n",
        "#sem que uso o sinal de + entre duas string, estou fazendo um processo de concatenação\n",
        "\"nome: \" + \"Diego\""
      ],
      "metadata": {
        "id": "URkca0mB7xgE",
        "colab": {
          "base_uri": "https://localhost:8080/",
          "height": 35
        },
        "outputId": "811cb659-c17f-432f-cee7-91e0f0ba463d"
      },
      "execution_count": null,
      "outputs": [
        {
          "output_type": "execute_result",
          "data": {
            "text/plain": [
              "'nome: Diego'"
            ],
            "application/vnd.google.colaboratory.intrinsic+json": {
              "type": "string"
            }
          },
          "metadata": {},
          "execution_count": 81
        }
      ]
    },
    {
      "cell_type": "markdown",
      "source": [
        "## Imprimindo com Python"
      ],
      "metadata": {
        "id": "94he9PoubPgw"
      }
    },
    {
      "cell_type": "markdown",
      "source": [
        "- Provavelmente a função que mais utilizamos quando estamos aprendendo a programar em python\n",
        "- No no nosso dia a dia será bastante utilizada para entendermos \"o que o código está fazendo\"\n",
        "- O print nos retorna uma informação"
      ],
      "metadata": {
        "id": "VHQtuMli-NsG"
      }
    },
    {
      "cell_type": "code",
      "source": [
        "#Maneiras de imprimir a execução do código\n",
        "print(\"Diego Rocha\")\n",
        "print(5)\n",
        "x = 3\n",
        "print(x)\n",
        "\n"
      ],
      "metadata": {
        "id": "zkkMLW1kvoZD",
        "colab": {
          "base_uri": "https://localhost:8080/"
        },
        "outputId": "d50a7b16-e50f-4eb2-f48a-a1ee0891b0a6"
      },
      "execution_count": null,
      "outputs": [
        {
          "output_type": "stream",
          "name": "stdout",
          "text": [
            "Diego Rocha\n",
            "5\n",
            "3\n"
          ]
        }
      ]
    },
    {
      "cell_type": "code",
      "source": [
        "print(5,x,\"Diego\")"
      ],
      "metadata": {
        "colab": {
          "base_uri": "https://localhost:8080/"
        },
        "id": "ThkMHqoMhXke",
        "outputId": "3573ffd8-084b-4eff-c760-7b892a769ff5"
      },
      "execution_count": null,
      "outputs": [
        {
          "output_type": "stream",
          "name": "stdout",
          "text": [
            "5 3 Diego\n"
          ]
        }
      ]
    },
    {
      "cell_type": "markdown",
      "source": [
        "Usando *f-string* para imprimir na tela\n",
        "\n",
        "As f-strings são uma forma conveniente de formatar strings em Python 3.6 e versões posteriores. Elas permitem que você insira valores de variáveis diretamente em uma string prefixada com \"f\" (ou \"F\") e chaves {} para representar as variáveis."
      ],
      "metadata": {
        "id": "BzPEEsWkTYhi"
      }
    },
    {
      "cell_type": "code",
      "source": [
        "# Exemplo prático usando f-string\n",
        "nome = 'Diego'\n",
        "idade = 37\n",
        "\n",
        "print('Meu nome é',nome,'e eu tenho ',idade, 'anos')\n",
        "print(f\"Meu nome é {nome} e eu tenho {idade} anos\")"
      ],
      "metadata": {
        "id": "Sq7dDpHRvojs",
        "colab": {
          "base_uri": "https://localhost:8080/"
        },
        "outputId": "47b1ab17-9678-460c-b8f9-01f4e049fc24"
      },
      "execution_count": null,
      "outputs": [
        {
          "output_type": "stream",
          "name": "stdout",
          "text": [
            "Meu nome é Diego e eu tenho  37 anos\n",
            "Meu nome é Diego e eu tenho 37 anos\n"
          ]
        }
      ]
    },
    {
      "cell_type": "code",
      "source": [
        "# Usando f-string para realizar uma operação dentro da string\n",
        "var =1\n",
        "print(f\"Meu nome é {nome} e eu vou fazer {idade + var} anos\")\n"
      ],
      "metadata": {
        "id": "5oKZ0G5tvope",
        "colab": {
          "base_uri": "https://localhost:8080/"
        },
        "outputId": "ef1879d0-8a5e-4cf9-95f7-e6817593b6f4"
      },
      "execution_count": null,
      "outputs": [
        {
          "output_type": "stream",
          "name": "stdout",
          "text": [
            "Meu nome é Diego e eu vou fazer 38 anos\n"
          ]
        }
      ]
    },
    {
      "cell_type": "markdown",
      "source": [
        "## Input de dados com Python"
      ],
      "metadata": {
        "id": "zZ02IZ4lbUuw"
      }
    },
    {
      "cell_type": "markdown",
      "source": [
        "Outra função que vamos utilizar com alguma frequência é a input. Ela tem a principal característica de abrir um 'campo' para o usuário preencher e guarda a entrada (input) que foi feita pelo usuário em uma variável"
      ],
      "metadata": {
        "id": "SQ8oqDZls6vT"
      }
    },
    {
      "cell_type": "code",
      "source": [
        "#iniciando um input de dados\n",
        "input('Informe seu nome:')"
      ],
      "metadata": {
        "id": "wSLtAOoEvqJ5",
        "colab": {
          "base_uri": "https://localhost:8080/",
          "height": 52
        },
        "outputId": "ab6527f1-b92b-459c-e5d4-ed4e569907b6"
      },
      "execution_count": null,
      "outputs": [
        {
          "name": "stdout",
          "output_type": "stream",
          "text": [
            "Informe seu nome:Diego\n"
          ]
        },
        {
          "output_type": "execute_result",
          "data": {
            "text/plain": [
              "'Diego'"
            ],
            "application/vnd.google.colaboratory.intrinsic+json": {
              "type": "string"
            }
          },
          "metadata": {},
          "execution_count": 91
        }
      ]
    },
    {
      "cell_type": "code",
      "source": [
        "#Guardando o input em uma variável\n",
        "nome = input('Informe seu nome:')\n",
        "nome"
      ],
      "metadata": {
        "id": "G-b3g6jHUmo-",
        "colab": {
          "base_uri": "https://localhost:8080/",
          "height": 52
        },
        "outputId": "fea2951b-1de1-4267-e969-0e09fa24fbeb"
      },
      "execution_count": null,
      "outputs": [
        {
          "name": "stdout",
          "output_type": "stream",
          "text": [
            "Informe seu nome:Diego\n"
          ]
        },
        {
          "output_type": "execute_result",
          "data": {
            "text/plain": [
              "'Diego'"
            ],
            "application/vnd.google.colaboratory.intrinsic+json": {
              "type": "string"
            }
          },
          "metadata": {},
          "execution_count": 93
        }
      ]
    },
    {
      "cell_type": "code",
      "source": [
        "#eliminando uma variável\n",
        "del nome"
      ],
      "metadata": {
        "id": "TvYZwg4hU78l"
      },
      "execution_count": null,
      "outputs": []
    },
    {
      "cell_type": "code",
      "source": [
        "print(nome)"
      ],
      "metadata": {
        "id": "KKb8vx65U-vR",
        "colab": {
          "base_uri": "https://localhost:8080/",
          "height": 176
        },
        "outputId": "1fa34048-f5b8-4c0f-d747-f125e7086675"
      },
      "execution_count": null,
      "outputs": [
        {
          "output_type": "error",
          "ename": "NameError",
          "evalue": "ignored",
          "traceback": [
            "\u001b[0;31m---------------------------------------------------------------------------\u001b[0m",
            "\u001b[0;31mNameError\u001b[0m                                 Traceback (most recent call last)",
            "\u001b[0;32m<ipython-input-95-759f7bacf2de>\u001b[0m in \u001b[0;36m<cell line: 1>\u001b[0;34m()\u001b[0m\n\u001b[0;32m----> 1\u001b[0;31m \u001b[0mprint\u001b[0m\u001b[0;34m(\u001b[0m\u001b[0mnome\u001b[0m\u001b[0;34m)\u001b[0m\u001b[0;34m\u001b[0m\u001b[0;34m\u001b[0m\u001b[0m\n\u001b[0m",
            "\u001b[0;31mNameError\u001b[0m: name 'nome' is not defined"
          ]
        }
      ]
    },
    {
      "cell_type": "code",
      "source": [
        "#Aumentando o contexto\n",
        "nome = input('Informe seu nome: ')\n",
        "localidade = input('local de nascimento:')\n",
        "print(f'O nome do usuário e: {nome} e o local de nascimento é: {localidade}')"
      ],
      "metadata": {
        "id": "Q6-_GBi8NfFo",
        "colab": {
          "base_uri": "https://localhost:8080/"
        },
        "outputId": "9bb78ee3-be73-407e-a6b1-3eb2ccc51f8f"
      },
      "execution_count": null,
      "outputs": [
        {
          "output_type": "stream",
          "name": "stdout",
          "text": [
            "Informe seu nome: Diego\n",
            "local de nascimento:Catagauses\n",
            "O nome do usuário e: Diego e o local de nascimento é: Catagauses\n"
          ]
        }
      ]
    },
    {
      "cell_type": "code",
      "source": [
        "#Trabalhando quebra de linha na hora de imprimir, basta usar \\n\n",
        "print(f'O nome do usuário é: {nome} \\ne o local de nascimento é: {localidade}')"
      ],
      "metadata": {
        "id": "ceHUPwD7vqVe",
        "colab": {
          "base_uri": "https://localhost:8080/"
        },
        "outputId": "00a5ee13-3bac-4c42-93d3-61bb61a118c8"
      },
      "execution_count": null,
      "outputs": [
        {
          "output_type": "stream",
          "name": "stdout",
          "text": [
            "O nome do usuário é: Diego \n",
            "e o local de nascimento é: Catagauses\n"
          ]
        }
      ]
    },
    {
      "cell_type": "markdown",
      "source": [
        "## Exercícios"
      ],
      "metadata": {
        "id": "mq9LoD1yAg-f"
      }
    },
    {
      "cell_type": "markdown",
      "source": [
        "Faça um código que mostra a mensagem \"Olá mundo\" na tela"
      ],
      "metadata": {
        "id": "1jvGpg7sDyM9"
      }
    },
    {
      "cell_type": "code",
      "source": [
        "print('Olá Mundo')"
      ],
      "metadata": {
        "colab": {
          "base_uri": "https://localhost:8080/"
        },
        "id": "UwYaGjaZXW_Y",
        "outputId": "28b67a0a-86bf-4fb6-b42f-740b52287b33"
      },
      "execution_count": null,
      "outputs": [
        {
          "output_type": "stream",
          "name": "stdout",
          "text": [
            "Olá Mundo\n"
          ]
        }
      ]
    },
    {
      "cell_type": "markdown",
      "source": [
        "Faça um código que peça as 3 notas semestrais e mostre a média simples"
      ],
      "metadata": {
        "id": "JjCHLNDyDyp-"
      }
    },
    {
      "cell_type": "code",
      "source": [
        "n1 = float(input(\"Digite a nota 1:\"))\n",
        "n2 = float(input(\"Digite a nota 2:\"))\n",
        "n3 = float(input(\"Digite a nota 3:\"))\n",
        "\n",
        "media = (n1+n2+n3)/3\n",
        "\n",
        "print(f'A média é {media}')\n",
        "print(f'A média é {(n1 + n2 + n3) /3}')"
      ],
      "metadata": {
        "colab": {
          "base_uri": "https://localhost:8080/"
        },
        "id": "92cM0fRojLEH",
        "outputId": "44dec3dd-2184-4ff6-eb35-e34b3a37cf08"
      },
      "execution_count": null,
      "outputs": [
        {
          "output_type": "stream",
          "name": "stdout",
          "text": [
            "Digite a nota 1:10\n",
            "Digite a nota 2:20\n",
            "Digite a nota 3:30\n",
            "A média é 20.0\n",
            "A média é 20.0\n"
          ]
        }
      ]
    },
    {
      "cell_type": "code",
      "source": [],
      "metadata": {
        "id": "Fj7d2tYOXXet"
      },
      "execution_count": null,
      "outputs": []
    },
    {
      "cell_type": "markdown",
      "source": [
        "Faça um código que peça as 3 notas semestrais e mostre a média ponderada"
      ],
      "metadata": {
        "id": "Ml_mTs_hCS0b"
      }
    },
    {
      "cell_type": "code",
      "source": [
        "n1 = float(input(\"Digite a nota 1:\"))\n",
        "p1 = float(input(\"Digite a peso 1:\"))\n",
        "\n",
        "n2 = float(input(\"Digite a nota 2:\"))\n",
        "p2 = float(input(\"Digite a peso 2:\"))\n",
        "\n",
        "n3 = float(input(\"Digite a nota 3:\"))\n",
        "p3 = float(input(\"Digite a peso 3:\"))\n",
        "\n",
        "mp = (n1*p1 + n2*p2 + n3*p3) / (p1+p2+p3)\n",
        "print(mp)\n",
        "\n"
      ],
      "metadata": {
        "colab": {
          "base_uri": "https://localhost:8080/"
        },
        "id": "CVDyNeTmXXx8",
        "outputId": "4d18f5de-49ab-4f4c-cfa8-00d4ebbe997f"
      },
      "execution_count": null,
      "outputs": [
        {
          "output_type": "stream",
          "name": "stdout",
          "text": [
            "Digite a nota 1:10\n",
            "Digite a peso 1:5\n",
            "Digite a nota 2:20\n",
            "Digite a peso 2:7\n",
            "Digite a nota 3:15\n",
            "Digite a peso 3:3\n",
            "15.666666666666666\n"
          ]
        }
      ]
    },
    {
      "cell_type": "markdown",
      "source": [],
      "metadata": {
        "id": "GiAOBu83nzDR"
      }
    },
    {
      "cell_type": "markdown",
      "source": [
        "Faça um código que pergunte quanto você ganha por hora e o número de horas trabalhadas no mês. Calcule e mostre o total do seu salário no referido mês"
      ],
      "metadata": {
        "id": "ZU7Uqdk2DysO"
      }
    },
    {
      "cell_type": "code",
      "source": [
        "valor_hora = float(input('Informe o valor hora: '))\n",
        "qtd_hora = int(input('Informe o número de horas trabalhadas no mês: '))\n",
        "salario = valor_hora * qtd_hora\n",
        "print(f'Seu salário é {salario}')"
      ],
      "metadata": {
        "id": "JpJbb--QXYVw"
      },
      "execution_count": null,
      "outputs": []
    },
    {
      "cell_type": "markdown",
      "source": [
        "____\n"
      ],
      "metadata": {
        "id": "pxLU3qcqBqjp"
      }
    },
    {
      "cell_type": "markdown",
      "source": [
        "# Aula 2 - Operadores Lógicos e Condicionais em Python"
      ],
      "metadata": {
        "id": "V5j24F39k0lL"
      }
    },
    {
      "cell_type": "markdown",
      "source": [
        "\n",
        "Em muitos problemas de programação, há necessidade de se fazer comparações entre variáveis.\n",
        "\n",
        "por exemplo:\n",
        "\n",
        "\n",
        "\n",
        "*   checar se um número é maior que outro\n",
        "*   checar se uma variável é igual a outra\n",
        "*   checar se há números diferentes, etc.\n",
        "\n",
        "\n",
        "\n",
        "\n",
        "\n",
        "\n",
        "Para fazer essas comparações, utilizamos os operadores lógicos de comparação. Em python, há 6 desses operadores:\n",
        "\n",
        "- Maior que: >\n",
        "- Maior ou igual: >=\n",
        "- Menor que: <\n",
        "- Menor ou igual: <=\n",
        "- Igual: ==\n",
        "- Diferente: !=\n",
        "\n",
        "\n",
        "O resultado de uma comparação sempre vai ser um booleano, isto é, True ou False!\n",
        "\n",
        "Dica: Sempre leia as comparações como uma pergunta\n",
        "\n",
        "\n",
        "- Ex: \"numero < 100\", leia \"o valor na variável número é menor que 100?\"\n"
      ],
      "metadata": {
        "id": "es6sYNt0B-9J"
      }
    },
    {
      "cell_type": "code",
      "source": [
        "True == 1"
      ],
      "metadata": {
        "colab": {
          "base_uri": "https://localhost:8080/"
        },
        "id": "cGssGPhBBrWZ",
        "outputId": "61277fb9-1720-42e5-aad1-ff89a8516275"
      },
      "execution_count": null,
      "outputs": [
        {
          "output_type": "execute_result",
          "data": {
            "text/plain": [
              "True"
            ]
          },
          "metadata": {},
          "execution_count": 2
        }
      ]
    },
    {
      "cell_type": "code",
      "source": [
        "True < 2"
      ],
      "metadata": {
        "colab": {
          "base_uri": "https://localhost:8080/"
        },
        "id": "dtYAs6dZeVAB",
        "outputId": "a4cc1a75-5fdb-421f-aa9c-72b7fe5b3f5a"
      },
      "execution_count": null,
      "outputs": [
        {
          "output_type": "execute_result",
          "data": {
            "text/plain": [
              "True"
            ]
          },
          "metadata": {},
          "execution_count": 8
        }
      ]
    },
    {
      "cell_type": "code",
      "source": [
        "False == 0"
      ],
      "metadata": {
        "colab": {
          "base_uri": "https://localhost:8080/"
        },
        "id": "2R26lX-9eCmg",
        "outputId": "1471bf45-7d28-4a08-ce75-9ee4682c5451"
      },
      "execution_count": null,
      "outputs": [
        {
          "output_type": "execute_result",
          "data": {
            "text/plain": [
              "True"
            ]
          },
          "metadata": {},
          "execution_count": 3
        }
      ]
    },
    {
      "cell_type": "code",
      "source": [
        "100 > 10"
      ],
      "metadata": {
        "colab": {
          "base_uri": "https://localhost:8080/"
        },
        "id": "U0tzDzHieGKz",
        "outputId": "5194f26e-4414-4e43-bb13-7579c617fe27"
      },
      "execution_count": null,
      "outputs": [
        {
          "output_type": "execute_result",
          "data": {
            "text/plain": [
              "True"
            ]
          },
          "metadata": {},
          "execution_count": 4
        }
      ]
    },
    {
      "cell_type": "code",
      "source": [
        "5 > 100"
      ],
      "metadata": {
        "colab": {
          "base_uri": "https://localhost:8080/"
        },
        "id": "cvkc-BrbeITb",
        "outputId": "4ff6e8d9-ff1e-44e2-dfcd-d75cd205735b"
      },
      "execution_count": null,
      "outputs": [
        {
          "output_type": "execute_result",
          "data": {
            "text/plain": [
              "False"
            ]
          },
          "metadata": {},
          "execution_count": 6
        }
      ]
    },
    {
      "cell_type": "code",
      "source": [
        "13.14 > 'oi'"
      ],
      "metadata": {
        "colab": {
          "base_uri": "https://localhost:8080/",
          "height": 176
        },
        "id": "Z8I-Cc42eM-3",
        "outputId": "42a6fafc-c808-4845-a6cf-1e7f035b4f65"
      },
      "execution_count": null,
      "outputs": [
        {
          "output_type": "error",
          "ename": "TypeError",
          "evalue": "ignored",
          "traceback": [
            "\u001b[0;31m---------------------------------------------------------------------------\u001b[0m",
            "\u001b[0;31mTypeError\u001b[0m                                 Traceback (most recent call last)",
            "\u001b[0;32m<ipython-input-7-26188676cbd7>\u001b[0m in \u001b[0;36m<cell line: 1>\u001b[0;34m()\u001b[0m\n\u001b[0;32m----> 1\u001b[0;31m \u001b[0;36m13.14\u001b[0m \u001b[0;34m>\u001b[0m \u001b[0;34m'oi'\u001b[0m\u001b[0;34m\u001b[0m\u001b[0;34m\u001b[0m\u001b[0m\n\u001b[0m",
            "\u001b[0;31mTypeError\u001b[0m: '>' not supported between instances of 'float' and 'str'"
          ]
        }
      ]
    },
    {
      "cell_type": "markdown",
      "source": [
        "A comparacão pode ser feito entre duas variáveis também:\n"
      ],
      "metadata": {
        "id": "4UsuXG0sCp7F"
      }
    },
    {
      "cell_type": "code",
      "source": [
        "varA = 100\n",
        "varB = 100\n",
        "\n",
        "varA <= varB"
      ],
      "metadata": {
        "colab": {
          "base_uri": "https://localhost:8080/"
        },
        "id": "0HX_96ZRBuEC",
        "outputId": "3442aa57-3068-4a46-f988-517b6840b890"
      },
      "execution_count": null,
      "outputs": [
        {
          "output_type": "execute_result",
          "data": {
            "text/plain": [
              "True"
            ]
          },
          "metadata": {},
          "execution_count": 10
        }
      ]
    },
    {
      "cell_type": "markdown",
      "source": [
        "Podemos também comparar strings"
      ],
      "metadata": {
        "id": "6oAGXLbOXI4d"
      }
    },
    {
      "cell_type": "code",
      "source": [
        "'olá' == 'olá'"
      ],
      "metadata": {
        "colab": {
          "base_uri": "https://localhost:8080/"
        },
        "id": "aYYN6Y1TXInS",
        "outputId": "b24529d1-3492-4658-8c71-f1f9af364534"
      },
      "execution_count": null,
      "outputs": [
        {
          "output_type": "execute_result",
          "data": {
            "text/plain": [
              "True"
            ]
          },
          "metadata": {},
          "execution_count": 11
        }
      ]
    },
    {
      "cell_type": "code",
      "source": [
        "'olá' == 'Olá'"
      ],
      "metadata": {
        "colab": {
          "base_uri": "https://localhost:8080/"
        },
        "id": "95bu2VSfeo32",
        "outputId": "6da3845b-4714-41cc-f037-e29d1d413a83"
      },
      "execution_count": null,
      "outputs": [
        {
          "output_type": "execute_result",
          "data": {
            "text/plain": [
              "False"
            ]
          },
          "metadata": {},
          "execution_count": 12
        }
      ]
    },
    {
      "cell_type": "code",
      "source": [
        "'olá' == 'Olá'.lower() # = olá"
      ],
      "metadata": {
        "colab": {
          "base_uri": "https://localhost:8080/"
        },
        "id": "UhmvLHsxewEn",
        "outputId": "fbe96369-b8a6-476e-a1c3-d04ff50555ae"
      },
      "execution_count": null,
      "outputs": [
        {
          "output_type": "execute_result",
          "data": {
            "text/plain": [
              "True"
            ]
          },
          "metadata": {},
          "execution_count": 14
        }
      ]
    },
    {
      "cell_type": "markdown",
      "source": [
        "Os operadores >, >=, <, <= atuam comparando ordem alfabética quando aplicados a strings"
      ],
      "metadata": {
        "id": "BPq9dRMSX_qb"
      }
    },
    {
      "cell_type": "code",
      "source": [
        "'abaaana' >= 'abacaxi'"
      ],
      "metadata": {
        "colab": {
          "base_uri": "https://localhost:8080/"
        },
        "id": "8KIvbi9TYAFG",
        "outputId": "bf4d2d27-b84a-43e2-caac-4b6524b6f15b"
      },
      "execution_count": null,
      "outputs": [
        {
          "output_type": "execute_result",
          "data": {
            "text/plain": [
              "False"
            ]
          },
          "metadata": {},
          "execution_count": 17
        }
      ]
    },
    {
      "cell_type": "markdown",
      "source": [
        "Podemos fazer comparação entre tipos númericos diferentes (int e float)"
      ],
      "metadata": {
        "id": "6pnFMMLPYwTB"
      }
    },
    {
      "cell_type": "code",
      "source": [
        "varA = 10\n",
        "varB = 9.8\n",
        "\n",
        "varA >= varB"
      ],
      "metadata": {
        "colab": {
          "base_uri": "https://localhost:8080/"
        },
        "id": "d_qLPZBcYwnH",
        "outputId": "52ed3c39-a879-4693-bb40-31d1d53d5517"
      },
      "execution_count": null,
      "outputs": [
        {
          "output_type": "execute_result",
          "data": {
            "text/plain": [
              "True"
            ]
          },
          "metadata": {},
          "execution_count": 18
        }
      ]
    },
    {
      "cell_type": "markdown",
      "source": [
        "Mas comparações entre string e tipos números são possíveis apenas para == e !="
      ],
      "metadata": {
        "id": "7teSt0AnY0lK"
      }
    },
    {
      "cell_type": "code",
      "source": [
        "\"1\" != 1"
      ],
      "metadata": {
        "colab": {
          "base_uri": "https://localhost:8080/"
        },
        "id": "wqjrlKZWY1Cl",
        "outputId": "1f9651ac-a189-461d-b73f-7cc1133493da"
      },
      "execution_count": null,
      "outputs": [
        {
          "output_type": "execute_result",
          "data": {
            "text/plain": [
              "True"
            ]
          },
          "metadata": {},
          "execution_count": 21
        }
      ]
    },
    {
      "cell_type": "markdown",
      "source": [
        "Além dos operadores lógicos de comparação que vimos, também temos os operadores lógicos de conjunção, que são utilizados para fazer uma combinação entre comparações\n",
        "\n",
        "Os operadores de conjunção são: and e or, e eles seguem a seguinte regra:\n",
        "**Operadores lógicos**\n",
        "\n",
        "|     Operador    |                            Definição                           |     Operação    |\n",
        "|:---------------:|:--------------------------------------------------------------:|:---------------:|\n",
        "|        and      |     Retorna   True se ambas as afirmações forem verdadeiras    |         e       |\n",
        "|        or       |       Retorna   True se uma das afirmações for verdadeira      |        ou       |\n",
        "|        not      |          retorna   Falso se o resultado for verdadeiro         |        não      |\n",
        "\n",
        "\n",
        "**AND** é uma conjunção lógica e o **OR** é uma disjunção lógica. O **not** é a negação lógica.\n",
        "\n",
        "| *A*   | *B*   | *A and B* | *A or B* | *not A* |\n",
        "|-------|-------|-----------|----------|---------|\n",
        "| False | False | False     | False    | True    |\n",
        "| False | True  | False     | True     | True    |\n",
        "| True  | False | False     | True     | False   |\n",
        "| True  | True  | True      | True     | False   |\n",
        "\n",
        "\n",
        "Obs.: Python é uma linguagem indentada\n",
        "Os operadores de conjunção são destacados em azul no Colab"
      ],
      "metadata": {
        "id": "XRrkeAMIY9ON"
      }
    },
    {
      "cell_type": "code",
      "source": [
        "1>2 or 3==3"
      ],
      "metadata": {
        "colab": {
          "base_uri": "https://localhost:8080/"
        },
        "id": "CECcSJgZhe8C",
        "outputId": "9adb9894-ba23-4bf4-eab1-8f4f2f43ee18"
      },
      "execution_count": null,
      "outputs": [
        {
          "output_type": "execute_result",
          "data": {
            "text/plain": [
              "True"
            ]
          },
          "metadata": {},
          "execution_count": 26
        }
      ]
    },
    {
      "cell_type": "code",
      "source": [
        "1>2 or 3>5"
      ],
      "metadata": {
        "colab": {
          "base_uri": "https://localhost:8080/"
        },
        "id": "X-CKXNH1hXL2",
        "outputId": "e51589c7-9d66-4f89-b18b-c90edd46f36f"
      },
      "execution_count": null,
      "outputs": [
        {
          "output_type": "execute_result",
          "data": {
            "text/plain": [
              "False"
            ]
          },
          "metadata": {},
          "execution_count": 25
        }
      ]
    },
    {
      "cell_type": "code",
      "source": [
        "1==1 and 3==3"
      ],
      "metadata": {
        "colab": {
          "base_uri": "https://localhost:8080/"
        },
        "id": "sYepce7_hQID",
        "outputId": "2437dfc3-4b8a-4deb-d28f-27f7742886e4"
      },
      "execution_count": null,
      "outputs": [
        {
          "output_type": "execute_result",
          "data": {
            "text/plain": [
              "True"
            ]
          },
          "metadata": {},
          "execution_count": 24
        }
      ]
    },
    {
      "cell_type": "code",
      "source": [
        "1>2 and 3==3"
      ],
      "metadata": {
        "colab": {
          "base_uri": "https://localhost:8080/"
        },
        "id": "x-tpkL2yhFfe",
        "outputId": "9dac79a3-3e55-4914-a5c9-90e5e7cdd0ac"
      },
      "execution_count": null,
      "outputs": [
        {
          "output_type": "execute_result",
          "data": {
            "text/plain": [
              "False"
            ]
          },
          "metadata": {},
          "execution_count": 23
        }
      ]
    },
    {
      "cell_type": "code",
      "source": [
        "1>2 and 3>5"
      ],
      "metadata": {
        "colab": {
          "base_uri": "https://localhost:8080/"
        },
        "id": "7N5yQQHEY9po",
        "outputId": "44eb97f3-c946-4fa4-dd12-ece9bf6f66f0"
      },
      "execution_count": null,
      "outputs": [
        {
          "output_type": "execute_result",
          "data": {
            "text/plain": [
              "False"
            ]
          },
          "metadata": {},
          "execution_count": 22
        }
      ]
    },
    {
      "cell_type": "markdown",
      "source": [
        "Se tivermos mais de duas comparacões para fazer conjunção, é melhor usarmos parênteses. Parênteses mesmo as vezes não sendo necessário para funcionar corretamente ajuda a facilitar a leitura\n",
        "\n",
        "Primeiro a conjunção entre parênteses é feita, e depois o resultado é usado para avaliar a conjunção total"
      ],
      "metadata": {
        "id": "2gUcu5GuZxk4"
      }
    },
    {
      "cell_type": "code",
      "source": [
        "3 < 10 and ('diego'=='diego' or 50>=50)\n",
        "#3 < 10 and (True)\n",
        "#True and True\n",
        "#True"
      ],
      "metadata": {
        "colab": {
          "base_uri": "https://localhost:8080/"
        },
        "id": "1INPgylDZyE-",
        "outputId": "85d2fae2-10f1-4fef-b11d-81470035f922"
      },
      "execution_count": null,
      "outputs": [
        {
          "output_type": "execute_result",
          "data": {
            "text/plain": [
              "True"
            ]
          },
          "metadata": {},
          "execution_count": 28
        }
      ]
    },
    {
      "cell_type": "code",
      "source": [
        "3 < 10 and ('diego'!='diego' or 50>50)\n",
        "#3 < 10 and (False)\n",
        "#True and False\n",
        "#False"
      ],
      "metadata": {
        "colab": {
          "base_uri": "https://localhost:8080/"
        },
        "id": "d-ACvlPaia9J",
        "outputId": "202dc1ec-68d1-4bdf-8b65-28856572f2ed"
      },
      "execution_count": null,
      "outputs": [
        {
          "output_type": "execute_result",
          "data": {
            "text/plain": [
              "False"
            ]
          },
          "metadata": {},
          "execution_count": 31
        }
      ]
    },
    {
      "cell_type": "code",
      "source": [
        "3 < 10 or ('diego'!='diego' or 50>50)\n",
        "#3 < 10 and (False)\n",
        "#True or False\n",
        "#True"
      ],
      "metadata": {
        "colab": {
          "base_uri": "https://localhost:8080/"
        },
        "id": "gcGmJC_7ijzB",
        "outputId": "5b675271-9647-4ec6-ee54-617561a4dc89"
      },
      "execution_count": null,
      "outputs": [
        {
          "output_type": "execute_result",
          "data": {
            "text/plain": [
              "True"
            ]
          },
          "metadata": {},
          "execution_count": 30
        }
      ]
    },
    {
      "cell_type": "code",
      "source": [
        "not(3 < 10 or ('diego'!='diego' or 50>50))\n",
        "#3 < 10 and (False)\n",
        "#True or False\n",
        "#True"
      ],
      "metadata": {
        "colab": {
          "base_uri": "https://localhost:8080/"
        },
        "id": "0cL76gZUi2VO",
        "outputId": "81d2a573-8ccc-461b-9937-1f656e36f45d"
      },
      "execution_count": null,
      "outputs": [
        {
          "output_type": "execute_result",
          "data": {
            "text/plain": [
              "False"
            ]
          },
          "metadata": {},
          "execution_count": 34
        }
      ]
    },
    {
      "cell_type": "markdown",
      "source": [
        "## Condicionais"
      ],
      "metadata": {
        "id": "mwEXuX58Z5PN"
      }
    },
    {
      "cell_type": "markdown",
      "source": [
        "### if\n",
        "\n",
        "O condicional if tem a seguinte estrutura:\n",
        "\n",
        "```python\n",
        "# if é igual a \"se\" no português\n",
        "if condicao:\n",
        "  \"código a ser executado se a condição for satisfeita\"\n",
        "```\n",
        "\n",
        "Se a condição for satisfeita será executado linha a linha o que estiver dentro do if. Note que seu programa vai seguir um fluxo linha a linha e, na condicional, haverá um possível desvio de fluxo, isto é, caso a condição não seja satisfeita o compilador pula todo código que está dentro do if.  \n",
        "\n",
        "Obs.: Python é uma linguagem indentada"
      ],
      "metadata": {
        "id": "ueTbInkWZ8jE"
      }
    },
    {
      "cell_type": "code",
      "source": [
        "a = int(input(\"digite o valor de a: \"))\n",
        "b = int(input(\"digite o valor de b: \"))\n",
        "\n",
        "if a > b:\n",
        "  print(\"a é maior que b\")"
      ],
      "metadata": {
        "colab": {
          "base_uri": "https://localhost:8080/"
        },
        "id": "2E4mKtH-kVkQ",
        "outputId": "e86f1c5f-5fbb-4e1e-c8ea-5ef2db422994"
      },
      "execution_count": null,
      "outputs": [
        {
          "name": "stdout",
          "output_type": "stream",
          "text": [
            "digite o valor de a: 5\n",
            "digite o valor de b: 10\n"
          ]
        }
      ]
    },
    {
      "cell_type": "markdown",
      "source": [
        "### elif\n",
        "\n",
        "O elif deve ser lido como \"se não se\", portanto, ele será uma nova condição que será testada caso a condição do if (ou outros elif acima) NÃO seja satisfeita. A sua estrutura é a seguinte:\n",
        "\n",
        "```python\n",
        "#elif é igual \"se não se\" em português\n",
        "if condição1:\n",
        "  \"código a ser executado quando atender a condição1\"\n",
        "elif condição2:\n",
        "  \"código a ser executado quando atender a condição2\"\n",
        "```"
      ],
      "metadata": {
        "id": "iElkKHamb_O0"
      }
    },
    {
      "cell_type": "code",
      "source": [
        "idade = 37\n",
        "if idade >= 60:\n",
        "  print('idade maior que 60')\n",
        "elif idade >= 18:\n",
        "  print('idade maior que 18 e menor que 60')"
      ],
      "metadata": {
        "colab": {
          "base_uri": "https://localhost:8080/"
        },
        "id": "L7sb0QaImHqn",
        "outputId": "674f8767-815c-494f-bf19-12bf30d560a1"
      },
      "execution_count": null,
      "outputs": [
        {
          "output_type": "stream",
          "name": "stdout",
          "text": [
            "idade maior que 18 e menor que 60\n"
          ]
        }
      ]
    },
    {
      "cell_type": "markdown",
      "source": [
        "Note que podemos ter de 0 a n elifs, e seu código seguirá uma ordem de conferir as condições uma a uma até que a primeira condição seja satisfeita. Se o código executar, todo o resto do bloco de if e elif será ignorado.\n",
        "\n"
      ],
      "metadata": {
        "id": "FxFr4n49c5Sb"
      }
    },
    {
      "cell_type": "code",
      "source": [
        "idade = int(input(\"Digite a idade:\"))\n",
        "if idade >= 60:\n",
        "  print('pessoa idosa')\n",
        "elif idade >= 18:\n",
        "  print('pessoa adulta')\n",
        "elif idade >= 14:\n",
        "  print('pessoa adolescente')\n",
        "elif idade >= 3:\n",
        "  print('pessoa criança')\n"
      ],
      "metadata": {
        "colab": {
          "base_uri": "https://localhost:8080/"
        },
        "id": "Evj3I9traIrf",
        "outputId": "1aa0dc8b-c749-4584-d2b3-912fb185f12d"
      },
      "execution_count": null,
      "outputs": [
        {
          "output_type": "stream",
          "name": "stdout",
          "text": [
            "Digite a idade:15\n",
            "pessoa adolescente\n"
          ]
        }
      ]
    },
    {
      "cell_type": "markdown",
      "source": [
        "Note também que caso nenhuma condição seja satisfeita, nada dentro (identado) do if e elifs é executado e o código \"passa direto\" (pula)"
      ],
      "metadata": {
        "id": "tp_TnxPBdTbj"
      }
    },
    {
      "cell_type": "code",
      "source": [
        "idade = int(input(\"Digite a idade:\"))\n",
        "if idade >= 60:\n",
        "  print('pessoa idosa')\n",
        "elif idade >= 18:\n",
        "  print('pessoa adulta')\n",
        "elif idade >= 14:\n",
        "  print('pessoa adolescente')\n",
        "elif idade >= 3:\n",
        "  print('pessoa criança')"
      ],
      "metadata": {
        "colab": {
          "base_uri": "https://localhost:8080/"
        },
        "id": "QSPJWBRxdTxZ",
        "outputId": "c68f2f73-c1c9-4110-eac9-9872ea3e747d"
      },
      "execution_count": null,
      "outputs": [
        {
          "name": "stdout",
          "output_type": "stream",
          "text": [
            "Digite a idade:2\n"
          ]
        }
      ]
    },
    {
      "cell_type": "markdown",
      "source": [
        "### else\n",
        "\n",
        "Mas e se, por exemplo, eu puder receber notas negativas, posso continuar colocando múltiplos elifs.\n",
        "\n",
        "Mas e se eu quiser uma condição para cair todos os outros casos? Uma espécia de \"caso contrário\" depois dos meus \"se\" e \"se não se\" ?\n",
        "\n",
        "O else deve ser lido como um \"se não\" ou caso contrário, ele diferente dos exemplos acima, não tem uma condição, ele será colocado ao fim do bloco if e será executado quando todas as condições anteriores forem insatisfeitas, a estrutura como else fica da seguinte maneira:\n",
        "\n",
        "```python\n",
        "#elif é igual \"se não se\" em português\n",
        "if condição1:\n",
        "  \"código a ser executado quando atender a condição1\"\n",
        "elif condição2:\n",
        "  \"código a ser executado quando atender a condição2\"\n",
        "else:\n",
        "  \"código a ser executado se nenhuma condição anterior (if, elif) for satisfatória\"\n",
        "```"
      ],
      "metadata": {
        "id": "5uHn-CVRdaah"
      }
    },
    {
      "cell_type": "markdown",
      "source": [
        "Vamos pegar o exemplo da nota e adicionar o else:"
      ],
      "metadata": {
        "id": "qmARhLO6ft-e"
      }
    },
    {
      "cell_type": "code",
      "source": [
        "idade = int(input(\"Digite a idade:\"))\n",
        "if idade >= 60:\n",
        "  print('pessoa idosa')\n",
        "elif idade >= 18:\n",
        "  print('pessoa adulta')\n",
        "elif idade >= 14:\n",
        "  print('pessoa adolescente')\n",
        "elif idade >= 3:\n",
        "  print('pessoa criança')\n",
        "else:\n",
        "  print('idade não tratada')"
      ],
      "metadata": {
        "id": "MCk6vb2zda1C"
      },
      "execution_count": null,
      "outputs": []
    },
    {
      "cell_type": "markdown",
      "source": [
        "DESAFIO\n",
        "\n",
        "Faça um programa que pede para o usuário digitar um número e responde se o número é positivo ou negativo."
      ],
      "metadata": {
        "id": "cr7u7LOXlrps"
      }
    },
    {
      "cell_type": "code",
      "source": [
        "num = float(input('Digite um número: '))\n",
        "if num > 0:\n",
        "    print('numero positivo')\n",
        "elif num < 0:\n",
        "    print('numero negativo')\n",
        "else:\n",
        "    print('O numero é zero!')"
      ],
      "metadata": {
        "colab": {
          "base_uri": "https://localhost:8080/"
        },
        "id": "3IJS6BiRlrPP",
        "outputId": "aafe3085-3f91-4356-bb7a-5e64b6e7b6dc"
      },
      "execution_count": null,
      "outputs": [
        {
          "output_type": "stream",
          "name": "stdout",
          "text": [
            "Digite um número: 0\n",
            "O numero é zero!\n"
          ]
        }
      ]
    },
    {
      "cell_type": "markdown",
      "source": [
        "Faça um programa que pede para a usuária digitar um número e responde se o número é par ou ímpar."
      ],
      "metadata": {
        "id": "2BiTPwmKlyYX"
      }
    },
    {
      "cell_type": "code",
      "source": [
        "num = float(input('Informe um número qualquer: '))\n",
        "\n",
        "if (num % 2):\n",
        "  print(f'{num} é impar.')\n",
        "else:\n",
        "  print(f'{num} é par.')"
      ],
      "metadata": {
        "colab": {
          "base_uri": "https://localhost:8080/"
        },
        "id": "lCNg0sT_l0Cq",
        "outputId": "3aa4bea7-3497-4b90-9b34-e486ec5978c3"
      },
      "execution_count": null,
      "outputs": [
        {
          "output_type": "stream",
          "name": "stdout",
          "text": [
            "Informe um número qualquer: 4\n",
            "4.0 é par.\n"
          ]
        }
      ]
    },
    {
      "cell_type": "code",
      "source": [
        "num_01 = int(input('Digite um número: '))\n",
        "teste = num_01 % 2\n",
        "if teste == 0:\n",
        "  print(f'O {num_01} é um número par')\n",
        "else:\n",
        "  print(f'O {num_01} é um número impar')"
      ],
      "metadata": {
        "colab": {
          "base_uri": "https://localhost:8080/"
        },
        "id": "2o10hQm7u4rS",
        "outputId": "d18348e6-6a55-4a1a-e07d-fed675393a3a"
      },
      "execution_count": null,
      "outputs": [
        {
          "output_type": "stream",
          "name": "stdout",
          "text": [
            "Digite um número: 15\n",
            "O 15 é um número impar\n"
          ]
        }
      ]
    },
    {
      "cell_type": "markdown",
      "source": [
        "### Condicional Aninhada\n",
        "\n",
        "Aninhar condicionais significa colocar uma estrutura condicional dentro de outra. Isso é útil quando você precisa verificar múltiplas condições em diferentes níveis de profundidade.\n",
        "\n",
        "A estrutura de uma condicional aninhado é a seguinte:\n",
        "\n",
        "```python\n",
        "if condição1:\n",
        "  \"código a ser executado quando atender a condição1\"\n",
        "  if condição2:\n",
        "    \"código a ser executado quando atender a condição1\"\n",
        "  else:\n",
        "    \"código a ser executado quando atender a condição2\"\n",
        "else:\n",
        "  \"código a ser executado se nenhuma condição anterior (if, elif) for satisfatória\"\n",
        "  ```"
      ],
      "metadata": {
        "id": "O_mfO51nf0vK"
      }
    },
    {
      "cell_type": "code",
      "source": [
        "idade = int(input('Informe a idade: '))\n",
        "nacionalidade = input('Informe a nacionalidade: ')\n",
        "\n",
        "if idade >=18:\n",
        "  print(\"Vc é adulto\")\n",
        "  if nacionalidade == 'brasileiro':\n",
        "    print('vc é adulto brasilero')"
      ],
      "metadata": {
        "colab": {
          "base_uri": "https://localhost:8080/"
        },
        "id": "z-9bB2T0vQJ-",
        "outputId": "2e53fb96-7869-4823-caff-49becc8d8e67"
      },
      "execution_count": null,
      "outputs": [
        {
          "output_type": "stream",
          "name": "stdout",
          "text": [
            "Informe a idade: 37\n",
            "Informe a nacionalidade: chileno\n",
            "Vc é adulto\n"
          ]
        }
      ]
    },
    {
      "cell_type": "code",
      "source": [
        "nome = input('Informe seu nome: ')\n",
        "idade = int(input('Informe sua idade: '))\n",
        "\n",
        "if idade >= 18:\n",
        "  habilitado = input('Você tem habilitação? (S/N)')\n",
        "  if habilitado == 'S':\n",
        "    print(f'Olá {nome}, você tem {idade} anos e é habilitado. Parabéns!')\n",
        "  else:\n",
        "    print(f'Olá {nome}, você tem {idade} anos e não é habilitado. Vai ter que pegar uma carona!')\n",
        "else:\n",
        "  print(f'Olá {nome}, você tem {idade} anos, é muito jovem para dirigir.')"
      ],
      "metadata": {
        "colab": {
          "base_uri": "https://localhost:8080/"
        },
        "id": "yCI6d9wuwWKq",
        "outputId": "a51071e2-6e30-498c-c85f-4e077dab6e6d"
      },
      "execution_count": null,
      "outputs": [
        {
          "output_type": "stream",
          "name": "stdout",
          "text": [
            "Informe seu nome: Diego\n",
            "Informe sua idade: 10\n",
            "Olá Diego, você tem 10 anos, é muito jovem para dirigir.\n"
          ]
        }
      ]
    },
    {
      "cell_type": "markdown",
      "source": [
        "Curiosidadade de outras formas de estrutura de criar condicionais em python\n",
        "\n",
        "Surgiu a partir da versão 10"
      ],
      "metadata": {
        "id": "Ccw2wb32hBiS"
      }
    },
    {
      "cell_type": "code",
      "source": [
        "linguagem = input('qual linguagem você quer aprender?')\n",
        "\n",
        "match linguagem:\n",
        "  case 'JavaScript':\n",
        "    print('você é desenvolvedor web')\n",
        "  case 'Python':\n",
        "    print('Você pode ser cientista de dados')"
      ],
      "metadata": {
        "colab": {
          "base_uri": "https://localhost:8080/"
        },
        "id": "jzPWCskAf1Mw",
        "outputId": "2ccf1116-b669-4d94-d00b-eadd1b6c24c0"
      },
      "execution_count": null,
      "outputs": [
        {
          "name": "stdout",
          "output_type": "stream",
          "text": [
            "qual linguagem você quer aprender?C\n"
          ]
        }
      ]
    },
    {
      "cell_type": "code",
      "source": [
        "f'Você pode ser cientista de dados {nome}'"
      ],
      "metadata": {
        "colab": {
          "base_uri": "https://localhost:8080/",
          "height": 35
        },
        "id": "OLhADN1Azbla",
        "outputId": "222443ac-4a53-49f3-b3cc-dfac07465a93"
      },
      "execution_count": null,
      "outputs": [
        {
          "output_type": "execute_result",
          "data": {
            "text/plain": [
              "'Você pode ser cientista de dados Diego'"
            ],
            "application/vnd.google.colaboratory.intrinsic+json": {
              "type": "string"
            }
          },
          "metadata": {},
          "execution_count": 78
        }
      ]
    },
    {
      "cell_type": "markdown",
      "source": [
        "O *case _:* é um caso especial utilizado em estruturas match no Python. Essa instrução é chamada de \"coringa\" ou \"default case\" e é acionado quando nenhuma das condições anteriores em match for atendida, ou seja, é ela se assemelha ao else visto no *if*"
      ],
      "metadata": {
        "id": "DD0Lf_yXhgZU"
      }
    },
    {
      "cell_type": "code",
      "source": [
        "linguagem = input('qual linguagem você quer aprender?')\n",
        "\n",
        "match linguagem:\n",
        "  case 'JavaScript':\n",
        "    print('você é desenvolvedor web')\n",
        "  case 'Python':\n",
        "    print('Você pode ser cientista de dados')\n",
        "  case _:\n",
        "    print('Sem problema, o que vale é aprender')"
      ],
      "metadata": {
        "colab": {
          "base_uri": "https://localhost:8080/"
        },
        "id": "MaS0w3-qh5k4",
        "outputId": "29f8681d-0de6-417b-d7fa-051620052ebd"
      },
      "execution_count": null,
      "outputs": [
        {
          "output_type": "stream",
          "name": "stdout",
          "text": [
            "qual linguagem você quer aprender?C\n",
            "Sem problema, o que vale é aprender\n"
          ]
        }
      ]
    },
    {
      "cell_type": "markdown",
      "source": [
        "DESAFIO\n",
        "\n",
        "Um posto está vendendo combustíveis com a seguinte tabela de descontos:\n",
        "\n",
        "**Álcool**\n",
        "\n",
        "Menos que 20 litros, desconto de 3% por litro\n",
        "a partir de 20 litros, desconto de 5% por litro *texto em itálico*\n",
        "\n",
        "Gasolina\n",
        "\n",
        "Menos que 20 litros, desconto de 4% por litro\n",
        "a partir de 20 litros, desconto de 6% por litro\n",
        "*texto em itálico*\n",
        "\n",
        "Escreva um algoritmo que leia o número de litros vendidos, o tipo de combustível (codificado da seguinte forma: A-álcool, G-gasolina), calcule e imprima o valor a ser pago pelo cliente sabendo-se que:\n",
        "\n",
        "1. Preço do litro da gasolina é R$5,39\n",
        "\n",
        "2. Preço do litro do álcool é R$4,89"
      ],
      "metadata": {
        "id": "tlUYyXNkl4h1"
      }
    },
    {
      "cell_type": "code",
      "source": [
        "litros = float(input(\"Informe a quantidade de litros: \"))\n",
        "combustivel = input(\"Informe o tipo de combustível (A-álcool, G-gasolina): \")\n",
        "\n",
        "preco_gasolina = 5.39\n",
        "preco_alcool = 4.89\n",
        "\n",
        "if combustivel == 'A':\n",
        "  if litros < 20:\n",
        "    preco_final = preco_alcool * litros * (1-0.03)\n",
        "  else:\n",
        "    preco_final = preco_alcool * litros * (1-0.05)\n",
        "  print(f\"Você comprou {litros} litros e o preço final é {preco_final} \")\n",
        "\n",
        "elif combustivel == 'G':\n",
        "  if litros < 20:\n",
        "    preco_final = preco_gasolina * litros * (1-0.04)\n",
        "  else:\n",
        "    preco_final = preco_gasolina * litros * (1-0.06)\n",
        "  print(f\"Você comprou {litros} litros e o preço final é {preco_final} \")\n",
        "else:\n",
        "  print('Combustível inválido')\n",
        "\n",
        "\n"
      ],
      "metadata": {
        "colab": {
          "base_uri": "https://localhost:8080/"
        },
        "id": "xHwGT9CjmjdP",
        "outputId": "b2717be4-3a55-4ce3-be29-fc0b9d650cc7"
      },
      "execution_count": null,
      "outputs": [
        {
          "output_type": "stream",
          "name": "stdout",
          "text": [
            "Informe a quantidade de litros: 65\n",
            "Informe o tipo de combustível (A-álcool, G-gasolina): D\n",
            "Combustível inválido\n"
          ]
        }
      ]
    },
    {
      "cell_type": "code",
      "source": [
        "litros = float(input('Quantos litros deseja abastecer?: '))\n",
        "combustivel = input('Qual combustível deseja abastecer? [A] para álcool [G] gasolina: ').upper()\n",
        "\n",
        "\n",
        "valor_gasolina = 5.39\n",
        "valor_alcool = 4.89\n",
        "\n",
        "if combustivel == 'A':\n",
        "    if litros < 20:\n",
        "        desconto = 0.03\n",
        "        valor_total = litros * (valor_alcool - (valor_alcool * desconto))\n",
        "        #print(f'O valor a ser pago é {valor_total}')\n",
        "    else:\n",
        "        desconto = 0.05\n",
        "        valor_total = litros * (valor_alcool - (valor_alcool * desconto))\n",
        "    print(f'O valor a ser pago é {valor_total}')\n",
        "elif combustivel == 'G':\n",
        "    if litros < 20:\n",
        "        desconto = 0.03\n",
        "        valor_total = litros * (valor_gasolina - (valor_gasolina * desconto))\n",
        "        print(f'O valor a ser pago é {valor_total}')\n",
        "    else:\n",
        "        desconto = 0.05\n",
        "        valor_total = litros * (valor_gasolina - (valor_gasolina * desconto))\n",
        "        print(f'O valor a ser pago é {valor_total}')\n",
        "else:\n",
        "    print('O combustível selecionado é inválido')"
      ],
      "metadata": {
        "id": "FQbF8j01A8RG"
      },
      "execution_count": null,
      "outputs": []
    },
    {
      "cell_type": "code",
      "source": [
        "ltr = float(input(\"Total de litros abastecidos: \"))\n",
        "cmb = input(\"Tipo de combustível, (A-lcool , G-asolina): \").upper()\n",
        "desc = 0\n",
        "\n",
        "match cmb:\n",
        "  case \"A\":\n",
        "    if ltr >= 20:\n",
        "      desc = 0.04\n",
        "    else:\n",
        "      desc = 0.03\n",
        "    total = ltr*4.89\n",
        "    total -= total*desc\n",
        "    print(f\"Valor a ser pago: R$ {total} por {ltr} litros de álcool.\")\n",
        "  case \"G\":\n",
        "    if ltr >= 20:\n",
        "      desc = 0.06\n",
        "    else:\n",
        "      desc = 0.04\n",
        "    total = ltr*5.39\n",
        "    total -= total*desc\n",
        "    print(f\"Valor a ser pago: R$ {total} por {ltr} litros de álcool.\")\n",
        "  case _:\n",
        "    print('Combustível inválido')"
      ],
      "metadata": {
        "colab": {
          "base_uri": "https://localhost:8080/"
        },
        "id": "D8gREZ3MBgYN",
        "outputId": "5c7a5e86-0d32-4e37-f6fa-75995d278671"
      },
      "execution_count": null,
      "outputs": [
        {
          "output_type": "stream",
          "name": "stdout",
          "text": [
            "Total de litros abastecidos: 33\n",
            "Tipo de combustível, (A-lcool , G-asolina): D\n",
            "Combustível inválido\n"
          ]
        }
      ]
    },
    {
      "cell_type": "code",
      "source": [
        "litros = float(input('Digite a quantidade desejada: '))\n",
        "combustivel = input('Digite o combustível desejado (A - Álcool, G - Gasolina):').lower()\n",
        "gasolina = 5.39\n",
        "alcool = 4.89\n",
        "\n",
        "if combustivel == 'a' and litros > 0:\n",
        "    if litros >= 20:\n",
        "        preco = (litros * alcool) * 0.95\n",
        "        print(f'Valor a ser pago (5% de desconto) R$: {preco:.2f}')\n",
        "    else:\n",
        "        preco = (litros * alcool) * 0.97\n",
        "        print(f'Valor a ser pago (3% de desconto) R$: {preco:.2f}')\n",
        "\n",
        "elif combustivel == 'g' and litros > 0:\n",
        "    if litros >= 20:\n",
        "        preco = (litros * gasolina) * 0.94\n",
        "        print(f'Valor a ser pago (6% de desconto) R$: {preco:.2f}')\n",
        "    else:\n",
        "        preco = (litros * gasolina) * 0.96\n",
        "        print(f'Valor a ser pago (4% de desconto) R$: {preco:.2f}')\n",
        "else:\n",
        "    print('Reinicie o programa e digite uj combustível e litragem validos.')"
      ],
      "metadata": {
        "id": "U-bW85k0CJpY"
      },
      "execution_count": null,
      "outputs": []
    },
    {
      "cell_type": "markdown",
      "source": [
        "### Condicional Curta (operador ternário)\n",
        "\n",
        "Operadores ternários são maneiras mais \"enxutas\" de escrever condicionais simples em apenas uma linha\n",
        "\n",
        "if curto"
      ],
      "metadata": {
        "id": "sQaM6BfniQxY"
      }
    },
    {
      "cell_type": "code",
      "source": [
        "a = 15\n",
        "\n",
        "if a >10:\n",
        "  print(\"a maior que 10\")"
      ],
      "metadata": {
        "colab": {
          "base_uri": "https://localhost:8080/"
        },
        "id": "XihZOd8FiUcn",
        "outputId": "420e81b7-82ca-4f06-e5b5-75a47810130b"
      },
      "execution_count": null,
      "outputs": [
        {
          "output_type": "stream",
          "name": "stdout",
          "text": [
            "a maior que 10\n"
          ]
        }
      ]
    },
    {
      "cell_type": "code",
      "source": [
        "#neste caso o if pode ocorrer numa única linha, note o uso da vírgula\n",
        "\n",
        "if a > 10: print(\"a maior que 10\"), print(100==100)"
      ],
      "metadata": {
        "colab": {
          "base_uri": "https://localhost:8080/"
        },
        "id": "HqqXkbUbiyd1",
        "outputId": "e0824c0b-23a3-45d7-a233-f0077d072091"
      },
      "execution_count": null,
      "outputs": [
        {
          "output_type": "stream",
          "name": "stdout",
          "text": [
            "a maior que 10\n",
            "True\n"
          ]
        }
      ]
    },
    {
      "cell_type": "markdown",
      "source": [
        "E se tiver um if e um else?"
      ],
      "metadata": {
        "id": "IOJGVtgwixO3"
      }
    },
    {
      "cell_type": "code",
      "source": [
        "a = 15\n",
        "\n",
        "if a >10:\n",
        "  print(\"a maior que 10\")\n",
        "else:\n",
        "  print(\"a menor ou igual a 10\")\n"
      ],
      "metadata": {
        "colab": {
          "base_uri": "https://localhost:8080/"
        },
        "id": "_aIKAwAZix0C",
        "outputId": "394d48a3-f10f-493b-d045-c35d9aeb7c3e"
      },
      "execution_count": null,
      "outputs": [
        {
          "output_type": "stream",
          "name": "stdout",
          "text": [
            "a maior que 10\n"
          ]
        }
      ]
    },
    {
      "cell_type": "code",
      "source": [
        "print(\"a maior que 10\") if a >10 else print(\"a menor ou igual a 10\")"
      ],
      "metadata": {
        "colab": {
          "base_uri": "https://localhost:8080/"
        },
        "id": "ASJgdh8cDU4w",
        "outputId": "43af3fbd-1767-4886-ea8c-42330ff8a378"
      },
      "execution_count": null,
      "outputs": [
        {
          "output_type": "stream",
          "name": "stdout",
          "text": [
            "a maior que 10\n"
          ]
        }
      ]
    },
    {
      "cell_type": "markdown",
      "source": [
        "Operador Ternário\n",
        "O operador ternário é uma construção sintática que permite avaliar uma expressão booleana e retornar um valor com base em sua condição. É uma forma mais compacta de escrever uma estrutura de controle if em Python.\n",
        "[Referência](https://alonza.com.br/operador-ternario-no-python-if-ternario/#:~:text=O%20operaador%20tern%C3%A1rio%20%C3%A9%20uma,de%20forma%20concisa%20e%20elegante.)\n",
        "\n",
        "```python\n",
        "valor_se_verdadeiro if condicao else valor_se_falso\n",
        "#valor_se_verdadeiro: é o valor retornado se a condição for verdadeira.\n",
        "#condicao: é a expressão booleana que será avaliada.\n",
        "#valor_se_falso: é o valor retornado se a condição for falsa.\n",
        "```"
      ],
      "metadata": {
        "id": "kQ5PEoyUjCL8"
      }
    },
    {
      "cell_type": "code",
      "source": [
        "a = -10\n",
        "\n",
        "is_a_positivo = \"número posito\" if a > 0 else \"numero negativo\"\n",
        "print(is_a_positivo)"
      ],
      "metadata": {
        "colab": {
          "base_uri": "https://localhost:8080/"
        },
        "id": "nlOO8sj6jGkS",
        "outputId": "83bb781d-60ea-4662-8216-c364a7db5094"
      },
      "execution_count": null,
      "outputs": [
        {
          "output_type": "stream",
          "name": "stdout",
          "text": [
            "numero negativo\n"
          ]
        }
      ]
    },
    {
      "cell_type": "markdown",
      "source": [
        "### Inversão lógica\n",
        "A inversão lógica consiste em inverter o valor verdade (verdadeiro/falso) de uma expressão. Neste caso, aplica-se o operador *not*\n",
        "\n",
        "**AND** é uma conjunção lógica e o **OR** é uma disjunção lógica. O **not** é a negação lógica.\n",
        "\n",
        "| *A*   | *B*   | *A and B* | *not A and B* |\n",
        "|-------|-------|-----------|---------|\n",
        "| False | False | False     | True    |\n",
        "| False | True  | False     | True    |\n",
        "| True  | False | False     | True   |\n",
        "| True  | True  | True      | False   |\n",
        "\n",
        "\n",
        "not"
      ],
      "metadata": {
        "id": "oUl9KBsJjggd"
      }
    },
    {
      "cell_type": "code",
      "source": [
        " x = 7\n",
        " y = 7\n",
        "\n",
        "not x > y"
      ],
      "metadata": {
        "colab": {
          "base_uri": "https://localhost:8080/"
        },
        "id": "99to3LmLj-dS",
        "outputId": "fffddc3d-5c82-4da7-cbc7-3becfde68abd"
      },
      "execution_count": null,
      "outputs": [
        {
          "output_type": "execute_result",
          "data": {
            "text/plain": [
              "True"
            ]
          },
          "metadata": {},
          "execution_count": 99
        }
      ]
    },
    {
      "cell_type": "code",
      "source": [
        "not x == y or \"B\" != \"b\"\n",
        "#x == y True > False\n",
        "#\"B\" != \"b\"  = True\n"
      ],
      "metadata": {
        "colab": {
          "base_uri": "https://localhost:8080/"
        },
        "id": "JSNarOe-EgaP",
        "outputId": "748933d0-7250-41ab-a05d-398fc82d2c45"
      },
      "execution_count": null,
      "outputs": [
        {
          "output_type": "execute_result",
          "data": {
            "text/plain": [
              "False"
            ]
          },
          "metadata": {},
          "execution_count": 110
        }
      ]
    },
    {
      "cell_type": "markdown",
      "source": [
        "### Inverso com outros operadores\n",
        "\n",
        "| *Atual*   | *Inverso* |\n",
        "|-------|-------|\n",
        "| == | != |\n",
        "| < | >=  |\n",
        "| >  | <= |"
      ],
      "metadata": {
        "id": "Pll_VjrnkikX"
      }
    },
    {
      "cell_type": "markdown",
      "source": [
        "### DESAFIO"
      ],
      "metadata": {
        "id": "DEJQX8P9F25w"
      }
    },
    {
      "cell_type": "markdown",
      "source": [
        "Faça um programa que faça 5 perguntas para uma pessoa sobre um crime. As perguntas são:\n",
        "\n",
        "- telefonou para a vítima?\n",
        "- esteve no local do crime?\n",
        "- mora perto da vítima?\n",
        "- devia para a vítima?\n",
        "- já trabalhou com a vítima?\n",
        "\n",
        "o programa deve no final emitir uma classificação sobre a participação da pessoa no crime. Se a pessoa responder positivamente a 2 questões ela deve ser classificada como \"suspeita\", entre 3 e 4 como \"cúmplice\" e 5 como \"assassino\". Caso contrário, ele será classificado como \"inocente\""
      ],
      "metadata": {
        "id": "Nky9xSAZF-Zw"
      }
    },
    {
      "cell_type": "code",
      "source": [
        "contador = 0\n",
        "\n",
        "resp1 = input(\"Você telefonou para a vítima? S/N \").upper()\n",
        "resp2 = input(\"Você esteve no local do crime? S/N \").upper()\n",
        "resp3 = input(\"Você mora perto da vítima? S/N \").upper()\n",
        "resp4 = input(\"Você devia para a vítima? S/N \").upper()\n",
        "resp5 = input(\"Você já trabalhou com a vítima? S/N \").upper()\n",
        "\n",
        "#comparando o resultado entre if x match\n",
        "'''if resp1 == 'S':\n",
        "  contador = contador +1\n",
        "\n",
        "match resp1 :\n",
        "  case \"S\" :\n",
        "    contador = contador + 1'''\n",
        "\n",
        "match resp1 :\n",
        "  case \"S\" :\n",
        "    contador = contador + 1\n",
        "match resp2 :\n",
        "  case \"S\" :\n",
        "    contador = contador + 1\n",
        "match resp3 :\n",
        "  case \"S\" :\n",
        "    contador = contador + 1\n",
        "match resp4 :\n",
        "  case \"S\" :\n",
        "    contador = contador + 1\n",
        "match resp5 :\n",
        "  case \"S\" :\n",
        "    contador = contador + 1\n",
        "\n",
        "match contador :\n",
        "    case 2 :\n",
        "      print(\"Você é SUSPEITA!\")\n",
        "    case 3 :\n",
        "      print(\"Você é CÚMPLICE!\")\n",
        "    case 4 :\n",
        "      print(\"Você é CÚMPLICE!\")\n",
        "    case 5 :\n",
        "      print(\"Você é O ASSASSINO!\")\n",
        "    case _ :\n",
        "      print(\"Você é INOCENTE!\")"
      ],
      "metadata": {
        "colab": {
          "base_uri": "https://localhost:8080/"
        },
        "id": "nIL0uL3aF_BD",
        "outputId": "7360a129-004f-49fa-fff3-1212662325e0"
      },
      "execution_count": null,
      "outputs": [
        {
          "output_type": "stream",
          "name": "stdout",
          "text": [
            "Você telefonou para a vítima? S/N S\n",
            "Você esteve no local do crime? S/N S\n",
            "Você mora perto da vítima? S/N N\n",
            "Você devia para a vítima? S/N S\n",
            "Você já trabalhou com a vítima? S/N N\n",
            "Você é CÚMPLICE!\n"
          ]
        }
      ]
    },
    {
      "cell_type": "markdown",
      "source": [
        "Faça um programa que deverá pedir as 2 notas de uma aluna e calcular sua média. Considere que as notas serão de 0 a 100.\n",
        "\n",
        "O programa deverá informar a média da aluna e seu status, obedecendo as regrinhas abaixo:\n",
        "\n",
        "Aprovada, caso a média seja pelo menos 70.\n",
        "\n",
        "Exame, caso a média seja pelo menos 30 e menor do que 70.\n",
        "\n",
        "Reprovada caso a média seja inferior a 30."
      ],
      "metadata": {
        "id": "PjCzPNb7F56Q"
      }
    },
    {
      "cell_type": "code",
      "source": [
        "nota1 = int(input(\"Digite a primeira nota: \"))\n",
        "nota2 = int(input(\"Digite a segunda nota: \"))\n",
        "\n",
        "media = (nota1 + nota2)/2\n",
        "if media < 30:\n",
        "  status = 'Reprovada'\n",
        "elif media >= 30 and media < 70:\n",
        "  status = ' em Exame'\n",
        "else:\n",
        "  status = 'Aprovada'\n",
        "print(f\"Sua média foi {media}, vc está {status}\")\n"
      ],
      "metadata": {
        "colab": {
          "base_uri": "https://localhost:8080/"
        },
        "id": "a0hg8en1F41B",
        "outputId": "93b63f12-f8d5-4d80-df17-7ca817021964"
      },
      "execution_count": null,
      "outputs": [
        {
          "output_type": "stream",
          "name": "stdout",
          "text": [
            "Digite a primeira nota: 80\n",
            "Digite a segunda nota: 60\n",
            "Sua média foi 70.0, vc está Aprovada\n"
          ]
        }
      ]
    },
    {
      "cell_type": "code",
      "source": [
        "nota1 = int(input(\"Digite a primeira nota: \"))\n",
        "nota2 = int(input(\"Digite a segunda nota: \"))\n",
        "\n",
        "media = (nota1 + nota2)/2\n",
        "match media:\n",
        "  case media if media >= 70:\n",
        "    print(\"aprovada\")\n",
        "  case media if media >= 30:\n",
        "    print(\"exame\")\n",
        "  case _:\n",
        "    print(\"reprovada\")"
      ],
      "metadata": {
        "colab": {
          "base_uri": "https://localhost:8080/"
        },
        "id": "7ASqHRuY0BOk",
        "outputId": "c81bf40a-5e44-4c2a-b5c9-685442f53b9c"
      },
      "execution_count": null,
      "outputs": [
        {
          "output_type": "stream",
          "name": "stdout",
          "text": [
            "Digite a primeira nota: 50\n",
            "Digite a segunda nota: 60\n",
            "exame\n"
          ]
        }
      ]
    },
    {
      "cell_type": "markdown",
      "source": [
        "Modifique o programa das médias do exercício anterior da seguinte maneira:\n",
        "\n",
        "Caso a aluna tenha ficado de exame, pergunte a nota do exame.\n",
        "\n",
        "Uma nova média deve ser calculada entre a média original e a nota do exame:\n",
        "\n",
        "media_exame = (media + exame)/2\n",
        "\n",
        "O programa deve exibir essa nova média junto do novo status:\n",
        "\n",
        "* Aprovada por exame caso a media_exame seja pelo menos 50.\n",
        "* Reprovada caso a media_exame seja inferior a 50."
      ],
      "metadata": {
        "id": "ATlE-xIGkCg4"
      }
    },
    {
      "cell_type": "code",
      "source": [
        "n1 = float(input(\"Digite a nota da primeira prova: \"))\n",
        "n2 = float(input(\"Digite a nota da segunda prova: \"))\n",
        "\n",
        "media = (n1 + n2) / 2\n",
        "\n",
        "if media >= 70:\n",
        "  print(\"Aprovado\")\n",
        "elif media >= 30:\n",
        "  print(\"Exame\")\n",
        "  exame = float(input(\"Digite a nota do exame: \"))\n",
        "  media_exame = (media + exame)/2\n",
        "  if media_exame >= 50:\n",
        "    print(\"Aprovado pelo exame\")\n",
        "  else:\n",
        "    print(\"Reprovado\")\n",
        "else:\n",
        "  print(\"Reprovado\")\n"
      ],
      "metadata": {
        "colab": {
          "base_uri": "https://localhost:8080/"
        },
        "id": "537Wh6zMkDf0",
        "outputId": "1278088f-39e8-435e-a4b4-ab0b4e8c29df"
      },
      "execution_count": null,
      "outputs": [
        {
          "output_type": "stream",
          "name": "stdout",
          "text": [
            "Digite a nota da primeira prova: 60\n",
            "Digite a nota da segunda prova: 50\n",
            "Exame\n",
            "Digite a nota do exame: 80\n",
            "Aprovado pelo exame\n"
          ]
        }
      ]
    },
    {
      "cell_type": "code",
      "source": [
        "nota1 = int(input(\"Digite a primeira nota: \"))\n",
        "nota2 = int(input(\"Digite a segunda nota: \"))\n",
        "\n",
        "media = (nota1 + nota2)/2\n",
        "if media < 30:\n",
        "  status = 'Reprovada'\n",
        "elif media >= 30 and media < 70:\n",
        "  status = 'em Exame'\n",
        "else:\n",
        "  status = 'Aprovada'\n",
        "print(f\"Sua média foi {media}, vc está {status}\")\n",
        "\n",
        "if status == 'em Exame':\n",
        "    nota3 = int(input(\"Digite a nota do exame: \"))\n",
        "    media_exame = (media + nota3)/2\n",
        "    if media_exame >= 50:\n",
        "status = 'Aprovada em exame'\n",
        "        print(f\"Sua média final foi {media_exame}, vc está {status}\")\n",
        "    else:\n",
        "        status = 'Reprovada'\n",
        "        print(f\"Sua média final foi {media_exame}, vc está {status}\")"
      ],
      "metadata": {
        "id": "58c5MX-k66EC"
      },
      "execution_count": null,
      "outputs": []
    },
    {
      "cell_type": "markdown",
      "source": [
        "Faça um programa que recebe as coordenadas e encontra a distância entre dois pontos em um plano cartesiano (x e y)\n",
        "\n",
        "- Dica: O Teorema de pitágoras pode te ajudar"
      ],
      "metadata": {
        "id": "MqnBKpw2kUyb"
      }
    },
    {
      "cell_type": "code",
      "source": [
        "#hipotenusa = raiz_quadrada(cateto_a**2 + cateto_b**2)\n",
        "\n",
        "x1 = float(input(\"Digite a coordenada x do primeiro ponto\"))\n",
        "y1 = float(input(\"Digite a coordenada y do primeiro ponto\"))\n",
        "x2 = float(input(\"Digite a coordenada x do segundo ponto\"))\n",
        "y2 = float(input(\"Digite a coordenada y do segundo ponto\"))\n",
        "\n",
        "distancia_x = x2-x1\n",
        "distancia_y = y2-y1\n",
        "\n",
        "soma_quadrado_catetos = (distancia_x**2)+(distancia_y**2)\n",
        "distancia = soma_quadrado_catetos**(1/2)\n",
        "\n",
        "print(f'A distância equivalente entre os pontos é: {distancia:.2f}')\n"
      ],
      "metadata": {
        "colab": {
          "base_uri": "https://localhost:8080/"
        },
        "id": "mNsGyoZ_kVY1",
        "outputId": "0d0e4bf5-3681-4f5e-f3d2-7b76c88e45d5"
      },
      "execution_count": null,
      "outputs": [
        {
          "output_type": "stream",
          "name": "stdout",
          "text": [
            "Digite a coordenada x do primeiro ponto9\n",
            "Digite a coordenada y do primeiro ponto7\n",
            "Digite a coordenada x do segundo ponto32\n",
            "Digite a coordenada y do segundo ponto31\n",
            "A distância equivalente entre os pontos é: 33.24\n"
          ]
        }
      ]
    },
    {
      "cell_type": "markdown",
      "source": [
        "# Aula 3 - Estrutura de Repetição [While]\n",
        "\n",
        "Os laços de repetição, também conhecidos como loops, são estruturas fundamentais em programação que permitem executar um bloco de código várias vezes. Eles são usados quando você deseja realizar tarefas repetitivas ou iterar sobre uma coleção de elementos.\n",
        "\n",
        "*Quando usar laços de repetição:*\n",
        "\n",
        "- Quando você precisa executar um bloco de código várias vezes.\n",
        "- Para iterar sobre elementos em listas, strings, dicionários e outros tipos de dados.\n",
        "- Para automatizar tarefas que precisam ser repetidas, como validação de entrada do usuário ou processamento de dados."
      ],
      "metadata": {
        "id": "yP7IUOeOBvhE"
      }
    },
    {
      "cell_type": "markdown",
      "source": [
        "###WHILE (equanto)\n",
        "\n",
        "Uma das utilidades de linguagens de programação é a de automatizar tarefas que são repetitivas.\n",
        "\n",
        "Mas, pra isso ser viável, seria bom se tivéssemos uma estrutura para **repetir comandos**, não é mesmo?\n",
        "\n",
        "Imagine que eu queira exibir na tela \"Olá, mundo!\" 5 vezes. Podemos fazer:"
      ],
      "metadata": {
        "id": "Ktvst8AFooCY"
      }
    },
    {
      "cell_type": "code",
      "source": [
        "print(\"olá, mundo!\")\n",
        "print(\"olá, mundo!\")\n",
        "print(\"olá, mundo!\")\n",
        "print(\"olá, mundo!\")\n",
        "print(\"olá, mundo!\")"
      ],
      "metadata": {
        "id": "pr3FnOl6olmT"
      },
      "execution_count": null,
      "outputs": []
    },
    {
      "cell_type": "markdown",
      "source": [
        "Mas e se eu quisesse printar múltiplas vezes? por exemplo, 10 vezes?\n",
        "\n",
        "Ou então se eu quiser exibir essa mensagem 1000 vezes? Ou 1 milhão de vezes? Não é ideal escrevermos o mesmo pedaço de código tantas vezes, né?\n",
        "\n",
        "Para isso, existem os **laços de repetição**, que permitem repetir pedaços de código quantas vezes desejarmos!\n",
        "\n",
        "O primeiro laço que vamos ver é o **while**. Este laço tem a seguinte estrutura:\n",
        "\n",
        "```python\n",
        "while (condicao é True):\n",
        "    operacao_repetida\n",
        "```\n",
        "\n",
        "Ou seja, o que tá no bloco do while é repetido **enquanto a condição for verdadeira**"
      ],
      "metadata": {
        "id": "x3K4P3iypM25"
      }
    },
    {
      "cell_type": "code",
      "source": [
        "contador = 0\n",
        "while contador < 5:\n",
        "  print(f'Olá Mundo {contador}')\n",
        "  contador += 1\n",
        "print(\"Fim\")"
      ],
      "metadata": {
        "colab": {
          "base_uri": "https://localhost:8080/"
        },
        "id": "yl3p1klXpRmk",
        "outputId": "70fbe41d-ddd8-44d8-c454-71407cd63aed"
      },
      "execution_count": null,
      "outputs": [
        {
          "output_type": "stream",
          "name": "stdout",
          "text": [
            "Olá Mundo 0\n",
            "Olá Mundo 1\n",
            "Olá Mundo 2\n",
            "Olá Mundo 3\n",
            "Olá Mundo 4\n",
            "Fim\n"
          ]
        }
      ]
    },
    {
      "cell_type": "markdown",
      "source": [
        "#### Loop Infinito\n",
        "\n",
        "Um loop infinito ocorre quando a condição nunca se torna falsa. Isso pode causar problemas, como travamento do programa.\n"
      ],
      "metadata": {
        "id": "5o8K6hCB4SSg"
      }
    },
    {
      "cell_type": "code",
      "source": [
        "# Repare que o código abaixo nunca retornará Falso para a condição do laço While\n",
        "contador = 0\n",
        "while contador < 10:\n",
        "  print(f\"Olá Mundo: {contador}\")"
      ],
      "metadata": {
        "id": "f0RL6CHI4fjk"
      },
      "execution_count": null,
      "outputs": []
    },
    {
      "cell_type": "markdown",
      "source": [
        "Para evitar loop infinito\n",
        "\n",
        "- certifique-se de que a condição dentro do loop eventualmente se torne falsa, a partir de uma atualização da condição\n",
        "- ou inclua uma maneira de sair do loop, como o uso de break.\n",
        "\n",
        "Veremos mais a frente o uso do break\n",
        "____\n",
        "\n",
        "*VARIÁVEL CONTADORA*\n",
        "É uma variável que controla o número de vezes que o loop é executado.\n",
        "\n",
        "Vamos pegar outro exemplo mais simples e entender o passo-a-passo como a variável contadora se comporta"
      ],
      "metadata": {
        "id": "ibsBXrlJ47md"
      }
    },
    {
      "cell_type": "code",
      "source": [
        "# O código abaixo imprime o contador a cada iteração\n",
        "contador = 0\n",
        "while contador < 50:\n",
        "  print(f'Olá Mundo {contador}')\n",
        "  contador += 1\n"
      ],
      "metadata": {
        "id": "foaig53A47Lx"
      },
      "execution_count": null,
      "outputs": []
    },
    {
      "cell_type": "markdown",
      "source": [
        "O código acima equivale a:"
      ],
      "metadata": {
        "id": "JFvFcTHL5kig"
      }
    },
    {
      "cell_type": "code",
      "source": [
        "contador = 0\n",
        "print(contador)\n",
        "\n",
        "contador = 1\n",
        "print(contador)\n",
        "\n",
        "contador = 2\n",
        "print(contador)\n",
        "\n",
        "contador = 3\n",
        "print(contador)"
      ],
      "metadata": {
        "colab": {
          "base_uri": "https://localhost:8080/"
        },
        "id": "flFPkn345lUg",
        "outputId": "20c6062d-4360-4933-acdf-f303e10245f2"
      },
      "execution_count": null,
      "outputs": [
        {
          "output_type": "stream",
          "name": "stdout",
          "text": [
            "0\n",
            "1\n",
            "2\n",
            "3\n"
          ]
        }
      ]
    },
    {
      "cell_type": "markdown",
      "source": [
        "Podemos também atualizar a condição de repetição segundo informado pelo usuário\n",
        "\n",
        "Esse uso é bem importante para **garantir que o usuário digitou corretamente o que foi solicitado**\n",
        "\n",
        "Por exemplo, vamos pedir pro usuário digitar um número maior que 10. **Enquanto ele não fizer o que queremos**, vamos continuar pedindo pra ele digitar um novo valor:"
      ],
      "metadata": {
        "id": "T9BsAjXR576v"
      }
    },
    {
      "cell_type": "code",
      "source": [
        "numero = 0\n",
        "\n",
        "while numero <= 10:\n",
        "  numero = int(input(\"Digite um valor maior do que 10\"))\n",
        "\n",
        "print(f\"O número digitado foi {numero}\")\n"
      ],
      "metadata": {
        "id": "r0bROgWG58kU"
      },
      "execution_count": null,
      "outputs": []
    },
    {
      "cell_type": "code",
      "source": [
        "numero = 0\n",
        "while numero <= 10:\n",
        "  numero = int(input('Digite um numero maior que 10: '))\n",
        "print(f\"O numero digitado foi {numero}\")"
      ],
      "metadata": {
        "id": "Pp_btjPxCLB0"
      },
      "execution_count": null,
      "outputs": []
    },
    {
      "cell_type": "markdown",
      "source": [
        "Neste exemplo o código solicita ao usuário que insira uma nota válida entre 0 e 10 e valida a entrada.\n",
        "\n"
      ],
      "metadata": {
        "id": "AErGxx5z65sA"
      }
    },
    {
      "cell_type": "code",
      "source": [
        "while True:\n",
        "  nota = float(input(\"Digite sua nota (0-10): \"))\n",
        "  if 0 <= nota <=10:\n",
        "    print(f\"A nota informada é válida - {nota}\")\n",
        "    break\n",
        "  else:\n",
        "    print(\"Nota inválida, informe uma nota no intervalor de 0 - 10\")"
      ],
      "metadata": {
        "colab": {
          "base_uri": "https://localhost:8080/"
        },
        "id": "39uI4pws6_Pz",
        "outputId": "5e1e5eff-f90e-4cf9-a024-7601e95f2de1"
      },
      "execution_count": null,
      "outputs": [
        {
          "output_type": "stream",
          "name": "stdout",
          "text": [
            "Digite sua nota (0-10): 0\n",
            "Nota inválida, informe uma nota no intervalor de 0 - 10\n",
            "Digite sua nota (0-10): 1\n",
            "A nota informada é válida - 1.0\n"
          ]
        }
      ]
    },
    {
      "cell_type": "markdown",
      "source": [
        "Neste exemplo, o loop solicitará ao usuário que insira um número até que sejam digitados 5 números válidos (entre 0 e 10)."
      ],
      "metadata": {
        "id": "Vxu_O2W96W8w"
      }
    },
    {
      "cell_type": "code",
      "source": [
        "num_digitado=0\n",
        "while num_digitado < 5:\n",
        "  nota = float(input(\"Digite sua nota (0-10): \"))\n",
        "  if 0 <= nota <=10:\n",
        "    print(f\"A nota informada é válida - {nota}\")\n",
        "    num_digitado += 1\n",
        "  else:\n",
        "    print(\"Nota inválida, informe uma nota no intervalor de 0 - 10\")\n",
        "\n"
      ],
      "metadata": {
        "colab": {
          "base_uri": "https://localhost:8080/"
        },
        "id": "M-dcp8gT6Xcf",
        "outputId": "c891e228-f822-44ac-f8f4-605443136b90"
      },
      "execution_count": null,
      "outputs": [
        {
          "output_type": "stream",
          "name": "stdout",
          "text": [
            "Digite sua nota (0-10): 12\n",
            "Nota inválida, informe uma nota no intervalor de 0 - 10\n",
            "Digite sua nota (0-10): 15\n",
            "Nota inválida, informe uma nota no intervalor de 0 - 10\n",
            "Digite sua nota (0-10): 9\n",
            "A nota informada é válida - 9.0\n",
            "Digite sua nota (0-10): 8\n",
            "A nota informada é válida - 8.0\n",
            "Digite sua nota (0-10): 7\n",
            "A nota informada é válida - 7.0\n",
            "Digite sua nota (0-10): 9\n",
            "A nota informada é válida - 9.0\n",
            "Digite sua nota (0-10): 8\n",
            "A nota informada é válida - 8.0\n",
            "Digite sua nota (0-10): 8\n",
            "A nota informada é válida - 8.0\n"
          ]
        }
      ]
    },
    {
      "cell_type": "markdown",
      "source": [
        "#### Controles de Laços de Repetição (Loop)\n",
        "- break\n",
        "- continue\n",
        "- else\n",
        "\n",
        "Essas declarações tem o objetivo de conseguir nos ajudar a criar um controle nos loops\n",
        "\n",
        "____\n",
        "\n",
        "*break*\n",
        "\n",
        "Um Loop pode ser parado no meio com o break, isso é utilizado caso exista algum(ns) casos excepcionais onde seu código deve parar, ou mesmo para poupar processamento em um loop que já fez o que precisava e usava a condição inicial apenas como limite de iterações.\n",
        "\n",
        "Em resumo, o break é uma instrução que permite sair prematuramente de um loop."
      ],
      "metadata": {
        "id": "jOIw259-7g1_"
      }
    },
    {
      "cell_type": "code",
      "source": [
        "# No código abaixo o break é usado para sair do loop quando o contador atinge 3.\n",
        "contador = 0\n",
        "while contador < 10:\n",
        "  contador += 1\n",
        "  if contador == 3:\n",
        "    print(f\"estou dentro da condição contador == 3, o valor do contador agora é {contador}\")\n",
        "    break\n",
        "  print(contador)\n",
        "\n"
      ],
      "metadata": {
        "colab": {
          "base_uri": "https://localhost:8080/"
        },
        "id": "S5FcCX1Q6ZSC",
        "outputId": "b02aacfb-e7cc-4f7b-8242-1f0e8a85c16a"
      },
      "execution_count": null,
      "outputs": [
        {
          "output_type": "stream",
          "name": "stdout",
          "text": [
            "1\n",
            "2\n",
            "estou dentro da condição contador == 3, o valor do contador agora é 3\n",
            "3\n",
            "4\n",
            "5\n",
            "6\n",
            "7\n",
            "8\n",
            "9\n",
            "10\n"
          ]
        }
      ]
    },
    {
      "cell_type": "markdown",
      "source": [
        " #### DESAFIO\n",
        "\n",
        " Escreva um programa Python que guarde em uma variável um número secreto e solicite ao usuário que adivinhe qual é o número. O programa deve fornecer dicas (maior/menor) após cada tentativa do usuário. O jogo deve continuar até que o usuário adivinhe corretamente o número secreto e quando adivinhar o número secreto a repetição deve ser interrompida. Registre quantas tentativas o usuário levou para acertar e exiba no final."
      ],
      "metadata": {
        "id": "byX3Yi-JFmj4"
      }
    },
    {
      "cell_type": "code",
      "source": [
        "num_secreto = 155\n",
        "tentativas = 0\n",
        "\n",
        "while True:\n",
        "  num_tentativa = int(input(\"Faça uma tentiva: \"))\n",
        "  tentativas += 1\n",
        "  if num_tentativa < num_secreto:\n",
        "    print('Tente um número maior.')\n",
        "  elif num_tentativa > num_secreto:\n",
        "\n",
        "    print('Tente um número menor.')\n",
        "  else:\n",
        "    print(f\"Parabéns! Você acertou o número secreto ({num_secreto}) em {tentativas} tentativas\")\n",
        "    break"
      ],
      "metadata": {
        "colab": {
          "base_uri": "https://localhost:8080/"
        },
        "id": "7uaYbLmJFlfj",
        "outputId": "a30002df-630f-4f91-af3c-e55922bc30ca"
      },
      "execution_count": null,
      "outputs": [
        {
          "output_type": "stream",
          "name": "stdout",
          "text": [
            "Faça uma tentiva: 200\n",
            "Tente um número menor.\n",
            "Faça uma tentiva: 150\n",
            "Tente um número maior.\n",
            "Faça uma tentiva: 140\n",
            "Tente um número maior.\n",
            "Faça uma tentiva: 155\n",
            "Parabéns! Você acertou o número secreto (155) em 4 tentativas\n"
          ]
        }
      ]
    },
    {
      "cell_type": "markdown",
      "source": [
        "____\n",
        "*continue*\n",
        "\n",
        "Com o comando continue conseguimos parar uma iteração no meio e recomeçar o bloco do while.\n"
      ],
      "metadata": {
        "id": "mjehxxOe8-OG"
      }
    },
    {
      "cell_type": "code",
      "source": [
        "contador = 0\n",
        "while contador < 10:\n",
        "  contador += 1\n",
        "  if contador == 3:\n",
        "    print(f\"estou dentro da condição contador == 3, o valor do contador agora é {contador}\")\n",
        "    continue\n",
        "  print(contador)"
      ],
      "metadata": {
        "colab": {
          "base_uri": "https://localhost:8080/"
        },
        "id": "VISEexYr9FZN",
        "outputId": "4453fe2e-185c-42b1-cd73-fdf6dbd5b222"
      },
      "execution_count": null,
      "outputs": [
        {
          "output_type": "stream",
          "name": "stdout",
          "text": [
            "1\n",
            "2\n",
            "estou dentro da condição contador == 3, o valor do contador agora é 3\n",
            "3\n",
            "4\n",
            "5\n",
            "6\n",
            "7\n",
            "8\n",
            "9\n",
            "10\n"
          ]
        }
      ]
    },
    {
      "cell_type": "markdown",
      "source": [
        "#### DESAFIO\n",
        "\n",
        "Escreva um programa em Python que solicita ao usuário inserir uma sequência de números inteiros. O programa deve continuar pedindo números até que o usuário escolha parar. Após cada número inserido, o programa deve verificar se o número é par. Se for par, incremente um contador e continue pedindo por mais números. No final, o programa deve exibir a quantidade total de números pares inseridos. O usuário ao digitar 0 deve sair do loop."
      ],
      "metadata": {
        "id": "GxwmnqDmG0YN"
      }
    },
    {
      "cell_type": "code",
      "source": [
        "numeros_pares = 0\n",
        "while True:\n",
        "  numero = int(input(\"Digite um número ou 0 para sair.\"))\n",
        "  if numero == 0:\n",
        "    break #Tratando a saída do loop\n",
        "  if numero % 2 != 0:\n",
        "    continue # Volta para o início do loop\n",
        "  numeros_pares += 1\n",
        "print(f'Total de números pares inseridos: {numeros_pares}')"
      ],
      "metadata": {
        "colab": {
          "base_uri": "https://localhost:8080/"
        },
        "id": "WhCGkrKyG39f",
        "outputId": "1e1dc07e-b8df-4ee7-c672-13cf6590942e"
      },
      "execution_count": null,
      "outputs": [
        {
          "output_type": "stream",
          "name": "stdout",
          "text": [
            "Digite um número ou 0 para sair.1\n",
            "Digite um número ou 0 para sair.3\n",
            "Digite um número ou 0 para sair.6\n",
            "Digite um número ou 0 para sair.5\n",
            "Digite um número ou 0 para sair.8\n",
            "Digite um número ou 0 para sair.2\n",
            "Digite um número ou 0 para sair.4\n",
            "Digite um número ou 0 para sair.0\n",
            "Total de números pares inseridos: 4\n"
          ]
        }
      ]
    },
    {
      "cell_type": "code",
      "source": [
        "num_usr = int(input('Insira um número ou 0 para sair: '))\n",
        "contador = 0\n",
        "while num_usr != 0:\n",
        "    if num_usr % 2 == 0:\n",
        "        num_usr = int(input('Insira um número ou 0 para sair: '))\n",
        "        contador += 1\n",
        "    elif num_usr % 2 != 0:\n",
        "        num_usr = int(input('Insira um número ou 0 para sair: '))\n",
        "        continue\n",
        "    else:\n",
        "        break\n",
        "print(f'Você digitou um total de {contador} números pares')"
      ],
      "metadata": {
        "id": "hyXU0vdNWsVq"
      },
      "execution_count": null,
      "outputs": []
    },
    {
      "cell_type": "code",
      "source": [
        "num_usr = int(input('Insira um número ou 0 para sair: '))\n",
        "contador = 0\n",
        "while num_usr != 0:\n",
        "    if num_usr % 2 == 0:\n",
        "        num_usr = int(input('Insira um número ou 0 para sair: '))\n",
        "        contador += 1\n",
        "    elif num_usr % 2 != 0:\n",
        "        num_usr = int(input('Insira um número ou 0 para sair: '))\n",
        "        continue\n",
        "else:\n",
        "    print(f'Você digitou um total de {contador} números pares')"
      ],
      "metadata": {
        "id": "rgWzwM53WiKP"
      },
      "execution_count": null,
      "outputs": []
    },
    {
      "cell_type": "markdown",
      "source": [
        "____\n",
        "*else*\n",
        "\n",
        "O else vai se comportar como um **\"se não\"**, pois será o bloco de código que rodará quando, se **e somente se**, a condição do while não for mais satisfeita."
      ],
      "metadata": {
        "id": "ZQD_55sm-q54"
      }
    },
    {
      "cell_type": "code",
      "source": [
        "cont = 0\n",
        "while cont < 5:\n",
        "  cont +=1\n",
        "  print(cont)\n",
        "else:\n",
        "  print(\"fim - deixou de satisfazer a condição do while\")"
      ],
      "metadata": {
        "colab": {
          "base_uri": "https://localhost:8080/"
        },
        "id": "luYF-S1y-69L",
        "outputId": "5e8df18c-f9d3-493b-9df9-2b573c523ca4"
      },
      "execution_count": null,
      "outputs": [
        {
          "output_type": "stream",
          "name": "stdout",
          "text": [
            "1\n",
            "2\n",
            "3\n",
            "4\n",
            "5\n",
            "fim - deixou de satisfazer a condição do while\n"
          ]
        }
      ]
    },
    {
      "cell_type": "code",
      "source": [
        "# o exemplo abaixo demonstra o uso combinado do break e else\n",
        "\n",
        "cont = 0\n",
        "while cont < 10:\n",
        "  cont += 1\n",
        "  if cont == 5:\n",
        "    print(\"cont == 5\")\n",
        "    break\n",
        "  print(cont)\n",
        "else:\n",
        "  print(\"fim - deixou de satisfazer a condição do while\")\n"
      ],
      "metadata": {
        "colab": {
          "base_uri": "https://localhost:8080/"
        },
        "id": "Dalt240m-8oR",
        "outputId": "297977fb-78ff-4c05-d6d2-04dd8e22d7ee"
      },
      "execution_count": null,
      "outputs": [
        {
          "output_type": "stream",
          "name": "stdout",
          "text": [
            "1\n",
            "2\n",
            "3\n",
            "4\n",
            "cont == 5\n"
          ]
        }
      ]
    },
    {
      "cell_type": "markdown",
      "source": [
        "#### NOTA 1\n",
        "O *break/continue/else* estão sempre associados ao while que eles 'estão'/pertencem. Logo, um break, por exemplo, não vai interromper um while de um nível 'acima'."
      ],
      "metadata": {
        "id": "uYGXL2Lz_jJa"
      }
    },
    {
      "cell_type": "code",
      "source": [
        "#Note no código abaixo que o break interrompe apenas o while interno\n",
        "\n",
        "cont = 0\n",
        "contador = 0\n",
        "while contador < 5:\n",
        "  print(f'While_externo - contador iniciou o while em {contador}')\n",
        "  contador += 1\n",
        "  print(f'While externo - contador iterou, o contador agora é {contador}')\n",
        "  while cont < 3:\n",
        "    print(f'While_interno - cont iniciou o while em {cont}')\n",
        "    cont += 1\n",
        "    print(f'While_interno - cont iterou, o cont agora é {cont}')\n",
        "    if cont == 3:\n",
        "      print(\"if - cont == 3\")\n",
        "      break\n",
        "    print(f'While_interno - saída so while interno {cont}')\n",
        "  else:\n",
        "    print(f\"While interno - cai direto no else, pois o cont atual é {cont}) - deixou de satisfazer a condição do while interno\")\n",
        "print(\"Fim\")\n"
      ],
      "metadata": {
        "colab": {
          "base_uri": "https://localhost:8080/"
        },
        "id": "cyChIS6q_uLb",
        "outputId": "85aad532-1c96-485b-a7f6-6429b14f66c4"
      },
      "execution_count": null,
      "outputs": [
        {
          "output_type": "stream",
          "name": "stdout",
          "text": [
            "While_externo - contador iniciou o while em 0\n",
            "While externo - contador iterou, o contador agora é 1\n",
            "While_interno - cont iniciou em o while em 0\n",
            "While_interno - cont iterou, o cont agora é 1\n",
            "While_interno - saída so while interno 1\n",
            "While_interno - cont iniciou em o while em 1\n",
            "While_interno - cont iterou, o cont agora é 2\n",
            "While_interno - saída so while interno 2\n",
            "While_interno - cont iniciou em o while em 2\n",
            "While_interno - cont iterou, o cont agora é 3\n",
            "if - cont == 3\n",
            "While_externo - contador iniciou o while em 1\n",
            "While externo - contador iterou, o contador agora é 2\n",
            "While interno - cai direto no else, pois o cont atual é 3) - deixou de satisfazer a condição do while interno\n",
            "While_externo - contador iniciou o while em 2\n",
            "While externo - contador iterou, o contador agora é 3\n",
            "While interno - cai direto no else, pois o cont atual é 3) - deixou de satisfazer a condição do while interno\n",
            "While_externo - contador iniciou o while em 3\n",
            "While externo - contador iterou, o contador agora é 4\n",
            "While interno - cai direto no else, pois o cont atual é 3) - deixou de satisfazer a condição do while interno\n",
            "While_externo - contador iniciou o while em 4\n",
            "While externo - contador iterou, o contador agora é 5\n",
            "While interno - cai direto no else, pois o cont atual é 3) - deixou de satisfazer a condição do while interno\n",
            "Fim\n"
          ]
        }
      ]
    },
    {
      "cell_type": "markdown",
      "source": [
        "#### NOTA 2\n",
        "Existe mais outro termo que pode ser utilizado, *pass* é um placeholder, ou seja, é usado como um espaço reservado ou marcador de posição quando você deseja criar uma estrutura de controle (como um loop, condicional, função, etc.) sem adicionar nenhuma funcionalidade. Ela não faz nada e é frequentemente usada temporariamente quando se está desenvolvendo código.\n",
        "\n",
        "Placeholder == guardando espaço um código"
      ],
      "metadata": {
        "id": "prvYTB9jAvOa"
      }
    },
    {
      "cell_type": "code",
      "source": [
        "cont = 0\n",
        "while cont < 10:\n",
        "  cont +=1\n",
        "  if cont == 5:\n",
        "    #não faço nada aqui, pois não tenho a regra ainda\n",
        "    pass\n",
        "  print(cont)\n"
      ],
      "metadata": {
        "id": "72tr9zWx_zBp",
        "colab": {
          "base_uri": "https://localhost:8080/"
        },
        "outputId": "c84a719e-f200-4a1c-9615-12bb306986ba"
      },
      "execution_count": null,
      "outputs": [
        {
          "output_type": "stream",
          "name": "stdout",
          "text": [
            "1\n",
            "2\n",
            "3\n",
            "4\n",
            "5\n",
            "6\n",
            "7\n",
            "8\n",
            "9\n",
            "10\n"
          ]
        }
      ]
    },
    {
      "cell_type": "markdown",
      "source": [
        "### Resumindo\n",
        "\n",
        "<center>\n",
        "\n",
        "declarações | efeito\n",
        "--- | ---\n",
        "break | interrompe o loop em que ele está inserido independente da condição ter sido ou não satisfeita\n",
        "continue | interrompe a iteração atual e começa a próxima iteração\n",
        "else | executa o que estiver dentro do else apenas se a condição do loop não for mais satisfeita\n",
        "pass |  é usado como um espaço reservado ou marcador de posição quando você deseja criar uma estrutura de controle sem adicionar nenhuma funcionalidade.\n",
        "\n",
        "</center>\n"
      ],
      "metadata": {
        "id": "wDy1RSo2C59c"
      }
    },
    {
      "cell_type": "markdown",
      "source": [
        "#### DESAFIO\n",
        "\n",
        "1. Imprima os seguintes padrões utilizando loop. O usuário deverá determinar quão grande será a extensão/comprimento\n",
        "\n",
        "padrão I:<br>\n",
        "\n",
        "\\*<br>\n",
        "\\*\\*<br>\n",
        "\\*\\*\\*<br>\n",
        "\\*\\*\\*\\*<br>"
      ],
      "metadata": {
        "id": "01UIh3U8DdB7"
      }
    },
    {
      "cell_type": "code",
      "source": [
        "max = int(input(\"qual a qtd de estrelas? \"))\n",
        "cont = 1\n",
        "\n",
        "while cont <= max:\n",
        "  print('*'*cont)\n",
        "  cont += 1"
      ],
      "metadata": {
        "id": "ny7XOeo7HH5r",
        "colab": {
          "base_uri": "https://localhost:8080/"
        },
        "outputId": "e09a56af-bb24-471b-9f6a-907dac4fc33d"
      },
      "execution_count": null,
      "outputs": [
        {
          "output_type": "stream",
          "name": "stdout",
          "text": [
            "qual a qtd de estrelas? 3\n",
            "*\n",
            "**\n",
            "***\n"
          ]
        }
      ]
    },
    {
      "cell_type": "markdown",
      "source": [
        "padrão II:<br>\n",
        "\n",
        "  \\*  <br>\n",
        " \\*\\* <br>\n",
        "\\*\\*\\*<br>\n",
        " \\*\\* <br>\n",
        "  \\*  <br>"
      ],
      "metadata": {
        "id": "lD0f8VEUIVQl"
      }
    },
    {
      "cell_type": "code",
      "source": [
        "max = 3\n",
        "cont = 0\n",
        "\n",
        "while cont < max:\n",
        "  cont += 1\n",
        "  print('*'*cont)\n",
        "else:\n",
        "  while cont > 1:\n",
        "    cont -=1\n",
        "    print(\"*\"*cont)\n",
        "\n"
      ],
      "metadata": {
        "id": "1jWD7RroIU66",
        "colab": {
          "base_uri": "https://localhost:8080/"
        },
        "outputId": "f63001ca-4185-43d2-ceab-e1aee22520d7"
      },
      "execution_count": null,
      "outputs": [
        {
          "output_type": "stream",
          "name": "stdout",
          "text": [
            "*\n",
            "**\n",
            "***\n",
            "**\n",
            "*\n"
          ]
        }
      ]
    },
    {
      "cell_type": "markdown",
      "source": [
        "____\n",
        "2. Receba do usuário um número inteiro positivo e o retorne invertido.\n",
        "\n",
        "Exemplo: Valor recebido 12345, resultado 54321\n"
      ],
      "metadata": {
        "id": "N90oJT5SDQjy"
      }
    },
    {
      "cell_type": "code",
      "source": [
        "numero = int(input(\"Informe uma sequencia de numeros: \")) # 12345\n",
        "\n",
        "numero_invertido = 0\n",
        "numero_original = numero\n",
        "\n",
        "while numero > 0:\n",
        "  digito = numero % 10 # 12345 % 10 = 3 --->> 12345 % 10 = 12,3\n",
        "  numero_invertido = numero_invertido * 10 + digito #numero_invertido = 543\n",
        "  numero = numero // 10 # 1234 // 10 = 123\n",
        "\n",
        "print(f\"o numúmero {numero_original} invertido é: {numero_invertido}\")"
      ],
      "metadata": {
        "id": "2xL89BkTC6fQ",
        "colab": {
          "base_uri": "https://localhost:8080/"
        },
        "outputId": "aef9482d-767b-47f6-f829-3ed509a7b1f4"
      },
      "execution_count": null,
      "outputs": [
        {
          "output_type": "stream",
          "name": "stdout",
          "text": [
            "Informe uma sequencia de numeros: 123456\n",
            "o numúmero 123456 invertido é: 654321\n"
          ]
        }
      ]
    },
    {
      "cell_type": "code",
      "source": [
        "num = 12345\n",
        "i = 0\n",
        "\n",
        "while num > 0:\n",
        "    i = i * 10 + (num % 10)\n",
        "    num = num // 10\n",
        "\n",
        "print(i)"
      ],
      "metadata": {
        "colab": {
          "base_uri": "https://localhost:8080/"
        },
        "id": "HXplMq-NwE3Y",
        "outputId": "a22a97e8-8d3d-44c3-a9a0-69499e9473d6"
      },
      "execution_count": null,
      "outputs": [
        {
          "output_type": "stream",
          "name": "stdout",
          "text": [
            "54321\n"
          ]
        }
      ]
    },
    {
      "cell_type": "markdown",
      "source": [
        "____\n",
        "Faça a somatória de todos os numeros seguindo a sequência: <br>\n",
        "\n",
        "$ \\frac{1}{1} + \\frac{1}{2} + \\frac{1}{3} + \\frac{1}{4} + \\frac{1}{5} + \\frac{1}{6} + ... + \\frac{1}{1000} $\n",
        "\n"
      ],
      "metadata": {
        "id": "rNSF4e26IuP1"
      }
    },
    {
      "cell_type": "code",
      "source": [
        "somatorio = 0\n",
        "denominador = 1\n",
        "\n",
        "while denominador <= 1000:\n",
        "  somatorio = somatorio + 1/denominador\n",
        "  denominador += 1\n",
        "print(somatorio)"
      ],
      "metadata": {
        "id": "TPikDWL0Iv4C",
        "colab": {
          "base_uri": "https://localhost:8080/"
        },
        "outputId": "25aa561b-154c-4568-f655-308a49ed8b6f"
      },
      "execution_count": null,
      "outputs": [
        {
          "output_type": "stream",
          "name": "stdout",
          "text": [
            "7.485470860550343\n"
          ]
        }
      ]
    },
    {
      "cell_type": "code",
      "source": [
        "i = 1\n",
        "div = 0\n",
        "soma = 0\n",
        "while i <= 1000:\n",
        "  div = 1 / i\n",
        "  soma += div\n",
        "  i += 1\n",
        "print(soma)"
      ],
      "metadata": {
        "colab": {
          "base_uri": "https://localhost:8080/"
        },
        "id": "AZuEvpUGxHuM",
        "outputId": "c6c5a066-5057-4b1b-c290-d8506d0dfda5"
      },
      "execution_count": null,
      "outputs": [
        {
          "output_type": "stream",
          "name": "stdout",
          "text": [
            "7.485470860550343\n"
          ]
        }
      ]
    },
    {
      "cell_type": "markdown",
      "metadata": {
        "id": "JXFwuD8pQr4_"
      },
      "source": [
        "# Aula 4 - Estrutura de Dados [Listas]\n",
        "\n",
        "Na aula de hoje, vamos explorar os seguintes tópicos em Python:\n",
        "\n",
        "- Listas\n",
        "- Métodos e funções de listas\n",
        "\n",
        "Características de uma lista\n",
        "- Uma lista é uma  estrutura de dados que permite armazenar uma coleção ordenada e mutável de elementos.\n",
        "- Permite o armazenamento de múltiplos valores em uma única variável.\n",
        "- As listas são mutáveis, o que significa que você pode adicionar, remover ou modificar elementos.\n",
        "- Os elementos de uma lista podem ser de diferentes tipos, como números inteiros, números de ponto flutuante, strings e até outras listas.\n",
        "- As listas são definidas utilizando colchetes [] e os elementos são separados por vírgulas.\n",
        "- Acessa-se os elementos utilizando um índice inteiro (começando do 0).\n"
      ]
    },
    {
      "cell_type": "markdown",
      "metadata": {
        "id": "SN3XjmmFQr5E"
      },
      "source": [
        "______\n",
        "\n",
        "### LISTAS\n",
        "\n",
        "Imagine que você quer armazenar várias variáveis relacionadas, como, por exemplo, todas suas notas em provas.\n",
        "\n",
        "Se houver muitas notas, não é muito prático criar uma variável para cada uma. Seria muito mais conveniente armazenar todas as notas em uma **lista**, não é mesmo?\n",
        "\n",
        "Uma lista nada mais é que um **conjunto de objetos**, que podem ser de diversos tipos:"
      ]
    },
    {
      "cell_type": "markdown",
      "source": [
        "Maneira de inicializar uma lista"
      ],
      "metadata": {
        "id": "Y90Tp5AARqYE"
      }
    },
    {
      "cell_type": "code",
      "source": [
        "#a lista criada está vazia\n",
        "lista1 = []\n",
        "type(lista1)\n"
      ],
      "metadata": {
        "id": "QGTpvTwzRyPh",
        "colab": {
          "base_uri": "https://localhost:8080/"
        },
        "outputId": "2ee1c601-0443-49aa-8ae7-fcba68208f42"
      },
      "execution_count": null,
      "outputs": [
        {
          "output_type": "execute_result",
          "data": {
            "text/plain": [
              "list"
            ]
          },
          "metadata": {},
          "execution_count": 22
        }
      ]
    },
    {
      "cell_type": "code",
      "source": [
        "#a lista criada está vazia\n",
        "lista2 = list()\n",
        "type(lista2)"
      ],
      "metadata": {
        "id": "5PkNqGmeR2JT",
        "colab": {
          "base_uri": "https://localhost:8080/"
        },
        "outputId": "6f04f665-1e34-445f-b715-c27f784dce90"
      },
      "execution_count": null,
      "outputs": [
        {
          "output_type": "execute_result",
          "data": {
            "text/plain": [
              "list"
            ]
          },
          "metadata": {},
          "execution_count": 23
        }
      ]
    },
    {
      "cell_type": "markdown",
      "metadata": {
        "id": "eaoOulRbQr5E"
      },
      "source": [
        "Lista de números (int e float)"
      ]
    },
    {
      "cell_type": "code",
      "source": [
        "[1,2,3,4,]"
      ],
      "metadata": {
        "id": "Z_8JCvmzgITM",
        "colab": {
          "base_uri": "https://localhost:8080/"
        },
        "outputId": "b23c804d-3cdc-4481-f71f-fc6480889cff"
      },
      "execution_count": null,
      "outputs": [
        {
          "output_type": "execute_result",
          "data": {
            "text/plain": [
              "[1, 2, 3, 4]"
            ]
          },
          "metadata": {},
          "execution_count": 24
        }
      ]
    },
    {
      "cell_type": "code",
      "source": [
        "[12.34,33.5]"
      ],
      "metadata": {
        "id": "LLa87YTIcaXR",
        "colab": {
          "base_uri": "https://localhost:8080/"
        },
        "outputId": "cc3dcde9-9a7e-4ee5-cc59-cbe30884933c"
      },
      "execution_count": null,
      "outputs": [
        {
          "output_type": "execute_result",
          "data": {
            "text/plain": [
              "[12.34, 33.5]"
            ]
          },
          "metadata": {},
          "execution_count": 25
        }
      ]
    },
    {
      "cell_type": "markdown",
      "metadata": {
        "id": "RvkijMv2Qr5H"
      },
      "source": [
        "Lista de strings"
      ]
    },
    {
      "cell_type": "code",
      "source": [
        "['Diego','Rocha']"
      ],
      "metadata": {
        "id": "dJ_5DDZHgIQS",
        "colab": {
          "base_uri": "https://localhost:8080/"
        },
        "outputId": "7f11aa62-d107-48aa-e3f7-5bd7063aaf26"
      },
      "execution_count": null,
      "outputs": [
        {
          "output_type": "execute_result",
          "data": {
            "text/plain": [
              "['Diego', 'Rocha']"
            ]
          },
          "metadata": {},
          "execution_count": 26
        }
      ]
    },
    {
      "cell_type": "markdown",
      "metadata": {
        "id": "zevr0UyoQr5J"
      },
      "source": [
        "Lista de números e strings"
      ]
    },
    {
      "cell_type": "code",
      "source": [
        "# cada item da minha lista, é comummente chamado de elemento\n",
        "['Diego', 343, 12.4]"
      ],
      "metadata": {
        "id": "JZPBHKIKgKsf",
        "colab": {
          "base_uri": "https://localhost:8080/"
        },
        "outputId": "3e72a1d9-e6dd-4753-bcd4-cc6ec0a1d61e"
      },
      "execution_count": null,
      "outputs": [
        {
          "output_type": "execute_result",
          "data": {
            "text/plain": [
              "['Diego', 343, 12.4]"
            ]
          },
          "metadata": {},
          "execution_count": 27
        }
      ]
    },
    {
      "cell_type": "markdown",
      "source": [
        "Lista de booleano com string"
      ],
      "metadata": {
        "id": "WuxF-G39c1NX"
      }
    },
    {
      "cell_type": "code",
      "source": [
        "[True, False, 'Diego']"
      ],
      "metadata": {
        "id": "Y68MtaiVgKvu",
        "colab": {
          "base_uri": "https://localhost:8080/"
        },
        "outputId": "5701e58b-dba2-441a-994e-6a43968c46da"
      },
      "execution_count": null,
      "outputs": [
        {
          "output_type": "execute_result",
          "data": {
            "text/plain": [
              "[True, False, 'Diego']"
            ]
          },
          "metadata": {},
          "execution_count": 28
        }
      ]
    },
    {
      "cell_type": "markdown",
      "metadata": {
        "id": "3szJ3HlgQr5M"
      },
      "source": [
        "Lista de listas"
      ]
    },
    {
      "cell_type": "code",
      "source": [
        "# lista 1\n",
        "[1,2,3]\n",
        "# lista 2\n",
        "[\"olá\",\"python\"]"
      ],
      "metadata": {
        "id": "-H-4PRsigMEg"
      },
      "execution_count": null,
      "outputs": []
    },
    {
      "cell_type": "code",
      "source": [
        "[[1,2,3],[\"olá\",\"python\"]]"
      ],
      "metadata": {
        "id": "BCZOhuawdEEg",
        "colab": {
          "base_uri": "https://localhost:8080/"
        },
        "outputId": "342c0a01-ee8a-4fe9-bd51-7f661f301971"
      },
      "execution_count": null,
      "outputs": [
        {
          "output_type": "execute_result",
          "data": {
            "text/plain": [
              "[[1, 2, 3], ['olá', 'python']]"
            ]
          },
          "metadata": {},
          "execution_count": 29
        }
      ]
    },
    {
      "cell_type": "markdown",
      "metadata": {
        "id": "C94RgNwBQr5N"
      },
      "source": [
        "Tudo junto"
      ]
    },
    {
      "cell_type": "code",
      "source": [
        "# Lista com valores e variáveis\n",
        "idade = 37\n",
        "nome = 'Diego'\n",
        "\n",
        "lista = [\"a\",3, idade, True, nome, [1,2,3]]\n",
        "lista"
      ],
      "metadata": {
        "id": "TzB-yMLKgNQa",
        "colab": {
          "base_uri": "https://localhost:8080/"
        },
        "outputId": "defc521e-2323-472f-83ea-4592c44ac8ff"
      },
      "execution_count": null,
      "outputs": [
        {
          "output_type": "execute_result",
          "data": {
            "text/plain": [
              "['a', 3, 37, True, 'Diego', [1, 2, 3]]"
            ]
          },
          "metadata": {},
          "execution_count": 30
        }
      ]
    },
    {
      "cell_type": "code",
      "source": [
        "# Como verificar o tamanho da lista?\n",
        "#lenght == \"comprimento\"\n",
        "# função len responde a quantidade de elementos da lista\n",
        "len(lista)"
      ],
      "metadata": {
        "id": "uwo4GMemebmD",
        "colab": {
          "base_uri": "https://localhost:8080/"
        },
        "outputId": "af3451d9-cf01-4b5b-9756-787f11259d56"
      },
      "execution_count": null,
      "outputs": [
        {
          "output_type": "execute_result",
          "data": {
            "text/plain": [
              "6"
            ]
          },
          "metadata": {},
          "execution_count": 31
        }
      ]
    },
    {
      "cell_type": "markdown",
      "source": [
        "____\n",
        "#### Acessando elementos da minha lista\n",
        "\n",
        "\n",
        "Muitas vezes, queremos **acessar elementos individuais** da lista.\n",
        "\n",
        "Para fazer isso, devemos indicar qual é o **índice** respectivo ao elemento, isto é, qual é a **posição** do elemento dentro da lista\n",
        "\n",
        "Para acessar o elemento na **posição i** da lista \"minha_lista\", fazemos:\n",
        "\n",
        "```python\n",
        "minha_lista[i]\n",
        "```\n",
        "\n",
        "__Muito importante: a numeração de índice começa em zero!__\n",
        "\n",
        "Ou seja:\n",
        "\n",
        "- O primeiro elemento tem índice 0: ```minha_lista[0]``` ,\n",
        "- O segundo tem índice 1: ```minha_lista[1]```,\n",
        "\n",
        "E assim por diante!\n",
        "\n",
        "Também podemos acessar os últimos elementos, usando índices negativos:\n",
        "\n",
        "- O último elemento tem índice -1: ```minha_lista[-1]```,\n",
        "- O penúltimo tem índice -2: ```minha_lista[-2]```,\n",
        "\n",
        "E assim por diante!"
      ],
      "metadata": {
        "id": "32X9Qmyxpi1i"
      }
    },
    {
      "cell_type": "code",
      "source": [
        "minha_lista = [1,3,[5,7,9],2.1,\"Diego\",2.5,True]\n",
        "minha_lista"
      ],
      "metadata": {
        "id": "PYo_dt1OgTdI",
        "colab": {
          "base_uri": "https://localhost:8080/"
        },
        "outputId": "b7114114-43bd-45f8-95af-1f3e088e3941"
      },
      "execution_count": null,
      "outputs": [
        {
          "output_type": "execute_result",
          "data": {
            "text/plain": [
              "[1, 3, [5, 7, 9], 2.1, 'Diego', 2.5, True]"
            ]
          },
          "metadata": {},
          "execution_count": 32
        }
      ]
    },
    {
      "cell_type": "code",
      "source": [
        "minha_lista[0]"
      ],
      "metadata": {
        "id": "LxJGAI5_gTkm",
        "colab": {
          "base_uri": "https://localhost:8080/"
        },
        "outputId": "eed49877-73b2-46e7-bc96-e97cde159371"
      },
      "execution_count": null,
      "outputs": [
        {
          "output_type": "execute_result",
          "data": {
            "text/plain": [
              "1"
            ]
          },
          "metadata": {},
          "execution_count": 33
        }
      ]
    },
    {
      "cell_type": "code",
      "source": [
        "minha_lista[2]"
      ],
      "metadata": {
        "id": "SoAfMYpmgTrT",
        "colab": {
          "base_uri": "https://localhost:8080/"
        },
        "outputId": "58a9871d-7a2c-4ae7-8e29-13b47ba90d07"
      },
      "execution_count": null,
      "outputs": [
        {
          "output_type": "execute_result",
          "data": {
            "text/plain": [
              "[5, 7, 9]"
            ]
          },
          "metadata": {},
          "execution_count": 34
        }
      ]
    },
    {
      "cell_type": "code",
      "source": [
        "minha_lista[-1]"
      ],
      "metadata": {
        "colab": {
          "base_uri": "https://localhost:8080/"
        },
        "id": "sPZ7-fOq01s-",
        "outputId": "6ee601ed-417c-4eb9-bf36-719ba653ecc3"
      },
      "execution_count": null,
      "outputs": [
        {
          "output_type": "execute_result",
          "data": {
            "text/plain": [
              "True"
            ]
          },
          "metadata": {},
          "execution_count": 35
        }
      ]
    },
    {
      "cell_type": "markdown",
      "source": [
        "____"
      ],
      "metadata": {
        "id": "tJdc0W5yXftR"
      }
    },
    {
      "cell_type": "markdown",
      "metadata": {
        "id": "Hdg0v2v-Qr5Q"
      },
      "source": [
        "____\n",
        "\n",
        "*SLICING*\n",
        "\n",
        "O slicing é uma técnica que permite acessar uma parte específica de uma lista. Com o slicing, você pode criar uma nova lista que consiste em um subconjunto dos elementos da lista original. Isso é especialmente útil quando você deseja trabalhar com partes específicas de uma lista sem a necessidade de copiá-la inteira.\n",
        "\n",
        "A sintaxe básica do slicing em listas é a seguinte:\n",
        "```python\n",
        "lista[índice] # índice específico\n",
        "lista[início:fim] # intervalo de índice\n",
        "```\n",
        "\n",
        "Conceitos importantes a serem lembrados ao usar o slicing\n",
        "- O índice de início é inclusivo, o que significa que o elemento no índice de início será incluído na nova lista.\n",
        "- O índice de fim é exclusivo, o que significa que o elemento no índice de fim não será incluído na nova lista.\n",
        "- Se o índice de início for omitido, ele será considerado como 0 (o primeiro elemento da lista).\n",
        "- Se o índice de fim for omitido, ele será considerado como o comprimento da lista (todos os elementos até o final da lista).\n",
        "- Você também pode usar índices negativos, o que permite contar a partir do final da lista. Por exemplo, -1 representa o último elemento da lista.\n",
        "\n",
        "Conforme a sintaxe acima, podemos **acessar pedaços da lista**, indicando o intervalo de índices que queremos, separados por \":\",  **com intervalo superior aberto**\n",
        "\n",
        "```python\n",
        "minha_lista[1] # seleciona os elementos de indice 1\n",
        "minha_lista[1:3] # seleciona os elementos de indice 1 até indice 2\n",
        "minha_lista[:4]  # seleciona do primeiro elemento até o de índice 3\n",
        "minha_lista[3:]  # seleciona do elemento de índice 3 até o final\n",
        "minha_lista[:]   # seleciona a lista inteira\n",
        "```\n",
        "\n",
        "\n",
        "<center>\n",
        "Sentido de leitura do slicing &rarr;\n",
        "\n",
        "índice: | 0 | 1 | 2 | 3 | 4 | 5 | 6\n",
        "--- | --- | --- | --- | --- | --- | --- | --- |\n",
        "minha_lista| \"a\" | \"b\" | \"c\" | \"d\" | \"e\" | \"f\" | \"g\" |\n",
        "índice: | -7 | -6 | -5 | -4 | -3 | -2 | -1\n",
        "\n",
        "\n",
        "</center>\n"
      ]
    },
    {
      "cell_type": "code",
      "source": [
        "minha_lista = [1,3,[5,7,9],2.1,\"Diego\",2.5,True]"
      ],
      "metadata": {
        "id": "4oSPrQ3WgXDl"
      },
      "execution_count": null,
      "outputs": []
    },
    {
      "cell_type": "code",
      "source": [
        "#acessar um elementro de uma lista aninhada\n",
        "minha_lista[2][1]"
      ],
      "metadata": {
        "id": "19RCHyMlgXLb",
        "colab": {
          "base_uri": "https://localhost:8080/"
        },
        "outputId": "70655461-4d63-4c3f-8af0-12e8344c6300"
      },
      "execution_count": null,
      "outputs": [
        {
          "output_type": "execute_result",
          "data": {
            "text/plain": [
              "7"
            ]
          },
          "metadata": {},
          "execution_count": 46
        }
      ]
    },
    {
      "cell_type": "code",
      "source": [
        "listaX = [[1,2,3],[\"oi\", \"python\", [\"pandas\", \"numpy\",\"random\"]]]\n",
        "element = listaX[1][2][1]\n",
        "element = list(element)\n",
        "element[3]"
      ],
      "metadata": {
        "colab": {
          "base_uri": "https://localhost:8080/",
          "height": 35
        },
        "id": "THvfQmUw3hVD",
        "outputId": "924215d7-c575-4cf9-c79f-b92741bcb652"
      },
      "execution_count": null,
      "outputs": [
        {
          "output_type": "execute_result",
          "data": {
            "text/plain": [
              "'p'"
            ],
            "application/vnd.google.colaboratory.intrinsic+json": {
              "type": "string"
            }
          },
          "metadata": {},
          "execution_count": 80
        }
      ]
    },
    {
      "cell_type": "code",
      "source": [
        "minha_lista[:4]"
      ],
      "metadata": {
        "colab": {
          "base_uri": "https://localhost:8080/"
        },
        "id": "c4R0oDg53GBE",
        "outputId": "95db9b22-47e4-45a7-bc3f-d029fc1643b8"
      },
      "execution_count": null,
      "outputs": [
        {
          "output_type": "execute_result",
          "data": {
            "text/plain": [
              "[1, 3, [5, 7, 9], 2.1]"
            ]
          },
          "metadata": {},
          "execution_count": 44
        }
      ]
    },
    {
      "cell_type": "code",
      "source": [
        "minha_lista[2:]"
      ],
      "metadata": {
        "colab": {
          "base_uri": "https://localhost:8080/"
        },
        "id": "v4Cz9Rmu3Aso",
        "outputId": "30e8e5d0-d237-4df2-a4c6-5f33496f105d"
      },
      "execution_count": null,
      "outputs": [
        {
          "output_type": "execute_result",
          "data": {
            "text/plain": [
              "[[5, 7, 9], 2.1, 'Diego', 2.5, True]"
            ]
          },
          "metadata": {},
          "execution_count": 43
        }
      ]
    },
    {
      "cell_type": "code",
      "source": [
        "minha_lista[2:4]"
      ],
      "metadata": {
        "colab": {
          "base_uri": "https://localhost:8080/"
        },
        "id": "jQudVy4t2xQI",
        "outputId": "d1460665-9f12-4aaa-92b4-0667f128c9d2"
      },
      "execution_count": null,
      "outputs": [
        {
          "output_type": "execute_result",
          "data": {
            "text/plain": [
              "[[5, 7, 9], 2.1]"
            ]
          },
          "metadata": {},
          "execution_count": 42
        }
      ]
    },
    {
      "cell_type": "code",
      "source": [
        "minha_lista[1]\n",
        "type(minha_lista[1])"
      ],
      "metadata": {
        "colab": {
          "base_uri": "https://localhost:8080/"
        },
        "id": "DV4BbPZ72eFq",
        "outputId": "08ec0d88-0c68-4b81-90a1-9ab74c8e7911"
      },
      "execution_count": null,
      "outputs": [
        {
          "output_type": "execute_result",
          "data": {
            "text/plain": [
              "int"
            ]
          },
          "metadata": {},
          "execution_count": 38
        }
      ]
    },
    {
      "cell_type": "code",
      "source": [
        "minha_lista[2]\n",
        "type(minha_lista[2])"
      ],
      "metadata": {
        "colab": {
          "base_uri": "https://localhost:8080/"
        },
        "id": "tIwWxwDE2mbF",
        "outputId": "d3cacd70-2627-469d-ea90-414355054c02"
      },
      "execution_count": null,
      "outputs": [
        {
          "output_type": "execute_result",
          "data": {
            "text/plain": [
              "list"
            ]
          },
          "metadata": {},
          "execution_count": 39
        }
      ]
    },
    {
      "cell_type": "code",
      "source": [
        "minha_lista[4]\n",
        "type(minha_lista[4])"
      ],
      "metadata": {
        "colab": {
          "base_uri": "https://localhost:8080/"
        },
        "id": "mwLDFYZN2tdw",
        "outputId": "01e005e5-85e5-49d5-96d7-b6503033a4e9"
      },
      "execution_count": null,
      "outputs": [
        {
          "output_type": "execute_result",
          "data": {
            "text/plain": [
              "str"
            ]
          },
          "metadata": {},
          "execution_count": 40
        }
      ]
    },
    {
      "cell_type": "markdown",
      "source": [
        "Abaixo o que já vimos até agora + o step (passo)\n",
        "```python\n",
        "lista[começo:fim] # retorna começo até fim-1\n",
        "lista[começo:]     # retorna começo até final da lista\n",
        "lista[:fim]       # retorna início até fim-1\n",
        "lista[:]          # retorna toda a lista\n",
        "lista[começo:fim:passo] # retorna do começo ao fim-1 com um parâmetro de \"passo a passo\"\n",
        "```"
      ],
      "metadata": {
        "id": "Fomh-3FlIEq2"
      }
    },
    {
      "cell_type": "markdown",
      "source": [
        "Vamos agora ver o step/passo:\n",
        "\n",
        "```python\n",
        "minha_lista[inicio:fim:passo]\n",
        "```"
      ],
      "metadata": {
        "id": "rYXGw_3aj3JR"
      }
    },
    {
      "cell_type": "code",
      "source": [
        "minha_lista = ['a','b','c','d','e','f','g','h']\n",
        "minha_lista[2:5]"
      ],
      "metadata": {
        "id": "XSlo8dRDgqev",
        "colab": {
          "base_uri": "https://localhost:8080/"
        },
        "outputId": "ac34c3ac-70e3-49f3-e3ab-caf1ba9b4e98"
      },
      "execution_count": null,
      "outputs": [
        {
          "output_type": "execute_result",
          "data": {
            "text/plain": [
              "['c', 'd', 'e']"
            ]
          },
          "metadata": {},
          "execution_count": 54
        }
      ]
    },
    {
      "cell_type": "code",
      "source": [
        "minha_lista[0:5:2]"
      ],
      "metadata": {
        "colab": {
          "base_uri": "https://localhost:8080/"
        },
        "id": "3cmghOIG4lpm",
        "outputId": "33ee52da-99e5-4b42-fe91-a04292b1a296"
      },
      "execution_count": null,
      "outputs": [
        {
          "output_type": "execute_result",
          "data": {
            "text/plain": [
              "['a', 'c', 'e']"
            ]
          },
          "metadata": {},
          "execution_count": 57
        }
      ]
    },
    {
      "cell_type": "code",
      "source": [
        "minha_lista[::2]"
      ],
      "metadata": {
        "colab": {
          "base_uri": "https://localhost:8080/"
        },
        "id": "vdHiEtR743Mj",
        "outputId": "ea5889a5-f6a7-462b-ea46-62c2daeee4ce"
      },
      "execution_count": null,
      "outputs": [
        {
          "output_type": "execute_result",
          "data": {
            "text/plain": [
              "['a', 'c', 'e', 'g']"
            ]
          },
          "metadata": {},
          "execution_count": 60
        }
      ]
    },
    {
      "cell_type": "code",
      "source": [
        "minha_lista[::-1]"
      ],
      "metadata": {
        "colab": {
          "base_uri": "https://localhost:8080/"
        },
        "id": "Rxff6eie5c5R",
        "outputId": "d9b5d463-3d29-471a-bb53-7994bc4360e1"
      },
      "execution_count": null,
      "outputs": [
        {
          "output_type": "execute_result",
          "data": {
            "text/plain": [
              "['h', 'g', 'f', 'e', 'd', 'c', 'b', 'a']"
            ]
          },
          "metadata": {},
          "execution_count": 63
        }
      ]
    },
    {
      "cell_type": "markdown",
      "source": [
        "____\n",
        "\n",
        "*Lembrete importante:*\n",
        "\n",
        "Quando invertemos usando o step negativo, nosso [início:fim] mudam, pois agora é como se estivéssemos fazendo slice na lista invertida.\n",
        "\n",
        "Entretanto, a posição (índice) dos elementos da lista continuam iguais\n",
        "\n",
        "<center>\n",
        "sentido de leitura do slice &rarr;\n",
        "\n",
        "índice: | 0 | 1 | 2 | 3 | 4 | 5 | 6\n",
        "--- | --- | --- | --- | --- | --- | --- | --- |\n",
        "minha_lista| \"a\" | \"b\" | \"c\" | \"d\" | \"e\" | \"f\" | \"g\" |\n",
        "índice: | -7 | -6 | -5 | -4 | -3 | -2 | -1\n",
        "\n",
        "</center>\n",
        "\n",
        "<br><br>\n",
        "quando step negativo, a lista é invertida[ : : -1]\n",
        "<center>\n",
        "sentido de leitura do slice &rarr;\n",
        "\n",
        "índice: | 6 | 5 | 4 | 3 | 2 | 1 | 0\n",
        "--- | --- | --- | --- | --- | --- | --- | --- |\n",
        "minha_lista[::-1]| \"g\" | \"f\" | \"e\" | \"d\" | \"c\" | \"b\" | \"a\" |\n",
        "índice: | -1 | -2 | -3 | -4 | -5 | -6 | -7\n",
        "\n",
        "</center>\n",
        "\n",
        "Apesar da reorganização dos elementos, os índices de cada continuam os mesmos.\n",
        "\n",
        "Vamos a um exemplo:"
      ],
      "metadata": {
        "id": "bGV9UIkCVMiO"
      }
    },
    {
      "cell_type": "code",
      "source": [
        "minha_lista = [\"a\", \"b\", \"c\", \"d\", \"e\", \"f\", \"g\"]\n"
      ],
      "metadata": {
        "id": "eDoaE_U9g5L1"
      },
      "execution_count": null,
      "outputs": []
    },
    {
      "cell_type": "code",
      "source": [
        "minha_lista = minha_lista[::-1]\n",
        "minha_lista[0]"
      ],
      "metadata": {
        "id": "nurEKVM0c3gL",
        "colab": {
          "base_uri": "https://localhost:8080/",
          "height": 35
        },
        "outputId": "aa0165bf-ce0f-499a-d882-beb6b1c36dfa"
      },
      "execution_count": null,
      "outputs": [
        {
          "output_type": "execute_result",
          "data": {
            "text/plain": [
              "'g'"
            ],
            "application/vnd.google.colaboratory.intrinsic+json": {
              "type": "string"
            }
          },
          "metadata": {},
          "execution_count": 66
        }
      ]
    },
    {
      "cell_type": "markdown",
      "metadata": {
        "id": "CIZRLY8QQr5S"
      },
      "source": [
        "____\n",
        "#### Operações com listas\n",
        "\n",
        "*SOMA*\n",
        "\n",
        "ao **somar listas**, os elementos são **concatenados**, na ordem dada, para formar uma lista maior:"
      ]
    },
    {
      "cell_type": "code",
      "source": [
        "lista1 = [1,2,3]\n",
        "lista2=[\"a\",\"b\",\"c\",123]\n",
        "\n",
        "lista1 + lista2 #remete a união / concatenação das listas"
      ],
      "metadata": {
        "id": "12S24R3NhNHb",
        "colab": {
          "base_uri": "https://localhost:8080/"
        },
        "outputId": "94caca29-5549-4411-ce64-c39df6c1a026"
      },
      "execution_count": null,
      "outputs": [
        {
          "output_type": "execute_result",
          "data": {
            "text/plain": [
              "[1, 2, 3, 'a', 'b', 'c', 123]"
            ]
          },
          "metadata": {},
          "execution_count": 104
        }
      ]
    },
    {
      "cell_type": "code",
      "source": [
        "lista1"
      ],
      "metadata": {
        "colab": {
          "base_uri": "https://localhost:8080/"
        },
        "id": "4bok4eII6yrJ",
        "outputId": "f8a1c6da-9ddb-4f02-c31c-d3da696a8f72"
      },
      "execution_count": null,
      "outputs": [
        {
          "output_type": "execute_result",
          "data": {
            "text/plain": [
              "[1, 2, 3]"
            ]
          },
          "metadata": {},
          "execution_count": 68
        }
      ]
    },
    {
      "cell_type": "code",
      "source": [
        "lista2"
      ],
      "metadata": {
        "colab": {
          "base_uri": "https://localhost:8080/"
        },
        "id": "GW9YoJvw60JV",
        "outputId": "030a04f1-2bad-43f9-e3f9-dfc1ae14c175"
      },
      "execution_count": null,
      "outputs": [
        {
          "output_type": "execute_result",
          "data": {
            "text/plain": [
              "['a', 'b', 'c', 123]"
            ]
          },
          "metadata": {},
          "execution_count": 69
        }
      ]
    },
    {
      "cell_type": "code",
      "source": [
        "lista3 = lista1 + lista2\n",
        "lista3"
      ],
      "metadata": {
        "colab": {
          "base_uri": "https://localhost:8080/"
        },
        "id": "Efwf2ALG65F2",
        "outputId": "f82d885d-81e8-4ec7-d66c-b7402d2b9034"
      },
      "execution_count": null,
      "outputs": [
        {
          "output_type": "execute_result",
          "data": {
            "text/plain": [
              "[1, 2, 3, 'a', 'b', 'c', 123]"
            ]
          },
          "metadata": {},
          "execution_count": 71
        }
      ]
    },
    {
      "cell_type": "code",
      "source": [
        "# soma funciona como concatenação\n",
        "\n",
        "# não funciona:\n",
        "# - subtracao\n",
        "# - multiplicacao\n",
        "# - divisao"
      ],
      "metadata": {
        "id": "_OgLeY-shNOH"
      },
      "execution_count": null,
      "outputs": []
    },
    {
      "cell_type": "markdown",
      "metadata": {
        "id": "mHznZ82DQr5T"
      },
      "source": [
        "*MULTIPLICAÇÃO*\n",
        "\n",
        "Ao multiplicar listas por um inteiro, os elementos são repetidos, na ordem que aparecem:"
      ]
    },
    {
      "cell_type": "code",
      "source": [
        "# nos tipos que vimos, só é possível multiplicar listas com o tipo inteiro\n",
        "lista1 * 2\n"
      ],
      "metadata": {
        "id": "SOJ3sBuphO2u",
        "colab": {
          "base_uri": "https://localhost:8080/"
        },
        "outputId": "eb3ae258-0fc9-4927-ac68-4cdbc895e90a"
      },
      "execution_count": null,
      "outputs": [
        {
          "output_type": "execute_result",
          "data": {
            "text/plain": [
              "[1, 2, 3, 1, 2, 3]"
            ]
          },
          "metadata": {},
          "execution_count": 75
        }
      ]
    },
    {
      "cell_type": "markdown",
      "metadata": {
        "id": "VprA-U6vQr5T"
      },
      "source": [
        "Se quisermos de fato somar os elementos de duas listas, ou multiplicá-los por algum número, temos que usar um **laço**, como veremos logo mais!"
      ]
    },
    {
      "cell_type": "markdown",
      "metadata": {
        "id": "JUBdY7ysQr5T"
      },
      "source": [
        "É possível transformar strings em uma **lista de caracteres**:"
      ]
    },
    {
      "cell_type": "code",
      "source": [
        "lx = list('numpy')\n",
        "lx[3]"
      ],
      "metadata": {
        "id": "KmhITvT5hQaO",
        "colab": {
          "base_uri": "https://localhost:8080/",
          "height": 35
        },
        "outputId": "127c1ef1-fbea-45e5-a8ef-55cdd473e0bb"
      },
      "execution_count": null,
      "outputs": [
        {
          "output_type": "execute_result",
          "data": {
            "text/plain": [
              "'p'"
            ],
            "application/vnd.google.colaboratory.intrinsic+json": {
              "type": "string"
            }
          },
          "metadata": {},
          "execution_count": 77
        }
      ]
    },
    {
      "cell_type": "markdown",
      "source": [
        "####DESAFIO\n",
        "\n",
        "Crie a lista abaixo em uma variável chamada minha_lista. A lista abaixo contém 50 elementos variados, incluindo inteiros, float, strings, valores booleanos e até outra lista.\n",
        "\n",
        "```python\n",
        "[1, 3.14, \"Python\", True, [10, 20, 30], \"Lista\", 42, 2.718, False, [1, 2, 3], \"Variada\", 7, 0.5, True, \"Elementos\", [100, 200, 300], \"Misturados\", 9, 2.0, False, \"Em\", [4, 5, 6], 5, 1.618, True, \"Uma\", [7, 8, 9], \"Única\", 11, 3.0, False, \"Lista\", [11, 12, 13], \"Para\", 13, 4.0, True, \"Praticar\", [14, 15, 16], \"Python\", 17, 5.0, False, \"Programação\", [17, 18, 19]]\n",
        "```\n",
        "\n",
        "1. Crie uma nova lista chamada sublista que contenha os elementos do índice 2 (inclusive) até o índice 7 (exclusivo).\n",
        "2. Crie uma nova lista chamada primeiros_5 que contenha os cinco primeiros elementos da minha_lista.\n",
        "3. Crie uma nova lista chamada ultimos_4 que contenha os quatro últimos elementos da minha_lista.\n",
        "4. Crie uma nova lista chamada sublista_2, dentro dela deverá conter:\n",
        "  *   Índice 2 e 3\n",
        "  *   Do elemento de índice 4, extraia apenas os elementos de índice 1 e 2\n",
        "  *   Do último elemento da lista principal, extraia apenas o elemento de índice 1\n",
        "5. Refaça o exercício anterior, trazendo cada tópico como uma lista, dentro de uma lista principal chamada principal.\n"
      ],
      "metadata": {
        "id": "tGA8HEtuTItf"
      }
    },
    {
      "cell_type": "code",
      "source": [
        "minha_lista = [1, 3.14, \"Python\", True, [10, 20, 30], \"Lista\", 42, 2.718, False, [1, 2, 3], \"Variada\", 7, 0.5, True, \"Elementos\", [100, 200, 300], \"Misturados\", 9, 2.0, False, \"Em\", [4, 5, 6], 5, 1.618, True, \"Uma\", [7, 8, 9], \"Única\", 11, 3.0, False, \"Lista\", [11, 12, 13], \"Para\", 13, 4.0, True, \"Praticar\", [14, 15, 16], \"Python\", 17, 5.0, False, \"Programação\", [17, 18, 19]]\n",
        "type(minha_lista)\n",
        "minha_lista"
      ],
      "metadata": {
        "id": "Qd29OfOmD8a5"
      },
      "execution_count": null,
      "outputs": []
    },
    {
      "cell_type": "code",
      "source": [
        "#exercício 1\n",
        "sublista = minha_lista[2:7]\n",
        "sublista"
      ],
      "metadata": {
        "colab": {
          "base_uri": "https://localhost:8080/"
        },
        "id": "uLa8YUYyEOYD",
        "outputId": "1ee190ae-9582-4792-9ad8-cc9915c49bdb"
      },
      "execution_count": null,
      "outputs": [
        {
          "output_type": "execute_result",
          "data": {
            "text/plain": [
              "['Python', True, [10, 20, 30], 'Lista', 42]"
            ]
          },
          "metadata": {},
          "execution_count": 84
        }
      ]
    },
    {
      "cell_type": "code",
      "source": [
        "#exercicio 2\n",
        "primeiros_5 =minha_lista[:5]\n",
        "primeiros_5"
      ],
      "metadata": {
        "colab": {
          "base_uri": "https://localhost:8080/"
        },
        "id": "PxjHGBynEf0t",
        "outputId": "ff7941e4-e213-4a91-dea7-adbc7316ad1f"
      },
      "execution_count": null,
      "outputs": [
        {
          "output_type": "execute_result",
          "data": {
            "text/plain": [
              "[1, 3.14, 'Python', True, [10, 20, 30]]"
            ]
          },
          "metadata": {},
          "execution_count": 85
        }
      ]
    },
    {
      "cell_type": "code",
      "source": [
        "#exercicio 3\n",
        "ultimos_4 = minha_lista[-4:]\n",
        "ultimos_4"
      ],
      "metadata": {
        "colab": {
          "base_uri": "https://localhost:8080/"
        },
        "id": "B2yqulfyEvu7",
        "outputId": "b9b41a70-7825-48e6-c588-8f9e8559bb9b"
      },
      "execution_count": null,
      "outputs": [
        {
          "output_type": "execute_result",
          "data": {
            "text/plain": [
              "[5.0, False, 'Programação', [17, 18, 19]]"
            ]
          },
          "metadata": {},
          "execution_count": 87
        }
      ]
    },
    {
      "cell_type": "code",
      "source": [
        "'''Crie uma nova lista chamada sublista_2, dentro dela deverá conter:\n",
        "Índice 2 e 3\n",
        "Do elemento de índice 4, extraia apenas os elementos de índice 1 e 2\n",
        "Do último elemento da lista principal, extraia apenas o elemento de índice 1'''\n",
        "\n",
        "x = minha_lista[2:4]\n",
        "print(x)\n",
        "z = minha_lista[4][1:]\n",
        "print(z)\n",
        "y = [minha_lista[-1][1]]\n",
        "print(y)\n",
        "\n",
        "sublista_2 = x + y + z\n",
        "sublista_2"
      ],
      "metadata": {
        "colab": {
          "base_uri": "https://localhost:8080/"
        },
        "id": "dYPfLLjgFIFd",
        "outputId": "e1acb1c3-5f70-4e7f-9629-ad3e05af99cc"
      },
      "execution_count": null,
      "outputs": [
        {
          "output_type": "stream",
          "name": "stdout",
          "text": [
            "['Python', True]\n",
            "[20, 30]\n",
            "18\n"
          ]
        },
        {
          "output_type": "execute_result",
          "data": {
            "text/plain": [
              "['Python', True, 18, 20, 30]"
            ]
          },
          "metadata": {},
          "execution_count": 102
        }
      ]
    },
    {
      "cell_type": "code",
      "source": [
        "x = minha_lista[2:4]\n",
        "print(x)\n",
        "z = minha_lista[4][1:]\n",
        "print(z)\n",
        "y = [minha_lista[-1][1]]\n",
        "print(y)\n",
        "\n",
        "sublista_2 = [x, y, z]\n",
        "sublista_2"
      ],
      "metadata": {
        "colab": {
          "base_uri": "https://localhost:8080/"
        },
        "id": "t1WZFEpuHQIM",
        "outputId": "9855db6e-7066-41eb-f3e2-c47cdbd5f812"
      },
      "execution_count": null,
      "outputs": [
        {
          "output_type": "stream",
          "name": "stdout",
          "text": [
            "['Python', True]\n",
            "[20, 30]\n",
            "[18]\n"
          ]
        },
        {
          "output_type": "execute_result",
          "data": {
            "text/plain": [
              "[['Python', True], [18], [20, 30]]"
            ]
          },
          "metadata": {},
          "execution_count": 101
        }
      ]
    },
    {
      "cell_type": "code",
      "source": [
        "sublista_2 = minha_lista[2:4] + minha_lista[4][1:] + [minha_lista[-1][1]]\n",
        "sublista_2"
      ],
      "metadata": {
        "colab": {
          "base_uri": "https://localhost:8080/"
        },
        "id": "RUPTC6DnIG3t",
        "outputId": "607c5db6-2989-4395-c480-fa7c4c9bff89"
      },
      "execution_count": null,
      "outputs": [
        {
          "output_type": "execute_result",
          "data": {
            "text/plain": [
              "['Python', True, 20, 30, 18]"
            ]
          },
          "metadata": {},
          "execution_count": 106
        }
      ]
    },
    {
      "cell_type": "markdown",
      "source": [
        "#### NOTA 1\n",
        "\n",
        "É possível localizar um elemento em uma lista pelo próprio valor, em vez de usar um índice, em Python. Você pode usar a função index() para fazer isso. A função index() permite encontrar o índice da primeira ocorrência de um valor específico na lista.\n"
      ],
      "metadata": {
        "id": "hXkSdEJhdG3S"
      }
    },
    {
      "cell_type": "code",
      "source": [
        "# Encontrando o índice do valor 30 na lista\n",
        "lista = [10,20,30,40,30,60]\n",
        "\n",
        "lista.index(30)\n",
        "\n"
      ],
      "metadata": {
        "id": "rPrLPSm4dM3D",
        "colab": {
          "base_uri": "https://localhost:8080/"
        },
        "outputId": "564a731e-bddb-44a4-c705-9a6df82d5bc7"
      },
      "execution_count": null,
      "outputs": [
        {
          "output_type": "execute_result",
          "data": {
            "text/plain": [
              "2"
            ]
          },
          "metadata": {},
          "execution_count": 2
        }
      ]
    },
    {
      "cell_type": "markdown",
      "metadata": {
        "id": "eBEbRveSQr5U"
      },
      "source": [
        "___\n",
        "\n",
        "### Métodos e funções de listas\n",
        "\n",
        "Listas são estruturas de dados que armazenam coleções ordenadas de elementos. Elas oferecem uma variedade de métodos e funções embutidos para manipular e interagir com os dados armazenados\n",
        "\n",
        "Existem várias funções/métodos de listas, como:\n",
        "  *   append\n",
        "  *   insert\n",
        "  *   remove\n",
        "  *   pop\n",
        "  *   sort\n",
        "  *   sorted\n",
        "  *   reverse\n",
        "  *   index\n",
        "  *   max, min, len\n",
        "\n",
        "Link com os métodos de listas: https://www.w3schools.com/python/python_ref_list.asp"
      ]
    },
    {
      "cell_type": "code",
      "source": [
        "soma(variavel)\n",
        "variavel.calculo(operacao=\"soma\")\n",
        "# ambos os exemplos são funções\n",
        "# mas o último exemplo também é um método"
      ],
      "metadata": {
        "id": "miXU0Hxot5jX"
      },
      "execution_count": null,
      "outputs": []
    },
    {
      "cell_type": "markdown",
      "metadata": {
        "id": "3rqN9RdnQr5U"
      },
      "source": [
        "Abaixo alguns exemplos de manipulação de listas.\n",
        "\n",
        "Para adicionar um elemento **ao fim da lista**, usamos o \".append()\".\n",
        "\n",
        "**OBS.: só podemos apendar um único elemento por vez!**"
      ]
    },
    {
      "cell_type": "code",
      "source": [
        "# lista inicial\n",
        "lista = [1, 2, 3]\n",
        "\n",
        "# print da lista antes do append\n",
        "print(f'lista antes do append {lista}')\n",
        "\n",
        "# append\n",
        "lista.append([11,12,13])\n",
        "\n",
        "# print da lista após o append\n",
        "print(f'lista após o append {lista}')\n"
      ],
      "metadata": {
        "id": "TuA9Psh6hUuW",
        "colab": {
          "base_uri": "https://localhost:8080/"
        },
        "outputId": "9b1aed9b-2875-4891-86af-1ed8a852e265"
      },
      "execution_count": null,
      "outputs": [
        {
          "output_type": "stream",
          "name": "stdout",
          "text": [
            "lista antes do append [1, 2, 3]\n",
            "lista após o append [1, 2, 3, [11, 12, 13]]\n"
          ]
        }
      ]
    },
    {
      "cell_type": "markdown",
      "metadata": {
        "id": "gUmnF56yQr5V"
      },
      "source": [
        "Se você quiser adicionar um elemento numa **posição específica**, use a função \"insert()\", onde o primeiro argumento é a posição, e o segundo é o elemento:\n",
        "\n",
        "- só podemos inserir um único elemento por vez\n",
        "- ele \"empurrará\" para o lado caso a gente insira em um índice já ocupado por um elemento"
      ]
    },
    {
      "cell_type": "code",
      "source": [
        "# inserindo um elemento na posição inicial\n",
        "lista = ['a','b','c']\n",
        "lista.insert(2, True)\n",
        "lista\n"
      ],
      "metadata": {
        "id": "q422rdQYhWjO",
        "colab": {
          "base_uri": "https://localhost:8080/"
        },
        "outputId": "294eb874-4397-44f2-e4a6-a70924d52816"
      },
      "execution_count": null,
      "outputs": [
        {
          "output_type": "execute_result",
          "data": {
            "text/plain": [
              "['a', 'b', True, 'c']"
            ]
          },
          "metadata": {},
          "execution_count": 7
        }
      ]
    },
    {
      "cell_type": "markdown",
      "metadata": {
        "id": "V8VI3aoJQr5V"
      },
      "source": [
        "Podemos, também, **redefinir um elemento da lista individualmente**. Para isso, basta selecionarmos este elemento, e redefiní-lo:"
      ]
    },
    {
      "cell_type": "code",
      "source": [
        "# redefinindo um elemento pela posicao\n",
        "lista = ['a','b','c']\n",
        "lista[1] = 2\n",
        "lista"
      ],
      "metadata": {
        "id": "cCb6PmW7hZLI",
        "colab": {
          "base_uri": "https://localhost:8080/"
        },
        "outputId": "5b238d12-7ec8-42d0-8798-933ce2ce0525"
      },
      "execution_count": null,
      "outputs": [
        {
          "output_type": "execute_result",
          "data": {
            "text/plain": [
              "['a', 2, 'c']"
            ]
          },
          "metadata": {},
          "execution_count": 11
        }
      ]
    },
    {
      "cell_type": "code",
      "source": [
        "lista[-1] = 3\n",
        "lista"
      ],
      "metadata": {
        "colab": {
          "base_uri": "https://localhost:8080/"
        },
        "id": "STEkWT0T5HDc",
        "outputId": "0c83a3f2-22ce-4eaa-cccc-f7024c2802ac"
      },
      "execution_count": null,
      "outputs": [
        {
          "output_type": "execute_result",
          "data": {
            "text/plain": [
              "['a', 2, 3]"
            ]
          },
          "metadata": {},
          "execution_count": 12
        }
      ]
    },
    {
      "cell_type": "markdown",
      "source": [
        "Já o \".extend()\" irá inserir os elementos na lista de sua escolha"
      ],
      "metadata": {
        "id": "mjt06Ag12eb5"
      }
    },
    {
      "cell_type": "code",
      "source": [
        "'''Este exemplo é uma concatenação, já o exetend deve ser entendido com a adição\n",
        "de uma lista em outra'''\n",
        "\n",
        "lista1 = ['oi', False, 3]\n",
        "lista2 = [1,2,4]\n",
        "lista1 + lista2\n"
      ],
      "metadata": {
        "id": "jE_laZuaxgFg",
        "colab": {
          "base_uri": "https://localhost:8080/"
        },
        "outputId": "1f04d49b-f3ad-433c-e508-466edccb1a19"
      },
      "execution_count": null,
      "outputs": [
        {
          "output_type": "execute_result",
          "data": {
            "text/plain": [
              "['oi', False, 3, 1, 2, 4]"
            ]
          },
          "metadata": {},
          "execution_count": 50
        }
      ]
    },
    {
      "cell_type": "code",
      "source": [
        "# operação de concatenacao lista1 + lista2, só que nesse caso altera a lista1\n",
        "\n",
        "lista1 = ['oi', False, 3]\n",
        "lista2 = [1,2,4]\n",
        "print(f'lista1 antes do extend {lista1}')\n",
        "\n",
        "lista1.extend(lista2)\n",
        "print(f'lista1 depois do extend {lista1}')"
      ],
      "metadata": {
        "id": "kSl_FTuthilI",
        "colab": {
          "base_uri": "https://localhost:8080/"
        },
        "outputId": "031b3bab-9b09-4a78-8231-b1ab981294e1"
      },
      "execution_count": null,
      "outputs": [
        {
          "output_type": "stream",
          "name": "stdout",
          "text": [
            "lista1 antes do extend ['oi', False, 3]\n",
            "lista1 depois do extend ['oi', False, 3, 1, 2, 4]\n"
          ]
        }
      ]
    },
    {
      "cell_type": "markdown",
      "metadata": {
        "id": "sSVrWta7Qr52"
      },
      "source": [
        "Para remover um elemento da lista:\n",
        "\n",
        "podemos usar \".remove()\".\n",
        "\n",
        "- OBS.: Essa função remove apenas a primeira aparição do elemento"
      ]
    },
    {
      "cell_type": "code",
      "source": [
        "# removendo um elemento\n",
        "lista = ['a','b','c',2,44,5.5,'b', True,0]\n",
        "lista.remove('b')\n",
        "lista"
      ],
      "metadata": {
        "id": "VnZlMkZ-ioEN"
      },
      "execution_count": null,
      "outputs": []
    },
    {
      "cell_type": "markdown",
      "metadata": {
        "id": "ewjEHbeVQr52"
      },
      "source": [
        "Se você quiser remover um elemento de determinado índice, use \".pop()\":"
      ]
    },
    {
      "cell_type": "code",
      "source": [
        "# removendo elemento pelo indice\n",
        "lista = ['a','b','c',2,44,5.5,'b', True,0]\n",
        "lista.pop(7)\n",
        "lista"
      ],
      "metadata": {
        "id": "F_BAVqghirqA",
        "colab": {
          "base_uri": "https://localhost:8080/"
        },
        "outputId": "1dead240-2107-4630-d3ea-1cba6e3d02be"
      },
      "execution_count": null,
      "outputs": [
        {
          "output_type": "execute_result",
          "data": {
            "text/plain": [
              "['a', 'b', 'c', 2, 44, 5.5, 'b', 0]"
            ]
          },
          "metadata": {},
          "execution_count": 18
        }
      ]
    },
    {
      "cell_type": "code",
      "source": [],
      "metadata": {
        "id": "8tKOvBfFiwXE"
      },
      "execution_count": null,
      "outputs": []
    },
    {
      "cell_type": "markdown",
      "metadata": {
        "id": "FyiD27vfQr53"
      },
      "source": [
        "Muitas vezes é interessante **ordenar a lista**. Pra fazer isso, usamos a função sorted() ou .sort().\n",
        "\n",
        "- essa função só funciona para listas com o mesmo \"tipo\" de dado\n",
        "\n",
        "A diferença principal entre .sort() e sorted() em Python está relacionada ao modo como eles ordenam uma lista.\n",
        "\n",
        "lista.sort():\n",
        "*   É um método aplicado diretamente a uma lista.\n",
        "*   Modifica a lista original in-place, ou seja, a lista é alterada diretamente.\n",
        "*   Não retorna uma nova lista, apenas ordena a lista existente.\n",
        "*   É mais eficiente em termos de uso de memória, pois não cria uma nova lista.\n",
        "\n",
        "sorted(iterável):\n",
        "*   É uma função incorporada que aceita um iterável (como uma lista) como entrada.\n",
        "*   Retorna uma nova lista ordenada, deixando o iterável original inalterado.\n",
        "*   Não modifica o iterável original e cria uma nova lista com os elementos ordenados.\n",
        "*   É útil quando você deseja preservar a ordem original do iterável."
      ]
    },
    {
      "cell_type": "code",
      "source": [
        "string = [\"a\", \"babu\",9]\n",
        "sorted(string)"
      ],
      "metadata": {
        "id": "pvdTMV12i7R8",
        "colab": {
          "base_uri": "https://localhost:8080/",
          "height": 193
        },
        "outputId": "2ddea06e-a3fe-4411-d323-b4e6619f8b89"
      },
      "execution_count": null,
      "outputs": [
        {
          "output_type": "error",
          "ename": "TypeError",
          "evalue": "ignored",
          "traceback": [
            "\u001b[0;31m---------------------------------------------------------------------------\u001b[0m",
            "\u001b[0;31mTypeError\u001b[0m                                 Traceback (most recent call last)",
            "\u001b[0;32m<ipython-input-22-776dd0304f55>\u001b[0m in \u001b[0;36m<cell line: 2>\u001b[0;34m()\u001b[0m\n\u001b[1;32m      1\u001b[0m \u001b[0mstring\u001b[0m \u001b[0;34m=\u001b[0m \u001b[0;34m[\u001b[0m\u001b[0;34m\"a\"\u001b[0m\u001b[0;34m,\u001b[0m \u001b[0;34m\"babu\"\u001b[0m\u001b[0;34m,\u001b[0m\u001b[0;36m9\u001b[0m\u001b[0;34m]\u001b[0m\u001b[0;34m\u001b[0m\u001b[0;34m\u001b[0m\u001b[0m\n\u001b[0;32m----> 2\u001b[0;31m \u001b[0msorted\u001b[0m\u001b[0;34m(\u001b[0m\u001b[0mstring\u001b[0m\u001b[0;34m)\u001b[0m\u001b[0;34m\u001b[0m\u001b[0;34m\u001b[0m\u001b[0m\n\u001b[0m",
            "\u001b[0;31mTypeError\u001b[0m: '<' not supported between instances of 'int' and 'str'"
          ]
        }
      ]
    },
    {
      "cell_type": "code",
      "source": [
        "# ordenando lista de strings: por ordem alfabética, segundo a tabela ascii\n",
        "lista = [3,2,2.2,5,-34]\n",
        "list_sorted = sorted(lista)"
      ],
      "metadata": {
        "id": "UcO7d2EUpg_F"
      },
      "execution_count": null,
      "outputs": []
    },
    {
      "cell_type": "code",
      "source": [
        "print(lista)\n",
        "print(list_sorted)"
      ],
      "metadata": {
        "colab": {
          "base_uri": "https://localhost:8080/"
        },
        "id": "useffc0s9L7T",
        "outputId": "94c1a672-a677-4b02-c438-dcec696dcd65"
      },
      "execution_count": null,
      "outputs": [
        {
          "output_type": "stream",
          "name": "stdout",
          "text": [
            "[3, 2, 2.2, 5, -34]\n",
            "[-34, 2, 2.2, 3, 5]\n"
          ]
        }
      ]
    },
    {
      "cell_type": "markdown",
      "metadata": {
        "id": "K1JQp7EKQr56"
      },
      "source": [
        "Para ordenar uma lista na ordem inversa (maior pro menor), podemos adicionar o parâmetro a seguir:"
      ]
    },
    {
      "cell_type": "code",
      "source": [
        "# inverte a ordem\n",
        "sorted(lista, reverse=True)\n"
      ],
      "metadata": {
        "id": "XAj3m76LjBn8",
        "colab": {
          "base_uri": "https://localhost:8080/"
        },
        "outputId": "3f4db495-ec9a-42ac-8b7b-069c1ccaedc0"
      },
      "execution_count": null,
      "outputs": [
        {
          "output_type": "execute_result",
          "data": {
            "text/plain": [
              "[5, 3, 2.2, 2, -34]"
            ]
          },
          "metadata": {},
          "execution_count": 29
        }
      ]
    },
    {
      "cell_type": "code",
      "source": [
        "# uma outra maneira de ordenar sua lista, usando .sort()\n",
        "lista.sort()\n",
        "lista"
      ],
      "metadata": {
        "id": "Zyuaz0yajBsR",
        "colab": {
          "base_uri": "https://localhost:8080/"
        },
        "outputId": "a0e3ed0e-313f-4a25-bf41-be3b1753ac0a"
      },
      "execution_count": null,
      "outputs": [
        {
          "output_type": "execute_result",
          "data": {
            "text/plain": [
              "[-34, 2, 2.2, 3, 5]"
            ]
          },
          "metadata": {},
          "execution_count": 31
        }
      ]
    },
    {
      "cell_type": "markdown",
      "metadata": {
        "id": "oTBK0vl2Qr55"
      },
      "source": [
        "Para **inverter a ordem dos elementos**, use a função **reverse()**"
      ]
    },
    {
      "cell_type": "code",
      "source": [
        "lista = [34, 2, 5, 8, -34]\n",
        "\n",
        "# essa é a forma de inverter a lista\n",
        "lista.reverse()\n",
        "lista\n"
      ],
      "metadata": {
        "id": "3zKDLC9tjFJT",
        "colab": {
          "base_uri": "https://localhost:8080/"
        },
        "outputId": "cae75792-9c85-4583-92b0-01db78920fdf"
      },
      "execution_count": null,
      "outputs": [
        {
          "output_type": "execute_result",
          "data": {
            "text/plain": [
              "[-34, 8, 5, 2, 34]"
            ]
          },
          "metadata": {},
          "execution_count": 35
        }
      ]
    },
    {
      "cell_type": "markdown",
      "metadata": {
        "id": "nWsm_qgNQr57"
      },
      "source": [
        "Se quisermos saber **qual é a posição (índice) de determinado elemento**, podemos nos aproveitar de dois recursos no python:\n",
        "\n",
        "- questionar se um elemento pertence a uma lista, usando a sintaxe\n",
        "```python\n",
        "elemento in lista\n",
        "```\n",
        "\n",
        "- usamos o método \".index()\". Este método retorna apenas a **primeira aparição** do elemento:"
      ]
    },
    {
      "cell_type": "code",
      "source": [
        "lista = [34, 2, 5, 8, -34]\n",
        "lista\n",
        "\n",
        "8 in lista"
      ],
      "metadata": {
        "colab": {
          "base_uri": "https://localhost:8080/"
        },
        "id": "QSIF3gbj_L1Q",
        "outputId": "8525e3f4-2966-4254-e48f-8104b728945c"
      },
      "execution_count": null,
      "outputs": [
        {
          "output_type": "execute_result",
          "data": {
            "text/plain": [
              "True"
            ]
          },
          "metadata": {},
          "execution_count": 40
        }
      ]
    },
    {
      "cell_type": "code",
      "source": [
        "lista.index(8)"
      ],
      "metadata": {
        "colab": {
          "base_uri": "https://localhost:8080/"
        },
        "id": "lsN_Rv9k_VoL",
        "outputId": "698c5a45-88b7-4baa-a25b-4fa24e4da48f"
      },
      "execution_count": null,
      "outputs": [
        {
          "output_type": "execute_result",
          "data": {
            "text/plain": [
              "3"
            ]
          },
          "metadata": {},
          "execution_count": 39
        }
      ]
    },
    {
      "cell_type": "code",
      "source": [
        "lista = [34, 2, 5, 8, -34]\n",
        "elemento = int(input('Informe o valor a pesquisar: '))\n",
        "\n",
        "if elemento in lista:\n",
        "  print('Valor encontrado')\n",
        "else:\n",
        "  print('valor não existe na lista')"
      ],
      "metadata": {
        "colab": {
          "base_uri": "https://localhost:8080/"
        },
        "id": "Hl1VbDkC_mM6",
        "outputId": "2b2647d9-2920-485a-a66a-4f614a918142"
      },
      "execution_count": null,
      "outputs": [
        {
          "output_type": "stream",
          "name": "stdout",
          "text": [
            "Informe o valor a pesquisar: 8\n",
            "Valor encontrado\n"
          ]
        }
      ]
    },
    {
      "cell_type": "markdown",
      "source": [
        "Se quisermos encontrar a recorrência de um determinado elemento na nossa lista, podemos utilizar o .count()"
      ],
      "metadata": {
        "id": "sEgZCqV1AdmS"
      }
    },
    {
      "cell_type": "code",
      "source": [
        "#lista = [34, 2, 5, 8, 2,2,5,6,6,7,8]\n",
        "lista.remove(2)\n",
        "lista.count(2)"
      ],
      "metadata": {
        "colab": {
          "base_uri": "https://localhost:8080/"
        },
        "id": "zW2CQqZTAiXP",
        "outputId": "b1986d1a-430e-4fa8-b28a-e318bc9f7753"
      },
      "execution_count": null,
      "outputs": [
        {
          "output_type": "execute_result",
          "data": {
            "text/plain": [
              "0"
            ]
          },
          "metadata": {},
          "execution_count": 49
        }
      ]
    },
    {
      "cell_type": "code",
      "source": [
        "lista = [34, 2, 5, 8, 2,2,5,6,6,7,8]\n",
        "lista.count(2)"
      ],
      "metadata": {
        "colab": {
          "base_uri": "https://localhost:8080/"
        },
        "id": "_VkRnnx7JSQ4",
        "outputId": "625fc1fa-4643-4695-c5dc-610a0b62b60c"
      },
      "execution_count": null,
      "outputs": [
        {
          "output_type": "execute_result",
          "data": {
            "text/plain": [
              "3"
            ]
          },
          "metadata": {},
          "execution_count": 1
        }
      ]
    },
    {
      "cell_type": "markdown",
      "source": [
        "Podemo remover elementos de uma lista usando del através do índice, ele permitirá remover um único elemento ou um intervalo quando combinado com slicing"
      ],
      "metadata": {
        "id": "oOBUxjs5HrKW"
      }
    },
    {
      "cell_type": "code",
      "source": [
        "lista = [34, 2, 5, 8, 2,2,5,6,6,7,8]\n",
        "del lista[0]\n",
        "lista"
      ],
      "metadata": {
        "colab": {
          "base_uri": "https://localhost:8080/"
        },
        "id": "mUNFo-KJIJsA",
        "outputId": "109dd2c5-c51c-448d-d2aa-c7677fedfdf3"
      },
      "execution_count": null,
      "outputs": [
        {
          "output_type": "execute_result",
          "data": {
            "text/plain": [
              "[2, 5, 8, 2, 2, 5, 6, 6, 7, 8]"
            ]
          },
          "metadata": {},
          "execution_count": 66
        }
      ]
    },
    {
      "cell_type": "code",
      "source": [
        "del lista[2:6]\n",
        "lista"
      ],
      "metadata": {
        "colab": {
          "base_uri": "https://localhost:8080/"
        },
        "id": "hg3IByunIQ4B",
        "outputId": "4407fd03-0d77-4da0-d134-6a2c9dac812b"
      },
      "execution_count": null,
      "outputs": [
        {
          "output_type": "execute_result",
          "data": {
            "text/plain": [
              "[2, 5, 6, 6, 7, 8]"
            ]
          },
          "metadata": {},
          "execution_count": 67
        }
      ]
    },
    {
      "cell_type": "code",
      "source": [
        "del lista[:]\n",
        "lista"
      ],
      "metadata": {
        "colab": {
          "base_uri": "https://localhost:8080/"
        },
        "id": "55srYCPKIWZt",
        "outputId": "ed1100aa-6a3c-481f-83f0-9f065b749223"
      },
      "execution_count": null,
      "outputs": [
        {
          "output_type": "execute_result",
          "data": {
            "text/plain": [
              "[]"
            ]
          },
          "metadata": {},
          "execution_count": 68
        }
      ]
    },
    {
      "cell_type": "markdown",
      "metadata": {
        "id": "pmCvEXNEQr58"
      },
      "source": [
        "### Podemos encontrar algumas informações descritivas da nossa lista:"
      ]
    },
    {
      "cell_type": "code",
      "execution_count": null,
      "metadata": {
        "id": "tsWxQqzQQr58"
      },
      "outputs": [],
      "source": [
        "lista = [34, 2, 5, 8, 2,2,5,6,6,7,8]"
      ]
    },
    {
      "cell_type": "markdown",
      "metadata": {
        "id": "lvl6akzjQr58"
      },
      "source": [
        "Para encontrar o maior elemento, use \"max()\":"
      ]
    },
    {
      "cell_type": "code",
      "execution_count": null,
      "metadata": {
        "id": "6rcrQGsSQr59",
        "colab": {
          "base_uri": "https://localhost:8080/"
        },
        "outputId": "c8a0616b-4c2f-4440-d20a-75899655d96e"
      },
      "outputs": [
        {
          "output_type": "execute_result",
          "data": {
            "text/plain": [
              "34"
            ]
          },
          "metadata": {},
          "execution_count": 52
        }
      ],
      "source": [
        "max(lista)"
      ]
    },
    {
      "cell_type": "markdown",
      "metadata": {
        "id": "Bor9OqLoQr59"
      },
      "source": [
        "Para encontrar o menor elemento, use \"min()\":"
      ]
    },
    {
      "cell_type": "code",
      "execution_count": null,
      "metadata": {
        "id": "0YpDEiWEQr59",
        "colab": {
          "base_uri": "https://localhost:8080/"
        },
        "outputId": "06ca6a23-b563-46dd-a95e-9e25440cdd1e"
      },
      "outputs": [
        {
          "output_type": "execute_result",
          "data": {
            "text/plain": [
              "2"
            ]
          },
          "metadata": {},
          "execution_count": 53
        }
      ],
      "source": [
        "min(lista)"
      ]
    },
    {
      "cell_type": "markdown",
      "metadata": {
        "id": "t0rNFJX8Qr59"
      },
      "source": [
        "Para encontrar o número de elementos (ou seja, qual é o \"tamanho\" da lista), use \"len()\":"
      ]
    },
    {
      "cell_type": "code",
      "source": [
        "len(lista)"
      ],
      "metadata": {
        "id": "xhbiL2sN4ZZS",
        "colab": {
          "base_uri": "https://localhost:8080/"
        },
        "outputId": "36f5fd72-5b8e-4763-ad4c-cda1824247e8"
      },
      "execution_count": null,
      "outputs": [
        {
          "output_type": "execute_result",
          "data": {
            "text/plain": [
              "11"
            ]
          },
          "metadata": {},
          "execution_count": 54
        }
      ]
    },
    {
      "cell_type": "code",
      "execution_count": null,
      "metadata": {
        "id": "IfU_D1pPQr5-",
        "colab": {
          "base_uri": "https://localhost:8080/"
        },
        "outputId": "b4ad254b-cd6f-4224-d0c8-673024569d67"
      },
      "outputs": [
        {
          "output_type": "execute_result",
          "data": {
            "text/plain": [
              "7"
            ]
          },
          "metadata": {},
          "execution_count": 55
        }
      ],
      "source": [
        "len('abacaxi')"
      ]
    },
    {
      "cell_type": "markdown",
      "metadata": {
        "id": "S5-M9W45Qr6L"
      },
      "source": [
        "Para somar os elementos da lista, use \"sum()\":"
      ]
    },
    {
      "cell_type": "code",
      "source": [
        "lista = [34, 2, 5, 8, 2,2,5,6,6,7,8]\n",
        "sum(lista)"
      ],
      "metadata": {
        "id": "BlyzhfJ24mep",
        "colab": {
          "base_uri": "https://localhost:8080/"
        },
        "outputId": "c2fbdbdf-88c9-4b8d-e06b-5fda24b0a4c0"
      },
      "execution_count": null,
      "outputs": [
        {
          "output_type": "execute_result",
          "data": {
            "text/plain": [
              "85"
            ]
          },
          "metadata": {},
          "execution_count": 56
        }
      ]
    },
    {
      "cell_type": "code",
      "execution_count": null,
      "metadata": {
        "id": "oQyUtZxxQr6L"
      },
      "outputs": [],
      "source": []
    },
    {
      "cell_type": "markdown",
      "metadata": {
        "id": "klaIKcRgQr6L"
      },
      "source": [
        "Agora fica bem fácil encontrar a média dos números em uma lista:"
      ]
    },
    {
      "cell_type": "code",
      "source": [
        "nota = [9,10,10,8,7,9]\n",
        "\n",
        "media = sum(lista)/len(lista)\n",
        "media\n"
      ],
      "metadata": {
        "id": "90yQZwvW47vj",
        "colab": {
          "base_uri": "https://localhost:8080/"
        },
        "outputId": "b9c6624e-40b1-42b9-cccc-1ffeed92157a"
      },
      "execution_count": null,
      "outputs": [
        {
          "output_type": "execute_result",
          "data": {
            "text/plain": [
              "7.7272727272727275"
            ]
          },
          "metadata": {},
          "execution_count": 62
        }
      ]
    },
    {
      "cell_type": "code",
      "source": [
        "import statistics\n",
        "nota = [9,10,10,8,7,9]\n",
        "\n",
        "statistics.mean(lista)"
      ],
      "metadata": {
        "colab": {
          "base_uri": "https://localhost:8080/"
        },
        "id": "4uwYsIXaDdoB",
        "outputId": "ad610dbd-29ac-4335-e18f-6e71955e24fe"
      },
      "execution_count": null,
      "outputs": [
        {
          "output_type": "execute_result",
          "data": {
            "text/plain": [
              "7.7272727272727275"
            ]
          },
          "metadata": {},
          "execution_count": 61
        }
      ]
    },
    {
      "cell_type": "markdown",
      "metadata": {
        "id": "cc1O-NPNQr6P"
      },
      "source": [
        "## DESAFIO"
      ]
    },
    {
      "cell_type": "markdown",
      "metadata": {
        "id": "xhpx8hakoQLY"
      },
      "source": [
        "Crie um código para apoiar os alunos de uma turma a calcularem a média de suas notas com base na quantidade de provas que foram realizadas.<br>\n",
        "Solicite do usuário a quantidade de provas realizada e a nota de cada prova realizada, caso o usuário informe uma quantidade menor ou igual a 0, retorne uma msg e peça novamente.<br>\n",
        "Por fim a saída deverá contemplar uma listas com todas as nostas de provas, informando a quantidade de notas passadas e a média final. Caso a média final seja maior ou igual a 60 informe ao aluno que ele foi aprovado, caso contrário reprovado."
      ]
    },
    {
      "cell_type": "code",
      "source": [
        "# Solicite do usuário a quantidade de provas realizada (caso o usuário informe uma quantidade menor ou igual a 0, retorne uma msg e peça novamente)\n",
        "\n",
        "# nota de cada prova realizada\n",
        "\n",
        "# Caso a média final seja maior ou igual a 60 informe ao aluno que ele foi aprovado, caso contrário reprovado"
      ],
      "metadata": {
        "id": "8uFE5TQEoQLa"
      },
      "execution_count": null,
      "outputs": []
    },
    {
      "cell_type": "code",
      "source": [
        "#Thiago Teixeira\n",
        "#recebemos a quantidade de provas\n",
        "qntd = int(input(\"Informe a quantidade de provas: \"))\n",
        "lista = [] #lista vazia para receber as notas\n",
        "\n",
        "for i in range(qntd):\n",
        "  nota = float(input(f\"Insira uma nota da {i+1}a prova: \"))\n",
        "  if nota <= 0:\n",
        "    while True:\n",
        "      nota = float(input(f\"Insira uma nota válida: \"))\n",
        "      if nota > 0:\n",
        "        break\n",
        "  else:\n",
        "    lista.append(float(nota))\n",
        "\n",
        "media = sum(lista) / len(lista)\n",
        "\n",
        "print(f\"Nota das {qntd} prova(s): {lista}\")\n",
        "print(f\"Media: {media:.2f}\")\n",
        "\n",
        "if media >= 60:\n",
        "  print(\"Aluno aprovado.\")\n",
        "else:\n",
        "  print(\"Aluno reprovado.\")"
      ],
      "metadata": {
        "colab": {
          "base_uri": "https://localhost:8080/"
        },
        "id": "z3e7IhvnM7oL",
        "outputId": "6ffa82e1-473e-4419-8795-36414235bf95"
      },
      "execution_count": null,
      "outputs": [
        {
          "output_type": "stream",
          "name": "stdout",
          "text": [
            "Informe a quantidade de provas: 3\n",
            "Insira uma nota da 1a prova: 15\n",
            "Insira uma nota da 2a prova: 20\n",
            "Insira uma nota da 3a prova: 15\n",
            "Nota das 3 prova(s): [15.0, 20.0, 15.0]\n",
            "Media: 16.67\n",
            "Aluno reprovado.\n"
          ]
        }
      ]
    },
    {
      "cell_type": "code",
      "source": [
        "qtd_provas = 0\n",
        "\n",
        "while qtd_provas <= 0:\n",
        "  qtd_provas = int(input(\"Informe a quantidade de provas realizadas: \"))\n",
        "  if qtd_provas <= 0:\n",
        "    print(\"Quantidade de provas inválida!\")\n",
        "\n",
        "notas = []\n",
        "cont = 0\n",
        "while cont < qtd_provas:\n",
        "  notas.append(float(input(\"Informe a nota: \")))\n",
        "  cont +=1\n",
        "\n",
        "media = sum(notas)/len(notas)\n",
        "print(f'Você realizou {qtd_provas} provas, suas notas foram {notas} e a média delas é {media:.2f}')\n",
        "print('Parabéns! Você foi aprovado..!!!!' if media >= 60 else 'Sinto muito, você foi reprovado :(' )"
      ],
      "metadata": {
        "colab": {
          "base_uri": "https://localhost:8080/"
        },
        "id": "FGMxfrQ5OE3D",
        "outputId": "9800f7d6-2216-4f8a-aa18-069c272a1111"
      },
      "execution_count": null,
      "outputs": [
        {
          "output_type": "stream",
          "name": "stdout",
          "text": [
            "Informe a quantidade de provas realizadas: 3\n",
            "Informe a nota: 25\n",
            "Informe a nota: 36\n",
            "Informe a nota: 82\n",
            "Você realizou 3 provas, suas notas foram [25.0, 36.0, 82.0] e a média delas é 47.67\n",
            "Sinto muito, você foi reprovado :(\n"
          ]
        }
      ]
    },
    {
      "cell_type": "markdown",
      "metadata": {
        "id": "00Wrm06mQr6R"
      },
      "source": [
        "Faça um algoritmo que recebe uma lista encadeada de números inteiros e retorna uma lista ordenada sem repetições, ou seja, uma lista onde cada número apareça apenas uma\n",
        "vez. Exemplo:\n",
        "\n",
        "12, 5, -7, 8, 5, 9, 12, 1, 8 <br>\n",
        "resposta: 12, 5, -7, 8, 9, 1\n",
        "\n",
        "Dica: Pesquise sobre valores unicos em lista\n"
      ]
    },
    {
      "cell_type": "code",
      "source": [
        "lista1 = [12, 5, -7, 8, 5, 9, 12, 1, 8]\n",
        "print(lista1)\n",
        "conjunto = set(lista1)\n",
        "type(conjunto)"
      ],
      "metadata": {
        "id": "ifN76_6EajlZ",
        "colab": {
          "base_uri": "https://localhost:8080/"
        },
        "outputId": "1252c601-71fe-48f7-e8fd-36b92f672fe7"
      },
      "execution_count": null,
      "outputs": [
        {
          "output_type": "stream",
          "name": "stdout",
          "text": [
            "[12, 5, -7, 8, 5, 9, 12, 1, 8]\n"
          ]
        },
        {
          "output_type": "execute_result",
          "data": {
            "text/plain": [
              "set"
            ]
          },
          "metadata": {},
          "execution_count": 81
        }
      ]
    },
    {
      "cell_type": "code",
      "source": [
        "lista1 = [12, 5, -7, 8, 5, 9, 12, 1, 8]\n",
        "conjunto = set(lista1)\n",
        "print(\"Conjunto\", conjunto)\n",
        "lista1 = list(set(lista1))\n",
        "print(\"Lista1\", lista1)\n",
        "ordenada = sorted(list(set(lista1)))\n",
        "print(\"Lista ordenada\", ordenada)\n"
      ],
      "metadata": {
        "colab": {
          "base_uri": "https://localhost:8080/"
        },
        "id": "lsgpr3snXiFN",
        "outputId": "f5614791-010f-4405-a475-dccfb34872e9"
      },
      "execution_count": null,
      "outputs": [
        {
          "output_type": "stream",
          "name": "stdout",
          "text": [
            "Conjunto {1, 5, 8, 9, 12, -7}\n",
            "Lista1 [1, 5, 8, 9, 12, -7]\n",
            "Lista ordenada [-7, 1, 5, 8, 9, 12]\n"
          ]
        }
      ]
    },
    {
      "cell_type": "markdown",
      "source": [
        "Agora, considere que as saídas do exercício anterior devam ser:<br>\n",
        "- Lista ordenada com valores únicos\n",
        "- Lista apenas com os valores repetidos"
      ],
      "metadata": {
        "id": "h-9qQv7_givz"
      }
    },
    {
      "cell_type": "code",
      "source": [
        "lista_original = [12, 5, -7, 8, 5, 9, 12, 1, 8]\n",
        "lista_distinta = []\n",
        "lista_repetidos =[]\n",
        "\n",
        "indice = 0\n",
        "while indice < len(lista_original):\n",
        "  if not lista_original[indice] in lista_distinta:\n",
        "    lista_distinta.append(lista_original[indice])\n",
        "  else:\n",
        "    lista_repetidos.append(lista_original[indice])\n",
        "  indice += 1\n",
        "\n",
        "print('Distinta' , sorted(lista_distinta))\n",
        "print('Repetidos', sorted(lista_repetidos))"
      ],
      "metadata": {
        "colab": {
          "base_uri": "https://localhost:8080/"
        },
        "id": "T0W-bTz5ZlhK",
        "outputId": "e3c5b7a7-b7a1-439b-82e8-5c53ca4fd003"
      },
      "execution_count": null,
      "outputs": [
        {
          "output_type": "stream",
          "name": "stdout",
          "text": [
            "Distinta [-7, 1, 5, 8, 9, 12]\n",
            "Repetidos [5, 8, 12]\n"
          ]
        }
      ]
    },
    {
      "cell_type": "code",
      "source": [],
      "metadata": {
        "colab": {
          "base_uri": "https://localhost:8080/"
        },
        "id": "KhT7ktlLJ40P",
        "outputId": "ce0a8175-9da6-4fae-d910-cf2d61563634"
      },
      "execution_count": null,
      "outputs": [
        {
          "output_type": "stream",
          "name": "stdout",
          "text": [
            "Números que não se repetem: [21]\n"
          ]
        }
      ]
    },
    {
      "cell_type": "code",
      "source": [
        "num_inseridos = int(input(\"Quantos numeros voce quer inserir? \"))\n",
        "cont = 1\n",
        "sequencia = []\n",
        "lista_unica = []\n",
        "\n",
        "while cont <= num_inseridos:\n",
        "  novo_num = float(input(\"Por favor, insira um numero: \"))\n",
        "  cont += 1\n",
        "  sequencia.append(novo_num)\n",
        "  for num in sequencia:\n",
        "    if num not in lista_unica:\n",
        "      lista_unica.append(num)\n",
        "print(sequencia)\n",
        "print(f\"A lista ordenada e sem repeticoes eh: {sorted(lista_unica)}\")\n",
        "print(f\"Lista apenas com os valores repetidos: {list(set(sequencia)-set(lista_unica))}\")"
      ],
      "metadata": {
        "id": "OxgGLvaxmdad",
        "colab": {
          "base_uri": "https://localhost:8080/"
        },
        "outputId": "6dee11f3-f66e-4288-9def-4cde713c1c74"
      },
      "execution_count": null,
      "outputs": [
        {
          "output_type": "stream",
          "name": "stdout",
          "text": [
            "Quantos numeros voce quer inserir? 3\n",
            "Por favor, insira um numero: 1\n",
            "Por favor, insira um numero: 1\n",
            "Por favor, insira um numero: 2\n",
            "[1.0, 1.0, 2.0]\n",
            "A lista ordenada e sem repeticoes eh: [1.0, 2.0]\n",
            "Lista apenas com os valores repetidos: []\n"
          ]
        }
      ]
    },
    {
      "cell_type": "code",
      "source": [
        "#cesar debugar\n",
        "lista = [12,-7,8,5,9,12,1,1,8,5,-7]\n",
        "\n",
        "for i in lista[:]:\n",
        "  print(lista[:])\n",
        "  #print(i)\n",
        "  #print('count',lista.count(i))\n",
        "  while lista.count(i) > 1:\n",
        "    #print(i)\n",
        "    lista.remove(i)\n",
        "    #print(lista)\n",
        "print(lista)"
      ],
      "metadata": {
        "colab": {
          "base_uri": "https://localhost:8080/"
        },
        "id": "0R6YSo3oVy9J",
        "outputId": "921edfbe-8133-426c-e69e-b991c3f224db"
      },
      "execution_count": null,
      "outputs": [
        {
          "output_type": "stream",
          "name": "stdout",
          "text": [
            "[12, -7, 8, 5, 9, 12, 1, 1, 8, 5, -7]\n",
            "[-7, 8, 5, 9, 12, 1, 1, 8, 5, -7]\n",
            "[8, 5, 9, 12, 1, 1, 8, 5, -7]\n",
            "[5, 9, 12, 1, 1, 8, 5, -7]\n",
            "[9, 12, 1, 1, 8, 5, -7]\n",
            "[9, 12, 1, 1, 8, 5, -7]\n",
            "[9, 12, 1, 1, 8, 5, -7]\n",
            "[9, 12, 1, 8, 5, -7]\n",
            "[9, 12, 1, 8, 5, -7]\n",
            "[9, 12, 1, 8, 5, -7]\n",
            "[9, 12, 1, 8, 5, -7]\n",
            "[9, 12, 1, 8, 5, -7]\n"
          ]
        }
      ]
    },
    {
      "cell_type": "code",
      "source": [
        "#cesar debugar\n",
        "lista = [12,-7,8,5,9,12,1,1,8,5,-7]\n",
        "\n",
        "for i in lista:\n",
        "  print(lista)\n",
        "  print(i)\n",
        "  #print(i)\n",
        "  #print('count',lista.count(i))\n",
        "  while lista.count(i) > 1:\n",
        "    #print(i)\n",
        "    lista.remove(i)\n",
        "    #print(lista)\n",
        "print(lista)"
      ],
      "metadata": {
        "colab": {
          "base_uri": "https://localhost:8080/"
        },
        "id": "J_Rv2d7sMM_W",
        "outputId": "f75ad673-8f2f-4922-ad96-850f7553d705"
      },
      "execution_count": null,
      "outputs": [
        {
          "output_type": "stream",
          "name": "stdout",
          "text": [
            "[12, -7, 8, 5, 9, 12, 1, 1, 8, 5, -7]\n",
            "12\n",
            "[-7, 8, 5, 9, 12, 1, 1, 8, 5, -7]\n",
            "8\n",
            "[-7, 5, 9, 12, 1, 1, 8, 5, -7]\n",
            "9\n",
            "[-7, 5, 9, 12, 1, 1, 8, 5, -7]\n",
            "12\n",
            "[-7, 5, 9, 12, 1, 1, 8, 5, -7]\n",
            "1\n",
            "[-7, 5, 9, 12, 1, 8, 5, -7]\n",
            "8\n",
            "[-7, 5, 9, 12, 1, 8, 5, -7]\n",
            "5\n",
            "[-7, 9, 12, 1, 8, 5, -7]\n"
          ]
        }
      ]
    },
    {
      "cell_type": "markdown",
      "source": [
        "Crie um código que receba um número a ser pesquisado em uma lista simples (não aninhada).\n",
        "Esse código deve ser removido da lista, considere que o código informado possa estar na lista representado como string (\"1\") ou int (1), ou seja, independente da representação ele deve ser removido. No final, retorne a lista resultante sem o código.\n"
      ],
      "metadata": {
        "id": "DOt5lPOclkNH"
      }
    },
    {
      "cell_type": "code",
      "source": [
        "remover = 1\n",
        "[\"1\", 1, 456,29485,2845, 1, \"1\"]\n",
        "[456,29485,2845]"
      ],
      "metadata": {
        "id": "cfg02zqFkccy"
      },
      "execution_count": null,
      "outputs": []
    },
    {
      "cell_type": "code",
      "source": [
        "lista = [\"1\", 1, 456,29485,2845, 1, \"1\"]\n",
        "num_remover = 1\n",
        "nova = []\n",
        "i=0\n",
        "\n",
        "while i < len(lista):\n",
        "  if str(lista[i]) != str(num_remover): # \"0\" != \"1\"\n",
        "    nova.append(lista[i])\n",
        "  i +=1\n",
        "\n",
        "print(nova)"
      ],
      "metadata": {
        "colab": {
          "base_uri": "https://localhost:8080/"
        },
        "id": "ShnVo1kPK0PM",
        "outputId": "187a9c52-304b-4599-823f-b2918d0d039d"
      },
      "execution_count": null,
      "outputs": [
        {
          "output_type": "stream",
          "name": "stdout",
          "text": [
            "[456, 29485, 2845]\n"
          ]
        }
      ]
    },
    {
      "cell_type": "code",
      "source": [
        "lista = [\"1\", 1, 456,29485,2845, 1, \"1\", -5, 10, 10, 10,10 ]\n",
        "remover = \"1\"\n",
        "#remover = str(remover)\n",
        "\n",
        "i = 0\n",
        "while  i < len(lista) :\n",
        "    print('i é igual a', i)\n",
        "    if str(lista[i]) == remover:\n",
        "        lista.pop(i)\n",
        "        print('excluidio o indice', i)\n",
        "    i += 1\n",
        "    print('iterou, agora o indice é: ', i)\n",
        "    #else:\n",
        "     #   i += 1\n",
        "print(lista)"
      ],
      "metadata": {
        "colab": {
          "base_uri": "https://localhost:8080/"
        },
        "id": "x0T0gt5GMcPv",
        "outputId": "51e23dc0-1ff7-45b4-ce61-af018abe8eb2"
      },
      "execution_count": null,
      "outputs": [
        {
          "output_type": "stream",
          "name": "stdout",
          "text": [
            "i é igual a 0\n",
            "excluidio o indice 0\n",
            "iterou, agora o indice é:  1\n",
            "i é igual a 1\n",
            "iterou, agora o indice é:  2\n",
            "i é igual a 2\n",
            "iterou, agora o indice é:  3\n",
            "i é igual a 3\n",
            "iterou, agora o indice é:  4\n",
            "i é igual a 4\n",
            "excluidio o indice 4\n",
            "iterou, agora o indice é:  5\n",
            "i é igual a 5\n",
            "iterou, agora o indice é:  6\n",
            "i é igual a 6\n",
            "iterou, agora o indice é:  7\n",
            "i é igual a 7\n",
            "iterou, agora o indice é:  8\n",
            "i é igual a 8\n",
            "iterou, agora o indice é:  9\n",
            "i é igual a 9\n",
            "iterou, agora o indice é:  10\n",
            "[1, 456, 29485, 2845, '1', -5, 10, 10, 10, 10]\n"
          ]
        }
      ]
    },
    {
      "cell_type": "code",
      "source": [
        "lista = [\"1\", 1, 456,29485,2845, 1, \"1\"]\n",
        "\n",
        "num = input('Insira o número para pesquisar e remover: ')\n",
        "num2 = str(num)\n",
        "\n",
        "while num in lista:\n",
        "  lista.remove(num)\n",
        "while num2 in lista:\n",
        "  lista.remove(num2)\n",
        "\n",
        "print(lista)"
      ],
      "metadata": {
        "colab": {
          "base_uri": "https://localhost:8080/"
        },
        "id": "GfWEoWyeO1j9",
        "outputId": "59b02d3d-69d4-4597-a722-21939596e9f6"
      },
      "execution_count": null,
      "outputs": [
        {
          "output_type": "stream",
          "name": "stdout",
          "text": [
            "Insira o número para pesquisar e remover: 1\n",
            "[1, 456, 29485, 2845, 1]\n"
          ]
        }
      ]
    },
    {
      "cell_type": "markdown",
      "metadata": {
        "id": "Qqj7MBzJmP09"
      },
      "source": [
        "# Aula 6 - Estrutura de Repetição [For]\n",
        "\n",
        "### Laços de repetição (for)\n",
        "\n",
        "Na última aula, vimos como usar o laço de repetição \"while\" para repetir operações em Python\n",
        "\n",
        "Agora, veremos um outro laço, o **for**\n",
        "\n",
        "Mas, antes de vermos como este laço pode ser utilizado para **repetir operações**, é interessante entender o `for` como sendo, na realidade, um operador utilizado para **percorrer elementos de uma lista** (na verdade, de qualquer objeto **iterável**. Conheceremos outros objetos assim mais pra frente...)\n",
        "\n",
        "A estrutura do for é:\n",
        "\n",
        "```python\n",
        "for item in lista:\n",
        "    operacao_feita_pra_cada_item\n",
        "\n",
        "# podemos também ler como:\n",
        "para cada item na minha lista:\n",
        "  realizo_uma_sequencia_de_operacoes\n",
        "```\n",
        "\n",
        "### Afinal qual a diferença entre While e For?\n",
        "\n",
        "Já sabemos que a semelhança entre ambos é a estrutura de repetição.<br>\n",
        "No dia a dia, a escolha entre While e For vai depender dos requisitos especificados para o desenvolvimento. Porém de um modo geral, existem algumas dicas que facilitam na decisão de quando usar um ou outro.\n",
        "\n",
        "\n",
        "<center>\n",
        "\n",
        "Use While quando: |\n",
        "--- |\n",
        "Você não souber antecipadamente quantas vezes deseja iterar|\n",
        "A condição de término não é baseada em um número específico de iterações, mas em uma condição que pode mudar durante a execução. |  \n",
        "Você precisa de controle direto sobre a variável de iteração ou o contador, como quando se implementa uma lógica de busca |\n",
        "\n",
        "</center><br>\n",
        "\n",
        "<center>\n",
        "\n",
        "Use For quando: |\n",
        "--- |\n",
        "Você saber antecipadamente quantas vezes deseja iterar |\n",
        "Você for trabalhar com sequências e coleções de dados |\n",
        "Você desejar percorrer uma sequência em ordem, como percorrer uma lista de números, caracteres em uma string ou elementos em uma lista. |\n",
        "Você não precisar controlar manualmente o índice ou contador da iteração |\n",
        "\n",
        "</center>"
      ]
    },
    {
      "cell_type": "code",
      "execution_count": null,
      "metadata": {
        "id": "yOxaNyo3mP1B",
        "colab": {
          "base_uri": "https://localhost:8080/"
        },
        "outputId": "3b50ab6c-5bb6-4c8b-f677-71c887e1ccaa"
      },
      "outputs": [
        {
          "output_type": "stream",
          "name": "stdout",
          "text": [
            "b\n",
            "c\n",
            "f\n",
            "f\n"
          ]
        }
      ],
      "source": [
        "#o código abaixo demonstra como usar o for para percorrer uma lista\n",
        "lista = ['b','c','f','f']\n",
        "\n",
        "for i in lista:\n",
        "  print(i)"
      ]
    },
    {
      "cell_type": "markdown",
      "metadata": {
        "id": "ys3FkWlImP1D"
      },
      "source": [
        "O código acima é equivalente a:"
      ]
    },
    {
      "cell_type": "code",
      "execution_count": null,
      "metadata": {
        "id": "XGkUWcIBmP1D"
      },
      "outputs": [],
      "source": [
        "lista = [\"a\", \"b\", \"c\", \"d\"]\n",
        "\n",
        "print(lista[0])\n",
        "print(lista[1])\n",
        "print(lista[2])\n",
        "print(lista[3])"
      ]
    },
    {
      "cell_type": "markdown",
      "metadata": {
        "id": "U20WCXMtmP1D"
      },
      "source": [
        "Vamos a outros exemplos:"
      ]
    },
    {
      "cell_type": "code",
      "execution_count": null,
      "metadata": {
        "id": "Qcp8913CmP1E",
        "colab": {
          "base_uri": "https://localhost:8080/"
        },
        "outputId": "abf57dfe-edc1-440d-bcd4-8785b704085e"
      },
      "outputs": [
        {
          "output_type": "stream",
          "name": "stdout",
          "text": [
            "[4, 5, 6, 5, 56, 7, 78, 9]\n",
            "[-6, -10, -80]\n",
            "[]\n"
          ]
        }
      ],
      "source": [
        "'''Imagine que temos uma lista de valores inteiros, sendo positivos e negativos,\n",
        "agora vejamos como criar três listas, separando posito de negativo e de zero'''\n",
        "\n",
        "lista = [4, 5, 6, 5, -6, 56, 7, -10, 78, -80, 9]\n",
        "\n",
        "positivo = []\n",
        "negativo = []\n",
        "zero = []\n",
        "\n",
        "for i in lista:\n",
        "  if i < 0:\n",
        "    negativo.append(i)\n",
        "  elif i > 0:\n",
        "    positivo.append(i)\n",
        "  else:\n",
        "    zero.append(i)\n",
        "\n",
        "print(positivo)\n",
        "print(negativo)\n",
        "print(zero)"
      ]
    },
    {
      "cell_type": "code",
      "execution_count": null,
      "metadata": {
        "id": "3FZ7BxlEmP1F",
        "colab": {
          "base_uri": "https://localhost:8080/"
        },
        "outputId": "d17e64fe-5bbf-4f7b-ac59-0e5980c700b1"
      },
      "outputs": [
        {
          "output_type": "stream",
          "name": "stdout",
          "text": [
            "D\n",
            "i\n",
            "e\n",
            "g\n",
            "o\n",
            " \n",
            "R\n",
            "o\n",
            "c\n",
            "h\n",
            "a\n"
          ]
        }
      ],
      "source": [
        "'''Repara no exemplo abaixo que caractere é um elemento criado para\n",
        "percorrer a cadeia de caracteres da variável txt'''\n",
        "\n",
        "txt = 'Diego Rocha'\n",
        "\n",
        "for i in txt:\n",
        "  print(i)"
      ]
    },
    {
      "cell_type": "markdown",
      "metadata": {
        "id": "VV58-D0omP1F"
      },
      "source": [
        "Podemos fazer operações com os elementos de umas lista e usá-los pra preencher outra lista:"
      ]
    },
    {
      "cell_type": "code",
      "execution_count": null,
      "metadata": {
        "id": "cCKsVAX9mP1G",
        "colab": {
          "base_uri": "https://localhost:8080/"
        },
        "outputId": "5d0fb5e3-d783-4eea-e367-668d9000038e"
      },
      "outputs": [
        {
          "output_type": "stream",
          "name": "stdout",
          "text": [
            "[8, 10, 12, 10, -12, 112, 14, -20, 156, -160, 18]\n"
          ]
        }
      ],
      "source": [
        "#Operaçã matemática para gerar uma nova lista\n",
        "lista = [4, 5, 6, 5, -6, 56, 7, -10, 78, -80, 9]\n",
        "dobro = []\n",
        "\n",
        "for i in lista:\n",
        "  dobro.append(i*2)\n",
        "\n",
        "print(dobro)\n"
      ]
    },
    {
      "cell_type": "code",
      "execution_count": null,
      "metadata": {
        "id": "2hPuB4VcmP1G",
        "colab": {
          "base_uri": "https://localhost:8080/"
        },
        "outputId": "cb0c3ffb-19f9-471a-e84b-74a378d060a2"
      },
      "outputs": [
        {
          "output_type": "stream",
          "name": "stdout",
          "text": [
            "[1, 2, 3, 5, 153, 56, 8]\n"
          ]
        }
      ],
      "source": [
        "# exemplo criando uma lista módulo que ira positivar os valores da lista principal\n",
        "lista = [1, 2, -3, 5, 153, -56, 8]\n",
        "lista_modulo = []\n",
        "\n",
        "for i in lista:\n",
        "  if i < 0 :\n",
        "    lista_modulo.append(i*-1)\n",
        "  else:\n",
        "    lista_modulo.append(i)\n",
        "\n",
        "print(lista_modulo)"
      ]
    },
    {
      "cell_type": "markdown",
      "source": [
        "\n",
        "Vamos agora substituir valores na nossa que estamos iterando.\n",
        "\n",
        "Falaremos em mais detalhe de uma função que pode nos ajudar nisso daqui a pouco."
      ],
      "metadata": {
        "id": "gr07DM4mMJ5Q"
      }
    },
    {
      "cell_type": "code",
      "execution_count": null,
      "metadata": {
        "id": "e6PmfDA9mP1H",
        "colab": {
          "base_uri": "https://localhost:8080/"
        },
        "outputId": "43477c87-9cbd-4f75-eb81-9a4f9ece3195"
      },
      "outputs": [
        {
          "output_type": "stream",
          "name": "stdout",
          "text": [
            "[1, 2, 0, 5, 153, 0, 8]\n"
          ]
        }
      ],
      "source": [
        "# outra forma de positivar os elementos da lista\n",
        "\n",
        "lista = [1, 2, -3, 5, 153, -56, 8]\n",
        "indice = 0\n",
        "\n",
        "for elemento in lista:\n",
        "  if elemento < 0 :\n",
        "    lista[indice] = 0\n",
        "  indice +=1\n",
        "\n",
        "print(lista)\n",
        "\n"
      ]
    },
    {
      "cell_type": "markdown",
      "metadata": {
        "id": "sskYv4oamP1I"
      },
      "source": [
        "#### Controles de Laços de Repetição (Loop)\n",
        "- break\n",
        "- continue\n",
        "- else\n",
        "\n",
        "Essas declarações tem o objetivo de conseguir nos ajudar a criar um controle nos loops\n",
        "\n",
        "____\n",
        "\n",
        "*break*\n",
        "\n",
        "Um Loop pode ser parado no meio com o break, isso é utilizado caso exista algum(ns) casos excepcionais onde seu código deve parar, ou mesmo para poupar processamento em um loop que já fez o que precisava e usava a condição inicial apenas como limite de iterações.\n",
        "\n",
        "Em resumo, o break é uma instrução que permite sair prematuramente de um loop."
      ]
    },
    {
      "cell_type": "code",
      "execution_count": null,
      "metadata": {
        "id": "jFvwVG9bmP1I",
        "colab": {
          "base_uri": "https://localhost:8080/"
        },
        "outputId": "c4908f4c-a0a0-4fb2-97ae-1ba48cb58403"
      },
      "outputs": [
        {
          "output_type": "stream",
          "name": "stdout",
          "text": [
            "-5\n"
          ]
        }
      ],
      "source": [
        "lista = [1, 4, -5, 6, 5, 56, 7, -10, 78, 80, 9]\n",
        "\n",
        "for elemento in lista:\n",
        "  if elemento < 0:\n",
        "    break\n",
        "print(elemento)"
      ]
    },
    {
      "cell_type": "markdown",
      "source": [
        "#### DESAFIO\n",
        "\n",
        "Dado a lista abaixo:<br>\n",
        "```pyhton\n",
        "[839, 40, 562, 422, 644, 96, 642, 842, 818, 409, 419, 624, 764, 919, 657, 111, 503, 378, 945, 848, 976, 754, 799, 11, 540, 543, 492, 773, 204, 998, 162, 295, 399, 620, 834, 990, 153, 819, 660, 601, 367, 435, 453, 366, 166, 820, 822, 811, 853, 267, 688, 9, 234, 605, 381, 391, 405, 864, 341, 675, 239, 561, 431, 177, 625, 56, 914, 379, 251, 703, 11, 859, 1, 451, 222, 842, 540, 480, 136, 123, 223, 247, 679, 731, 84, 773, 426, 686, 162, 386, 28, 351, 335, 52, 557, 26, 649, 739, 671, 117]\n",
        "```\n",
        "\n",
        "\n",
        "Escreva um programa em Python que encontre o primeiro número múltiplo de 7 e 5. Você deve usar um loop for para percorrer os números nesse intervalo e interromper o loop quando encontrar o primeiro múltiplo de 7 e 5."
      ],
      "metadata": {
        "id": "Nxo9pd0Vh1vc"
      }
    },
    {
      "cell_type": "code",
      "source": [
        "lista = [839, 40, 562, 422, 644, 96, 642, 842, 818, 409, 419, 624, 764, 919, 657, 111, 503, 378, 945, 848, 976, 754, 799, 11, 540, 543, 492, 773, 204, 998, 162, 295, 399, 620, 834, 990, 153, 819, 660, 601, 367, 435, 453, 366, 166, 820, 822, 811, 853, 267, 688, 9, 234, 605, 381, 391, 405, 864, 341, 675, 239, 561, 431, 177, 625, 56, 914, 379, 251, 703, 11, 859, 1, 451, 222, 842, 540, 480, 136, 123, 223, 247, 679, 731, 84, 773, 426, 686, 162, 386, 28, 351, 335, 52, 557, 26, 649, 739, 671, 117]\n",
        "for num in lista:\n",
        "    if num % 7 == 0 and num % 5 == 0:\n",
        "        print(f\"O múltiplo de 7 e 5 é: {num}\")\n",
        "        break"
      ],
      "metadata": {
        "id": "WxFBZRUDiN3U",
        "colab": {
          "base_uri": "https://localhost:8080/"
        },
        "outputId": "a2785f96-d2b3-4d1d-ef6d-d27f33c87228"
      },
      "execution_count": null,
      "outputs": [
        {
          "output_type": "stream",
          "name": "stdout",
          "text": [
            "O múltiplo de 7 e 5 é: 945\n"
          ]
        }
      ]
    },
    {
      "cell_type": "code",
      "source": [
        "lista = [839, 40, 562, 422, 644, 96, 642, 842, 818, 409, 419, 624, 764, 919, 657, 111, 503, 378, 945, 848, 976, 754, 799, 11, 540, 543, 492, 773, 204, 998, 162, 295, 399, 620, 834, 990, 153, 819, 660, 601, 367, 435, 453, 366, 166, 820, 822, 811, 853, 267, 688, 9, 234, 605, 381, 391, 405, 864, 341, 675, 239, 561, 431, 177, 625, 56, 914, 379, 251, 703, 11, 859, 1, 451, 222, 842, 540, 480, 136, 123, 223, 247, 679, 731, 84, 773, 426, 686, 162, 386, 28, 351, 335, 52, 557, 26, 649, 739, 671, 117]\n",
        "for num in lista:\n",
        "    if num % 35 == 0:\n",
        "        print(f\"O múltiplo de 7 e 5 é: {num}\")\n",
        "        break"
      ],
      "metadata": {
        "colab": {
          "base_uri": "https://localhost:8080/"
        },
        "id": "CfTPHUGmYGL2",
        "outputId": "93ce7c2d-f8c6-47e3-d090-0f9bbc58d7e8"
      },
      "execution_count": null,
      "outputs": [
        {
          "output_type": "stream",
          "name": "stdout",
          "text": [
            "O múltiplo de 7 e 5 é: 945\n"
          ]
        }
      ]
    },
    {
      "cell_type": "markdown",
      "source": [
        "Refaça o exercício anterior retornando uma lista com todos os número múltiplos de 7"
      ],
      "metadata": {
        "id": "TVEu25_jjbjA"
      }
    },
    {
      "cell_type": "code",
      "source": [
        "lista = [839, 40, 562, 422, 644, 96, 642, 842, 818, 409, 419, 624, 764, 919, 657, 111, 503, 378, 945, 848, 976, 754, 799, 11, 540, 543, 492, 773, 204, 998, 162, 295, 399, 620, 834, 990, 153, 819, 660, 601, 367, 435, 453, 366, 166, 820, 822, 811, 853, 267, 688, 9, 234, 605, 381, 391, 405, 864, 341, 675, 239, 561, 431, 177, 625, 56, 914, 379, 251, 703, 11, 859, 1, 451, 222, 842, 540, 480, 136, 123, 223, 247, 679, 731, 84, 773, 426, 686, 162, 386, 28, 351, 335, 52, 557, 26, 649, 739, 671, 117]\n",
        "\n",
        "lista2 = []\n",
        "for elemento in lista:\n",
        "  if elemento % 7 == 0:\n",
        "    lista2.append(elemento)\n",
        "\n",
        "print(lista2)\n",
        "\n",
        "\n"
      ],
      "metadata": {
        "id": "2V3tUGDcjoVI",
        "colab": {
          "base_uri": "https://localhost:8080/"
        },
        "outputId": "e376b740-3c82-4091-c512-d935d75b5b13"
      },
      "execution_count": null,
      "outputs": [
        {
          "output_type": "stream",
          "name": "stdout",
          "text": [
            "[644, 378, 945, 399, 819, 56, 679, 84, 686, 28]\n"
          ]
        }
      ]
    },
    {
      "cell_type": "markdown",
      "source": [
        "____\n",
        "*continue*\n",
        "\n",
        "Com o comando continue conseguimos parar uma iteração no meio e recomeçar o bloco do while."
      ],
      "metadata": {
        "id": "f61FXpN5Ze-U"
      }
    },
    {
      "cell_type": "code",
      "execution_count": null,
      "metadata": {
        "id": "kTYkuAIOmP1I",
        "colab": {
          "base_uri": "https://localhost:8080/"
        },
        "outputId": "cf54be7a-845a-4182-d495-da1a8f20af7d"
      },
      "outputs": [
        {
          "output_type": "stream",
          "name": "stdout",
          "text": [
            "1\n",
            "4\n",
            "6\n",
            "5\n",
            "56\n",
            "7\n",
            "78\n",
            "80\n",
            "9\n"
          ]
        }
      ],
      "source": [
        "# o continue permite retomar ao loop for caso a condição do if seja negativo\n",
        "\n",
        "lista = [1, 4, -5, 6, 5, 56, 7, -10, 78, 80, 9]\n",
        "\n",
        "for elemento in lista:\n",
        "  if elemento < 0:\n",
        "    continue\n",
        "  print(elemento)\n"
      ]
    },
    {
      "cell_type": "markdown",
      "source": [
        "____\n",
        "*else*\n",
        "\n",
        "O else vai se comportar como um **\"se não\"**, pois será o bloco de código que rodará quando, se **e somente se**, a condição do while não for mais satisfeita."
      ],
      "metadata": {
        "id": "cFFuV223c7u9"
      }
    },
    {
      "cell_type": "code",
      "execution_count": null,
      "metadata": {
        "id": "5RHqJeatmP1J",
        "colab": {
          "base_uri": "https://localhost:8080/"
        },
        "outputId": "9f561595-9a5c-4c0c-b80c-9d3a7124c44e"
      },
      "outputs": [
        {
          "output_type": "stream",
          "name": "stdout",
          "text": [
            "1\n",
            "4\n",
            "6\n",
            "5\n",
            "56\n",
            "7\n",
            "78\n",
            "80\n",
            "9\n",
            "Loop finalizado\n"
          ]
        }
      ],
      "source": [
        "#aplicando o uso de continue + else\n",
        "\n",
        "lista = [1, 4, -5, 6, 5, 56, 7, -10, 78, 80, 9]\n",
        "\n",
        "for elemento in lista:\n",
        "  if elemento < 0:\n",
        "    continue\n",
        "  print(elemento)\n",
        "else:\n",
        "  print('Loop finalizado')\n"
      ]
    },
    {
      "cell_type": "code",
      "execution_count": null,
      "metadata": {
        "id": "LGKspciemP1J",
        "colab": {
          "base_uri": "https://localhost:8080/"
        },
        "outputId": "d7027d73-2db9-46b7-8674-8a20b2a7a805"
      },
      "outputs": [
        {
          "output_type": "stream",
          "name": "stdout",
          "text": [
            "1\n",
            "4\n",
            "5\n",
            "6\n",
            "5\n",
            "56\n",
            "7\n",
            "10\n",
            "78\n",
            "80\n",
            "9\n",
            "Loop finalizado\n"
          ]
        }
      ],
      "source": [
        "#aplicando o uso de break + else\n",
        "\n",
        "lista = [1, 4, -5, 6, 5, 56, 7, -10, 78, 80, 9]\n",
        "\n",
        "for elemento in lista:\n",
        "  if elemento < 0:\n",
        "    break\n",
        "  print(elemento)\n",
        "else:\n",
        "  print('Loop finalizado')\n"
      ]
    },
    {
      "cell_type": "markdown",
      "source": [
        "####  DESAFIO\n",
        "\n",
        "Escreva um programa em Python usando loop for que solicita ao usuário inserir uma sequência de números inteiros e guarde todo os valores em uma lista chamada principal.\n",
        "O programa deve continuar pedindo números até que o usuário escolha parar digitando 0.\n",
        "Após o usuário escolher parar, o programa deve percorrer a lista principal e separar os elementos da seguinte forma:\n",
        "1. Se o elemento for negativo, use continue para voltar ao loop for\n",
        "2. Se o elemento é par e positivo, adicionar o elemento numa lista chamada par\n",
        "3. Se o elemento é impar e positivo, adicionar o elemento numa lista chamada impar<br>\n",
        "\n",
        "No final, o programa deve imprimir a lista principal a lista par e a lista impar\n",
        "\n",
        "Obs.: Explore os recursos de Controle de Laço\\"
      ],
      "metadata": {
        "id": "uUhbaCN1otdv"
      }
    },
    {
      "cell_type": "code",
      "source": [
        "#guarde todo os valores em uma lista chamada principal\n",
        "principal  = []\n",
        "par = []\n",
        "impar = []\n",
        "\n",
        "#O programa deve continuar pedindo números até que o usuário escolha parar digitando 0\n",
        "\n",
        "while True:\n",
        "  entrada = int(input(\"Digite um valor inteiro (ou 0 para parar):\"))\n",
        "  if entrada == 0:\n",
        "    break\n",
        "  principal.append(entrada)\n",
        "\n",
        "for elemento in principal:\n",
        "  if elemento < 0:\n",
        "    continue\n",
        "  elif elemento % 2 ==0:\n",
        "    par.append(elemento)\n",
        "  else:\n",
        "    impar.append(elemento)\n",
        "\n",
        "\n",
        "print(f'Lista Principal: {principal}')\n",
        "print(f'Lista de Números Pares: {par}')\n",
        "print(f'Lista de Números Ímpares: {impar}')\n",
        "\n",
        "\n",
        "\n"
      ],
      "metadata": {
        "colab": {
          "base_uri": "https://localhost:8080/"
        },
        "id": "HBFw3CWLovQz",
        "outputId": "339def12-c65b-4c06-f715-04474e45a87b"
      },
      "execution_count": null,
      "outputs": [
        {
          "output_type": "stream",
          "name": "stdout",
          "text": [
            "Digite um valor inteiro (ou 0 para parar):1\n",
            "Digite um valor inteiro (ou 0 para parar):2\n",
            "Digite um valor inteiro (ou 0 para parar):-8\n",
            "Digite um valor inteiro (ou 0 para parar):0\n",
            "Lista Principal: [1, 2, -8]\n",
            "Lista de Números Pares: [2]\n",
            "Lista de Números Ímpares: [1]\n"
          ]
        }
      ]
    },
    {
      "cell_type": "code",
      "source": [
        "num_user = int(input(\"Digite um valor diferente de 0: \"))\n",
        "principal = []\n",
        "principal.append(num_user)\n",
        "par=[]\n",
        "impar= []\n",
        "for elemento in principal:\n",
        "  num_user = int(input(\"Digite um valor diferente de 0: \"))\n",
        "  principal.append(num_user)\n",
        "  if num_user<0:\n",
        "    continue\n",
        "  elif num_user == 0:\n",
        "    break\n",
        "  elif  num_user %2 ==0:\n",
        "    par.append(num_user)\n",
        "  else:\n",
        "    impar.append(num_user)\n",
        "print(principal)\n",
        "print(par)\n",
        "print(impar)"
      ],
      "metadata": {
        "colab": {
          "base_uri": "https://localhost:8080/"
        },
        "id": "mY2DCw3yvvdy",
        "outputId": "97d3bad5-cdd5-45cf-8c89-a3123acdc588"
      },
      "execution_count": null,
      "outputs": [
        {
          "output_type": "stream",
          "name": "stdout",
          "text": [
            "Digite um valor diferente de 0: 8\n",
            "Digite um valor diferente de 0: 5\n",
            "Digite um valor diferente de 0: 0\n",
            "[8, 5, 0]\n",
            "[]\n",
            "[5]\n"
          ]
        }
      ]
    },
    {
      "cell_type": "markdown",
      "metadata": {
        "id": "A7wbolOpmP1J"
      },
      "source": [
        "___\n",
        "### Função Range()\n",
        "\n",
        "Conceito\n",
        "A função range() gera uma sequência de **números inteiros** em um intervalo especificado. Ela pode assumir até três parâmetros, sendo eles:\n",
        "\n",
        "* *start (início)*: O primeiro número na sequência (incluído).\n",
        "* *stop (parada)*: O último número na sequência (excluído).\n",
        "* *step (passo)*: O incremento entre os números na sequência (opcional).<br>\n",
        "\n",
        "Se for dado apenas um argumento, o padrão é começar por zero, e ir de 1 em 1"
      ]
    },
    {
      "cell_type": "code",
      "source": [
        "#Se for dado apenas um argumento, o padrão é começar por zero, e ir de 1 em 1\n",
        "list(range(10))\n",
        "#range(10) é equivalente a range(0, 10, 1), cria uma sequência de 0 a 9, de 1 em 1"
      ],
      "metadata": {
        "id": "Ac5TOtpYdxIN",
        "colab": {
          "base_uri": "https://localhost:8080/"
        },
        "outputId": "f2f860f7-5d8b-46b1-b865-4867b831b69e"
      },
      "execution_count": null,
      "outputs": [
        {
          "output_type": "execute_result",
          "data": {
            "text/plain": [
              "[0, 1, 2, 3, 4, 5, 6, 7, 8, 9]"
            ]
          },
          "metadata": {},
          "execution_count": 35
        }
      ]
    },
    {
      "cell_type": "code",
      "source": [
        "#o range inicia em 1 e termina em 9, pois 10 é exclusivo.\n",
        "list(range(1,10))"
      ],
      "metadata": {
        "id": "guRlDWkSe2JW",
        "colab": {
          "base_uri": "https://localhost:8080/"
        },
        "outputId": "2fa9bdb8-46a9-4b1c-e57a-2faed4bc18aa"
      },
      "execution_count": null,
      "outputs": [
        {
          "output_type": "execute_result",
          "data": {
            "text/plain": [
              "[1, 2, 3, 4, 5, 6, 7, 8, 9]"
            ]
          },
          "metadata": {},
          "execution_count": 36
        }
      ]
    },
    {
      "cell_type": "code",
      "source": [
        "#o range inicia em 1 e termina em 9, pois 10 é exclusivo, num passo de 2\n",
        "list(range(1,10,2))"
      ],
      "metadata": {
        "id": "e4ExErr8fMQ8",
        "colab": {
          "base_uri": "https://localhost:8080/"
        },
        "outputId": "fa0bf538-f3c7-4326-d8b7-7a23eb6e53ca"
      },
      "execution_count": null,
      "outputs": [
        {
          "output_type": "execute_result",
          "data": {
            "text/plain": [
              "[1, 3, 5, 7, 9]"
            ]
          },
          "metadata": {},
          "execution_count": 37
        }
      ]
    },
    {
      "cell_type": "code",
      "execution_count": null,
      "metadata": {
        "id": "1A0tkdyamP1K",
        "colab": {
          "base_uri": "https://localhost:8080/"
        },
        "outputId": "5fe62128-ce43-4210-b2e8-40befe9c3a1a"
      },
      "outputs": [
        {
          "output_type": "execute_result",
          "data": {
            "text/plain": [
              "[10, 9, 8, 7, 6, 5, 4, 3, 2]"
            ]
          },
          "metadata": {},
          "execution_count": 41
        }
      ],
      "source": [
        "# incremento com variável\n",
        "var = 2\n",
        "\n",
        "list(range(10, 1,var))"
      ]
    },
    {
      "cell_type": "code",
      "source": [
        "# invertendo a sequência da lista criada a partir do range\n",
        "lista = list(range(-10,0))\n",
        "lista.reverse()\n",
        "lista"
      ],
      "metadata": {
        "id": "UEiSoysSSGaI",
        "colab": {
          "base_uri": "https://localhost:8080/"
        },
        "outputId": "c849300c-8433-47b3-e0c1-629a4181e977"
      },
      "execution_count": null,
      "outputs": [
        {
          "output_type": "execute_result",
          "data": {
            "text/plain": [
              "[-1, -2, -3, -4, -5, -6, -7, -8, -9, -10]"
            ]
          },
          "metadata": {},
          "execution_count": 43
        }
      ]
    },
    {
      "cell_type": "code",
      "source": [
        "# Usando passo negativo. O que vai acontecer?\n",
        "list(range(10,0,-3))"
      ],
      "metadata": {
        "id": "O9L_ujgBS25A",
        "colab": {
          "base_uri": "https://localhost:8080/"
        },
        "outputId": "3b218694-f443-4d26-b9f7-ccc47108beee"
      },
      "execution_count": null,
      "outputs": [
        {
          "output_type": "execute_result",
          "data": {
            "text/plain": [
              "[10, 7, 4, 1]"
            ]
          },
          "metadata": {},
          "execution_count": 44
        }
      ]
    },
    {
      "cell_type": "markdown",
      "source": [
        "#### Aplicações\n",
        "A função range() é amplamente utilizada em Python para:\n",
        "\n",
        "* Controlar loops for, determinando a quantidade de iterações.\n",
        "* Criar listas de números inteiros.\n",
        "* Acessar elementos em uma lista por índice.\n",
        "* Definir índices em dicionários.\n",
        "<br>\n",
        "\n",
        "É muito comum usar o for com o range para **percorrer os índices de uma lista**, e assim também **acessar os elementos da lista através do índice**.\n",
        "\n",
        "Isso é feito passando pro range o comprinento da lista como argumento!"
      ],
      "metadata": {
        "id": "Tetw6AeygBCx"
      }
    },
    {
      "cell_type": "code",
      "source": [
        "# Vamos entender no passo a passo...\n",
        "'''Acima vimos que é muito comum usar o for com o range para percorrer os\n",
        "índices de uma lista, neste caso vamos relembrar como conseguimos identificar\n",
        "o comprimento de um elemento ou lista'''\n",
        "\n",
        "len('121324')"
      ],
      "metadata": {
        "id": "eA_dE7W-Y8xx",
        "colab": {
          "base_uri": "https://localhost:8080/"
        },
        "outputId": "a9d3ece3-96e8-44e6-f5a1-c8f73acc08f2"
      },
      "execution_count": null,
      "outputs": [
        {
          "output_type": "execute_result",
          "data": {
            "text/plain": [
              "6"
            ]
          },
          "metadata": {},
          "execution_count": 45
        }
      ]
    },
    {
      "cell_type": "code",
      "source": [
        "lista = [1,2,4,6,8,9,5,3,4]\n",
        "len(lista)"
      ],
      "metadata": {
        "id": "ccOVXgJYY_fE",
        "colab": {
          "base_uri": "https://localhost:8080/"
        },
        "outputId": "3bb41124-fccf-4c00-e2fb-0a480d43e9b7"
      },
      "execution_count": null,
      "outputs": [
        {
          "output_type": "execute_result",
          "data": {
            "text/plain": [
              "9"
            ]
          },
          "metadata": {},
          "execution_count": 46
        }
      ]
    },
    {
      "cell_type": "code",
      "source": [
        "lista = list(range(8))\n",
        "len(lista)"
      ],
      "metadata": {
        "id": "lvpiA5tGTZze",
        "colab": {
          "base_uri": "https://localhost:8080/"
        },
        "outputId": "8e21eff5-95b9-43df-c4b2-14b06c425142"
      },
      "execution_count": null,
      "outputs": [
        {
          "output_type": "execute_result",
          "data": {
            "text/plain": [
              "8"
            ]
          },
          "metadata": {},
          "execution_count": 47
        }
      ]
    },
    {
      "cell_type": "code",
      "execution_count": null,
      "metadata": {
        "id": "cpSmV--WmP1L"
      },
      "outputs": [],
      "source": [
        "#Vejamos um exemplo do uso de For para percorrer os elementos de uma lista\n",
        "\n",
        "lista = [\"a\", \"b\", \"c\", \"d\", 1, 2, 5, 6]\n",
        "print(f'o comprimento da lista é {len(lista)}')\n",
        "print(f'O intervalo para o for percorres será um {range(len(lista))}, sendo os itens {list(range(len(lista)))}')\n",
        "\n",
        "for elemento in range(len(lista)): # for elemento in [0, 1, 2, 3, 4, 5, 6, 7]\n",
        "  if elemento % 2 == 0:\n",
        "    print(elemento, lista[elemento])\n"
      ]
    },
    {
      "cell_type": "code",
      "source": [],
      "metadata": {
        "id": "ggAAXLLqfXVz"
      },
      "execution_count": null,
      "outputs": []
    },
    {
      "cell_type": "code",
      "execution_count": null,
      "metadata": {
        "id": "jm7c3yDemP1L",
        "colab": {
          "base_uri": "https://localhost:8080/"
        },
        "outputId": "1b41a5d4-3bd9-4f8a-e0df-e8099c49173e"
      },
      "outputs": [
        {
          "output_type": "stream",
          "name": "stdout",
          "text": [
            "0 a\n",
            "2 c\n",
            "4 1\n",
            "6 5\n"
          ]
        }
      ],
      "source": [
        "# fazendo igual de cima só que utilizando o step do range\n",
        "lista = [\"a\", \"b\", \"c\", \"d\", 1, 2, 5, 6]\n",
        "\n",
        "for elemento in range(0,len(lista),2):\n",
        "    print(elemento, lista[elemento])"
      ]
    },
    {
      "cell_type": "markdown",
      "source": [
        "conseguimos iterar também múltiplos elementos. por exemplo:"
      ],
      "metadata": {
        "id": "4G0BA_E3iJ1M"
      }
    },
    {
      "cell_type": "code",
      "source": [
        "lista = [[\"a\",1],[\"b\",2]]\n",
        "\n",
        "for letra_numero in lista:\n",
        "  print(letra_numero)"
      ],
      "metadata": {
        "colab": {
          "base_uri": "https://localhost:8080/"
        },
        "id": "1nfEHrL1jnCz",
        "outputId": "4905677c-0d26-4153-f56d-5d297173ecb3"
      },
      "execution_count": null,
      "outputs": [
        {
          "output_type": "stream",
          "name": "stdout",
          "text": [
            "['a', 1]\n",
            "['b', 2]\n"
          ]
        }
      ]
    },
    {
      "cell_type": "code",
      "source": [
        "lista = [[\"a\",1],[\"b\",2]]\n",
        "\n",
        "for letra, numero in [[\"a\",1],[\"b\",2],[]]:\n",
        "  print(letra, numero)"
      ],
      "metadata": {
        "colab": {
          "base_uri": "https://localhost:8080/"
        },
        "id": "h_yYL6vWh88d",
        "outputId": "868a22bf-5d99-4ab6-88db-30cc885e9990"
      },
      "execution_count": null,
      "outputs": [
        {
          "output_type": "stream",
          "name": "stdout",
          "text": [
            "a 1\n",
            "b 2\n"
          ]
        }
      ]
    },
    {
      "cell_type": "code",
      "source": [
        "for i,j,n in [[1,2,5],[1,2,7],[1,2,'']]:\n",
        "  print(i,j,n)"
      ],
      "metadata": {
        "colab": {
          "base_uri": "https://localhost:8080/"
        },
        "id": "YQHuqXNAnW-e",
        "outputId": "0d44e99d-a3f9-4aae-812f-32043b1d72e5"
      },
      "execution_count": null,
      "outputs": [
        {
          "output_type": "stream",
          "name": "stdout",
          "text": [
            "1 2 5\n",
            "1 2 7\n",
            "1 2 \n"
          ]
        }
      ]
    },
    {
      "cell_type": "markdown",
      "source": [
        "____\n",
        "#### *ENUMERATE()*\n",
        "enumerate() é uma função nativa do Python, e é usada para iterar sobre uma sequência (como uma lista, tupla, string, etc.) enquanto rastreia o índice ou a posição de cada elemento na sequência.<br>\n",
        "A função enumerate() retorna um objeto enumerado que produz pares de índice e valor à medida que você percorre a sequência.<br>\n",
        "Pares de índice e valor corresponde a uma nova estrutura de dados chamada de Dicionários. Vocês conhecerão nos próximos módulos.<br>\n",
        "\n",
        "O enumerate() enumera, de ordem crescente, cada elemento da nossa lista\n",
        "\n",
        "ex:\n",
        "minha lista\n",
        "\n",
        "```python\n",
        "minha_lista = [\"a\",\"b\",\"c\"]\n",
        "```\n",
        "\n",
        "terá para cada elemento um número:\n",
        "\n",
        "```python\n",
        "minha_lista = [(0,\"a\"),(1,\"b\"),(2,\"c\")]\n",
        "```\n",
        "\n",
        "Vamos executar o código:"
      ],
      "metadata": {
        "id": "qoRbyasriaRC"
      }
    },
    {
      "cell_type": "code",
      "source": [
        "list(enumerate(['g','f','c']))"
      ],
      "metadata": {
        "id": "iop7ofHjhqfz",
        "colab": {
          "base_uri": "https://localhost:8080/"
        },
        "outputId": "e432cba5-1380-42d6-887b-ec41ad126aaf"
      },
      "execution_count": null,
      "outputs": [
        {
          "output_type": "execute_result",
          "data": {
            "text/plain": [
              "[(0, 'g'), (1, 'f'), (2, 'c')]"
            ]
          },
          "metadata": {},
          "execution_count": 61
        }
      ]
    },
    {
      "cell_type": "markdown",
      "source": [
        "A função enumerate() é comumente usada em loops for para acessar tanto o índice quanto o valor de cada elemento da sequência."
      ],
      "metadata": {
        "id": "69fa8tuZUhvv"
      }
    },
    {
      "cell_type": "code",
      "source": [
        "lista = [\"a\", \"b\", \"c\", \"d\", 1, 2, 5, 6]\n",
        "for conjunto in enumerate(lista):\n",
        "  print(conjunto)\n"
      ],
      "metadata": {
        "id": "b8p9oMiAeGk3",
        "colab": {
          "base_uri": "https://localhost:8080/"
        },
        "outputId": "bcab784a-1852-49c7-f449-2b0472ef717b"
      },
      "execution_count": null,
      "outputs": [
        {
          "output_type": "stream",
          "name": "stdout",
          "text": [
            "(0, 'a')\n",
            "(1, 'b')\n",
            "(2, 'c')\n",
            "(3, 'd')\n",
            "(4, 1)\n",
            "(5, 2)\n",
            "(6, 5)\n",
            "(7, 6)\n"
          ]
        }
      ]
    },
    {
      "cell_type": "code",
      "execution_count": null,
      "metadata": {
        "id": "o7yOCSVhmP1L",
        "colab": {
          "base_uri": "https://localhost:8080/"
        },
        "outputId": "0b2abb49-dbad-4ea9-a39d-d7307e5e6c17"
      },
      "outputs": [
        {
          "output_type": "stream",
          "name": "stdout",
          "text": [
            "é par:  0 a\n",
            "é par:  2 c\n",
            "é par:  4 1\n",
            "é par:  6 5\n"
          ]
        }
      ],
      "source": [
        "lista = [\"a\", \"b\", \"c\", \"d\", 1, 2, 5, 6]\n",
        "\n",
        "for idx, valor in enumerate(lista):\n",
        "  if idx % 2 == 0:\n",
        "    print('é par: ', idx, valor)"
      ]
    },
    {
      "cell_type": "code",
      "source": [],
      "metadata": {
        "id": "04B63fQIg1Qs"
      },
      "execution_count": null,
      "outputs": []
    },
    {
      "cell_type": "markdown",
      "metadata": {
        "id": "uMxx010Kuyik"
      },
      "source": [
        "# Aula 7 - Strings e Funções de String\n",
        "\n",
        "https://docs.python.org/3/library/stdtypes.html#text-sequence-type-str\n",
        "\n",
        "No passado foi mencionado que temos quatro tipos de dados: inteiro, real, booleano e texto/literal (_string_). Na verdade, o quarto tipo básico seria um _caractere_. Uma _string_ é uma **coleção** de caracteres - como se fosse uma lista, mas aceitando apenas elementos textuais.\n",
        "Vamos verificar algumas propriedades das _strings_!\n",
        "\n",
        "## Acessando elementos em uma _string_\n",
        "No capítulo sobre Listas, vimos que podemos acessar elementos individuais de uma lista utilizando um índice entre colchetes. Vamos testar a mesma lógica com _strings_?"
      ]
    },
    {
      "cell_type": "code",
      "execution_count": null,
      "metadata": {
        "id": "CKSNrvatuyim",
        "colab": {
          "base_uri": "https://localhost:8080/"
        },
        "outputId": "562baca2-28da-4ff8-b1c6-a97830f168d1"
      },
      "outputs": [
        {
          "output_type": "stream",
          "name": "stdout",
          "text": [
            "L\n",
            "e\n",
            "t\n",
            "'\n"
          ]
        }
      ],
      "source": [
        "frase = \"Let's Code by Ada\"\n",
        "print(frase[0])\n",
        "print(frase[1])\n",
        "print(frase[2])\n",
        "print(frase[3])"
      ]
    },
    {
      "cell_type": "markdown",
      "metadata": {
        "id": "wz_XHKGGuyim"
      },
      "source": [
        "Note que o programa acima imprime \"Let's\", com um caractere por linha. Ou seja, ele considerou frase[0] como \"L\", frase[1] como \"e\", e assim sucessivamente. Uma _string_ é, de fato, uma coleção de caracteres.\n",
        "\n",
        "Porém, ao contrário de uma lista, dizemos que uma _string_ é **imutável**. Isso significa que não podemos alterar um elemento individual da _string_.\n",
        "O programa abaixo produz um erro:"
      ]
    },
    {
      "cell_type": "code",
      "source": [
        "frase = \"Let's Code by Ada\"\n",
        "frase[0] = 'l'"
      ],
      "metadata": {
        "colab": {
          "base_uri": "https://localhost:8080/",
          "height": 193
        },
        "id": "AQQ0dVACOPE6",
        "outputId": "fec8f24a-eeef-4e5e-c6de-316fca808f8d"
      },
      "execution_count": null,
      "outputs": [
        {
          "output_type": "error",
          "ename": "TypeError",
          "evalue": "ignored",
          "traceback": [
            "\u001b[0;31m---------------------------------------------------------------------------\u001b[0m",
            "\u001b[0;31mTypeError\u001b[0m                                 Traceback (most recent call last)",
            "\u001b[0;32m<ipython-input-6-3e015c4ab74a>\u001b[0m in \u001b[0;36m<cell line: 2>\u001b[0;34m()\u001b[0m\n\u001b[1;32m      1\u001b[0m \u001b[0mfrase\u001b[0m \u001b[0;34m=\u001b[0m \u001b[0;34m\"Let's Code by Ada\"\u001b[0m\u001b[0;34m\u001b[0m\u001b[0;34m\u001b[0m\u001b[0m\n\u001b[0;32m----> 2\u001b[0;31m \u001b[0mfrase\u001b[0m\u001b[0;34m[\u001b[0m\u001b[0;36m0\u001b[0m\u001b[0;34m]\u001b[0m \u001b[0;34m=\u001b[0m \u001b[0;34m'l'\u001b[0m\u001b[0;34m\u001b[0m\u001b[0;34m\u001b[0m\u001b[0m\n\u001b[0m",
            "\u001b[0;31mTypeError\u001b[0m: 'str' object does not support item assignment"
          ]
        }
      ]
    },
    {
      "cell_type": "code",
      "execution_count": null,
      "metadata": {
        "id": "2cDgTVYmuyin",
        "colab": {
          "base_uri": "https://localhost:8080/"
        },
        "outputId": "e8cda813-c560-46e3-ac79-6760d37ac883"
      },
      "outputs": [
        {
          "output_type": "execute_result",
          "data": {
            "text/plain": [
              "['rocha', 1, 2, 3]"
            ]
          },
          "metadata": {},
          "execution_count": 8
        }
      ],
      "source": [
        "lista = ['diego',1,2,3]\n",
        "lista[0] = 'rocha'\n",
        "lista"
      ]
    },
    {
      "cell_type": "markdown",
      "metadata": {
        "id": "f8fa1aW5uyin"
      },
      "source": [
        "Para alterar uma _string_, é necessário **redefini-la**, de modo que a _string_ original será descartada e a nova (alterada) será escrita por cima da original. Ou, alternativamente, podemos gerar uma cópia da _string_ com alterações. Veremos mais detalhes adiante."
      ]
    },
    {
      "cell_type": "code",
      "source": [
        "frase = \"Let's Code by Ada\"\n",
        "frase2 = \"let's Code by Ada\"\n",
        "print('frase: ', frase)\n",
        "print('frase2: ', frase2)"
      ],
      "metadata": {
        "colab": {
          "base_uri": "https://localhost:8080/"
        },
        "id": "NrwLBT_ToaSw",
        "outputId": "dcfe267c-aa1e-43d7-df28-6082a26576a7"
      },
      "execution_count": null,
      "outputs": [
        {
          "output_type": "stream",
          "name": "stdout",
          "text": [
            "frase:  Let's Code by Ada\n",
            "frase2:  let's Code by Ada\n"
          ]
        }
      ]
    },
    {
      "cell_type": "markdown",
      "metadata": {
        "id": "RZ3vziuFuyin"
      },
      "source": [
        "## Operações entre _strings_\n",
        "Alguns operadores aritméticos funcionam com _strings_ também. Naturalmente, eles não servem para fazer contas, mas nos permitem fazer de forma intuitiva algumas operações bastante úteis.\n",
        "\n",
        "O operador **+** serve como um operador de **concatenação** de _strings_: unir duas _strings_. Observe o exemplo abaixo:"
      ]
    },
    {
      "cell_type": "code",
      "execution_count": null,
      "metadata": {
        "id": "9afJiS2Buyio",
        "colab": {
          "base_uri": "https://localhost:8080/"
        },
        "outputId": "b66acd7f-735d-4899-c370-45281a7b2516"
      },
      "outputs": [
        {
          "output_type": "stream",
          "name": "stdout",
          "text": [
            "Olá Mundo\n"
          ]
        }
      ],
      "source": [
        "string1 = 'Olá '\n",
        "string2 = 'Mundo'\n",
        "frase = string1 + string2\n",
        "print(frase)"
      ]
    },
    {
      "cell_type": "markdown",
      "metadata": {
        "id": "kwE80gb_uyio"
      },
      "source": [
        "Outro operador que funciona é o operador **\\***. Este operador não é usado entre duas _strings_, mas entre uma _string_ e um **int**. Ele repetirá a _string_ o número de vezes dado pelo **int**."
      ]
    },
    {
      "cell_type": "code",
      "execution_count": null,
      "metadata": {
        "id": "pf4JPqAJuyio",
        "colab": {
          "base_uri": "https://localhost:8080/",
          "height": 35
        },
        "outputId": "2216bdc7-a650-47db-f469-4f3157475835"
      },
      "outputs": [
        {
          "output_type": "execute_result",
          "data": {
            "text/plain": [
              "'Olá MundoOlá MundoOlá Mundo'"
            ],
            "application/vnd.google.colaboratory.intrinsic+json": {
              "type": "string"
            }
          },
          "metadata": {},
          "execution_count": 15
        }
      ],
      "source": [
        "frase * 3"
      ]
    },
    {
      "cell_type": "code",
      "source": [
        "# todos os outros operadores não funcionam\n",
        "# tanto entre strings quanto entre strings e outro tipo de dado\n",
        "# com exceção do booleano que é como se fosse multiplicar por 1 (true) ou por 0 (false)"
      ],
      "metadata": {
        "id": "yHMbasbhHkdw"
      },
      "execution_count": null,
      "outputs": []
    },
    {
      "cell_type": "markdown",
      "metadata": {
        "id": "Ag6J-6QCuyip"
      },
      "source": [
        "### Copiando uma _string_ através de concatenação\n",
        "Em problemas de somatório você já deve estar acostumado a utilizar um _loop_ onde novos valores são somados em uma mesma variável. Somar os números de uma lista, por exemplo, tem mais ou menos essa carinha:\n",
        "\n",
        "```python\n",
        "soma = 0\n",
        "for numero in lista:\n",
        "\tsoma = soma + numero #lembrando que também pode ser soma += numero\n",
        "```\n",
        "\n",
        "A mesma lógica pode ser aplicada a uma _string_:"
      ]
    },
    {
      "cell_type": "code",
      "execution_count": null,
      "metadata": {
        "id": "L0AaH9tpuyip",
        "colab": {
          "base_uri": "https://localhost:8080/"
        },
        "outputId": "52c14918-d7d4-4c60-d888-1820dda13dab"
      },
      "outputs": [
        {
          "output_type": "stream",
          "name": "stdout",
          "text": [
            "O\n",
            "l\n",
            "á\n",
            " \n",
            "M\n",
            "u\n",
            "n\n",
            "d\n",
            "o\n",
            "Olá Mundo\n"
          ]
        }
      ],
      "source": [
        "string_inicial = 'Olá Mundo'\n",
        "string_final = ''\n",
        "\n",
        "for letra in string_inicial:\n",
        "\tprint(letra)\n",
        "\tstring_final = string_final + letra\n",
        "print(string_final)"
      ]
    },
    {
      "cell_type": "markdown",
      "metadata": {
        "id": "68MXSqYcuyip"
      },
      "source": [
        "Isso é útil porque antes de \"somar\" cada letra à _string_ final podemos fazer alterações (como transformar em maiúscula ou minúscula, acrescentar caracteres entre 2 letras etc). É um jeito de fazer tratamento de _strings_. Veremos mais sobre tratamento de _strings_ no capítulo de funções de _strings_.\n"
      ]
    },
    {
      "cell_type": "markdown",
      "metadata": {
        "id": "RrHyL-U8uyiq"
      },
      "source": [
        "## Transformando uma _string_ em lista\n",
        "_Strings_ são imutáveis, e isso pode nos dar um pouco de trabalho quando queremos fazer pequenas alterações, como forçar um caractere a ser maiúsculo ou acrescentar um caractere à _string_. Uma das formas de fazer envolve a \"soma cumulativa\" apresentada acima. Outra forma envolve transformar a nossa _string_ em lista, que é uma estrutura mutável. Execute o programa abaixo:"
      ]
    },
    {
      "cell_type": "code",
      "source": [
        "list(\"let's code\")"
      ],
      "metadata": {
        "colab": {
          "base_uri": "https://localhost:8080/"
        },
        "id": "gxKnTxD2Pz5-",
        "outputId": "4e7b80f3-5645-453a-8832-edd5baa4c298"
      },
      "execution_count": null,
      "outputs": [
        {
          "output_type": "execute_result",
          "data": {
            "text/plain": [
              "['l', 'e', 't', \"'\", 's', ' ', 'c', 'o', 'd', 'e']"
            ]
          },
          "metadata": {},
          "execution_count": 21
        }
      ]
    },
    {
      "cell_type": "code",
      "execution_count": null,
      "metadata": {
        "id": "NkMXTrq0uyiq",
        "outputId": "adc071f1-a3b1-416d-ec74-c4db22a5d301",
        "colab": {
          "base_uri": "https://localhost:8080/"
        }
      },
      "outputs": [
        {
          "output_type": "execute_result",
          "data": {
            "text/plain": [
              "['L', 'e', 't', \"'\", 's', ' ', 'C', 'o', 'd', 'e', '!']"
            ]
          },
          "metadata": {},
          "execution_count": 24
        }
      ],
      "source": [
        "#Let's Code!\n",
        "\n",
        "string= \"let's Code\"\n",
        "lista = list(string)\n",
        "lista[0] = 'L'\n",
        "lista.append('!')\n",
        "lista"
      ]
    },
    {
      "cell_type": "code",
      "source": [
        "# caso queira voltar a lista para uma string podemos fazer assim\n",
        "frase = ''\n",
        "for letra in lista:\n",
        "  frase = frase + letra\n",
        "frase\n"
      ],
      "metadata": {
        "colab": {
          "base_uri": "https://localhost:8080/",
          "height": 35
        },
        "id": "br1bjvuSJ3Th",
        "outputId": "ccac2d30-4511-486d-c5b8-c23935f8b40b"
      },
      "execution_count": null,
      "outputs": [
        {
          "output_type": "execute_result",
          "data": {
            "text/plain": [
              "\"Let's Code!\""
            ],
            "application/vnd.google.colaboratory.intrinsic+json": {
              "type": "string"
            }
          },
          "metadata": {},
          "execution_count": 26
        }
      ]
    },
    {
      "cell_type": "code",
      "source": [
        "#ou também podemos fazer usando um método chamado \"\".join  . Veremos em instantes :)"
      ],
      "metadata": {
        "id": "UEu7so9O5htZ"
      },
      "execution_count": null,
      "outputs": []
    },
    {
      "cell_type": "markdown",
      "metadata": {
        "id": "GMvgI4xjuyiq"
      },
      "source": [
        "Como a lista é mutável, nela conseguimos alterar uma letra e adicionar um símbolo ao final sem dificuldades! Porém, infelizmente nosso resultado é uma lista, o que não ficou muito legível para o usuário. Podemos resolver isso utilizando o _join_. Veremos em breve como ele realmente funciona, mas por hora podemos utilizá-lo da seguinte maneira para transformar lista em _string_:"
      ]
    },
    {
      "cell_type": "code",
      "execution_count": null,
      "metadata": {
        "id": "Vf0exTp0uyiq",
        "colab": {
          "base_uri": "https://localhost:8080/",
          "height": 245
        },
        "outputId": "76f87de9-9e56-4afa-eca4-33af465610fb"
      },
      "outputs": [
        {
          "output_type": "error",
          "ename": "TypeError",
          "evalue": "ignored",
          "traceback": [
            "\u001b[0;31m---------------------------------------------------------------------------\u001b[0m",
            "\u001b[0;31mTypeError\u001b[0m                                 Traceback (most recent call last)",
            "\u001b[0;32m<ipython-input-29-a2b58a52ff95>\u001b[0m in \u001b[0;36m<cell line: 2>\u001b[0;34m()\u001b[0m\n\u001b[1;32m      1\u001b[0m \u001b[0mstring_original\u001b[0m \u001b[0;34m=\u001b[0m \u001b[0;36m18.0\u001b[0m\u001b[0;34m\u001b[0m\u001b[0;34m\u001b[0m\u001b[0m\n\u001b[0;32m----> 2\u001b[0;31m \u001b[0mlista\u001b[0m \u001b[0;34m=\u001b[0m \u001b[0mlist\u001b[0m\u001b[0;34m(\u001b[0m\u001b[0mstring_original\u001b[0m\u001b[0;34m)\u001b[0m\u001b[0;34m\u001b[0m\u001b[0;34m\u001b[0m\u001b[0m\n\u001b[0m\u001b[1;32m      3\u001b[0m \u001b[0mlista\u001b[0m\u001b[0;34m[\u001b[0m\u001b[0;36m0\u001b[0m\u001b[0;34m]\u001b[0m \u001b[0;34m=\u001b[0m \u001b[0;34m'L'\u001b[0m\u001b[0;34m\u001b[0m\u001b[0;34m\u001b[0m\u001b[0m\n\u001b[1;32m      4\u001b[0m \u001b[0mlista\u001b[0m\u001b[0;34m.\u001b[0m\u001b[0mappend\u001b[0m\u001b[0;34m(\u001b[0m\u001b[0;34m'!'\u001b[0m\u001b[0;34m)\u001b[0m\u001b[0;34m\u001b[0m\u001b[0;34m\u001b[0m\u001b[0m\n\u001b[1;32m      5\u001b[0m \u001b[0mstring_final\u001b[0m \u001b[0;34m=\u001b[0m \u001b[0;34m''\u001b[0m\u001b[0;34m.\u001b[0m\u001b[0mjoin\u001b[0m\u001b[0;34m(\u001b[0m\u001b[0mlista\u001b[0m\u001b[0;34m)\u001b[0m\u001b[0;34m\u001b[0m\u001b[0;34m\u001b[0m\u001b[0m\n",
            "\u001b[0;31mTypeError\u001b[0m: 'float' object is not iterable"
          ]
        }
      ],
      "source": [
        "string_original = \"let's Code\"\n",
        "lista = list(string_original)\n",
        "lista[0] = 'L'\n",
        "lista.append('!')\n",
        "string_final = ''.join(lista)\n",
        "print(string_final)"
      ]
    },
    {
      "cell_type": "code",
      "source": [
        "lista"
      ],
      "metadata": {
        "colab": {
          "base_uri": "https://localhost:8080/"
        },
        "id": "83B-UYqWQevr",
        "outputId": "2eda7c3a-e38f-41ff-96bf-a5dbac94d1fd"
      },
      "execution_count": null,
      "outputs": [
        {
          "output_type": "execute_result",
          "data": {
            "text/plain": [
              "['L', 'e', 't', \"'\", 's', ' ', 'C', 'o', 'd', 'e', '!']"
            ]
          },
          "metadata": {},
          "execution_count": 28
        }
      ]
    },
    {
      "cell_type": "code",
      "source": [
        "' '.join(lista)"
      ],
      "metadata": {
        "colab": {
          "base_uri": "https://localhost:8080/",
          "height": 35
        },
        "id": "wSb52S35QhAE",
        "outputId": "d5b8e9fb-d480-4956-e8fd-162ee2f85fda"
      },
      "execution_count": null,
      "outputs": [
        {
          "output_type": "execute_result",
          "data": {
            "text/plain": [
              "\"L e t ' s   C o d e !\""
            ],
            "application/vnd.google.colaboratory.intrinsic+json": {
              "type": "string"
            }
          },
          "metadata": {},
          "execution_count": 30
        }
      ]
    },
    {
      "cell_type": "markdown",
      "metadata": {
        "id": "F1hypqTVuyiq"
      },
      "source": [
        "Para as modificações mais comuns, temos algumas funções/métodos prontos que poderão ser bastante úteis!\n",
        "\n",
        "## Símbolos especiais"
      ]
    },
    {
      "cell_type": "markdown",
      "source": [
        "\n",
        "### Quebra de linha\n",
        "Uma quebra de linha indica que o programa exibindo a _string_ deverá quebrar a linha atual e exibir o restante da _string_ na linha seguinte, e é representada na maioria dos sistemas e na _web_ pelo símbolo ```\\n```. Execute o programa abaixo e veja o resultado na tela:\n"
      ],
      "metadata": {
        "id": "BfxWAwtyKvoc"
      }
    },
    {
      "cell_type": "code",
      "source": [
        "'oi /nmundo'"
      ],
      "metadata": {
        "colab": {
          "base_uri": "https://localhost:8080/",
          "height": 35
        },
        "id": "vIAyXqh76m7J",
        "outputId": "746085cd-4cda-4027-be89-d37385f18ea2"
      },
      "execution_count": null,
      "outputs": [
        {
          "output_type": "execute_result",
          "data": {
            "text/plain": [
              "'oi /nmundo'"
            ],
            "application/vnd.google.colaboratory.intrinsic+json": {
              "type": "string"
            }
          },
          "metadata": {},
          "execution_count": 31
        }
      ]
    },
    {
      "cell_type": "code",
      "execution_count": null,
      "metadata": {
        "id": "4l_EnlR5uyir",
        "colab": {
          "base_uri": "https://localhost:8080/"
        },
        "outputId": "6d2970a1-7ab5-41d0-b538-20ec6b0d47ac"
      },
      "outputs": [
        {
          "output_type": "stream",
          "name": "stdout",
          "text": [
            "Olá \n",
            "mundo\n"
          ]
        }
      ],
      "source": [
        "print('Olá \\nmundo')"
      ]
    },
    {
      "cell_type": "markdown",
      "metadata": {
        "id": "m4U8olhNuyir"
      },
      "source": [
        "### Barra\n",
        "E se nós quiséssemos representar uma _string_ que explica o significado de ```\\n```, por exemplo, como proceder? Afinal, ao ver o símbolo ```\\n``` o programa entenderá que é uma quebra de linha e fará isso ao invés de escrever ```\\n``` na tela.\n",
        "\n",
        "Podemos utilizar 2 barras: ```\\\\```. Ao fazermos isso, o programa entende que é para representar a barra na tela ao invés de interpretá-la como início de outro símbolo especial."
      ]
    },
    {
      "cell_type": "code",
      "source": [
        "print('Utilizamos o \\n para quebrar linhas')"
      ],
      "metadata": {
        "id": "e85k8XHP9ONK",
        "colab": {
          "base_uri": "https://localhost:8080/"
        },
        "outputId": "9eced62b-a858-4946-ccc5-d285841ec19c"
      },
      "execution_count": null,
      "outputs": [
        {
          "output_type": "stream",
          "name": "stdout",
          "text": [
            "Utilizamos o \n",
            " para quebrar linhas\n"
          ]
        }
      ]
    },
    {
      "cell_type": "code",
      "execution_count": null,
      "metadata": {
        "id": "0PuT_TWNuyir",
        "colab": {
          "base_uri": "https://localhost:8080/"
        },
        "outputId": "4c93848a-5c51-4d53-aea3-9522970ada88"
      },
      "outputs": [
        {
          "output_type": "stream",
          "name": "stdout",
          "text": [
            "Utilizamos o \\n para quebrar linhas\n"
          ]
        }
      ],
      "source": [
        "print('Utilizamos o \\\\n para quebrar linhas')"
      ]
    },
    {
      "cell_type": "markdown",
      "metadata": {
        "id": "_XWXoUW3uyis"
      },
      "source": [
        "### Aspas\n",
        "Um problema que você deve ter se deparado é que parece impossível representar o símbolo ```'``` em uma _string_ que foi aberta por esse símbolo, já que a segunda ocorrência dele fechará a string. Idem para o símbolo ```\"```. Podemos resolver isso da mesma forma, com a utilização da barra: ```\\'``` irá sempre representar o símbolo ```'``` e ```\\\"``` irá sempre representar o símbolo ```\"``` ao invés de fechar uma _string_."
      ]
    },
    {
      "cell_type": "code",
      "source": [
        "# não consigo imprimir uma aspas simples\n",
        "print('Imprimindo uma aspa simples (') dentro de uma striing')"
      ],
      "metadata": {
        "colab": {
          "base_uri": "https://localhost:8080/",
          "height": 141
        },
        "id": "HlwQ0yeEeGQZ",
        "outputId": "5d817bc5-dece-4f7d-9466-6284511a5c86"
      },
      "execution_count": null,
      "outputs": [
        {
          "output_type": "error",
          "ename": "SyntaxError",
          "evalue": "ignored",
          "traceback": [
            "\u001b[0;36m  File \u001b[0;32m\"<ipython-input-35-b9c910d8d31c>\"\u001b[0;36m, line \u001b[0;32m2\u001b[0m\n\u001b[0;31m    print('Imprimindo uma aspa simples (') dentro de uma striing')\u001b[0m\n\u001b[0m                                                                ^\u001b[0m\n\u001b[0;31mSyntaxError\u001b[0m\u001b[0;31m:\u001b[0m unterminated string literal (detected at line 2)\n"
          ]
        }
      ]
    },
    {
      "cell_type": "code",
      "execution_count": null,
      "metadata": {
        "id": "F40Wm_N4uyis",
        "colab": {
          "base_uri": "https://localhost:8080/"
        },
        "outputId": "52327770-74f7-4c7d-8580-ed8ba549b136"
      },
      "outputs": [
        {
          "output_type": "stream",
          "name": "stdout",
          "text": [
            "Imprimindo uma aspa simples (\") dentro de uma striing\n"
          ]
        }
      ],
      "source": [
        "#print('Imprimindo uma aspa simples (\\') dentro de uma striing')\n",
        "print(\"Imprimindo uma aspa simples (\\\") dentro de uma striing\")"
      ]
    },
    {
      "cell_type": "markdown",
      "metadata": {
        "id": "E3X-RYF4uyis"
      },
      "source": [
        "## Métodos de strings\n",
        "\n",
        "É possível fazer várias operações com _strings_ utilizando técnicas como concatenação ou converter em listas. Porém, certas operações são muito comuns e podem ser muito trabalhosas de fazer na mão. Por isso, temos diversas funções prontas para nos ajudar.\n",
        "\n",
        "Note que como _strings_ são imutáveis, nenhuma dessas funções irá alterar a _string_ original. Elas sempre **retornarão** uma _string_ nova com as modificações desejadas.\n",
        "\n",
        "Mais funções podem ser encontradas em: https://docs.python.org/3/library/stdtypes.html#string-methods\n",
        "1. **str.upper()**: Converte toda a string em maiúsculas.\n",
        "2. **str.lower()**: Converte toda a string em minúsculas.\n",
        "3. **str.capitalize()**: Converte o primeiro caractere da string em maiúscula e os demais em minúsculas.\n",
        "4. **str.title()**: Converte o primeiro caractere de cada palavra da string em maiúscula.\n",
        "5. **str.strip()**: Remove espaços em branco no início e no final da string.\n",
        "6. **str.lstrip()**: Remove espaços em branco no início da string.\n",
        "7. **str.rstrip()**: Remove espaços em branco no final da string.\n",
        "8. **str.replace(old, new)**: Substitui todas as ocorrências da substring \"old\" pela substring \"new\".\n",
        "9. **str.startswith(prefix)**: Verifica se a string começa com o prefixo especificado.\n",
        "10. **str.endswith(suffix)**: Verifica se a string termina com o sufixo especificado.\n",
        "11. **str.split(separator)**: Divide a string em uma lista de substrings usando o separador especificado.\n",
        "12. **str.join(iterable)**: Junta elementos de um iterável usando a string como separador.\n",
        "\n",
        "Vejamos algumas das mais usadas."
      ]
    },
    {
      "cell_type": "markdown",
      "source": [
        "### Maiúsculas e minúsculas\n",
        "Temos algumas funções prontas para alterar a capitalização das letras. Uma delas é a função _upper_, que transforma todas as letras da _string_ original em maiúsculas:"
      ],
      "metadata": {
        "id": "dvLws-tPL9NZ"
      }
    },
    {
      "cell_type": "code",
      "execution_count": null,
      "metadata": {
        "id": "_tDKVGVsuyis",
        "colab": {
          "base_uri": "https://localhost:8080/",
          "height": 35
        },
        "outputId": "fff1f4b2-bea0-4737-bb50-8131a6bc691f"
      },
      "outputs": [
        {
          "output_type": "execute_result",
          "data": {
            "text/plain": [
              "'VAMOS PROGRAMAR'"
            ],
            "application/vnd.google.colaboratory.intrinsic+json": {
              "type": "string"
            }
          },
          "metadata": {},
          "execution_count": 38
        }
      ],
      "source": [
        "frase = 'vAmOs PrOgRaMar'\n",
        "maiuscula = frase.upper()\n",
        "maiuscula"
      ]
    },
    {
      "cell_type": "markdown",
      "metadata": {
        "id": "FYPXx9-Duyis"
      },
      "source": [
        "Analogamente, temos a função _lower_ para transformar todas as letras em minúsculas:"
      ]
    },
    {
      "cell_type": "code",
      "execution_count": null,
      "metadata": {
        "id": "wLK3MayPuyit",
        "colab": {
          "base_uri": "https://localhost:8080/"
        },
        "outputId": "d01feab0-dcdb-4ff8-aa7a-69fe8c1af338"
      },
      "outputs": [
        {
          "output_type": "stream",
          "name": "stdout",
          "text": [
            "vamos programar\n"
          ]
        }
      ],
      "source": [
        "minuscula = frase.lower()\n",
        "print(minuscula)"
      ]
    },
    {
      "cell_type": "markdown",
      "metadata": {
        "id": "QU9A-ntDuyit"
      },
      "source": [
        "Também é possível formatar a _string_ inteira como um nome próprio: primeira letra de cada palavra maiúscula, todo o restante minúscula. Para isso temos a função _title_:"
      ]
    },
    {
      "cell_type": "code",
      "execution_count": null,
      "metadata": {
        "id": "wqv0bjGSuyit",
        "colab": {
          "base_uri": "https://localhost:8080/"
        },
        "outputId": "e150fad5-2e83-4cc7-ce6c-3a0d282440a7"
      },
      "outputs": [
        {
          "output_type": "stream",
          "name": "stdout",
          "text": [
            "Vamos Programar\n"
          ]
        }
      ],
      "source": [
        "titulo = frase.title()\n",
        "print(titulo)"
      ]
    },
    {
      "cell_type": "markdown",
      "metadata": {
        "id": "FiGZtmVEuyit"
      },
      "source": [
        "E, por fim, é possível tratar nossa _string_ como uma frase gramaticalmente correta: primeira letra maiúscula, todo o resto minúscula. Essa função é a _capitalize_:"
      ]
    },
    {
      "cell_type": "code",
      "execution_count": null,
      "metadata": {
        "id": "ImLzWtd5uyit",
        "colab": {
          "base_uri": "https://localhost:8080/"
        },
        "outputId": "42589ac9-668e-4744-bb01-81819913b529"
      },
      "outputs": [
        {
          "output_type": "stream",
          "name": "stdout",
          "text": [
            "Vamos programar\n"
          ]
        }
      ],
      "source": [
        "correta = frase.capitalize()\n",
        "print(correta)"
      ]
    },
    {
      "cell_type": "markdown",
      "metadata": {
        "id": "G23VjTJLuyit"
      },
      "source": [
        "Uma utilidade para essas funções é padronizar entrada de usuário. Quando pedimos para o usuário digitar 'sim' caso ele deseje fazer algo, ele pode digitar 'SIM', 'sim', 'Sim', 'sIm', 'siM',  'SIm', 'sIM' ou 'SiM'. Prever todas essas condições em uma condicional pode ser bastante trabalhoso, ou mesmo impossível. Imagine se fosse uma _string_ de várias letras... Porém, podemos forçar um padrão para a entrada do usuário e comparar com esse padrão:"
      ]
    },
    {
      "cell_type": "code",
      "execution_count": null,
      "metadata": {
        "id": "TrP7eyr9uyit",
        "colab": {
          "base_uri": "https://localhost:8080/"
        },
        "outputId": "a362ee7f-032f-4eb6-ed05-b469265d48d1"
      },
      "outputs": [
        {
          "output_type": "stream",
          "name": "stdout",
          "text": [
            "digite sim: \n",
            "siM\n",
            "Você digitou sim\n"
          ]
        }
      ],
      "source": [
        "usuario = input(\"digite sim: \\n\")\n",
        "if usuario.upper() == 'SIM':\n",
        "  print('Você digitou sim')\n",
        "else:\n",
        "  print('você digitou outra coisa')"
      ]
    },
    {
      "cell_type": "markdown",
      "metadata": {
        "id": "VwA0-6eHuyiu"
      },
      "source": [
        "### Quebrando uma _string_\n",
        "É possível separar uma _string_ em uma lista de _substrings_. Isso pode ser particularmente útil quando precisamos separar um texto em palavras individuais. A função que realiza essa quebra é o _split_:\n",
        "\n",
        "- Por padrão o método split quebra pelo espaço se nenhuma 'palavra/caractere' foi passada pra ele. Por exemplo:"
      ]
    },
    {
      "cell_type": "code",
      "execution_count": null,
      "metadata": {
        "id": "iprhuM-_uyiu",
        "colab": {
          "base_uri": "https://localhost:8080/"
        },
        "outputId": "86a468e8-1529-41fd-e8c8-9be80af85192"
      },
      "outputs": [
        {
          "output_type": "stream",
          "name": "stdout",
          "text": [
            "['uma', 'frase', 'qualquer', 'está', 'sendo', 'passada']\n"
          ]
        }
      ],
      "source": [
        "texto = 'uma frase qualquer está sendo passada'\n",
        "palavras = texto.split()\n",
        "print(palavras)"
      ]
    },
    {
      "cell_type": "code",
      "source": [
        "def soletrando_str(palavra):\n",
        "  palavras = texto.split()\n",
        "  return palavras"
      ],
      "metadata": {
        "id": "s-AVKYvRzcOG"
      },
      "execution_count": null,
      "outputs": []
    },
    {
      "cell_type": "code",
      "source": [
        "palavra = \"amor\"\n",
        "print(palavras)"
      ],
      "metadata": {
        "id": "kcHNr4cse6Hb",
        "colab": {
          "base_uri": "https://localhost:8080/",
          "height": 193
        },
        "outputId": "bdc98fdb-8550-4c28-addb-72f324374a89"
      },
      "execution_count": null,
      "outputs": [
        {
          "output_type": "error",
          "ename": "NameError",
          "evalue": "ignored",
          "traceback": [
            "\u001b[0;31m---------------------------------------------------------------------------\u001b[0m",
            "\u001b[0;31mNameError\u001b[0m                                 Traceback (most recent call last)",
            "\u001b[0;32m<ipython-input-95-98079f606a81>\u001b[0m in \u001b[0;36m<cell line: 2>\u001b[0;34m()\u001b[0m\n\u001b[1;32m      1\u001b[0m \u001b[0mpalavra\u001b[0m \u001b[0;34m=\u001b[0m \u001b[0;34m\"amor\"\u001b[0m\u001b[0;34m\u001b[0m\u001b[0;34m\u001b[0m\u001b[0m\n\u001b[0;32m----> 2\u001b[0;31m \u001b[0mprint\u001b[0m\u001b[0;34m(\u001b[0m\u001b[0mpalavras\u001b[0m\u001b[0;34m)\u001b[0m\u001b[0;34m\u001b[0m\u001b[0;34m\u001b[0m\u001b[0m\n\u001b[0m",
            "\u001b[0;31mNameError\u001b[0m: name 'palavras' is not defined"
          ]
        }
      ]
    },
    {
      "cell_type": "markdown",
      "metadata": {
        "id": "Tj-ZVSJ1uyiu"
      },
      "source": [
        "O _split_ é mais do que apenas uma função para separar palavras. Podemos opcionalmente passar como parâmetro uma _string_ para ser usada como critério de separação: ao invés de quebrar no espaço em branco, a _string_ principal será quebrada nos pontos onde o parâmetro aparece (e ele será apagado do resultado final).\n",
        "\n",
        "Uma utilidade interessante para isso seria quando estamos interessados em ler dados formatados do teclado ou de um arquivo e pegar as informações que nos interessam. Imagine, por exemplo, que você queira que o usuário digite uma data no formato 'dd/mm/aaaa' e em seguida você precise separar dia, mês e ano em três variáveis do tipo **int**. Isso é possível com o _split_:"
      ]
    },
    {
      "cell_type": "code",
      "source": [
        "data = input('Digite o data do seu niver (dd/mm/aaaa) \\n')\n",
        "lista_data = data.split('/')\n",
        "dia = int(lista_data[0])\n",
        "mes = int(lista_data[1])\n",
        "ano = int(lista_data[2])\n",
        "\n",
        "print('Dia: ', dia)\n",
        "print('Mês: ', mes)\n",
        "print('Ano: ', ano)"
      ],
      "metadata": {
        "colab": {
          "base_uri": "https://localhost:8080/"
        },
        "id": "5gZrGXlAT4dm",
        "outputId": "7b45c3d5-36f5-46d4-e223-63d9e699b0db"
      },
      "execution_count": null,
      "outputs": [
        {
          "output_type": "stream",
          "name": "stdout",
          "text": [
            "Digite o data do seu niver (dd/mm/aaaa) \n",
            "04/07/1986\n",
            "Dia:  4\n",
            "Mês:  7\n",
            "Ano:  1986\n"
          ]
        }
      ]
    },
    {
      "cell_type": "code",
      "execution_count": null,
      "metadata": {
        "id": "EKeOTyRguyiu"
      },
      "outputs": [],
      "source": []
    },
    {
      "cell_type": "markdown",
      "metadata": {
        "id": "9MK2uJH9uyiu"
      },
      "source": [
        "### Substituindo elementos na _string_\n",
        "Uma das ferramentas mais úteis em qualquer editor de texto é o _localizar e substituir_, onde podemos buscar por todas as ocorrências de uma expressão no texto e trocar por outra expressão.\n",
        "Em Python temos uma função análoga, o _replace_. Ele recebe 2 parâmetros: a expressão a ser substituída e a expressão que a substituirá. Veja o exemplo:"
      ]
    },
    {
      "cell_type": "code",
      "execution_count": null,
      "metadata": {
        "id": "KkeJ7qAZuyiu",
        "colab": {
          "base_uri": "https://localhost:8080/"
        },
        "outputId": "411c049a-d581-40ef-f166-fd88e0ef7dc4"
      },
      "outputs": [
        {
          "output_type": "stream",
          "name": "stdout",
          "text": [
            "Python é muito fácil. Por ser tão fácil, devemos estudar.\n"
          ]
        }
      ],
      "source": [
        "frase = 'Python é muito difícil. Por ser tão difícil, devemos estudar.'\n",
        "corrigida = frase.replace('difícil', 'fácil')\n",
        "print(corrigida)"
      ]
    },
    {
      "cell_type": "markdown",
      "metadata": {
        "id": "5iQi8KSmuyiv"
      },
      "source": [
        "Em Python não existe uma função para deletar um pedaço de uma _string_. Porém, podemos usar o replace para substituir uma expressão por uma _string_ vazia, o que tem o mesmo resultado:\n",
        "\n"
      ]
    },
    {
      "cell_type": "code",
      "execution_count": null,
      "metadata": {
        "id": "5RngrG-vuyiv",
        "colab": {
          "base_uri": "https://localhost:8080/"
        },
        "outputId": "0f84a687-9486-4a8e-e10b-142da62588ef"
      },
      "outputs": [
        {
          "output_type": "stream",
          "name": "stdout",
          "text": [
            "Diego\n"
          ]
        }
      ],
      "source": [
        "palavra = 'Dhiego'\n",
        "nome = palavra.replace('h','')\n",
        "print(nome)"
      ]
    },
    {
      "cell_type": "markdown",
      "metadata": {
        "id": "ABIn57OFuyiv"
      },
      "source": [
        "### Concatenando _strings_ em uma coleção\n",
        "Imagine que você tem uma coleção (por exemplo, uma lista) de _strings_ e precisa unir todas elas utilizando algum símbolo padrão como separador entre elas. Para isso temos o _join_. Ele soa pouco intuitivo no começo, então convém executar o exemplo e observar com atenção seu resultado:"
      ]
    },
    {
      "cell_type": "code",
      "execution_count": null,
      "metadata": {
        "id": "AbkQ8KkLuyiv",
        "colab": {
          "base_uri": "https://localhost:8080/"
        },
        "outputId": "48e4a2a2-be74-40ba-a9bb-23d7753f0d5a"
      },
      "outputs": [
        {
          "output_type": "stream",
          "name": "stdout",
          "text": [
            "a-b-c\n"
          ]
        }
      ],
      "source": [
        "lista=['a','b','c']\n",
        "concatenador = '-'\n",
        "result = concatenador.join(lista)\n",
        "print(result)"
      ]
    },
    {
      "cell_type": "markdown",
      "metadata": {
        "id": "mnm6Fboruyiv"
      },
      "source": [
        "Já vimos o _join_ antes sendo usado para converter uma lista de volta em _string_. Para isso, utilizávamos uma _string_ vazia como separador. Assim, os elementos da lista eram concatenados sem separador.\n",
        "> **Dica:** um jeito de memorizar facilmente como o _join_ funciona é pensar que o separador entrará no lugar das vírgulas na visualização da lista.\n"
      ]
    },
    {
      "cell_type": "markdown",
      "source": [
        "\n",
        "## assim como nas listas...\n",
        "\n",
        "também conseguimos checar se um determinado valor pertence a uma lista, usando da mesma sintaxe"
      ],
      "metadata": {
        "id": "LKM10mDvXFsQ"
      }
    },
    {
      "cell_type": "code",
      "source": [
        "lista = ['diego','joao','maria']\n",
        "'joao' in lista"
      ],
      "metadata": {
        "colab": {
          "base_uri": "https://localhost:8080/"
        },
        "id": "Vg5bkGFMZYyW",
        "outputId": "d7c024df-19f1-48ef-fadc-bf33d611ded8"
      },
      "execution_count": null,
      "outputs": [
        {
          "output_type": "execute_result",
          "data": {
            "text/plain": [
              "True"
            ]
          },
          "metadata": {},
          "execution_count": 56
        }
      ]
    },
    {
      "cell_type": "markdown",
      "metadata": {
        "id": "IB5mIRKEuyix"
      },
      "source": [
        "# Exercícios"
      ]
    },
    {
      "cell_type": "markdown",
      "metadata": {
        "id": "uMR9JO3auyiz"
      },
      "source": [
        "Faça um código que recebe um texto contendo letras, números e espaços. E, passando uma palavra, ele irá verificar se essa palavra existe nesse texto, retornando True ou False.\n",
        "\n",
        "obs: A palavra precisa ser idêntica (mas pode ter capitalização diferente). Encontrar um trecho dela 'dentro' de outra palavra não deve contar como existente no texto.\n",
        "\n",
        "```python\n",
        "texto = \"Eu me chamo Joao e minha linguagem de programação favorita é python desde 2023\"\n",
        "\n",
        "palavra_a_pesquisar = \"linguagem\"\n",
        "\n",
        "# nesse exemplo o código irá retornar True. Mas se a palavra a ser pesquisada fosse lingua, iria retornar False\n",
        "```\n",
        "\n"
      ]
    },
    {
      "cell_type": "code",
      "source": [
        "texto = \"Eu me chamo Joao e minha linguagem de programação favorita é python desde 2023\"\n",
        "palavra_a_pesquisar = \"lingua\"\n",
        "\n",
        "palavras_no_texto = texto.split()\n",
        "print(palavras_no_texto)\n",
        "palavra_a_pesquisar = palavra_a_pesquisar.lower()\n",
        "encontrada = False\n",
        "\n",
        "for palavra in palavras_no_texto:\n",
        "    if palavra.lower() == palavra_a_pesquisar:\n",
        "        encontrada = True\n",
        "        break\n",
        "if encontrada:\n",
        "    print(\"True\")\n",
        "else:\n",
        "    print(\"False\")\n"
      ],
      "metadata": {
        "colab": {
          "base_uri": "https://localhost:8080/"
        },
        "id": "EiV5xLiNg_Qy",
        "outputId": "a8988479-88bf-4869-f93d-6393a4de415b"
      },
      "execution_count": null,
      "outputs": [
        {
          "output_type": "stream",
          "name": "stdout",
          "text": [
            "['Eu', 'me', 'chamo', 'Joao', 'e', 'minha', 'linguagem', 'de', 'programação', 'favorita', 'é', 'python', 'desde', '2023']\n",
            "False\n"
          ]
        }
      ]
    },
    {
      "cell_type": "code",
      "source": [
        "texto = \"Eu me chamo Joao e minha linguagem de programação favorita é python desde 2023\"\n",
        "\n",
        "texto = texto.upper()\n",
        "print(texto)\n",
        "texto_list = texto.split()\n",
        "print(texto_list)\n",
        "\n",
        "palavras_a_pesquisar = input('Informe a palavra a pesquisar: ').upper()\n",
        "print(palavras_a_pesquisar)\n",
        "palavras_a_pesquisar in texto_list"
      ],
      "metadata": {
        "colab": {
          "base_uri": "https://localhost:8080/"
        },
        "id": "5a-2vA1FFPqk",
        "outputId": "9e91ab45-9f85-499c-a116-4dbe219da28f"
      },
      "execution_count": null,
      "outputs": [
        {
          "output_type": "stream",
          "name": "stdout",
          "text": [
            "EU ME CHAMO JOAO E MINHA LINGUAGEM DE PROGRAMAÇÃO FAVORITA É PYTHON DESDE 2023\n",
            "['EU', 'ME', 'CHAMO', 'JOAO', 'E', 'MINHA', 'LINGUAGEM', 'DE', 'PROGRAMAÇÃO', 'FAVORITA', 'É', 'PYTHON', 'DESDE', '2023']\n",
            "Informe a palavra a pesquisar: linGUAgem\n",
            "LINGUAGEM\n"
          ]
        },
        {
          "output_type": "execute_result",
          "data": {
            "text/plain": [
              "True"
            ]
          },
          "metadata": {},
          "execution_count": 65
        }
      ]
    },
    {
      "cell_type": "markdown",
      "source": [
        "Faça um código que recebe uma string e retorna todas as letras minúsculas com exceção da letra A/a.\n",
        "\n",
        "Ex:\n",
        "recebe: Posso dizer que sei programar em Python.\n",
        "\n",
        "retorna: posso dizer que sei progrAmAr em python."
      ],
      "metadata": {
        "id": "0-6OxeBCl0FM"
      }
    },
    {
      "cell_type": "code",
      "source": [
        "texto = input(\"Insira o texto para conversão: \")\n",
        "\n",
        "texto = texto.lower() #diminiu tudo\n",
        "texto_final = texto.replace(\"a\",\"A\") #substitui azinho por azao\n",
        "\n",
        "print(\"Texto convertido:\", texto_final)"
      ],
      "metadata": {
        "colab": {
          "base_uri": "https://localhost:8080/"
        },
        "id": "-vo4gBWUg_zQ",
        "outputId": "fca36bd4-5aca-4836-bee7-972bc2e9d003"
      },
      "execution_count": null,
      "outputs": [
        {
          "output_type": "stream",
          "name": "stdout",
          "text": [
            "Insira o texto para conversão: A CasA do Joao de Barro é feiTA de Barro\n",
            "Texto convertido: A cAsA do joAo de bArro é feitA de bArro\n"
          ]
        }
      ]
    },
    {
      "cell_type": "code",
      "source": [
        "texto = input(\"Insira o texto para conversão: \").lower()\n",
        "texto_final = texto.replace(\"a\",\"A\") #substitui azinho por azao\n",
        "\n",
        "print(\"Texto convertido:\", texto_final)"
      ],
      "metadata": {
        "colab": {
          "base_uri": "https://localhost:8080/"
        },
        "id": "WivxRtvgHOud",
        "outputId": "3b4f29d2-5d61-4192-bf92-f05c5d26b89d"
      },
      "execution_count": null,
      "outputs": [
        {
          "output_type": "stream",
          "name": "stdout",
          "text": [
            "Insira o texto para conversão: A CasA do Joao de Barro é feiTA de Barro\n",
            "Texto convertido: A cAsA do joAo de bArro é feitA de bArro\n"
          ]
        }
      ]
    },
    {
      "cell_type": "code",
      "source": [
        "texto = input(\"Insira o texto para conversão: \").lower().replace(\"a\",\"A\")\n",
        "print(\"Texto convertido:\", texto)"
      ],
      "metadata": {
        "colab": {
          "base_uri": "https://localhost:8080/"
        },
        "id": "JocYAxDdHmY-",
        "outputId": "dd9e506a-e9e1-44ee-f350-10ffab5bdf5c"
      },
      "execution_count": null,
      "outputs": [
        {
          "output_type": "stream",
          "name": "stdout",
          "text": [
            "Insira o texto para conversão: A CasA do Joao de Barro é feiTA de Barro\n",
            "Texto convertido: A cAsA do joAo de bArro é feitA de bArro\n"
          ]
        }
      ]
    },
    {
      "cell_type": "code",
      "source": [
        "texto = input(\"Digite texto para conversão: \")\n",
        "novo_texto = \"\"\n",
        "\n",
        "for letra in texto:\n",
        "    if letra == 'a' or letra == 'á' or letra == 'ã':\n",
        "        novo_texto += 'A'  # Transforma 'a' em 'A'\n",
        "    else:\n",
        "        novo_texto += letra.lower()\n",
        "\n",
        "print(novo_texto)"
      ],
      "metadata": {
        "colab": {
          "base_uri": "https://localhost:8080/"
        },
        "id": "KwCiKlZSICog",
        "outputId": "80f7a57d-d762-4281-e8f0-060dc69fc6b4"
      },
      "execution_count": null,
      "outputs": [
        {
          "output_type": "stream",
          "name": "stdout",
          "text": [
            "Digite texto para conversão: A CasA do Joao de Barro é feiTA de Barro ácido\n",
            "a cAsa do joAo de bArro é feita de bArro Acido\n"
          ]
        }
      ]
    },
    {
      "cell_type": "markdown",
      "source": [
        "Considera a população da cidade X igual 75340 habitantes, sendo que esta cidade tem uma taxa de crescimento anual de 3.7%. A cidade Y tem uma população de 213480 habitantes com uma taxa de crescimento anual de 1.7%. Faça um código que informe em quantos anos a população da cidade X ultrapassará a cidade Y."
      ],
      "metadata": {
        "id": "RIfO3y_iDOxx"
      }
    },
    {
      "cell_type": "code",
      "source": [
        "x = 75340\n",
        "y = 213480\n",
        "ano = 0\n",
        "\n",
        "while x < y:\n",
        "  x += x * 0.037\n",
        "  y += y * 0.017\n",
        "  ano += 1\n",
        "\n",
        "print(f'Em {ano} anos a população da cidade X será maior que a população da cidade Y')"
      ],
      "metadata": {
        "colab": {
          "base_uri": "https://localhost:8080/"
        },
        "id": "J7hxdGY_DQ28",
        "outputId": "a885667f-dfe1-489c-a431-e65173bd6ca4"
      },
      "execution_count": null,
      "outputs": [
        {
          "output_type": "stream",
          "name": "stdout",
          "text": [
            "Em 54 anos a população da cidade X será maior que a população da cidade Y\n"
          ]
        }
      ]
    },
    {
      "cell_type": "markdown",
      "source": [
        "A série de Fibonacci é uma sequência matemática que começa com 0 e 1, e os números subsequentes são a soma dos dois números anteriores. A sequência começa da seguinte forma:<br>\n",
        "0, 1, 1, 2, 3, 5, 8, 13, 21, 34, ...<br>\n",
        "Faça um programa que gere a série até que o valor seja maior que um valor informado pelo usuário. Informe quando o valor ultrapassar o valor informado pelo usuário."
      ],
      "metadata": {
        "id": "gDjMuetOKWUo"
      }
    },
    {
      "cell_type": "code",
      "source": [
        "fim = int(input('Informe o fim da série Fibonacci: '))\n",
        "penultimo = 1\n",
        "ultimo = 0\n",
        "termo = 0\n",
        "# 1,2,3,4,5,6,7,8,9,10\n",
        "while termo < fim:\n",
        "  termo = ultimo + penultimo #1,1,2\n",
        "  penultimo = ultimo #0,1,1\n",
        "  ultimo = termo #1,1,2\n",
        "  if termo < fim:\n",
        "    print(termo)\n",
        "  else:\n",
        "    print(f'O próximo valor será maior que {fim}')"
      ],
      "metadata": {
        "colab": {
          "base_uri": "https://localhost:8080/"
        },
        "id": "WQRWctniKTw_",
        "outputId": "2bc4a390-3d63-4653-a8e7-2995758d9bb1"
      },
      "execution_count": null,
      "outputs": [
        {
          "output_type": "stream",
          "name": "stdout",
          "text": [
            "Informe o fim da série Fibonacci: 10\n",
            "1\n",
            "1\n",
            "2\n",
            "3\n",
            "5\n",
            "8\n",
            "O próximo valor será maior que 10\n"
          ]
        }
      ]
    },
    {
      "cell_type": "code",
      "source": [
        "numero_usr = int(input('Digite um número: '))\n",
        "fibonacci = 0\n",
        "contador = 0\n",
        "soma = 1\n",
        "#1,2,3,4,5,6,7,8,9,10\n",
        "while numero_usr > fibonacci:\n",
        "    fibonacci = fibonacci + soma #1,2\n",
        "    soma = fibonacci #1,2\n",
        "    contador += 1\n",
        "    print(soma)\n",
        "\n",
        "\n",
        "print(f'O número que o usuário digitou foi: {numero_usr}')\n",
        "print(f'O Fibonacci ultrapassou o número do usuário alcançando o número: {fibonacci}, para isso precisou executar {contador} operações de adição.')"
      ],
      "metadata": {
        "colab": {
          "base_uri": "https://localhost:8080/"
        },
        "id": "G46GNDIP6-LF",
        "outputId": "3eeb0465-f457-4574-d4c5-3e5ac5cb26af"
      },
      "execution_count": null,
      "outputs": [
        {
          "output_type": "stream",
          "name": "stdout",
          "text": [
            "Digite um número: 10\n",
            "1\n",
            "2\n",
            "4\n",
            "8\n",
            "16\n",
            "O número que o usuário digitou foi: 10\n",
            "O Fibonacci ultrapassou o número do usuário alcançando o número: 16, para isso precisou executar 5 operações de adição.\n"
          ]
        }
      ]
    },
    {
      "cell_type": "markdown",
      "source": [
        "# Aula 8 - Funções\n",
        "\n",
        "As funções são blocos de código reutilizável que realizam tarefas específicas. O uso de funções torna o código mais organizado, legível e fácil de manter. Nesta aula, exploraremos o mundo das funções em Python.\n",
        "\n",
        "Até o momento, já vimos diversas funções em Python.\n",
        "\n",
        "- Na primeira aula, tivemos contato com a função `print()`, que exibe um texto na tela;\n",
        "\n",
        "- Depois, aprendemos sobre a função `input()`, que serve pra capturar algo que o usuário digita;\n",
        "\n",
        "- Em seguida, vimos algumas funções aplicada à listas, como a `sorted()`, para ordenar uma lista;"
      ],
      "metadata": {
        "id": "DgmTV3Byl1FG"
      }
    },
    {
      "cell_type": "code",
      "source": [
        "print(\"Olá\")"
      ],
      "metadata": {
        "colab": {
          "base_uri": "https://localhost:8080/"
        },
        "id": "fprTtgsRmkpx",
        "outputId": "b895bcb3-1208-4e28-ec02-8c7ab60df649"
      },
      "execution_count": null,
      "outputs": [
        {
          "output_type": "stream",
          "name": "stdout",
          "text": [
            "Olá\n"
          ]
        }
      ]
    },
    {
      "cell_type": "code",
      "source": [
        "variavel = input(\"digite algo: \")"
      ],
      "metadata": {
        "colab": {
          "base_uri": "https://localhost:8080/"
        },
        "id": "yMS430jDmqGP",
        "outputId": "9797db19-3f6f-40e0-9498-fc3a74c15900"
      },
      "execution_count": null,
      "outputs": [
        {
          "name": "stdout",
          "output_type": "stream",
          "text": [
            "digite algo: 858\n"
          ]
        }
      ]
    },
    {
      "cell_type": "code",
      "source": [
        "python_caps = \"python\".upper()\n",
        "print(python_caps)"
      ],
      "metadata": {
        "colab": {
          "base_uri": "https://localhost:8080/"
        },
        "id": "WsDd1k7hmp-x",
        "outputId": "2b22c27f-d85f-46bb-d4bf-57c2b72afbbe"
      },
      "execution_count": null,
      "outputs": [
        {
          "output_type": "stream",
          "name": "stdout",
          "text": [
            "PYTHON\n"
          ]
        }
      ]
    },
    {
      "cell_type": "markdown",
      "metadata": {
        "id": "BncD-zoKSU0P"
      },
      "source": [
        "\n",
        "__A intuição sobre funções, então, já nos é familiar__\n",
        "\n",
        "Uma função é um objeto utilizado para **fazer determinadas ações**.\n",
        "\n",
        "Podemos ver uma função como uma \"caixinha\" que pega uma **entrada** (o argumento), faz algum **processamento**, e então **retorna uma saída** (o output)\n",
        "\n",
        "<img src=\"https://s3.amazonaws.com/illustrativemathematics/images/000/000/782/medium/Task_1_8c7a6a9a2e1421586c40f125bd783de3.jpg?1335065782\" width=200>\n",
        "\n",
        "\n",
        "<img src=\"https://1.bp.blogspot.com/_MhOt9n2UJbM/TC6emeqHdqI/AAAAAAAAAiQ/1brsWuWvOC0/s1600/function-machine.png\" width=160>\n",
        "\n",
        "\n",
        "Aprenderemos agora como criar **nossas próprias funções** em Python!\n",
        "\n",
        "A estrutura de **definição de uma função** é dada por:\n",
        "\n",
        "```python\n",
        "def nomeDaFuncao(argumento1, argumento2, ...):\n",
        "\n",
        "    instrucoes\n",
        "\n",
        "    return saida\n",
        "```\n",
        "\n",
        "Há 5 elementos fundamentais para a criação de novas funções em Python:\n",
        "\n",
        "    - Primeiramente, usamos \"def\" para deixar claro que estamos **definindo** uma função;\n",
        "    - Depois, damos um **nome** para nossa função;\n",
        "    - Em parênteses, falamos quais serão os **argumentos** da função -- esses são os inputs, e em python, esses elementos são opcionais!\n",
        "    - Depois, explicitamos qual é o **processamento** feito pela função;\n",
        "    - Ao fim, dizemos o que a função irá **retornar** -- esses são os outputs, e em Python esse elemento é opcional!\n"
      ]
    },
    {
      "cell_type": "markdown",
      "source": [
        "Sempre que quisermos **executar** uma função, basta **chamá-la**, dando os argumentos desejados!\n",
        "\n",
        "```python\n",
        "nome_da_funcao(argumentos)\n",
        "```"
      ],
      "metadata": {
        "id": "zty7GFHUrY_8"
      }
    },
    {
      "cell_type": "markdown",
      "source": [
        "__Uma função sem parâmetros e sem return__\n",
        "\n",
        "Apenas imprime algo na tela, mas sempre A MESMA COISA"
      ],
      "metadata": {
        "id": "V1ncUU-KrHPc"
      }
    },
    {
      "cell_type": "code",
      "source": [
        "def cumprimento(): #criando a função\n",
        "  print('Olá') #instrução"
      ],
      "metadata": {
        "id": "CAcvHe3arIZo"
      },
      "execution_count": null,
      "outputs": []
    },
    {
      "cell_type": "code",
      "source": [
        "cumprimento()"
      ],
      "metadata": {
        "colab": {
          "base_uri": "https://localhost:8080/"
        },
        "id": "Y1g8dvlIrbRR",
        "outputId": "2aa36c46-409f-4c60-e84d-8411f681ec7e"
      },
      "execution_count": null,
      "outputs": [
        {
          "output_type": "stream",
          "name": "stdout",
          "text": [
            "Olá\n"
          ]
        }
      ]
    },
    {
      "cell_type": "markdown",
      "metadata": {
        "id": "N5fI0g4pSU0T"
      },
      "source": [
        "__Uma função com argumento, mas sem return__\n",
        "\n",
        "Imprime o que eu mandar na tela, como argumento!"
      ]
    },
    {
      "cell_type": "code",
      "execution_count": null,
      "metadata": {
        "id": "LUrS2kifSU0U"
      },
      "outputs": [],
      "source": [
        "def cumprimento(nome):\n",
        "  print(f'Olá {nome}')"
      ]
    },
    {
      "cell_type": "code",
      "execution_count": null,
      "metadata": {
        "id": "3rUoXtMLSU0U",
        "colab": {
          "base_uri": "https://localhost:8080/"
        },
        "outputId": "34fec66f-bd91-4cd0-f364-9cad7b22d5c7"
      },
      "outputs": [
        {
          "output_type": "stream",
          "name": "stdout",
          "text": [
            "Olá Diego\n"
          ]
        }
      ],
      "source": [
        "cumprimento(\"Diego\")"
      ]
    },
    {
      "cell_type": "markdown",
      "metadata": {
        "id": "uC7UpEpASU0U"
      },
      "source": [
        "__Uma função com dois parâmetros, mas ainda sem return__\n",
        "\n",
        "Imprime algo na tela, mas dependendo do segundo argumento que eu passar"
      ]
    },
    {
      "cell_type": "code",
      "execution_count": null,
      "metadata": {
        "id": "_a-LcDlESU0V"
      },
      "outputs": [],
      "source": [
        "def cumprimento_horario(nome:str, hora:int):\n",
        "  if hora < 12:\n",
        "    print(f'Bom dia {nome}')\n",
        "  elif hora < 18:\n",
        "    print(f'Boa tarde {nome}')\n",
        "  else:\n",
        "    print(f'Boa noite {nome}')\n",
        "    print(type(nome))"
      ]
    },
    {
      "cell_type": "code",
      "execution_count": null,
      "metadata": {
        "id": "nLDkm07qSU0V",
        "colab": {
          "base_uri": "https://localhost:8080/"
        },
        "outputId": "ca6383c7-6bf0-43bc-e0fb-5eb0f9de1e1a"
      },
      "outputs": [
        {
          "output_type": "stream",
          "name": "stdout",
          "text": [
            "Boa noite 10\n",
            "<class 'int'>\n"
          ]
        }
      ],
      "source": [
        "cumprimento_horario(10,20)"
      ]
    },
    {
      "cell_type": "code",
      "source": [
        "# e se não passar nenhum argumento para essa função?\n",
        "cumprimento_horario()"
      ],
      "metadata": {
        "colab": {
          "base_uri": "https://localhost:8080/",
          "height": 193
        },
        "id": "wrd-jzQXsQjI",
        "outputId": "5a46bf18-7870-4d17-e5b4-6161ffa8f44c"
      },
      "execution_count": null,
      "outputs": [
        {
          "output_type": "error",
          "ename": "TypeError",
          "evalue": "ignored",
          "traceback": [
            "\u001b[0;31m---------------------------------------------------------------------------\u001b[0m",
            "\u001b[0;31mTypeError\u001b[0m                                 Traceback (most recent call last)",
            "\u001b[0;32m<ipython-input-6-741ef7b03b96>\u001b[0m in \u001b[0;36m<cell line: 2>\u001b[0;34m()\u001b[0m\n\u001b[1;32m      1\u001b[0m \u001b[0;31m# e se não passar nenhum argumento para essa função?\u001b[0m\u001b[0;34m\u001b[0m\u001b[0;34m\u001b[0m\u001b[0m\n\u001b[0;32m----> 2\u001b[0;31m \u001b[0mcumprimento_horario\u001b[0m\u001b[0;34m(\u001b[0m\u001b[0;34m)\u001b[0m\u001b[0;34m\u001b[0m\u001b[0;34m\u001b[0m\u001b[0m\n\u001b[0m",
            "\u001b[0;31mTypeError\u001b[0m: cumprimento_horario() missing 2 required positional arguments: 'nome' and 'hora'"
          ]
        }
      ]
    },
    {
      "cell_type": "code",
      "source": [
        "# e se passarmos parâmetros errados?\n",
        "cumprimento_horario(\"Dieg\",\"10\")"
      ],
      "metadata": {
        "colab": {
          "base_uri": "https://localhost:8080/",
          "height": 315
        },
        "id": "u7YXLnOfsYw7",
        "outputId": "2576b067-f695-4533-c386-0db85d94bdc8"
      },
      "execution_count": null,
      "outputs": [
        {
          "output_type": "error",
          "ename": "TypeError",
          "evalue": "ignored",
          "traceback": [
            "\u001b[0;31m---------------------------------------------------------------------------\u001b[0m",
            "\u001b[0;31mTypeError\u001b[0m                                 Traceback (most recent call last)",
            "\u001b[0;32m<ipython-input-8-09e385210f24>\u001b[0m in \u001b[0;36m<cell line: 2>\u001b[0;34m()\u001b[0m\n\u001b[1;32m      1\u001b[0m \u001b[0;31m# e se passarmos parâmetros errados?\u001b[0m\u001b[0;34m\u001b[0m\u001b[0;34m\u001b[0m\u001b[0m\n\u001b[0;32m----> 2\u001b[0;31m \u001b[0mcumprimento_horario\u001b[0m\u001b[0;34m(\u001b[0m\u001b[0;34m\"Dieg\"\u001b[0m\u001b[0;34m,\u001b[0m\u001b[0;34m\"10\"\u001b[0m\u001b[0;34m)\u001b[0m\u001b[0;34m\u001b[0m\u001b[0;34m\u001b[0m\u001b[0m\n\u001b[0m",
            "\u001b[0;32m<ipython-input-4-448784e8391e>\u001b[0m in \u001b[0;36mcumprimento_horario\u001b[0;34m(nome, hora)\u001b[0m\n\u001b[1;32m      1\u001b[0m \u001b[0;32mdef\u001b[0m \u001b[0mcumprimento_horario\u001b[0m\u001b[0;34m(\u001b[0m\u001b[0mnome\u001b[0m\u001b[0;34m:\u001b[0m\u001b[0mstr\u001b[0m\u001b[0;34m,\u001b[0m \u001b[0mhora\u001b[0m\u001b[0;34m:\u001b[0m\u001b[0mint\u001b[0m\u001b[0;34m)\u001b[0m\u001b[0;34m:\u001b[0m\u001b[0;34m\u001b[0m\u001b[0;34m\u001b[0m\u001b[0m\n\u001b[0;32m----> 2\u001b[0;31m   \u001b[0;32mif\u001b[0m \u001b[0mhora\u001b[0m \u001b[0;34m<\u001b[0m \u001b[0;36m12\u001b[0m\u001b[0;34m:\u001b[0m\u001b[0;34m\u001b[0m\u001b[0;34m\u001b[0m\u001b[0m\n\u001b[0m\u001b[1;32m      3\u001b[0m     \u001b[0mprint\u001b[0m\u001b[0;34m(\u001b[0m\u001b[0;34mf'Bom dia {nome}'\u001b[0m\u001b[0;34m)\u001b[0m\u001b[0;34m\u001b[0m\u001b[0;34m\u001b[0m\u001b[0m\n\u001b[1;32m      4\u001b[0m   \u001b[0;32melif\u001b[0m \u001b[0mhora\u001b[0m \u001b[0;34m<\u001b[0m \u001b[0;36m18\u001b[0m\u001b[0;34m:\u001b[0m\u001b[0;34m\u001b[0m\u001b[0;34m\u001b[0m\u001b[0m\n\u001b[1;32m      5\u001b[0m     \u001b[0mprint\u001b[0m\u001b[0;34m(\u001b[0m\u001b[0;34mf'Boa tarde {nome}'\u001b[0m\u001b[0;34m)\u001b[0m\u001b[0;34m\u001b[0m\u001b[0;34m\u001b[0m\u001b[0m\n",
            "\u001b[0;31mTypeError\u001b[0m: '<' not supported between instances of 'str' and 'int'"
          ]
        }
      ]
    },
    {
      "cell_type": "code",
      "source": [
        "# VAMOS VER SE ENTENDEMOS.... O que esse código retorna?\n",
        "\n",
        "numero = 60\n",
        "def funcao_teste():\n",
        "  numero = 1000\n",
        "  print(numero + 10)\n",
        "\n",
        "funcao_teste()\n",
        "print(numero)"
      ],
      "metadata": {
        "colab": {
          "base_uri": "https://localhost:8080/"
        },
        "id": "AKevvZkzsFvP",
        "outputId": "c8e6ad7a-1160-4340-8b40-2c3a422d6af6"
      },
      "execution_count": null,
      "outputs": [
        {
          "output_type": "stream",
          "name": "stdout",
          "text": [
            "1010\n",
            "60\n"
          ]
        }
      ]
    },
    {
      "cell_type": "markdown",
      "metadata": {
        "id": "lNdf1oo6SU0V"
      },
      "source": [
        "Posso mudar a ordem dos argumentos, mas para essa função que criamos devo explicitar exatamente quais são os argumentos que estou passando para cada parâmetro!"
      ]
    },
    {
      "cell_type": "code",
      "execution_count": null,
      "metadata": {
        "id": "34kcGVNYSU0V",
        "colab": {
          "base_uri": "https://localhost:8080/"
        },
        "outputId": "d55ef1ab-caf0-4181-cb78-f60c8e7ecf8e"
      },
      "outputs": [
        {
          "output_type": "stream",
          "name": "stdout",
          "text": [
            "Boa noite Diego\n",
            "<class 'str'>\n"
          ]
        }
      ],
      "source": [
        "#def cumprimento_horario(nome:str, hora:int):\n",
        "\n",
        "cumprimento_horario(hora = 20, nome=\"Diego\")"
      ]
    },
    {
      "cell_type": "markdown",
      "metadata": {
        "id": "jkgTP6BtSU0W"
      },
      "source": [
        "__Mas e o return?__\n",
        "\n",
        "\n",
        "Todas as funções acima de fato fazem alguma operação, mas nós não conseguimos **acessar** o resultado das operações! Veja um exemplo mais claro: uma função que calcula a soma de dois números:"
      ]
    },
    {
      "cell_type": "code",
      "execution_count": null,
      "metadata": {
        "id": "3-HwSgqqSU0W"
      },
      "outputs": [],
      "source": [
        "def calc_soma(n1, n2):\n",
        "  soma = n1+n2\n",
        "  print(soma)"
      ]
    },
    {
      "cell_type": "code",
      "execution_count": null,
      "metadata": {
        "id": "nyHtgIeDSU0W",
        "colab": {
          "base_uri": "https://localhost:8080/"
        },
        "outputId": "328114e1-04d1-40b0-eaa5-2186a4f2b3bd"
      },
      "outputs": [
        {
          "output_type": "stream",
          "name": "stdout",
          "text": [
            "42\n"
          ]
        }
      ],
      "source": [
        "x = 10\n",
        "calc_soma(x, 32)\n",
        "#o que vemos não é um retorno e sim um print"
      ]
    },
    {
      "cell_type": "markdown",
      "source": [
        "__Escopo de Variáveis__\n",
        "\n",
        "Funções têm seu próprio escopo, o que significa que as variáveis definidas dentro de uma função não são acessíveis fora dela, a menos que sejam retornadas."
      ],
      "metadata": {
        "id": "FsjbWL9Rv6zO"
      }
    },
    {
      "cell_type": "code",
      "source": [
        "def funcao_escopo():\n",
        "   x= 20\n",
        "   return x"
      ],
      "metadata": {
        "id": "Kw72S8jgwBka"
      },
      "execution_count": null,
      "outputs": []
    },
    {
      "cell_type": "code",
      "source": [
        "funcao_escopo()\n",
        "#print(x)"
      ],
      "metadata": {
        "colab": {
          "base_uri": "https://localhost:8080/"
        },
        "id": "JR58z5UaGnq7",
        "outputId": "4ee12942-1ed1-40b4-e358-a53b1ffd9de8"
      },
      "execution_count": null,
      "outputs": [
        {
          "output_type": "execute_result",
          "data": {
            "text/plain": [
              "20"
            ]
          },
          "metadata": {},
          "execution_count": 26
        }
      ]
    },
    {
      "cell_type": "markdown",
      "metadata": {
        "id": "TVQtOvgNSU0W"
      },
      "source": [
        "Note que a função calcula a soma dos números, mas apenas exibe este resultado com o print!\n",
        "\n",
        "**A variável \"soma\" é uma variável que existe apenas no interior da função!!**"
      ]
    },
    {
      "cell_type": "code",
      "source": [
        "#se tentarmos acessar a variável interna a função, um erro ocorrerá\n",
        "soma"
      ],
      "metadata": {
        "colab": {
          "base_uri": "https://localhost:8080/",
          "height": 193
        },
        "id": "lCTIadtftS0Q",
        "outputId": "03f2b720-16ad-416f-bd7a-bf3a2c2e282c"
      },
      "execution_count": null,
      "outputs": [
        {
          "output_type": "error",
          "ename": "NameError",
          "evalue": "ignored",
          "traceback": [
            "\u001b[0;31m---------------------------------------------------------------------------\u001b[0m",
            "\u001b[0;31mNameError\u001b[0m                                 Traceback (most recent call last)",
            "\u001b[0;32m<ipython-input-28-503d4d3638c0>\u001b[0m in \u001b[0;36m<cell line: 2>\u001b[0;34m()\u001b[0m\n\u001b[1;32m      1\u001b[0m \u001b[0;31m#se tentarmos acessar a variável interna a função, um erro ocorrerá\u001b[0m\u001b[0;34m\u001b[0m\u001b[0;34m\u001b[0m\u001b[0m\n\u001b[0;32m----> 2\u001b[0;31m \u001b[0msoma\u001b[0m\u001b[0;34m\u001b[0m\u001b[0;34m\u001b[0m\u001b[0m\n\u001b[0m",
            "\u001b[0;31mNameError\u001b[0m: name 'soma' is not defined"
          ]
        }
      ]
    },
    {
      "cell_type": "markdown",
      "source": [
        "Se quisermos armazenar o valor da soma, podemos **retornar** o valor desta variável!\n",
        "\n",
        "**OBS.:** apenas o **valor** da variável é retornado, não o nome dela!!\n",
        "\n",
        "Fora da função, o nome de variável \"soma\" ainda continua não existindo!!"
      ],
      "metadata": {
        "id": "DxhD8-oXtSjp"
      }
    },
    {
      "cell_type": "code",
      "execution_count": null,
      "metadata": {
        "id": "tQVtlSgNSU0X"
      },
      "outputs": [],
      "source": [
        "def calc_soma(n1, n2):\n",
        "  soma = n1+n2\n",
        "  return soma"
      ]
    },
    {
      "cell_type": "code",
      "source": [
        "calc_soma(2,4)"
      ],
      "metadata": {
        "id": "zQii2orxkJp7",
        "colab": {
          "base_uri": "https://localhost:8080/"
        },
        "outputId": "d44396d9-459c-4d3f-da6b-aefa1c604461"
      },
      "execution_count": null,
      "outputs": [
        {
          "output_type": "execute_result",
          "data": {
            "text/plain": [
              "6"
            ]
          },
          "metadata": {},
          "execution_count": 31
        }
      ]
    },
    {
      "cell_type": "markdown",
      "metadata": {
        "id": "U3NFlUM9SU0X"
      },
      "source": [
        "Daí, basta armazenar o resultado retornado em uma variável, **como fazíamos com o input()!**"
      ]
    },
    {
      "cell_type": "code",
      "execution_count": null,
      "metadata": {
        "id": "osXI9akZSU0X",
        "colab": {
          "base_uri": "https://localhost:8080/"
        },
        "outputId": "90535c51-211d-4a7b-cca3-ef6586d15f6f"
      },
      "outputs": [
        {
          "output_type": "execute_result",
          "data": {
            "text/plain": [
              "6"
            ]
          },
          "metadata": {},
          "execution_count": 32
        }
      ],
      "source": [
        "result = calc_soma(2,4)\n",
        "result"
      ]
    },
    {
      "cell_type": "markdown",
      "metadata": {
        "id": "zAl9nViISU0X"
      },
      "source": [
        "Um outro exemplo:"
      ]
    },
    {
      "cell_type": "code",
      "execution_count": null,
      "metadata": {
        "id": "IGQuBVneSU0Y"
      },
      "outputs": [],
      "source": [
        "#função cumprimenta_horario agora com return\n",
        "def cumprimento_horario(nome:str, hora:int):\n",
        "  if hora < 12:\n",
        "     return f'Bom dia {nome}'\n",
        "  elif hora < 18:\n",
        "    return f'Boa tarde {nome}'\n",
        "  else:\n",
        "    return f'Boa noite {nome}'\n",
        "\n"
      ]
    },
    {
      "cell_type": "code",
      "execution_count": null,
      "metadata": {
        "id": "Z0izgp6-SU0Y",
        "colab": {
          "base_uri": "https://localhost:8080/"
        },
        "outputId": "bd9e26f4-6dbc-4328-83ca-bcc5a824827b"
      },
      "outputs": [
        {
          "output_type": "stream",
          "name": "stdout",
          "text": [
            "Boa noite Diego\n"
          ]
        }
      ],
      "source": [
        "# chamando a função cumprimenta_horario\n",
        "texto = cumprimento_horario(\"Diego\", 20)\n",
        "print(texto)"
      ]
    },
    {
      "cell_type": "markdown",
      "metadata": {
        "id": "TITbhXoDSU0Y"
      },
      "source": [
        "Vamos elaborar um pouco mais?\n",
        "\n",
        "Que tal fazermos uma função calculadora?\n",
        "\n",
        "Crie uma função que receba dois valores e o sinal de uma operação e retorne o resultado."
      ]
    },
    {
      "cell_type": "code",
      "execution_count": null,
      "metadata": {
        "id": "5BK_AZq-SU0Y"
      },
      "outputs": [],
      "source": [
        "def calc(n1,n2,op):\n",
        "  if op == '+':\n",
        "     return n1+n2\n",
        "  elif op == '-':\n",
        "    return n1-n2\n",
        "  elif op == '*':\n",
        "    return n1*n2\n",
        "  elif op == '/':\n",
        "    return n1/n2\n",
        "  else:\n",
        "    return 'Operador invalido'\n"
      ]
    },
    {
      "cell_type": "code",
      "execution_count": null,
      "metadata": {
        "id": "clUUrrqxSU0Y",
        "colab": {
          "base_uri": "https://localhost:8080/"
        },
        "outputId": "0f806d29-2cbb-4a4e-9130-381c6ae8b003"
      },
      "outputs": [
        {
          "name": "stdout",
          "output_type": "stream",
          "text": [
            "Digite o primeiro valor: 10\n",
            "Digite o segundo valor: 20\n",
            "Digite o operador: *\n"
          ]
        },
        {
          "output_type": "execute_result",
          "data": {
            "text/plain": [
              "200.0"
            ]
          },
          "metadata": {},
          "execution_count": 39
        }
      ],
      "source": [
        "n1 = float(input('Digite o primeiro valor: '))\n",
        "n2 = float(input('Digite o segundo valor: '))\n",
        "op = input(\"Digite o operador: \")\n",
        "\n",
        "calc(n1,n2,op)"
      ]
    },
    {
      "cell_type": "markdown",
      "source": [
        "\n",
        "É importante também destacar que conseguimos passar valores padrão (default) como argumento da nossa função.\n",
        "\n",
        "Vamos ver no exemplo da calculadora como isso funcionaria, mas antes vamos olhar uma função que conhecemos. A print()\n",
        "\n",
        "documentação da print(): https://docs.python.org/3/library/functions.html#print"
      ],
      "metadata": {
        "id": "JLVB0fowbYVg"
      }
    },
    {
      "cell_type": "code",
      "source": [
        "print(\"oi\", \"tudo\", \"bem\", \"com\", \"você?\")"
      ],
      "metadata": {
        "colab": {
          "base_uri": "https://localhost:8080/"
        },
        "id": "kRYOlTsLbh7F",
        "outputId": "c1cf0ba6-1f9d-4012-ec1b-b4b8af8bd071"
      },
      "execution_count": null,
      "outputs": [
        {
          "output_type": "stream",
          "name": "stdout",
          "text": [
            "oi tudo bem com você?\n"
          ]
        }
      ]
    },
    {
      "cell_type": "markdown",
      "source": [
        "o argumento padrão que é recebido para o parâmetro \"sep\" é \" \" (espaço). Não precisamos passar argumento para ele. Nesse caso, ele é opcional."
      ],
      "metadata": {
        "id": "Z6hs1d64b_iz"
      }
    },
    {
      "cell_type": "code",
      "source": [
        "print(\"oi\", \"tudo\", \"bem\", \"com\", \"você?\", sep=\"\\n\")"
      ],
      "metadata": {
        "colab": {
          "base_uri": "https://localhost:8080/"
        },
        "id": "a7Wyv1DPb9Wj",
        "outputId": "bb6d3404-6933-4e6a-89e0-916757c40115"
      },
      "execution_count": null,
      "outputs": [
        {
          "output_type": "stream",
          "name": "stdout",
          "text": [
            "oi\n",
            "tudo\n",
            "bem\n",
            "com\n",
            "você?\n"
          ]
        }
      ]
    },
    {
      "cell_type": "code",
      "source": [
        "#Exemplo usando valor default em parâmetro\n",
        "def saudacao(nome, saudacao='Ola'):\n",
        "  mensagem = f'{saudacao}, {nome}'\n",
        "  return mensagem\n",
        "\n",
        "saudacao('bruna')"
      ],
      "metadata": {
        "id": "9071A9R5vYV_",
        "colab": {
          "base_uri": "https://localhost:8080/",
          "height": 35
        },
        "outputId": "0ede3479-ba49-45b5-c509-f66193eb0ffd"
      },
      "execution_count": null,
      "outputs": [
        {
          "output_type": "execute_result",
          "data": {
            "text/plain": [
              "'Ola, bruna'"
            ],
            "application/vnd.google.colaboratory.intrinsic+json": {
              "type": "string"
            }
          },
          "metadata": {},
          "execution_count": 3
        }
      ]
    },
    {
      "cell_type": "markdown",
      "source": [
        "### DESAFIO\n",
        "\n",
        "Crie uma função chamada contar_palavras que recebe uma string como argumento e retorna uma lista com as palavras únicas e uma lista com a contagem de quantas vezes cada palavra aparece na string. Considere que as palavras são separadas por espaços e que a capitalização das palavras não deve afetar a contagem (ou seja, \"Python\" e \"python\" devem ser considerados iguais).\n"
      ],
      "metadata": {
        "id": "2_6Lxjix5omO"
      }
    },
    {
      "cell_type": "code",
      "source": [
        "def contar_palavras(texto):\n",
        "  texto = texto.lower()\n",
        "  palavras = texto.split()\n",
        "\n",
        "  palavras_unicas = []\n",
        "  contagem = []\n",
        "\n",
        "  for elemento in palavras:\n",
        "    if elemento in palavras_unicas:\n",
        "      indice = palavras_unicas.index(elemento)\n",
        "      contagem[indice] += 1\n",
        "    else:\n",
        "      palavras_unicas.append(elemento)\n",
        "      contagem.append(1)\n",
        "\n",
        "  return palavras_unicas, contagem\n"
      ],
      "metadata": {
        "id": "Wcrgv3IV5qnB"
      },
      "execution_count": null,
      "outputs": []
    },
    {
      "cell_type": "code",
      "source": [
        "texto = 'O mar é Azul azul é a cor do mar'\n",
        "\n",
        "unicas, qtd = contar_palavras(texto)\n",
        "#print(unicas)\n",
        "#print(qtd)\n",
        "for i in range(len(unicas)):\n",
        "  print(f'{unicas[i]}:{qtd[i]}')"
      ],
      "metadata": {
        "colab": {
          "base_uri": "https://localhost:8080/"
        },
        "id": "VXW_YxjmZXY-",
        "outputId": "3b6b611b-a34b-4ab4-ca9c-c30fcae919d5"
      },
      "execution_count": null,
      "outputs": [
        {
          "output_type": "stream",
          "name": "stdout",
          "text": [
            "o:1\n",
            "mar:2\n",
            "é:2\n",
            "azul:2\n",
            "a:1\n",
            "cor:1\n",
            "do:1\n"
          ]
        }
      ]
    },
    {
      "cell_type": "code",
      "source": [
        "def elementos_repetidos(lista):\n",
        "  numeros_repetidos = []\n",
        "\n",
        "  for numero in lista_original:\n",
        "      if lista_original.count(numero) > 1:\n",
        "          numeros_repetidos = numero\n",
        "\n",
        "      contagem = lista_original.count(numeros_repetidos)\n",
        "\n",
        "  if contagem:\n",
        "     mensagem = \"Sim, existem {} dias com temperatura média repetida.\"\n",
        "  else:\n",
        "      mensagem = \"Não, não existem dias com temperatura média repetida.\"\n",
        "  return mensagem\n",
        "\n",
        "\n",
        "\n",
        "\n"
      ],
      "metadata": {
        "id": "VViIEzOwLJCo"
      },
      "execution_count": null,
      "outputs": []
    },
    {
      "cell_type": "code",
      "source": [
        "def elementos_repetidos(lista_original):\n",
        "    numeros_repetidos = []\n",
        "\n",
        "    for numero in lista_original:\n",
        "        if lista_original.count(numero) > 1:\n",
        "            numeros_repetidos = numero\n",
        "\n",
        "    contagem = lista_original.count(numeros_repetidos)\n",
        "\n",
        "    if contagem > 1:\n",
        "        mensagem = \"Sim, existem {} dias com temperatura média repetida.\".format(contagem)\n",
        "    else:\n",
        "        mensagem = \"Não, não existem dias com temperatura média repetida.\"\n",
        "\n",
        "    return mensagem\n",
        "\n",
        "# Exemplo de uso da função:\n",
        "temperaturas = [30.5, 28.9, 30.5, 32.0, 28.9, 29.3, 32.0, 32.0]\n",
        "resultado = elementos_repetidos(temperaturas)\n",
        "print(resultado)\n"
      ],
      "metadata": {
        "id": "usoLuEb6xAhy",
        "outputId": "c14f486e-01d4-4fa3-c765-d343c09253df",
        "colab": {
          "base_uri": "https://localhost:8080/"
        }
      },
      "execution_count": null,
      "outputs": [
        {
          "output_type": "stream",
          "name": "stdout",
          "text": [
            "Sim, existem 3 dias com temperatura média repetida.\n"
          ]
        }
      ]
    },
    {
      "cell_type": "code",
      "source": [],
      "metadata": {
        "colab": {
          "base_uri": "https://localhost:8080/",
          "height": 210
        },
        "id": "RGopLln7qEi3",
        "outputId": "0c8f86fc-fbe1-4159-ec63-bb238ac4316f"
      },
      "execution_count": null,
      "outputs": [
        {
          "output_type": "error",
          "ename": "NameError",
          "evalue": "ignored",
          "traceback": [
            "\u001b[0;31m---------------------------------------------------------------------------\u001b[0m",
            "\u001b[0;31mNameError\u001b[0m                                 Traceback (most recent call last)",
            "\u001b[0;32m<ipython-input-89-7cec78885e7d>\u001b[0m in \u001b[0;36m<cell line: 2>\u001b[0;34m()\u001b[0m\n\u001b[1;32m      1\u001b[0m \u001b[0mlista_original\u001b[0m \u001b[0;34m=\u001b[0m \u001b[0;34m[\u001b[0m\u001b[0;36m30.5\u001b[0m\u001b[0;34m,\u001b[0m \u001b[0;36m30\u001b[0m\u001b[0;34m,\u001b[0m \u001b[0;36m29.5\u001b[0m\u001b[0;34m,\u001b[0m \u001b[0;36m30\u001b[0m\u001b[0;34m,\u001b[0m \u001b[0;36m30.5\u001b[0m\u001b[0;34m,\u001b[0m \u001b[0;36m31\u001b[0m\u001b[0;34m,\u001b[0m \u001b[0;36m30\u001b[0m\u001b[0;34m]\u001b[0m\u001b[0;34m\u001b[0m\u001b[0;34m\u001b[0m\u001b[0m\n\u001b[0;32m----> 2\u001b[0;31m \u001b[0mresultado\u001b[0m \u001b[0;34m=\u001b[0m \u001b[0mtemperaturas_repetidas\u001b[0m\u001b[0;34m(\u001b[0m\u001b[0mtemperaturas\u001b[0m\u001b[0;34m)\u001b[0m\u001b[0;34m\u001b[0m\u001b[0;34m\u001b[0m\u001b[0m\n\u001b[0m\u001b[1;32m      3\u001b[0m \u001b[0mprint\u001b[0m\u001b[0;34m(\u001b[0m\u001b[0mresultado\u001b[0m\u001b[0;34m)\u001b[0m\u001b[0;34m\u001b[0m\u001b[0;34m\u001b[0m\u001b[0m\n",
            "\u001b[0;31mNameError\u001b[0m: name 'temperaturas' is not defined"
          ]
        }
      ]
    },
    {
      "cell_type": "code",
      "source": [
        "lista_original = [30.5, 30, 29.5, 30, 30.5, 31, 30]\n",
        "numeros_repetidos = []\n",
        "\n",
        "for numero in lista_original:\n",
        "  if lista_original.count(numero) == 1:\n",
        "    lista_original.count(numero)\n",
        "\n",
        "print('Números que não se repetem:', numero)"
      ],
      "metadata": {
        "colab": {
          "base_uri": "https://localhost:8080/"
        },
        "id": "OsLwaMajneD4",
        "outputId": "0f0fae5f-ac08-4e6c-ca74-c317882b2e46"
      },
      "execution_count": null,
      "outputs": [
        {
          "output_type": "stream",
          "name": "stdout",
          "text": [
            "Números que não se repetem: 30\n"
          ]
        }
      ]
    },
    {
      "cell_type": "code",
      "source": [
        "def numero_unico(lista):\n",
        "  nao_repete = []\n",
        "\n",
        "  for i in lista:\n",
        "    if lista.count(i) == 1:\n",
        "      nao_repete.append(i)\n",
        "  return nao_repete"
      ],
      "metadata": {
        "id": "oVyGmKTBLYss"
      },
      "execution_count": null,
      "outputs": []
    },
    {
      "cell_type": "code",
      "source": [
        "def numero_unico(lista):\n",
        "    numeros_nao_repetidos = []\n",
        "    for numero in lista:\n",
        "        if lista.count(numero) == 1:\n",
        "            numeros_nao_repetidos.append(float(numero))\n",
        "\n",
        "    return numeros_nao_repetidos"
      ],
      "metadata": {
        "id": "F5lwWCqKi5i7"
      },
      "execution_count": null,
      "outputs": []
    },
    {
      "cell_type": "code",
      "source": [
        "lista_original = [28.5, 27.9, 28.5, 27.9, 30, 28.5]\n",
        "nao_repete = numero_unico(lista_original)\n",
        "print(numeros_nao_repetidos)"
      ],
      "metadata": {
        "colab": {
          "base_uri": "https://localhost:8080/"
        },
        "id": "0f_xr7wFLaLI",
        "outputId": "d626374a-4cca-4ad4-c776-74aef3c843e3"
      },
      "execution_count": null,
      "outputs": [
        {
          "output_type": "stream",
          "name": "stdout",
          "text": [
            "[30]\n"
          ]
        }
      ]
    },
    {
      "cell_type": "code",
      "source": [],
      "metadata": {
        "id": "cQFg00XolJjJ"
      },
      "execution_count": null,
      "outputs": []
    }
  ]
}